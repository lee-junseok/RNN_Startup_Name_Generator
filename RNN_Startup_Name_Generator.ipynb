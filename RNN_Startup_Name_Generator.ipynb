{
 "cells": [
  {
   "cell_type": "markdown",
   "metadata": {},
   "source": [
    "# Startup Name Generator\n",
    "\n",
    "### You are launching a new start-up company. Using RNN LSTM let's generate a cool start-up name."
   ]
  },
  {
   "cell_type": "markdown",
   "metadata": {},
   "source": [
    "Go to [Training](#training)"
   ]
  },
  {
   "cell_type": "markdown",
   "metadata": {},
   "source": [
    "Go to [Generating Names](#generating)"
   ]
  },
  {
   "cell_type": "markdown",
   "metadata": {},
   "source": [
    "Go to [Results](#result)"
   ]
  },
  {
   "cell_type": "code",
   "execution_count": 1,
   "metadata": {},
   "outputs": [
    {
     "name": "stderr",
     "output_type": "stream",
     "text": [
      "Using TensorFlow backend.\n"
     ]
    }
   ],
   "source": [
    "# Packages required.\n",
    "import tensorflow as tf\n",
    "from keras.models import load_model, Model\n",
    "from keras.layers import Dense, Activation, Dropout, Input, LSTM, Reshape, Lambda, RepeatVector\n",
    "from keras.initializers import glorot_uniform\n",
    "from keras.utils import to_categorical\n",
    "from keras.optimizers import Adam\n",
    "from keras import backend as K\n",
    "from keras.preprocessing.sequence import pad_sequences\n",
    "\n",
    "import numpy as np\n",
    "import pandas as pd\n",
    "import random\n",
    "import pprint\n",
    "import requests\n",
    "from bs4 import BeautifulSoup"
   ]
  },
  {
   "cell_type": "markdown",
   "metadata": {},
   "source": [
    "### Let's get start-up names established in San Francisco.\n",
    "\n",
    "I got a list of names from https://www.startups-list.com/. The site has lists of start-up names in other cities as well.\n",
    "\n",
    "Let's extract the data out of the HTML and parse the HTML document."
   ]
  },
  {
   "cell_type": "code",
   "execution_count": 2,
   "metadata": {},
   "outputs": [
    {
     "data": {
      "text/plain": [
       "<Response [200]>"
      ]
     },
     "execution_count": 2,
     "metadata": {},
     "output_type": "execute_result"
    }
   ],
   "source": [
    "headers = {'user-agent': \"Mozilla/5.0 (Macintosh; Intel Mac OS X 10_14_6) AppleWebKit/537.36 (KHTML, like Gecko) Chrome/80.0.3987.122 Safari/537.36\"}\n",
    "url = 'https://sanfrancisco.startups-list.com/'\n",
    "page = requests.get(url, headers = headers)\n",
    "page"
   ]
  },
  {
   "cell_type": "code",
   "execution_count": 3,
   "metadata": {},
   "outputs": [],
   "source": [
    "soup = BeautifulSoup(page.text, 'lxml') #using lxml parser. You can use Python’s html.parser."
   ]
  },
  {
   "cell_type": "code",
   "execution_count": 4,
   "metadata": {},
   "outputs": [],
   "source": [
    "SFnames = []\n",
    "for name in soup.findAll(property='name'):\n",
    "    SFnames.append(name.text.lower().replace('\\n',''))"
   ]
  },
  {
   "cell_type": "code",
   "execution_count": 5,
   "metadata": {},
   "outputs": [
    {
     "data": {
      "text/plain": [
       "2329"
      ]
     },
     "execution_count": 5,
     "metadata": {},
     "output_type": "execute_result"
    }
   ],
   "source": [
    "len(SFnames)"
   ]
  },
  {
   "cell_type": "code",
   "execution_count": 6,
   "metadata": {},
   "outputs": [],
   "source": [
    "max_len = 0\n",
    "for name in SFnames:\n",
    "    max_len = max(max_len, len(name))"
   ]
  },
  {
   "cell_type": "code",
   "execution_count": 7,
   "metadata": {},
   "outputs": [
    {
     "data": {
      "text/plain": [
       "39"
      ]
     },
     "execution_count": 7,
     "metadata": {},
     "output_type": "execute_result"
    }
   ],
   "source": [
    "max_len # = Tx the size of the sequence input. I'll pad them if they are shorter than this length."
   ]
  },
  {
   "cell_type": "code",
   "execution_count": 8,
   "metadata": {},
   "outputs": [],
   "source": [
    "SFnames_str = ''\n",
    "for name in soup.findAll(property='name'):\n",
    "    SFnames_str = SFnames_str+name.text.replace('\\n','')+'\\n'"
   ]
  },
  {
   "cell_type": "code",
   "execution_count": 9,
   "metadata": {
    "scrolled": true
   },
   "outputs": [
    {
     "name": "stdout",
     "output_type": "stream",
     "text": [
      "There are 23255 total characters and 55 unique characters in your data.\n"
     ]
    }
   ],
   "source": [
    "data= SFnames_str.lower()\n",
    "chars = list(set(data))\n",
    "data_size, vocab_size = len(data), len(chars)\n",
    "print('There are %d total characters and %d unique characters in your data.' % (data_size, vocab_size))"
   ]
  },
  {
   "cell_type": "code",
   "execution_count": 10,
   "metadata": {},
   "outputs": [
    {
     "name": "stdout",
     "output_type": "stream",
     "text": [
      "['\\n', ' ', '!', '&', \"'\", '(', ')', '+', ',', '-', '.', '/', '0', '1', '2', '3', '4', '5', '6', '7', '8', '9', ':', '@', '[', ']', 'a', 'b', 'c', 'd', 'e', 'f', 'g', 'h', 'i', 'j', 'k', 'l', 'm', 'n', 'o', 'p', 'q', 'r', 's', 't', 'u', 'v', 'w', 'x', 'y', 'z', '\\xa0', '✈', '️']\n"
     ]
    }
   ],
   "source": [
    "chars = sorted(chars)\n",
    "print(chars)"
   ]
  },
  {
   "cell_type": "markdown",
   "metadata": {},
   "source": [
    "- There are 26 alphabets, 10 numbers, \"\\n\" (newline character) as well as some special characters.\n",
    "- There are some uncommon special characters such as '\\xa0' or '✈' but a neural network is robust to these noises so I leave it as it is.\n",
    "- \"\\n\" plays a role \"End of name\" token."
   ]
  },
  {
   "cell_type": "markdown",
   "metadata": {},
   "source": [
    "Let's make a hash tag to convert a character to an index and vice versa.\n",
    "- `char_to_ix`: a python dictionary to map each character to an index.\n",
    "- `ix_to_char`: a second python dictionary that maps each index back to the corresponding character. "
   ]
  },
  {
   "cell_type": "code",
   "execution_count": 11,
   "metadata": {},
   "outputs": [
    {
     "name": "stdout",
     "output_type": "stream",
     "text": [
      "{   0: '\\n',\n",
      "    1: ' ',\n",
      "    2: '!',\n",
      "    3: '&',\n",
      "    4: \"'\",\n",
      "    5: '(',\n",
      "    6: ')',\n",
      "    7: '+',\n",
      "    8: ',',\n",
      "    9: '-',\n",
      "    10: '.',\n",
      "    11: '/',\n",
      "    12: '0',\n",
      "    13: '1',\n",
      "    14: '2',\n",
      "    15: '3',\n",
      "    16: '4',\n",
      "    17: '5',\n",
      "    18: '6',\n",
      "    19: '7',\n",
      "    20: '8',\n",
      "    21: '9',\n",
      "    22: ':',\n",
      "    23: '@',\n",
      "    24: '[',\n",
      "    25: ']',\n",
      "    26: 'a',\n",
      "    27: 'b',\n",
      "    28: 'c',\n",
      "    29: 'd',\n",
      "    30: 'e',\n",
      "    31: 'f',\n",
      "    32: 'g',\n",
      "    33: 'h',\n",
      "    34: 'i',\n",
      "    35: 'j',\n",
      "    36: 'k',\n",
      "    37: 'l',\n",
      "    38: 'm',\n",
      "    39: 'n',\n",
      "    40: 'o',\n",
      "    41: 'p',\n",
      "    42: 'q',\n",
      "    43: 'r',\n",
      "    44: 's',\n",
      "    45: 't',\n",
      "    46: 'u',\n",
      "    47: 'v',\n",
      "    48: 'w',\n",
      "    49: 'x',\n",
      "    50: 'y',\n",
      "    51: 'z',\n",
      "    52: '\\xa0',\n",
      "    53: '✈',\n",
      "    54: '️'}\n"
     ]
    }
   ],
   "source": [
    "char_to_ix = { ch:i for i,ch in enumerate(chars) }\n",
    "ix_to_char = { i:ch for i,ch in enumerate(chars) }\n",
    "pp = pprint.PrettyPrinter(indent=4)\n",
    "pp.pprint(ix_to_char)"
   ]
  },
  {
   "cell_type": "code",
   "execution_count": 12,
   "metadata": {},
   "outputs": [],
   "source": [
    "n_values = len(char_to_ix)"
   ]
  },
  {
   "cell_type": "markdown",
   "metadata": {},
   "source": [
    "I'm going to train a model that predicts the next character in a way that is similar to the start-up names that it's trained on."
   ]
  },
  {
   "cell_type": "markdown",
   "metadata": {},
   "source": [
    "## Building the model\n",
    "\n",
    "- The model takes input X of shape $(m, T_x, n_{values})$ and labels Y of shape $(T_y, m, n_{values})$. \n",
    "- We will use an LSTM with hidden states that have $n_{a} = 64$ dimensions."
   ]
  },
  {
   "cell_type": "markdown",
   "metadata": {},
   "source": [
    "We are generating a sequence of characters so we generate them one at a time using $x^{\\langle t\\rangle} = y^{\\langle t-1 \\rangle}$.\n",
    "- The input at time \"t\" is the prediction at the previous time step \"t-1\"."
   ]
  },
  {
   "cell_type": "markdown",
   "metadata": {},
   "source": [
    "Let's define the layers objects we need as global variables.\n",
    "- weights and bias are globally defined and shareable"
   ]
  },
  {
   "cell_type": "code",
   "execution_count": 13,
   "metadata": {},
   "outputs": [],
   "source": [
    "# number of dimensions for the hidden state of each LSTM cell.\n",
    "n_a = 64 \n",
    "n_values = len(char_to_ix) # number of music values\n",
    "reshapor = Reshape((1, n_values))  # to help reshape tensors  \n",
    "LSTM_cell = LSTM(n_a, return_state = True)   # build a LSTM cell at time t\n",
    "densor = Dense(n_values, activation='softmax')  # Dense layer after each LSTM cell"
   ]
  },
  {
   "cell_type": "code",
   "execution_count": 14,
   "metadata": {},
   "outputs": [],
   "source": [
    "def name_model(Tx, n_a, n_values):\n",
    "    \"\"\"\n",
    "    Implement the model\n",
    "    \n",
    "    Arguments:\n",
    "    Tx -- length of the sequence in a corpus\n",
    "    n_a -- the number of activations used in our model\n",
    "    n_values -- number of unique values in the training data \n",
    "    \n",
    "    Returns:\n",
    "    model -- a keras instance model with n_a activations\n",
    "    \"\"\"\n",
    "    \n",
    "    X = Input(shape=(Tx, n_values)) # Input Layer\n",
    "\n",
    "    a0 = Input(shape=(n_a,), name='a0') # Initial hidden state\n",
    "    c0 = Input(shape=(n_a,), name='c0') # Initial cell state\n",
    "    a = a0\n",
    "    c = c0\n",
    "\n",
    "    outputs = []\n",
    "    \n",
    "    for t in range(Tx):\n",
    "        \n",
    "        x = Lambda(lambda x:x[:,t,:], output_shape=(n_values,))(X)\n",
    "        x = reshapor(x)\n",
    "        a, _, c = LSTM_cell(inputs=x, initial_state=[a, c])\n",
    "        out = densor(a)\n",
    "        outputs.append(out)\n",
    "\n",
    "    model = Model(inputs=[X, a0, c0], outputs=outputs)\n",
    "\n",
    "    return model"
   ]
  },
  {
   "cell_type": "code",
   "execution_count": 28,
   "metadata": {},
   "outputs": [],
   "source": [
    "model = name_model(Tx = max_len , n_a = n_a, n_values = n_values)"
   ]
  },
  {
   "cell_type": "code",
   "execution_count": 16,
   "metadata": {},
   "outputs": [
    {
     "name": "stdout",
     "output_type": "stream",
     "text": [
      "Model: \"model_1\"\n",
      "__________________________________________________________________________________________________\n",
      "Layer (type)                    Output Shape         Param #     Connected to                     \n",
      "==================================================================================================\n",
      "input_1 (InputLayer)            (None, 39, 55)       0                                            \n",
      "__________________________________________________________________________________________________\n",
      "lambda_1 (Lambda)               (None, 55)           0           input_1[0][0]                    \n",
      "__________________________________________________________________________________________________\n",
      "reshape_1 (Reshape)             (None, 1, 55)        0           lambda_1[0][0]                   \n",
      "                                                                 lambda_2[0][0]                   \n",
      "                                                                 lambda_3[0][0]                   \n",
      "                                                                 lambda_4[0][0]                   \n",
      "                                                                 lambda_5[0][0]                   \n",
      "                                                                 lambda_6[0][0]                   \n",
      "                                                                 lambda_7[0][0]                   \n",
      "                                                                 lambda_8[0][0]                   \n",
      "                                                                 lambda_9[0][0]                   \n",
      "                                                                 lambda_10[0][0]                  \n",
      "                                                                 lambda_11[0][0]                  \n",
      "                                                                 lambda_12[0][0]                  \n",
      "                                                                 lambda_13[0][0]                  \n",
      "                                                                 lambda_14[0][0]                  \n",
      "                                                                 lambda_15[0][0]                  \n",
      "                                                                 lambda_16[0][0]                  \n",
      "                                                                 lambda_17[0][0]                  \n",
      "                                                                 lambda_18[0][0]                  \n",
      "                                                                 lambda_19[0][0]                  \n",
      "                                                                 lambda_20[0][0]                  \n",
      "                                                                 lambda_21[0][0]                  \n",
      "                                                                 lambda_22[0][0]                  \n",
      "                                                                 lambda_23[0][0]                  \n",
      "                                                                 lambda_24[0][0]                  \n",
      "                                                                 lambda_25[0][0]                  \n",
      "                                                                 lambda_26[0][0]                  \n",
      "                                                                 lambda_27[0][0]                  \n",
      "                                                                 lambda_28[0][0]                  \n",
      "                                                                 lambda_29[0][0]                  \n",
      "                                                                 lambda_30[0][0]                  \n",
      "                                                                 lambda_31[0][0]                  \n",
      "                                                                 lambda_32[0][0]                  \n",
      "                                                                 lambda_33[0][0]                  \n",
      "                                                                 lambda_34[0][0]                  \n",
      "                                                                 lambda_35[0][0]                  \n",
      "                                                                 lambda_36[0][0]                  \n",
      "                                                                 lambda_37[0][0]                  \n",
      "                                                                 lambda_38[0][0]                  \n",
      "                                                                 lambda_39[0][0]                  \n",
      "__________________________________________________________________________________________________\n",
      "a0 (InputLayer)                 (None, 64)           0                                            \n",
      "__________________________________________________________________________________________________\n",
      "c0 (InputLayer)                 (None, 64)           0                                            \n",
      "__________________________________________________________________________________________________\n",
      "lambda_2 (Lambda)               (None, 55)           0           input_1[0][0]                    \n",
      "__________________________________________________________________________________________________\n",
      "lstm_1 (LSTM)                   [(None, 64), (None,  30720       reshape_1[0][0]                  \n",
      "                                                                 a0[0][0]                         \n",
      "                                                                 c0[0][0]                         \n",
      "                                                                 reshape_1[1][0]                  \n",
      "                                                                 lstm_1[0][0]                     \n",
      "                                                                 lstm_1[0][2]                     \n",
      "                                                                 reshape_1[2][0]                  \n",
      "                                                                 lstm_1[1][0]                     \n",
      "                                                                 lstm_1[1][2]                     \n",
      "                                                                 reshape_1[3][0]                  \n",
      "                                                                 lstm_1[2][0]                     \n",
      "                                                                 lstm_1[2][2]                     \n",
      "                                                                 reshape_1[4][0]                  \n",
      "                                                                 lstm_1[3][0]                     \n",
      "                                                                 lstm_1[3][2]                     \n",
      "                                                                 reshape_1[5][0]                  \n",
      "                                                                 lstm_1[4][0]                     \n",
      "                                                                 lstm_1[4][2]                     \n",
      "                                                                 reshape_1[6][0]                  \n",
      "                                                                 lstm_1[5][0]                     \n",
      "                                                                 lstm_1[5][2]                     \n",
      "                                                                 reshape_1[7][0]                  \n",
      "                                                                 lstm_1[6][0]                     \n",
      "                                                                 lstm_1[6][2]                     \n",
      "                                                                 reshape_1[8][0]                  \n",
      "                                                                 lstm_1[7][0]                     \n",
      "                                                                 lstm_1[7][2]                     \n",
      "                                                                 reshape_1[9][0]                  \n",
      "                                                                 lstm_1[8][0]                     \n",
      "                                                                 lstm_1[8][2]                     \n",
      "                                                                 reshape_1[10][0]                 \n",
      "                                                                 lstm_1[9][0]                     \n",
      "                                                                 lstm_1[9][2]                     \n",
      "                                                                 reshape_1[11][0]                 \n",
      "                                                                 lstm_1[10][0]                    \n",
      "                                                                 lstm_1[10][2]                    \n",
      "                                                                 reshape_1[12][0]                 \n",
      "                                                                 lstm_1[11][0]                    \n",
      "                                                                 lstm_1[11][2]                    \n",
      "                                                                 reshape_1[13][0]                 \n",
      "                                                                 lstm_1[12][0]                    \n",
      "                                                                 lstm_1[12][2]                    \n",
      "                                                                 reshape_1[14][0]                 \n",
      "                                                                 lstm_1[13][0]                    \n",
      "                                                                 lstm_1[13][2]                    \n",
      "                                                                 reshape_1[15][0]                 \n",
      "                                                                 lstm_1[14][0]                    \n",
      "                                                                 lstm_1[14][2]                    \n",
      "                                                                 reshape_1[16][0]                 \n",
      "                                                                 lstm_1[15][0]                    \n",
      "                                                                 lstm_1[15][2]                    \n",
      "                                                                 reshape_1[17][0]                 \n",
      "                                                                 lstm_1[16][0]                    \n",
      "                                                                 lstm_1[16][2]                    \n",
      "                                                                 reshape_1[18][0]                 \n",
      "                                                                 lstm_1[17][0]                    \n",
      "                                                                 lstm_1[17][2]                    \n",
      "                                                                 reshape_1[19][0]                 \n",
      "                                                                 lstm_1[18][0]                    \n",
      "                                                                 lstm_1[18][2]                    \n",
      "                                                                 reshape_1[20][0]                 \n",
      "                                                                 lstm_1[19][0]                    \n",
      "                                                                 lstm_1[19][2]                    \n",
      "                                                                 reshape_1[21][0]                 \n",
      "                                                                 lstm_1[20][0]                    \n",
      "                                                                 lstm_1[20][2]                    \n",
      "                                                                 reshape_1[22][0]                 \n",
      "                                                                 lstm_1[21][0]                    \n",
      "                                                                 lstm_1[21][2]                    \n",
      "                                                                 reshape_1[23][0]                 \n",
      "                                                                 lstm_1[22][0]                    \n",
      "                                                                 lstm_1[22][2]                    \n",
      "                                                                 reshape_1[24][0]                 \n",
      "                                                                 lstm_1[23][0]                    \n",
      "                                                                 lstm_1[23][2]                    \n",
      "                                                                 reshape_1[25][0]                 \n",
      "                                                                 lstm_1[24][0]                    \n",
      "                                                                 lstm_1[24][2]                    \n",
      "                                                                 reshape_1[26][0]                 \n",
      "                                                                 lstm_1[25][0]                    \n",
      "                                                                 lstm_1[25][2]                    \n",
      "                                                                 reshape_1[27][0]                 \n",
      "                                                                 lstm_1[26][0]                    \n",
      "                                                                 lstm_1[26][2]                    \n",
      "                                                                 reshape_1[28][0]                 \n",
      "                                                                 lstm_1[27][0]                    \n",
      "                                                                 lstm_1[27][2]                    \n",
      "                                                                 reshape_1[29][0]                 \n",
      "                                                                 lstm_1[28][0]                    \n",
      "                                                                 lstm_1[28][2]                    \n",
      "                                                                 reshape_1[30][0]                 \n",
      "                                                                 lstm_1[29][0]                    \n",
      "                                                                 lstm_1[29][2]                    \n",
      "                                                                 reshape_1[31][0]                 \n",
      "                                                                 lstm_1[30][0]                    \n",
      "                                                                 lstm_1[30][2]                    \n",
      "                                                                 reshape_1[32][0]                 \n",
      "                                                                 lstm_1[31][0]                    \n",
      "                                                                 lstm_1[31][2]                    \n",
      "                                                                 reshape_1[33][0]                 \n",
      "                                                                 lstm_1[32][0]                    \n",
      "                                                                 lstm_1[32][2]                    \n",
      "                                                                 reshape_1[34][0]                 \n",
      "                                                                 lstm_1[33][0]                    \n",
      "                                                                 lstm_1[33][2]                    \n",
      "                                                                 reshape_1[35][0]                 \n",
      "                                                                 lstm_1[34][0]                    \n",
      "                                                                 lstm_1[34][2]                    \n",
      "                                                                 reshape_1[36][0]                 \n",
      "                                                                 lstm_1[35][0]                    \n",
      "                                                                 lstm_1[35][2]                    \n",
      "                                                                 reshape_1[37][0]                 \n",
      "                                                                 lstm_1[36][0]                    \n",
      "                                                                 lstm_1[36][2]                    \n",
      "                                                                 reshape_1[38][0]                 \n",
      "                                                                 lstm_1[37][0]                    \n",
      "                                                                 lstm_1[37][2]                    \n",
      "__________________________________________________________________________________________________\n",
      "lambda_3 (Lambda)               (None, 55)           0           input_1[0][0]                    \n",
      "__________________________________________________________________________________________________\n",
      "lambda_4 (Lambda)               (None, 55)           0           input_1[0][0]                    \n",
      "__________________________________________________________________________________________________\n",
      "lambda_5 (Lambda)               (None, 55)           0           input_1[0][0]                    \n",
      "__________________________________________________________________________________________________\n",
      "lambda_6 (Lambda)               (None, 55)           0           input_1[0][0]                    \n",
      "__________________________________________________________________________________________________\n",
      "lambda_7 (Lambda)               (None, 55)           0           input_1[0][0]                    \n",
      "__________________________________________________________________________________________________\n",
      "lambda_8 (Lambda)               (None, 55)           0           input_1[0][0]                    \n",
      "__________________________________________________________________________________________________\n",
      "lambda_9 (Lambda)               (None, 55)           0           input_1[0][0]                    \n",
      "__________________________________________________________________________________________________\n",
      "lambda_10 (Lambda)              (None, 55)           0           input_1[0][0]                    \n",
      "__________________________________________________________________________________________________\n",
      "lambda_11 (Lambda)              (None, 55)           0           input_1[0][0]                    \n",
      "__________________________________________________________________________________________________\n",
      "lambda_12 (Lambda)              (None, 55)           0           input_1[0][0]                    \n",
      "__________________________________________________________________________________________________\n",
      "lambda_13 (Lambda)              (None, 55)           0           input_1[0][0]                    \n",
      "__________________________________________________________________________________________________\n",
      "lambda_14 (Lambda)              (None, 55)           0           input_1[0][0]                    \n",
      "__________________________________________________________________________________________________\n",
      "lambda_15 (Lambda)              (None, 55)           0           input_1[0][0]                    \n",
      "__________________________________________________________________________________________________\n",
      "lambda_16 (Lambda)              (None, 55)           0           input_1[0][0]                    \n",
      "__________________________________________________________________________________________________\n",
      "lambda_17 (Lambda)              (None, 55)           0           input_1[0][0]                    \n",
      "__________________________________________________________________________________________________\n",
      "lambda_18 (Lambda)              (None, 55)           0           input_1[0][0]                    \n",
      "__________________________________________________________________________________________________\n",
      "lambda_19 (Lambda)              (None, 55)           0           input_1[0][0]                    \n",
      "__________________________________________________________________________________________________\n",
      "lambda_20 (Lambda)              (None, 55)           0           input_1[0][0]                    \n",
      "__________________________________________________________________________________________________\n",
      "lambda_21 (Lambda)              (None, 55)           0           input_1[0][0]                    \n",
      "__________________________________________________________________________________________________\n",
      "lambda_22 (Lambda)              (None, 55)           0           input_1[0][0]                    \n",
      "__________________________________________________________________________________________________\n",
      "lambda_23 (Lambda)              (None, 55)           0           input_1[0][0]                    \n",
      "__________________________________________________________________________________________________\n",
      "lambda_24 (Lambda)              (None, 55)           0           input_1[0][0]                    \n",
      "__________________________________________________________________________________________________\n",
      "lambda_25 (Lambda)              (None, 55)           0           input_1[0][0]                    \n",
      "__________________________________________________________________________________________________\n",
      "lambda_26 (Lambda)              (None, 55)           0           input_1[0][0]                    \n",
      "__________________________________________________________________________________________________\n",
      "lambda_27 (Lambda)              (None, 55)           0           input_1[0][0]                    \n",
      "__________________________________________________________________________________________________\n",
      "lambda_28 (Lambda)              (None, 55)           0           input_1[0][0]                    \n",
      "__________________________________________________________________________________________________\n",
      "lambda_29 (Lambda)              (None, 55)           0           input_1[0][0]                    \n",
      "__________________________________________________________________________________________________\n",
      "lambda_30 (Lambda)              (None, 55)           0           input_1[0][0]                    \n",
      "__________________________________________________________________________________________________\n",
      "lambda_31 (Lambda)              (None, 55)           0           input_1[0][0]                    \n",
      "__________________________________________________________________________________________________\n",
      "lambda_32 (Lambda)              (None, 55)           0           input_1[0][0]                    \n",
      "__________________________________________________________________________________________________\n",
      "lambda_33 (Lambda)              (None, 55)           0           input_1[0][0]                    \n",
      "__________________________________________________________________________________________________\n",
      "lambda_34 (Lambda)              (None, 55)           0           input_1[0][0]                    \n",
      "__________________________________________________________________________________________________\n",
      "lambda_35 (Lambda)              (None, 55)           0           input_1[0][0]                    \n",
      "__________________________________________________________________________________________________\n",
      "lambda_36 (Lambda)              (None, 55)           0           input_1[0][0]                    \n",
      "__________________________________________________________________________________________________\n",
      "lambda_37 (Lambda)              (None, 55)           0           input_1[0][0]                    \n",
      "__________________________________________________________________________________________________\n",
      "lambda_38 (Lambda)              (None, 55)           0           input_1[0][0]                    \n",
      "__________________________________________________________________________________________________\n",
      "lambda_39 (Lambda)              (None, 55)           0           input_1[0][0]                    \n",
      "__________________________________________________________________________________________________\n",
      "dense_1 (Dense)                 (None, 55)           3575        lstm_1[0][0]                     \n",
      "                                                                 lstm_1[1][0]                     \n",
      "                                                                 lstm_1[2][0]                     \n",
      "                                                                 lstm_1[3][0]                     \n",
      "                                                                 lstm_1[4][0]                     \n",
      "                                                                 lstm_1[5][0]                     \n",
      "                                                                 lstm_1[6][0]                     \n",
      "                                                                 lstm_1[7][0]                     \n",
      "                                                                 lstm_1[8][0]                     \n",
      "                                                                 lstm_1[9][0]                     \n",
      "                                                                 lstm_1[10][0]                    \n",
      "                                                                 lstm_1[11][0]                    \n",
      "                                                                 lstm_1[12][0]                    \n",
      "                                                                 lstm_1[13][0]                    \n",
      "                                                                 lstm_1[14][0]                    \n",
      "                                                                 lstm_1[15][0]                    \n",
      "                                                                 lstm_1[16][0]                    \n",
      "                                                                 lstm_1[17][0]                    \n",
      "                                                                 lstm_1[18][0]                    \n",
      "                                                                 lstm_1[19][0]                    \n",
      "                                                                 lstm_1[20][0]                    \n",
      "                                                                 lstm_1[21][0]                    \n",
      "                                                                 lstm_1[22][0]                    \n",
      "                                                                 lstm_1[23][0]                    \n",
      "                                                                 lstm_1[24][0]                    \n",
      "                                                                 lstm_1[25][0]                    \n",
      "                                                                 lstm_1[26][0]                    \n",
      "                                                                 lstm_1[27][0]                    \n",
      "                                                                 lstm_1[28][0]                    \n",
      "                                                                 lstm_1[29][0]                    \n",
      "                                                                 lstm_1[30][0]                    \n",
      "                                                                 lstm_1[31][0]                    \n",
      "                                                                 lstm_1[32][0]                    \n",
      "                                                                 lstm_1[33][0]                    \n",
      "                                                                 lstm_1[34][0]                    \n",
      "                                                                 lstm_1[35][0]                    \n",
      "                                                                 lstm_1[36][0]                    \n",
      "                                                                 lstm_1[37][0]                    \n",
      "                                                                 lstm_1[38][0]                    \n",
      "==================================================================================================\n",
      "Total params: 34,295\n",
      "Trainable params: 34,295\n",
      "Non-trainable params: 0\n",
      "__________________________________________________________________________________________________\n"
     ]
    }
   ],
   "source": [
    "model.summary()"
   ]
  },
  {
   "cell_type": "markdown",
   "metadata": {},
   "source": [
    "Let's compile the model using the Adam optimizer and the categorical cross-entropy loss function."
   ]
  },
  {
   "cell_type": "code",
   "execution_count": 29,
   "metadata": {},
   "outputs": [],
   "source": [
    "opt = Adam(lr=0.01, beta_1=0.9, beta_2=0.999, decay=0.01)\n",
    "model.compile(optimizer=opt, loss='categorical_crossentropy', metrics=['accuracy'])"
   ]
  },
  {
   "cell_type": "markdown",
   "metadata": {},
   "source": [
    "<a id='training' />"
   ]
  },
  {
   "cell_type": "markdown",
   "metadata": {},
   "source": [
    "## Training"
   ]
  },
  {
   "cell_type": "markdown",
   "metadata": {},
   "source": [
    "Let's initialize `a0` and `c0` for the LSTM's initial state to be zero. "
   ]
  },
  {
   "cell_type": "code",
   "execution_count": 18,
   "metadata": {
    "scrolled": true
   },
   "outputs": [],
   "source": [
    "m = len(SFnames)\n",
    "a0 = np.zeros((m, n_a))\n",
    "c0 = np.zeros((m, n_a))"
   ]
  },
  {
   "cell_type": "markdown",
   "metadata": {},
   "source": [
    "We'll make our input X and label Y such that\n",
    "\n",
    "- `X` is a (m, $T_x$, $n_{value}$) dimensional array.\n",
    "    - We have m training examples, each of which is a snippet of $T_x$ musical values. \n",
    "    - At each time step, the input is one of 78 different possible values, represented as a one-hot vector. \n",
    "        - For example, X[i,t,:] is a one-hot vector representing the value of the i-th example at time t. \n",
    "- `Y` is a $(T_y, m, n_{value})$ dimensional array (reordered to be more convenient to feed into the LSTM).\n",
    "- `Y` is basically an one-time-step pushed array of X and reordered.\n",
    "    - we're using the previous values to predict the next value, so our sequence model will try to predict $y^{\\langle t \\rangle}$ given $x^{\\langle 1\\rangle}, \\ldots, x^{\\langle t \\rangle}$. \n",
    "\n",
    "- We will turn `Y` into a list, since the cost function expects `Y` to be provided in this format. Each of the list items is of shape (m, n_value). "
   ]
  },
  {
   "cell_type": "code",
   "execution_count": 19,
   "metadata": {},
   "outputs": [],
   "source": [
    "X = []\n",
    "for name in SFnames:\n",
    "    X.append([-1]+[char_to_ix[c] for c in name])\n",
    "\n",
    "# pad after the sequence if they are shorter than max_len\n",
    "X = pad_sequences(X, maxlen=max_len, padding='post',  value=-1)"
   ]
  },
  {
   "cell_type": "code",
   "execution_count": 20,
   "metadata": {},
   "outputs": [
    {
     "data": {
      "text/plain": [
       "array([[-1, 34, 39, ..., -1, -1, -1],\n",
       "       [-1, 44, 26, ..., -1, -1, -1],\n",
       "       [-1, 44, 42, ..., -1, -1, -1],\n",
       "       ...,\n",
       "       [-1, 36, 30, ..., -1, -1, -1],\n",
       "       [-1, 41, 43, ..., -1, -1, -1],\n",
       "       [-1, 27, 46, ..., -1, -1, -1]], dtype=int32)"
      ]
     },
     "execution_count": 20,
     "metadata": {},
     "output_type": "execute_result"
    }
   ],
   "source": [
    "X"
   ]
  },
  {
   "cell_type": "code",
   "execution_count": 21,
   "metadata": {},
   "outputs": [],
   "source": [
    "X = to_categorical(X)"
   ]
  },
  {
   "cell_type": "code",
   "execution_count": 22,
   "metadata": {},
   "outputs": [
    {
     "data": {
      "text/plain": [
       "(2329, 39, 55)"
      ]
     },
     "execution_count": 22,
     "metadata": {},
     "output_type": "execute_result"
    }
   ],
   "source": [
    "X.shape # check the shape"
   ]
  },
  {
   "cell_type": "code",
   "execution_count": 23,
   "metadata": {},
   "outputs": [],
   "source": [
    "Y = []\n",
    "for name in SFnames:\n",
    "    Y.append([char_to_ix[c] for c in name]+[char_to_ix['\\n']])\n",
    "\n",
    "# pad Y in the same way\n",
    "Y = pad_sequences(Y, maxlen=max_len, padding='post',  value=-1)\n",
    "Y = to_categorical(Y)\n",
    "Y = np.transpose(Y,[1,0,2])"
   ]
  },
  {
   "cell_type": "code",
   "execution_count": 25,
   "metadata": {},
   "outputs": [
    {
     "data": {
      "text/plain": [
       "(39, 2329, 55)"
      ]
     },
     "execution_count": 25,
     "metadata": {},
     "output_type": "execute_result"
    }
   ],
   "source": [
    "Y.shape # check the shape"
   ]
  },
  {
   "cell_type": "code",
   "execution_count": 26,
   "metadata": {},
   "outputs": [
    {
     "data": {
      "text/plain": [
       "39"
      ]
     },
     "execution_count": 26,
     "metadata": {},
     "output_type": "execute_result"
    }
   ],
   "source": [
    "max_len"
   ]
  },
  {
   "cell_type": "markdown",
   "metadata": {},
   "source": [
    "Let's fit the model. I'll train for 200 epochs."
   ]
  },
  {
   "cell_type": "code",
   "execution_count": 30,
   "metadata": {
    "scrolled": true
   },
   "outputs": [
    {
     "name": "stdout",
     "output_type": "stream",
     "text": [
      "Epoch 1/200\n",
      "2329/2329 [==============================] - 17s 7ms/step - loss: 26.8422 - dense_1_loss: 7.7798e-04 - dense_1_accuracy: 0.1224 - dense_1_accuracy_1: 0.2035 - dense_1_accuracy_2: 0.1473 - dense_1_accuracy_3: 0.1619 - dense_1_accuracy_4: 0.1829 - dense_1_accuracy_5: 0.2293 - dense_1_accuracy_6: 0.3362 - dense_1_accuracy_7: 0.4616 - dense_1_accuracy_8: 0.6011 - dense_1_accuracy_9: 0.7042 - dense_1_accuracy_10: 0.7900 - dense_1_accuracy_11: 0.8394 - dense_1_accuracy_12: 0.8836 - dense_1_accuracy_13: 0.9021 - dense_1_accuracy_14: 0.9223 - dense_1_accuracy_15: 0.9377 - dense_1_accuracy_16: 0.9536 - dense_1_accuracy_17: 0.9588 - dense_1_accuracy_18: 0.9682 - dense_1_accuracy_19: 0.9717 - dense_1_accuracy_20: 0.9781 - dense_1_accuracy_21: 0.9837 - dense_1_accuracy_22: 0.9871 - dense_1_accuracy_23: 0.9871 - dense_1_accuracy_24: 0.9888 - dense_1_accuracy_25: 0.9893 - dense_1_accuracy_26: 0.9897 - dense_1_accuracy_27: 0.9918 - dense_1_accuracy_28: 0.9940 - dense_1_accuracy_29: 0.9953 - dense_1_accuracy_30: 0.9957 - dense_1_accuracy_31: 0.9966 - dense_1_accuracy_32: 0.9966 - dense_1_accuracy_33: 0.9979 - dense_1_accuracy_34: 0.9983 - dense_1_accuracy_35: 0.9987 - dense_1_accuracy_36: 1.0000 - dense_1_accuracy_37: 0.9996 - dense_1_accuracy_38: 1.0000\n",
      "Epoch 2/200\n",
      "2329/2329 [==============================] - 2s 1ms/step - loss: 25.8848 - dense_1_loss: 4.3074e-04 - dense_1_accuracy: 0.1224 - dense_1_accuracy_1: 0.2125 - dense_1_accuracy_2: 0.1614 - dense_1_accuracy_3: 0.1752 - dense_1_accuracy_4: 0.1863 - dense_1_accuracy_5: 0.2477 - dense_1_accuracy_6: 0.3465 - dense_1_accuracy_7: 0.4766 - dense_1_accuracy_8: 0.6088 - dense_1_accuracy_9: 0.7076 - dense_1_accuracy_10: 0.8016 - dense_1_accuracy_11: 0.8416 - dense_1_accuracy_12: 0.8879 - dense_1_accuracy_13: 0.9060 - dense_1_accuracy_14: 0.9253 - dense_1_accuracy_15: 0.9425 - dense_1_accuracy_16: 0.9566 - dense_1_accuracy_17: 0.9618 - dense_1_accuracy_18: 0.9712 - dense_1_accuracy_19: 0.9725 - dense_1_accuracy_20: 0.9781 - dense_1_accuracy_21: 0.9845 - dense_1_accuracy_22: 0.9880 - dense_1_accuracy_23: 0.9884 - dense_1_accuracy_24: 0.9897 - dense_1_accuracy_25: 0.9893 - dense_1_accuracy_26: 0.9910 - dense_1_accuracy_27: 0.9914 - dense_1_accuracy_28: 0.9940 - dense_1_accuracy_29: 0.9961 - dense_1_accuracy_30: 0.9961 - dense_1_accuracy_31: 0.9961 - dense_1_accuracy_32: 0.9966 - dense_1_accuracy_33: 0.9979 - dense_1_accuracy_34: 0.9987 - dense_1_accuracy_35: 0.9991 - dense_1_accuracy_36: 1.0000 - dense_1_accuracy_37: 0.9996 - dense_1_accuracy_38: 1.0000\n",
      "Epoch 3/200\n",
      "2329/2329 [==============================] - 2s 969us/step - loss: 25.4938 - dense_1_loss: 4.3225e-04 - dense_1_accuracy: 0.1224 - dense_1_accuracy_1: 0.2344 - dense_1_accuracy_2: 0.1739 - dense_1_accuracy_3: 0.1885 - dense_1_accuracy_4: 0.2027 - dense_1_accuracy_5: 0.2538 - dense_1_accuracy_6: 0.3568 - dense_1_accuracy_7: 0.4843 - dense_1_accuracy_8: 0.6166 - dense_1_accuracy_9: 0.7162 - dense_1_accuracy_10: 0.8012 - dense_1_accuracy_11: 0.8463 - dense_1_accuracy_12: 0.8909 - dense_1_accuracy_13: 0.9098 - dense_1_accuracy_14: 0.9292 - dense_1_accuracy_15: 0.9420 - dense_1_accuracy_16: 0.9562 - dense_1_accuracy_17: 0.9631 - dense_1_accuracy_18: 0.9708 - dense_1_accuracy_19: 0.9721 - dense_1_accuracy_20: 0.9781 - dense_1_accuracy_21: 0.9854 - dense_1_accuracy_22: 0.9888 - dense_1_accuracy_23: 0.9888 - dense_1_accuracy_24: 0.9910 - dense_1_accuracy_25: 0.9893 - dense_1_accuracy_26: 0.9918 - dense_1_accuracy_27: 0.9918 - dense_1_accuracy_28: 0.9940 - dense_1_accuracy_29: 0.9957 - dense_1_accuracy_30: 0.9961 - dense_1_accuracy_31: 0.9961 - dense_1_accuracy_32: 0.9966 - dense_1_accuracy_33: 0.9979 - dense_1_accuracy_34: 0.9991 - dense_1_accuracy_35: 0.9991 - dense_1_accuracy_36: 1.0000 - dense_1_accuracy_37: 0.9996 - dense_1_accuracy_38: 1.0000\n",
      "Epoch 4/200\n",
      "2329/2329 [==============================] - 2s 1ms/step - loss: 25.2236 - dense_1_loss: 5.5577e-04 - dense_1_accuracy: 0.1224 - dense_1_accuracy_1: 0.2409 - dense_1_accuracy_2: 0.1859 - dense_1_accuracy_3: 0.1889 - dense_1_accuracy_4: 0.2014 - dense_1_accuracy_5: 0.2538 - dense_1_accuracy_6: 0.3581 - dense_1_accuracy_7: 0.4800 - dense_1_accuracy_8: 0.6179 - dense_1_accuracy_9: 0.7231 - dense_1_accuracy_10: 0.8102 - dense_1_accuracy_11: 0.8476 - dense_1_accuracy_12: 0.8952 - dense_1_accuracy_13: 0.9133 - dense_1_accuracy_14: 0.9292 - dense_1_accuracy_15: 0.9433 - dense_1_accuracy_16: 0.9579 - dense_1_accuracy_17: 0.9631 - dense_1_accuracy_18: 0.9717 - dense_1_accuracy_19: 0.9729 - dense_1_accuracy_20: 0.9785 - dense_1_accuracy_21: 0.9854 - dense_1_accuracy_22: 0.9893 - dense_1_accuracy_23: 0.9888 - dense_1_accuracy_24: 0.9914 - dense_1_accuracy_25: 0.9901 - dense_1_accuracy_26: 0.9918 - dense_1_accuracy_27: 0.9918 - dense_1_accuracy_28: 0.9940 - dense_1_accuracy_29: 0.9957 - dense_1_accuracy_30: 0.9961 - dense_1_accuracy_31: 0.9961 - dense_1_accuracy_32: 0.9966 - dense_1_accuracy_33: 0.9979 - dense_1_accuracy_34: 0.9991 - dense_1_accuracy_35: 0.9991 - dense_1_accuracy_36: 1.0000 - dense_1_accuracy_37: 1.0000 - dense_1_accuracy_38: 1.0000\n",
      "Epoch 5/200\n",
      "2329/2329 [==============================] - 2s 975us/step - loss: 24.9979 - dense_1_loss: 6.0296e-04 - dense_1_accuracy: 0.1224 - dense_1_accuracy_1: 0.2460 - dense_1_accuracy_2: 0.1967 - dense_1_accuracy_3: 0.2005 - dense_1_accuracy_4: 0.2014 - dense_1_accuracy_5: 0.2615 - dense_1_accuracy_6: 0.3620 - dense_1_accuracy_7: 0.4916 - dense_1_accuracy_8: 0.6183 - dense_1_accuracy_9: 0.7269 - dense_1_accuracy_10: 0.8128 - dense_1_accuracy_11: 0.8484 - dense_1_accuracy_12: 0.8957 - dense_1_accuracy_13: 0.9133 - dense_1_accuracy_14: 0.9304 - dense_1_accuracy_15: 0.9476 - dense_1_accuracy_16: 0.9605 - dense_1_accuracy_17: 0.9631 - dense_1_accuracy_18: 0.9717 - dense_1_accuracy_19: 0.9738 - dense_1_accuracy_20: 0.9785 - dense_1_accuracy_21: 0.9858 - dense_1_accuracy_22: 0.9884 - dense_1_accuracy_23: 0.9897 - dense_1_accuracy_24: 0.9914 - dense_1_accuracy_25: 0.9906 - dense_1_accuracy_26: 0.9931 - dense_1_accuracy_27: 0.9923 - dense_1_accuracy_28: 0.9944 - dense_1_accuracy_29: 0.9957 - dense_1_accuracy_30: 0.9966 - dense_1_accuracy_31: 0.9961 - dense_1_accuracy_32: 0.9966 - dense_1_accuracy_33: 0.9979 - dense_1_accuracy_34: 0.9991 - dense_1_accuracy_35: 0.9991 - dense_1_accuracy_36: 1.0000 - dense_1_accuracy_37: 1.0000 - dense_1_accuracy_38: 1.0000\n",
      "Epoch 6/200\n",
      "2329/2329 [==============================] - 2s 975us/step - loss: 24.8148 - dense_1_loss: 4.9245e-04 - dense_1_accuracy: 0.1224 - dense_1_accuracy_1: 0.2495 - dense_1_accuracy_2: 0.2044 - dense_1_accuracy_3: 0.2082 - dense_1_accuracy_4: 0.1941 - dense_1_accuracy_5: 0.2628 - dense_1_accuracy_6: 0.3701 - dense_1_accuracy_7: 0.4903 - dense_1_accuracy_8: 0.6247 - dense_1_accuracy_9: 0.7205 - dense_1_accuracy_10: 0.8098 - dense_1_accuracy_11: 0.8527 - dense_1_accuracy_12: 0.8970 - dense_1_accuracy_13: 0.9137 - dense_1_accuracy_14: 0.9326 - dense_1_accuracy_15: 0.9455 - dense_1_accuracy_16: 0.9584 - dense_1_accuracy_17: 0.9652 - dense_1_accuracy_18: 0.9725 - dense_1_accuracy_19: 0.9742 - dense_1_accuracy_20: 0.9807 - dense_1_accuracy_21: 0.9863 - dense_1_accuracy_22: 0.9880 - dense_1_accuracy_23: 0.9888 - dense_1_accuracy_24: 0.9910 - dense_1_accuracy_25: 0.9910 - dense_1_accuracy_26: 0.9923 - dense_1_accuracy_27: 0.9927 - dense_1_accuracy_28: 0.9940 - dense_1_accuracy_29: 0.9961 - dense_1_accuracy_30: 0.9961 - dense_1_accuracy_31: 0.9961 - dense_1_accuracy_32: 0.9966 - dense_1_accuracy_33: 0.9979 - dense_1_accuracy_34: 0.9991 - dense_1_accuracy_35: 0.9991 - dense_1_accuracy_36: 1.0000 - dense_1_accuracy_37: 1.0000 - dense_1_accuracy_38: 1.0000\n",
      "Epoch 7/200\n"
     ]
    },
    {
     "name": "stdout",
     "output_type": "stream",
     "text": [
      "2329/2329 [==============================] - 2s 1ms/step - loss: 24.6575 - dense_1_loss: 5.0080e-04 - dense_1_accuracy: 0.1224 - dense_1_accuracy_1: 0.2563 - dense_1_accuracy_2: 0.2095 - dense_1_accuracy_3: 0.2134 - dense_1_accuracy_4: 0.1971 - dense_1_accuracy_5: 0.2688 - dense_1_accuracy_6: 0.3697 - dense_1_accuracy_7: 0.4985 - dense_1_accuracy_8: 0.6243 - dense_1_accuracy_9: 0.7256 - dense_1_accuracy_10: 0.8154 - dense_1_accuracy_11: 0.8553 - dense_1_accuracy_12: 0.9000 - dense_1_accuracy_13: 0.9154 - dense_1_accuracy_14: 0.9339 - dense_1_accuracy_15: 0.9472 - dense_1_accuracy_16: 0.9588 - dense_1_accuracy_17: 0.9635 - dense_1_accuracy_18: 0.9747 - dense_1_accuracy_19: 0.9742 - dense_1_accuracy_20: 0.9790 - dense_1_accuracy_21: 0.9863 - dense_1_accuracy_22: 0.9901 - dense_1_accuracy_23: 0.9897 - dense_1_accuracy_24: 0.9923 - dense_1_accuracy_25: 0.9910 - dense_1_accuracy_26: 0.9923 - dense_1_accuracy_27: 0.9923 - dense_1_accuracy_28: 0.9944 - dense_1_accuracy_29: 0.9961 - dense_1_accuracy_30: 0.9966 - dense_1_accuracy_31: 0.9961 - dense_1_accuracy_32: 0.9970 - dense_1_accuracy_33: 0.9979 - dense_1_accuracy_34: 0.9991 - dense_1_accuracy_35: 0.9991 - dense_1_accuracy_36: 1.0000 - dense_1_accuracy_37: 1.0000 - dense_1_accuracy_38: 1.0000\n",
      "Epoch 8/200\n",
      "2329/2329 [==============================] - 2s 1ms/step - loss: 24.4970 - dense_1_loss: 5.3318e-04 - dense_1_accuracy: 0.1224 - dense_1_accuracy_1: 0.2602 - dense_1_accuracy_2: 0.2203 - dense_1_accuracy_3: 0.2207 - dense_1_accuracy_4: 0.2095 - dense_1_accuracy_5: 0.2757 - dense_1_accuracy_6: 0.3727 - dense_1_accuracy_7: 0.4985 - dense_1_accuracy_8: 0.6299 - dense_1_accuracy_9: 0.7312 - dense_1_accuracy_10: 0.8184 - dense_1_accuracy_11: 0.8540 - dense_1_accuracy_12: 0.8987 - dense_1_accuracy_13: 0.9141 - dense_1_accuracy_14: 0.9365 - dense_1_accuracy_15: 0.9472 - dense_1_accuracy_16: 0.9609 - dense_1_accuracy_17: 0.9661 - dense_1_accuracy_18: 0.9734 - dense_1_accuracy_19: 0.9760 - dense_1_accuracy_20: 0.9798 - dense_1_accuracy_21: 0.9863 - dense_1_accuracy_22: 0.9893 - dense_1_accuracy_23: 0.9897 - dense_1_accuracy_24: 0.9918 - dense_1_accuracy_25: 0.9914 - dense_1_accuracy_26: 0.9936 - dense_1_accuracy_27: 0.9927 - dense_1_accuracy_28: 0.9944 - dense_1_accuracy_29: 0.9961 - dense_1_accuracy_30: 0.9961 - dense_1_accuracy_31: 0.9961 - dense_1_accuracy_32: 0.9966 - dense_1_accuracy_33: 0.9979 - dense_1_accuracy_34: 0.9991 - dense_1_accuracy_35: 0.9991 - dense_1_accuracy_36: 1.0000 - dense_1_accuracy_37: 1.0000 - dense_1_accuracy_38: 1.0000\n",
      "Epoch 9/200\n",
      "2329/2329 [==============================] - 2s 1ms/step - loss: 24.3614 - dense_1_loss: 6.1908e-04 - dense_1_accuracy: 0.1224 - dense_1_accuracy_1: 0.2628 - dense_1_accuracy_2: 0.2181 - dense_1_accuracy_3: 0.2284 - dense_1_accuracy_4: 0.2117 - dense_1_accuracy_5: 0.2752 - dense_1_accuracy_6: 0.3766 - dense_1_accuracy_7: 0.4959 - dense_1_accuracy_8: 0.6282 - dense_1_accuracy_9: 0.7329 - dense_1_accuracy_10: 0.8205 - dense_1_accuracy_11: 0.8540 - dense_1_accuracy_12: 0.9000 - dense_1_accuracy_13: 0.9163 - dense_1_accuracy_14: 0.9360 - dense_1_accuracy_15: 0.9472 - dense_1_accuracy_16: 0.9605 - dense_1_accuracy_17: 0.9657 - dense_1_accuracy_18: 0.9738 - dense_1_accuracy_19: 0.9747 - dense_1_accuracy_20: 0.9794 - dense_1_accuracy_21: 0.9858 - dense_1_accuracy_22: 0.9888 - dense_1_accuracy_23: 0.9897 - dense_1_accuracy_24: 0.9923 - dense_1_accuracy_25: 0.9914 - dense_1_accuracy_26: 0.9931 - dense_1_accuracy_27: 0.9931 - dense_1_accuracy_28: 0.9944 - dense_1_accuracy_29: 0.9961 - dense_1_accuracy_30: 0.9961 - dense_1_accuracy_31: 0.9961 - dense_1_accuracy_32: 0.9966 - dense_1_accuracy_33: 0.9979 - dense_1_accuracy_34: 0.9991 - dense_1_accuracy_35: 0.9991 - dense_1_accuracy_36: 1.0000 - dense_1_accuracy_37: 1.0000 - dense_1_accuracy_38: 1.0000\n",
      "Epoch 10/200\n",
      "2329/2329 [==============================] - 2s 1ms/step - loss: 24.2578 - dense_1_loss: 5.0073e-04 - dense_1_accuracy: 0.1224 - dense_1_accuracy_1: 0.2598 - dense_1_accuracy_2: 0.2185 - dense_1_accuracy_3: 0.2297 - dense_1_accuracy_4: 0.2121 - dense_1_accuracy_5: 0.2795 - dense_1_accuracy_6: 0.3800 - dense_1_accuracy_7: 0.5024 - dense_1_accuracy_8: 0.6337 - dense_1_accuracy_9: 0.7342 - dense_1_accuracy_10: 0.8197 - dense_1_accuracy_11: 0.8592 - dense_1_accuracy_12: 0.9004 - dense_1_accuracy_13: 0.9180 - dense_1_accuracy_14: 0.9377 - dense_1_accuracy_15: 0.9480 - dense_1_accuracy_16: 0.9618 - dense_1_accuracy_17: 0.9669 - dense_1_accuracy_18: 0.9738 - dense_1_accuracy_19: 0.9751 - dense_1_accuracy_20: 0.9794 - dense_1_accuracy_21: 0.9867 - dense_1_accuracy_22: 0.9888 - dense_1_accuracy_23: 0.9901 - dense_1_accuracy_24: 0.9927 - dense_1_accuracy_25: 0.9910 - dense_1_accuracy_26: 0.9931 - dense_1_accuracy_27: 0.9936 - dense_1_accuracy_28: 0.9944 - dense_1_accuracy_29: 0.9966 - dense_1_accuracy_30: 0.9961 - dense_1_accuracy_31: 0.9961 - dense_1_accuracy_32: 0.9966 - dense_1_accuracy_33: 0.9979 - dense_1_accuracy_34: 0.9991 - dense_1_accuracy_35: 0.9991 - dense_1_accuracy_36: 1.0000 - dense_1_accuracy_37: 1.0000 - dense_1_accuracy_38: 1.0000\n",
      "Epoch 11/200\n",
      "2329/2329 [==============================] - 2s 1ms/step - loss: 24.1508 - dense_1_loss: 5.1713e-04 - dense_1_accuracy: 0.1224 - dense_1_accuracy_1: 0.2589 - dense_1_accuracy_2: 0.2220 - dense_1_accuracy_3: 0.2392 - dense_1_accuracy_4: 0.2211 - dense_1_accuracy_5: 0.2778 - dense_1_accuracy_6: 0.3826 - dense_1_accuracy_7: 0.5054 - dense_1_accuracy_8: 0.6329 - dense_1_accuracy_9: 0.7359 - dense_1_accuracy_10: 0.8214 - dense_1_accuracy_11: 0.8592 - dense_1_accuracy_12: 0.9025 - dense_1_accuracy_13: 0.9167 - dense_1_accuracy_14: 0.9399 - dense_1_accuracy_15: 0.9459 - dense_1_accuracy_16: 0.9609 - dense_1_accuracy_17: 0.9678 - dense_1_accuracy_18: 0.9742 - dense_1_accuracy_19: 0.9751 - dense_1_accuracy_20: 0.9811 - dense_1_accuracy_21: 0.9875 - dense_1_accuracy_22: 0.9893 - dense_1_accuracy_23: 0.9897 - dense_1_accuracy_24: 0.9927 - dense_1_accuracy_25: 0.9914 - dense_1_accuracy_26: 0.9931 - dense_1_accuracy_27: 0.9923 - dense_1_accuracy_28: 0.9944 - dense_1_accuracy_29: 0.9961 - dense_1_accuracy_30: 0.9966 - dense_1_accuracy_31: 0.9961 - dense_1_accuracy_32: 0.9974 - dense_1_accuracy_33: 0.9979 - dense_1_accuracy_34: 0.9991 - dense_1_accuracy_35: 0.9991 - dense_1_accuracy_36: 1.0000 - dense_1_accuracy_37: 1.0000 - dense_1_accuracy_38: 1.0000\n",
      "Epoch 12/200\n",
      "2329/2329 [==============================] - 2s 994us/step - loss: 24.0724 - dense_1_loss: 4.7301e-04 - dense_1_accuracy: 0.1224 - dense_1_accuracy_1: 0.2615 - dense_1_accuracy_2: 0.2263 - dense_1_accuracy_3: 0.2400 - dense_1_accuracy_4: 0.2194 - dense_1_accuracy_5: 0.2791 - dense_1_accuracy_6: 0.3817 - dense_1_accuracy_7: 0.5015 - dense_1_accuracy_8: 0.6363 - dense_1_accuracy_9: 0.7377 - dense_1_accuracy_10: 0.8205 - dense_1_accuracy_11: 0.8609 - dense_1_accuracy_12: 0.9051 - dense_1_accuracy_13: 0.9201 - dense_1_accuracy_14: 0.9382 - dense_1_accuracy_15: 0.9468 - dense_1_accuracy_16: 0.9622 - dense_1_accuracy_17: 0.9704 - dense_1_accuracy_18: 0.9742 - dense_1_accuracy_19: 0.9751 - dense_1_accuracy_20: 0.9802 - dense_1_accuracy_21: 0.9871 - dense_1_accuracy_22: 0.9906 - dense_1_accuracy_23: 0.9910 - dense_1_accuracy_24: 0.9927 - dense_1_accuracy_25: 0.9914 - dense_1_accuracy_26: 0.9931 - dense_1_accuracy_27: 0.9931 - dense_1_accuracy_28: 0.9944 - dense_1_accuracy_29: 0.9966 - dense_1_accuracy_30: 0.9966 - dense_1_accuracy_31: 0.9966 - dense_1_accuracy_32: 0.9974 - dense_1_accuracy_33: 0.9979 - dense_1_accuracy_34: 0.9987 - dense_1_accuracy_35: 0.9991 - dense_1_accuracy_36: 1.0000 - dense_1_accuracy_37: 1.0000 - dense_1_accuracy_38: 1.0000\n",
      "Epoch 13/200\n"
     ]
    },
    {
     "name": "stdout",
     "output_type": "stream",
     "text": [
      "2329/2329 [==============================] - 2s 1ms/step - loss: 23.9776 - dense_1_loss: 5.0306e-04 - dense_1_accuracy: 0.1224 - dense_1_accuracy_1: 0.2636 - dense_1_accuracy_2: 0.2276 - dense_1_accuracy_3: 0.2396 - dense_1_accuracy_4: 0.2280 - dense_1_accuracy_5: 0.2821 - dense_1_accuracy_6: 0.3839 - dense_1_accuracy_7: 0.5079 - dense_1_accuracy_8: 0.6337 - dense_1_accuracy_9: 0.7385 - dense_1_accuracy_10: 0.8240 - dense_1_accuracy_11: 0.8609 - dense_1_accuracy_12: 0.9030 - dense_1_accuracy_13: 0.9206 - dense_1_accuracy_14: 0.9420 - dense_1_accuracy_15: 0.9476 - dense_1_accuracy_16: 0.9635 - dense_1_accuracy_17: 0.9682 - dense_1_accuracy_18: 0.9755 - dense_1_accuracy_19: 0.9755 - dense_1_accuracy_20: 0.9802 - dense_1_accuracy_21: 0.9875 - dense_1_accuracy_22: 0.9893 - dense_1_accuracy_23: 0.9910 - dense_1_accuracy_24: 0.9931 - dense_1_accuracy_25: 0.9914 - dense_1_accuracy_26: 0.9931 - dense_1_accuracy_27: 0.9923 - dense_1_accuracy_28: 0.9944 - dense_1_accuracy_29: 0.9961 - dense_1_accuracy_30: 0.9966 - dense_1_accuracy_31: 0.9961 - dense_1_accuracy_32: 0.9970 - dense_1_accuracy_33: 0.9979 - dense_1_accuracy_34: 0.9987 - dense_1_accuracy_35: 0.9991 - dense_1_accuracy_36: 1.0000 - dense_1_accuracy_37: 0.9996 - dense_1_accuracy_38: 1.0000\n",
      "Epoch 14/200\n",
      "2329/2329 [==============================] - 2s 1ms/step - loss: 23.8927 - dense_1_loss: 5.4320e-04 - dense_1_accuracy: 0.1224 - dense_1_accuracy_1: 0.2684 - dense_1_accuracy_2: 0.2271 - dense_1_accuracy_3: 0.2374 - dense_1_accuracy_4: 0.2301 - dense_1_accuracy_5: 0.2847 - dense_1_accuracy_6: 0.3860 - dense_1_accuracy_7: 0.5114 - dense_1_accuracy_8: 0.6393 - dense_1_accuracy_9: 0.7450 - dense_1_accuracy_10: 0.8210 - dense_1_accuracy_11: 0.8630 - dense_1_accuracy_12: 0.9034 - dense_1_accuracy_13: 0.9210 - dense_1_accuracy_14: 0.9420 - dense_1_accuracy_15: 0.9493 - dense_1_accuracy_16: 0.9644 - dense_1_accuracy_17: 0.9678 - dense_1_accuracy_18: 0.9755 - dense_1_accuracy_19: 0.9755 - dense_1_accuracy_20: 0.9820 - dense_1_accuracy_21: 0.9897 - dense_1_accuracy_22: 0.9906 - dense_1_accuracy_23: 0.9897 - dense_1_accuracy_24: 0.9936 - dense_1_accuracy_25: 0.9914 - dense_1_accuracy_26: 0.9927 - dense_1_accuracy_27: 0.9936 - dense_1_accuracy_28: 0.9944 - dense_1_accuracy_29: 0.9966 - dense_1_accuracy_30: 0.9966 - dense_1_accuracy_31: 0.9966 - dense_1_accuracy_32: 0.9970 - dense_1_accuracy_33: 0.9979 - dense_1_accuracy_34: 0.9991 - dense_1_accuracy_35: 0.9991 - dense_1_accuracy_36: 1.0000 - dense_1_accuracy_37: 1.0000 - dense_1_accuracy_38: 1.0000\n",
      "Epoch 15/200\n",
      "2329/2329 [==============================] - 2s 1ms/step - loss: 23.8180 - dense_1_loss: 5.5265e-04 - dense_1_accuracy: 0.1224 - dense_1_accuracy_1: 0.2671 - dense_1_accuracy_2: 0.2331 - dense_1_accuracy_3: 0.2452 - dense_1_accuracy_4: 0.2319 - dense_1_accuracy_5: 0.2872 - dense_1_accuracy_6: 0.3950 - dense_1_accuracy_7: 0.5062 - dense_1_accuracy_8: 0.6419 - dense_1_accuracy_9: 0.7441 - dense_1_accuracy_10: 0.8244 - dense_1_accuracy_11: 0.8652 - dense_1_accuracy_12: 0.9060 - dense_1_accuracy_13: 0.9231 - dense_1_accuracy_14: 0.9438 - dense_1_accuracy_15: 0.9476 - dense_1_accuracy_16: 0.9644 - dense_1_accuracy_17: 0.9729 - dense_1_accuracy_18: 0.9760 - dense_1_accuracy_19: 0.9755 - dense_1_accuracy_20: 0.9820 - dense_1_accuracy_21: 0.9888 - dense_1_accuracy_22: 0.9901 - dense_1_accuracy_23: 0.9901 - dense_1_accuracy_24: 0.9931 - dense_1_accuracy_25: 0.9914 - dense_1_accuracy_26: 0.9936 - dense_1_accuracy_27: 0.9931 - dense_1_accuracy_28: 0.9944 - dense_1_accuracy_29: 0.9966 - dense_1_accuracy_30: 0.9966 - dense_1_accuracy_31: 0.9966 - dense_1_accuracy_32: 0.9974 - dense_1_accuracy_33: 0.9979 - dense_1_accuracy_34: 0.9996 - dense_1_accuracy_35: 0.9996 - dense_1_accuracy_36: 1.0000 - dense_1_accuracy_37: 1.0000 - dense_1_accuracy_38: 1.0000\n",
      "Epoch 16/200\n",
      "2329/2329 [==============================] - 2s 1ms/step - loss: 23.7457 - dense_1_loss: 4.6780e-04 - dense_1_accuracy: 0.1224 - dense_1_accuracy_1: 0.2671 - dense_1_accuracy_2: 0.2349 - dense_1_accuracy_3: 0.2525 - dense_1_accuracy_4: 0.2276 - dense_1_accuracy_5: 0.2872 - dense_1_accuracy_6: 0.3873 - dense_1_accuracy_7: 0.5058 - dense_1_accuracy_8: 0.6436 - dense_1_accuracy_9: 0.7432 - dense_1_accuracy_10: 0.8257 - dense_1_accuracy_11: 0.8639 - dense_1_accuracy_12: 0.9055 - dense_1_accuracy_13: 0.9214 - dense_1_accuracy_14: 0.9438 - dense_1_accuracy_15: 0.9519 - dense_1_accuracy_16: 0.9652 - dense_1_accuracy_17: 0.9721 - dense_1_accuracy_18: 0.9781 - dense_1_accuracy_19: 0.9755 - dense_1_accuracy_20: 0.9824 - dense_1_accuracy_21: 0.9875 - dense_1_accuracy_22: 0.9893 - dense_1_accuracy_23: 0.9901 - dense_1_accuracy_24: 0.9931 - dense_1_accuracy_25: 0.9914 - dense_1_accuracy_26: 0.9940 - dense_1_accuracy_27: 0.9927 - dense_1_accuracy_28: 0.9948 - dense_1_accuracy_29: 0.9966 - dense_1_accuracy_30: 0.9966 - dense_1_accuracy_31: 0.9966 - dense_1_accuracy_32: 0.9974 - dense_1_accuracy_33: 0.9979 - dense_1_accuracy_34: 0.9996 - dense_1_accuracy_35: 0.9991 - dense_1_accuracy_36: 1.0000 - dense_1_accuracy_37: 1.0000 - dense_1_accuracy_38: 1.0000\n",
      "Epoch 17/200\n",
      "2329/2329 [==============================] - 2s 1ms/step - loss: 23.6820 - dense_1_loss: 4.9118e-04 - dense_1_accuracy: 0.1224 - dense_1_accuracy_1: 0.2632 - dense_1_accuracy_2: 0.2417 - dense_1_accuracy_3: 0.2452 - dense_1_accuracy_4: 0.2319 - dense_1_accuracy_5: 0.2864 - dense_1_accuracy_6: 0.3959 - dense_1_accuracy_7: 0.5101 - dense_1_accuracy_8: 0.6432 - dense_1_accuracy_9: 0.7462 - dense_1_accuracy_10: 0.8244 - dense_1_accuracy_11: 0.8678 - dense_1_accuracy_12: 0.9047 - dense_1_accuracy_13: 0.9219 - dense_1_accuracy_14: 0.9446 - dense_1_accuracy_15: 0.9511 - dense_1_accuracy_16: 0.9652 - dense_1_accuracy_17: 0.9725 - dense_1_accuracy_18: 0.9760 - dense_1_accuracy_19: 0.9755 - dense_1_accuracy_20: 0.9824 - dense_1_accuracy_21: 0.9893 - dense_1_accuracy_22: 0.9901 - dense_1_accuracy_23: 0.9910 - dense_1_accuracy_24: 0.9927 - dense_1_accuracy_25: 0.9918 - dense_1_accuracy_26: 0.9931 - dense_1_accuracy_27: 0.9936 - dense_1_accuracy_28: 0.9944 - dense_1_accuracy_29: 0.9961 - dense_1_accuracy_30: 0.9970 - dense_1_accuracy_31: 0.9966 - dense_1_accuracy_32: 0.9974 - dense_1_accuracy_33: 0.9979 - dense_1_accuracy_34: 0.9987 - dense_1_accuracy_35: 0.9991 - dense_1_accuracy_36: 1.0000 - dense_1_accuracy_37: 1.0000 - dense_1_accuracy_38: 1.0000\n",
      "Epoch 18/200\n",
      "2329/2329 [==============================] - 2s 1ms/step - loss: 23.6252 - dense_1_loss: 4.8399e-04 - dense_1_accuracy: 0.1224 - dense_1_accuracy_1: 0.2641 - dense_1_accuracy_2: 0.2413 - dense_1_accuracy_3: 0.2525 - dense_1_accuracy_4: 0.2331 - dense_1_accuracy_5: 0.2907 - dense_1_accuracy_6: 0.3912 - dense_1_accuracy_7: 0.5088 - dense_1_accuracy_8: 0.6402 - dense_1_accuracy_9: 0.7488 - dense_1_accuracy_10: 0.8244 - dense_1_accuracy_11: 0.8669 - dense_1_accuracy_12: 0.9081 - dense_1_accuracy_13: 0.9219 - dense_1_accuracy_14: 0.9450 - dense_1_accuracy_15: 0.9511 - dense_1_accuracy_16: 0.9661 - dense_1_accuracy_17: 0.9734 - dense_1_accuracy_18: 0.9764 - dense_1_accuracy_19: 0.9772 - dense_1_accuracy_20: 0.9815 - dense_1_accuracy_21: 0.9888 - dense_1_accuracy_22: 0.9901 - dense_1_accuracy_23: 0.9910 - dense_1_accuracy_24: 0.9931 - dense_1_accuracy_25: 0.9914 - dense_1_accuracy_26: 0.9936 - dense_1_accuracy_27: 0.9936 - dense_1_accuracy_28: 0.9944 - dense_1_accuracy_29: 0.9961 - dense_1_accuracy_30: 0.9966 - dense_1_accuracy_31: 0.9966 - dense_1_accuracy_32: 0.9974 - dense_1_accuracy_33: 0.9979 - dense_1_accuracy_34: 0.9991 - dense_1_accuracy_35: 0.9991 - dense_1_accuracy_36: 1.0000 - dense_1_accuracy_37: 1.0000 - dense_1_accuracy_38: 1.0000\n",
      "Epoch 19/200\n"
     ]
    },
    {
     "name": "stdout",
     "output_type": "stream",
     "text": [
      "2329/2329 [==============================] - 2s 1ms/step - loss: 23.5493 - dense_1_loss: 5.3844e-04 - dense_1_accuracy: 0.1224 - dense_1_accuracy_1: 0.2684 - dense_1_accuracy_2: 0.2456 - dense_1_accuracy_3: 0.2482 - dense_1_accuracy_4: 0.2417 - dense_1_accuracy_5: 0.2958 - dense_1_accuracy_6: 0.3912 - dense_1_accuracy_7: 0.5118 - dense_1_accuracy_8: 0.6462 - dense_1_accuracy_9: 0.7471 - dense_1_accuracy_10: 0.8252 - dense_1_accuracy_11: 0.8690 - dense_1_accuracy_12: 0.9064 - dense_1_accuracy_13: 0.9227 - dense_1_accuracy_14: 0.9476 - dense_1_accuracy_15: 0.9506 - dense_1_accuracy_16: 0.9657 - dense_1_accuracy_17: 0.9725 - dense_1_accuracy_18: 0.9785 - dense_1_accuracy_19: 0.9772 - dense_1_accuracy_20: 0.9828 - dense_1_accuracy_21: 0.9888 - dense_1_accuracy_22: 0.9897 - dense_1_accuracy_23: 0.9910 - dense_1_accuracy_24: 0.9931 - dense_1_accuracy_25: 0.9918 - dense_1_accuracy_26: 0.9936 - dense_1_accuracy_27: 0.9931 - dense_1_accuracy_28: 0.9944 - dense_1_accuracy_29: 0.9966 - dense_1_accuracy_30: 0.9970 - dense_1_accuracy_31: 0.9970 - dense_1_accuracy_32: 0.9979 - dense_1_accuracy_33: 0.9979 - dense_1_accuracy_34: 0.9991 - dense_1_accuracy_35: 0.9991 - dense_1_accuracy_36: 1.0000 - dense_1_accuracy_37: 0.9996 - dense_1_accuracy_38: 1.0000\n",
      "Epoch 20/200\n",
      "2329/2329 [==============================] - 2s 1ms/step - loss: 23.5035 - dense_1_loss: 5.5889e-04 - dense_1_accuracy: 0.1224 - dense_1_accuracy_1: 0.2692 - dense_1_accuracy_2: 0.2469 - dense_1_accuracy_3: 0.2499 - dense_1_accuracy_4: 0.2426 - dense_1_accuracy_5: 0.3018 - dense_1_accuracy_6: 0.3916 - dense_1_accuracy_7: 0.5152 - dense_1_accuracy_8: 0.6462 - dense_1_accuracy_9: 0.7480 - dense_1_accuracy_10: 0.8252 - dense_1_accuracy_11: 0.8703 - dense_1_accuracy_12: 0.9077 - dense_1_accuracy_13: 0.9244 - dense_1_accuracy_14: 0.9450 - dense_1_accuracy_15: 0.9515 - dense_1_accuracy_16: 0.9674 - dense_1_accuracy_17: 0.9734 - dense_1_accuracy_18: 0.9772 - dense_1_accuracy_19: 0.9777 - dense_1_accuracy_20: 0.9828 - dense_1_accuracy_21: 0.9884 - dense_1_accuracy_22: 0.9901 - dense_1_accuracy_23: 0.9914 - dense_1_accuracy_24: 0.9931 - dense_1_accuracy_25: 0.9918 - dense_1_accuracy_26: 0.9936 - dense_1_accuracy_27: 0.9931 - dense_1_accuracy_28: 0.9948 - dense_1_accuracy_29: 0.9966 - dense_1_accuracy_30: 0.9966 - dense_1_accuracy_31: 0.9970 - dense_1_accuracy_32: 0.9974 - dense_1_accuracy_33: 0.9979 - dense_1_accuracy_34: 0.9987 - dense_1_accuracy_35: 0.9996 - dense_1_accuracy_36: 1.0000 - dense_1_accuracy_37: 1.0000 - dense_1_accuracy_38: 1.0000\n",
      "Epoch 21/200\n",
      "2329/2329 [==============================] - 2s 1ms/step - loss: 23.4463 - dense_1_loss: 5.0338e-04 - dense_1_accuracy: 0.1224 - dense_1_accuracy_1: 0.2722 - dense_1_accuracy_2: 0.2482 - dense_1_accuracy_3: 0.2589 - dense_1_accuracy_4: 0.2422 - dense_1_accuracy_5: 0.2903 - dense_1_accuracy_6: 0.3950 - dense_1_accuracy_7: 0.5170 - dense_1_accuracy_8: 0.6514 - dense_1_accuracy_9: 0.7514 - dense_1_accuracy_10: 0.8257 - dense_1_accuracy_11: 0.8699 - dense_1_accuracy_12: 0.9090 - dense_1_accuracy_13: 0.9240 - dense_1_accuracy_14: 0.9459 - dense_1_accuracy_15: 0.9506 - dense_1_accuracy_16: 0.9657 - dense_1_accuracy_17: 0.9734 - dense_1_accuracy_18: 0.9777 - dense_1_accuracy_19: 0.9777 - dense_1_accuracy_20: 0.9828 - dense_1_accuracy_21: 0.9884 - dense_1_accuracy_22: 0.9884 - dense_1_accuracy_23: 0.9910 - dense_1_accuracy_24: 0.9927 - dense_1_accuracy_25: 0.9918 - dense_1_accuracy_26: 0.9948 - dense_1_accuracy_27: 0.9931 - dense_1_accuracy_28: 0.9944 - dense_1_accuracy_29: 0.9961 - dense_1_accuracy_30: 0.9966 - dense_1_accuracy_31: 0.9966 - dense_1_accuracy_32: 0.9979 - dense_1_accuracy_33: 0.9979 - dense_1_accuracy_34: 0.9987 - dense_1_accuracy_35: 0.9996 - dense_1_accuracy_36: 1.0000 - dense_1_accuracy_37: 0.9996 - dense_1_accuracy_38: 1.0000\n",
      "Epoch 22/200\n",
      "2329/2329 [==============================] - 2s 999us/step - loss: 23.3978 - dense_1_loss: 4.7432e-04 - dense_1_accuracy: 0.1224 - dense_1_accuracy_1: 0.2645 - dense_1_accuracy_2: 0.2486 - dense_1_accuracy_3: 0.2568 - dense_1_accuracy_4: 0.2413 - dense_1_accuracy_5: 0.2941 - dense_1_accuracy_6: 0.3950 - dense_1_accuracy_7: 0.5144 - dense_1_accuracy_8: 0.6471 - dense_1_accuracy_9: 0.7480 - dense_1_accuracy_10: 0.8291 - dense_1_accuracy_11: 0.8682 - dense_1_accuracy_12: 0.9107 - dense_1_accuracy_13: 0.9240 - dense_1_accuracy_14: 0.9455 - dense_1_accuracy_15: 0.9532 - dense_1_accuracy_16: 0.9665 - dense_1_accuracy_17: 0.9738 - dense_1_accuracy_18: 0.9785 - dense_1_accuracy_19: 0.9785 - dense_1_accuracy_20: 0.9845 - dense_1_accuracy_21: 0.9893 - dense_1_accuracy_22: 0.9901 - dense_1_accuracy_23: 0.9910 - dense_1_accuracy_24: 0.9931 - dense_1_accuracy_25: 0.9914 - dense_1_accuracy_26: 0.9936 - dense_1_accuracy_27: 0.9927 - dense_1_accuracy_28: 0.9944 - dense_1_accuracy_29: 0.9966 - dense_1_accuracy_30: 0.9966 - dense_1_accuracy_31: 0.9970 - dense_1_accuracy_32: 0.9979 - dense_1_accuracy_33: 0.9979 - dense_1_accuracy_34: 0.9991 - dense_1_accuracy_35: 0.9996 - dense_1_accuracy_36: 1.0000 - dense_1_accuracy_37: 1.0000 - dense_1_accuracy_38: 1.0000\n",
      "Epoch 23/200\n",
      "2329/2329 [==============================] - 2s 1ms/step - loss: 23.3460 - dense_1_loss: 5.8835e-04 - dense_1_accuracy: 0.1224 - dense_1_accuracy_1: 0.2701 - dense_1_accuracy_2: 0.2529 - dense_1_accuracy_3: 0.2546 - dense_1_accuracy_4: 0.2495 - dense_1_accuracy_5: 0.2941 - dense_1_accuracy_6: 0.3985 - dense_1_accuracy_7: 0.5144 - dense_1_accuracy_8: 0.6509 - dense_1_accuracy_9: 0.7527 - dense_1_accuracy_10: 0.8291 - dense_1_accuracy_11: 0.8729 - dense_1_accuracy_12: 0.9090 - dense_1_accuracy_13: 0.9236 - dense_1_accuracy_14: 0.9459 - dense_1_accuracy_15: 0.9519 - dense_1_accuracy_16: 0.9674 - dense_1_accuracy_17: 0.9764 - dense_1_accuracy_18: 0.9785 - dense_1_accuracy_19: 0.9785 - dense_1_accuracy_20: 0.9833 - dense_1_accuracy_21: 0.9888 - dense_1_accuracy_22: 0.9888 - dense_1_accuracy_23: 0.9914 - dense_1_accuracy_24: 0.9931 - dense_1_accuracy_25: 0.9914 - dense_1_accuracy_26: 0.9931 - dense_1_accuracy_27: 0.9927 - dense_1_accuracy_28: 0.9944 - dense_1_accuracy_29: 0.9966 - dense_1_accuracy_30: 0.9966 - dense_1_accuracy_31: 0.9970 - dense_1_accuracy_32: 0.9979 - dense_1_accuracy_33: 0.9979 - dense_1_accuracy_34: 0.9991 - dense_1_accuracy_35: 0.9996 - dense_1_accuracy_36: 1.0000 - dense_1_accuracy_37: 0.9996 - dense_1_accuracy_38: 1.0000\n",
      "Epoch 24/200\n",
      "2329/2329 [==============================] - 2s 1ms/step - loss: 23.3046 - dense_1_loss: 5.8380e-04 - dense_1_accuracy: 0.1224 - dense_1_accuracy_1: 0.2701 - dense_1_accuracy_2: 0.2460 - dense_1_accuracy_3: 0.2645 - dense_1_accuracy_4: 0.2477 - dense_1_accuracy_5: 0.2993 - dense_1_accuracy_6: 0.3997 - dense_1_accuracy_7: 0.5191 - dense_1_accuracy_8: 0.6522 - dense_1_accuracy_9: 0.7531 - dense_1_accuracy_10: 0.8278 - dense_1_accuracy_11: 0.8708 - dense_1_accuracy_12: 0.9111 - dense_1_accuracy_13: 0.9227 - dense_1_accuracy_14: 0.9472 - dense_1_accuracy_15: 0.9519 - dense_1_accuracy_16: 0.9674 - dense_1_accuracy_17: 0.9738 - dense_1_accuracy_18: 0.9790 - dense_1_accuracy_19: 0.9781 - dense_1_accuracy_20: 0.9841 - dense_1_accuracy_21: 0.9893 - dense_1_accuracy_22: 0.9906 - dense_1_accuracy_23: 0.9914 - dense_1_accuracy_24: 0.9936 - dense_1_accuracy_25: 0.9914 - dense_1_accuracy_26: 0.9940 - dense_1_accuracy_27: 0.9923 - dense_1_accuracy_28: 0.9944 - dense_1_accuracy_29: 0.9961 - dense_1_accuracy_30: 0.9970 - dense_1_accuracy_31: 0.9970 - dense_1_accuracy_32: 0.9979 - dense_1_accuracy_33: 0.9979 - dense_1_accuracy_34: 0.9996 - dense_1_accuracy_35: 0.9996 - dense_1_accuracy_36: 1.0000 - dense_1_accuracy_37: 0.9996 - dense_1_accuracy_38: 1.0000\n",
      "Epoch 25/200\n"
     ]
    },
    {
     "name": "stdout",
     "output_type": "stream",
     "text": [
      "2329/2329 [==============================] - 2s 1ms/step - loss: 23.2581 - dense_1_loss: 6.0577e-04 - dense_1_accuracy: 0.1224 - dense_1_accuracy_1: 0.2684 - dense_1_accuracy_2: 0.2555 - dense_1_accuracy_3: 0.2662 - dense_1_accuracy_4: 0.2512 - dense_1_accuracy_5: 0.3023 - dense_1_accuracy_6: 0.4032 - dense_1_accuracy_7: 0.5191 - dense_1_accuracy_8: 0.6539 - dense_1_accuracy_9: 0.7523 - dense_1_accuracy_10: 0.8295 - dense_1_accuracy_11: 0.8720 - dense_1_accuracy_12: 0.9116 - dense_1_accuracy_13: 0.9244 - dense_1_accuracy_14: 0.9476 - dense_1_accuracy_15: 0.9536 - dense_1_accuracy_16: 0.9682 - dense_1_accuracy_17: 0.9755 - dense_1_accuracy_18: 0.9785 - dense_1_accuracy_19: 0.9785 - dense_1_accuracy_20: 0.9841 - dense_1_accuracy_21: 0.9893 - dense_1_accuracy_22: 0.9888 - dense_1_accuracy_23: 0.9910 - dense_1_accuracy_24: 0.9931 - dense_1_accuracy_25: 0.9918 - dense_1_accuracy_26: 0.9940 - dense_1_accuracy_27: 0.9931 - dense_1_accuracy_28: 0.9944 - dense_1_accuracy_29: 0.9966 - dense_1_accuracy_30: 0.9966 - dense_1_accuracy_31: 0.9974 - dense_1_accuracy_32: 0.9979 - dense_1_accuracy_33: 0.9979 - dense_1_accuracy_34: 0.9987 - dense_1_accuracy_35: 0.9996 - dense_1_accuracy_36: 1.0000 - dense_1_accuracy_37: 0.9996 - dense_1_accuracy_38: 1.0000\n",
      "Epoch 26/200\n",
      "2329/2329 [==============================] - 2s 1ms/step - loss: 23.2192 - dense_1_loss: 5.9072e-04 - dense_1_accuracy: 0.1224 - dense_1_accuracy_1: 0.2696 - dense_1_accuracy_2: 0.2546 - dense_1_accuracy_3: 0.2679 - dense_1_accuracy_4: 0.2512 - dense_1_accuracy_5: 0.3040 - dense_1_accuracy_6: 0.4002 - dense_1_accuracy_7: 0.5208 - dense_1_accuracy_8: 0.6535 - dense_1_accuracy_9: 0.7505 - dense_1_accuracy_10: 0.8287 - dense_1_accuracy_11: 0.8716 - dense_1_accuracy_12: 0.9098 - dense_1_accuracy_13: 0.9240 - dense_1_accuracy_14: 0.9493 - dense_1_accuracy_15: 0.9528 - dense_1_accuracy_16: 0.9665 - dense_1_accuracy_17: 0.9742 - dense_1_accuracy_18: 0.9785 - dense_1_accuracy_19: 0.9790 - dense_1_accuracy_20: 0.9837 - dense_1_accuracy_21: 0.9893 - dense_1_accuracy_22: 0.9897 - dense_1_accuracy_23: 0.9910 - dense_1_accuracy_24: 0.9931 - dense_1_accuracy_25: 0.9923 - dense_1_accuracy_26: 0.9940 - dense_1_accuracy_27: 0.9936 - dense_1_accuracy_28: 0.9944 - dense_1_accuracy_29: 0.9966 - dense_1_accuracy_30: 0.9966 - dense_1_accuracy_31: 0.9979 - dense_1_accuracy_32: 0.9979 - dense_1_accuracy_33: 0.9979 - dense_1_accuracy_34: 0.9991 - dense_1_accuracy_35: 0.9996 - dense_1_accuracy_36: 1.0000 - dense_1_accuracy_37: 0.9996 - dense_1_accuracy_38: 1.0000\n",
      "Epoch 27/200\n",
      "2329/2329 [==============================] - 2s 1ms/step - loss: 23.1658 - dense_1_loss: 5.6832e-04 - dense_1_accuracy: 0.1224 - dense_1_accuracy_1: 0.2684 - dense_1_accuracy_2: 0.2563 - dense_1_accuracy_3: 0.2739 - dense_1_accuracy_4: 0.2512 - dense_1_accuracy_5: 0.3023 - dense_1_accuracy_6: 0.4019 - dense_1_accuracy_7: 0.5234 - dense_1_accuracy_8: 0.6548 - dense_1_accuracy_9: 0.7527 - dense_1_accuracy_10: 0.8274 - dense_1_accuracy_11: 0.8746 - dense_1_accuracy_12: 0.9120 - dense_1_accuracy_13: 0.9257 - dense_1_accuracy_14: 0.9493 - dense_1_accuracy_15: 0.9541 - dense_1_accuracy_16: 0.9682 - dense_1_accuracy_17: 0.9747 - dense_1_accuracy_18: 0.9790 - dense_1_accuracy_19: 0.9781 - dense_1_accuracy_20: 0.9837 - dense_1_accuracy_21: 0.9893 - dense_1_accuracy_22: 0.9901 - dense_1_accuracy_23: 0.9910 - dense_1_accuracy_24: 0.9927 - dense_1_accuracy_25: 0.9927 - dense_1_accuracy_26: 0.9936 - dense_1_accuracy_27: 0.9927 - dense_1_accuracy_28: 0.9948 - dense_1_accuracy_29: 0.9966 - dense_1_accuracy_30: 0.9970 - dense_1_accuracy_31: 0.9974 - dense_1_accuracy_32: 0.9979 - dense_1_accuracy_33: 0.9979 - dense_1_accuracy_34: 0.9996 - dense_1_accuracy_35: 0.9996 - dense_1_accuracy_36: 1.0000 - dense_1_accuracy_37: 0.9996 - dense_1_accuracy_38: 1.0000\n",
      "Epoch 28/200\n",
      "2329/2329 [==============================] - 2s 1ms/step - loss: 23.1277 - dense_1_loss: 6.3481e-04 - dense_1_accuracy: 0.1224 - dense_1_accuracy_1: 0.2692 - dense_1_accuracy_2: 0.2546 - dense_1_accuracy_3: 0.2705 - dense_1_accuracy_4: 0.2516 - dense_1_accuracy_5: 0.3018 - dense_1_accuracy_6: 0.3997 - dense_1_accuracy_7: 0.5225 - dense_1_accuracy_8: 0.6501 - dense_1_accuracy_9: 0.7535 - dense_1_accuracy_10: 0.8300 - dense_1_accuracy_11: 0.8703 - dense_1_accuracy_12: 0.9111 - dense_1_accuracy_13: 0.9257 - dense_1_accuracy_14: 0.9502 - dense_1_accuracy_15: 0.9536 - dense_1_accuracy_16: 0.9687 - dense_1_accuracy_17: 0.9764 - dense_1_accuracy_18: 0.9790 - dense_1_accuracy_19: 0.9785 - dense_1_accuracy_20: 0.9837 - dense_1_accuracy_21: 0.9893 - dense_1_accuracy_22: 0.9901 - dense_1_accuracy_23: 0.9910 - dense_1_accuracy_24: 0.9927 - dense_1_accuracy_25: 0.9923 - dense_1_accuracy_26: 0.9944 - dense_1_accuracy_27: 0.9936 - dense_1_accuracy_28: 0.9944 - dense_1_accuracy_29: 0.9961 - dense_1_accuracy_30: 0.9966 - dense_1_accuracy_31: 0.9979 - dense_1_accuracy_32: 0.9979 - dense_1_accuracy_33: 0.9979 - dense_1_accuracy_34: 0.9987 - dense_1_accuracy_35: 0.9996 - dense_1_accuracy_36: 1.0000 - dense_1_accuracy_37: 0.9996 - dense_1_accuracy_38: 1.0000\n",
      "Epoch 29/200\n",
      "2329/2329 [==============================] - 2s 1ms/step - loss: 23.0933 - dense_1_loss: 6.1359e-04 - dense_1_accuracy: 0.1224 - dense_1_accuracy_1: 0.2684 - dense_1_accuracy_2: 0.2555 - dense_1_accuracy_3: 0.2714 - dense_1_accuracy_4: 0.2525 - dense_1_accuracy_5: 0.3044 - dense_1_accuracy_6: 0.4032 - dense_1_accuracy_7: 0.5204 - dense_1_accuracy_8: 0.6548 - dense_1_accuracy_9: 0.7557 - dense_1_accuracy_10: 0.8313 - dense_1_accuracy_11: 0.8738 - dense_1_accuracy_12: 0.9120 - dense_1_accuracy_13: 0.9249 - dense_1_accuracy_14: 0.9493 - dense_1_accuracy_15: 0.9553 - dense_1_accuracy_16: 0.9687 - dense_1_accuracy_17: 0.9764 - dense_1_accuracy_18: 0.9785 - dense_1_accuracy_19: 0.9781 - dense_1_accuracy_20: 0.9833 - dense_1_accuracy_21: 0.9888 - dense_1_accuracy_22: 0.9901 - dense_1_accuracy_23: 0.9910 - dense_1_accuracy_24: 0.9927 - dense_1_accuracy_25: 0.9923 - dense_1_accuracy_26: 0.9936 - dense_1_accuracy_27: 0.9940 - dense_1_accuracy_28: 0.9948 - dense_1_accuracy_29: 0.9970 - dense_1_accuracy_30: 0.9966 - dense_1_accuracy_31: 0.9974 - dense_1_accuracy_32: 0.9979 - dense_1_accuracy_33: 0.9979 - dense_1_accuracy_34: 0.9996 - dense_1_accuracy_35: 0.9996 - dense_1_accuracy_36: 1.0000 - dense_1_accuracy_37: 0.9996 - dense_1_accuracy_38: 1.0000\n",
      "Epoch 30/200\n",
      "2329/2329 [==============================] - 2s 996us/step - loss: 23.0530 - dense_1_loss: 5.9362e-04 - dense_1_accuracy: 0.1224 - dense_1_accuracy_1: 0.2684 - dense_1_accuracy_2: 0.2563 - dense_1_accuracy_3: 0.2752 - dense_1_accuracy_4: 0.2538 - dense_1_accuracy_5: 0.3074 - dense_1_accuracy_6: 0.4088 - dense_1_accuracy_7: 0.5251 - dense_1_accuracy_8: 0.6552 - dense_1_accuracy_9: 0.7544 - dense_1_accuracy_10: 0.8278 - dense_1_accuracy_11: 0.8751 - dense_1_accuracy_12: 0.9107 - dense_1_accuracy_13: 0.9270 - dense_1_accuracy_14: 0.9493 - dense_1_accuracy_15: 0.9553 - dense_1_accuracy_16: 0.9699 - dense_1_accuracy_17: 0.9764 - dense_1_accuracy_18: 0.9790 - dense_1_accuracy_19: 0.9798 - dense_1_accuracy_20: 0.9837 - dense_1_accuracy_21: 0.9893 - dense_1_accuracy_22: 0.9906 - dense_1_accuracy_23: 0.9914 - dense_1_accuracy_24: 0.9931 - dense_1_accuracy_25: 0.9918 - dense_1_accuracy_26: 0.9940 - dense_1_accuracy_27: 0.9936 - dense_1_accuracy_28: 0.9944 - dense_1_accuracy_29: 0.9970 - dense_1_accuracy_30: 0.9970 - dense_1_accuracy_31: 0.9974 - dense_1_accuracy_32: 0.9979 - dense_1_accuracy_33: 0.9979 - dense_1_accuracy_34: 0.9991 - dense_1_accuracy_35: 0.9996 - dense_1_accuracy_36: 1.0000 - dense_1_accuracy_37: 0.9996 - dense_1_accuracy_38: 1.0000\n",
      "Epoch 31/200\n"
     ]
    },
    {
     "name": "stdout",
     "output_type": "stream",
     "text": [
      "2329/2329 [==============================] - 2s 1ms/step - loss: 23.0169 - dense_1_loss: 5.3354e-04 - dense_1_accuracy: 0.1224 - dense_1_accuracy_1: 0.2696 - dense_1_accuracy_2: 0.2538 - dense_1_accuracy_3: 0.2761 - dense_1_accuracy_4: 0.2546 - dense_1_accuracy_5: 0.3113 - dense_1_accuracy_6: 0.4075 - dense_1_accuracy_7: 0.5303 - dense_1_accuracy_8: 0.6535 - dense_1_accuracy_9: 0.7557 - dense_1_accuracy_10: 0.8304 - dense_1_accuracy_11: 0.8738 - dense_1_accuracy_12: 0.9116 - dense_1_accuracy_13: 0.9274 - dense_1_accuracy_14: 0.9498 - dense_1_accuracy_15: 0.9558 - dense_1_accuracy_16: 0.9682 - dense_1_accuracy_17: 0.9768 - dense_1_accuracy_18: 0.9785 - dense_1_accuracy_19: 0.9790 - dense_1_accuracy_20: 0.9845 - dense_1_accuracy_21: 0.9897 - dense_1_accuracy_22: 0.9901 - dense_1_accuracy_23: 0.9914 - dense_1_accuracy_24: 0.9927 - dense_1_accuracy_25: 0.9918 - dense_1_accuracy_26: 0.9940 - dense_1_accuracy_27: 0.9936 - dense_1_accuracy_28: 0.9948 - dense_1_accuracy_29: 0.9961 - dense_1_accuracy_30: 0.9966 - dense_1_accuracy_31: 0.9970 - dense_1_accuracy_32: 0.9979 - dense_1_accuracy_33: 0.9979 - dense_1_accuracy_34: 0.9991 - dense_1_accuracy_35: 0.9996 - dense_1_accuracy_36: 1.0000 - dense_1_accuracy_37: 0.9996 - dense_1_accuracy_38: 1.0000\n",
      "Epoch 32/200\n",
      "2329/2329 [==============================] - 2s 1ms/step - loss: 22.9875 - dense_1_loss: 6.2475e-04 - dense_1_accuracy: 0.1224 - dense_1_accuracy_1: 0.2675 - dense_1_accuracy_2: 0.2568 - dense_1_accuracy_3: 0.2791 - dense_1_accuracy_4: 0.2555 - dense_1_accuracy_5: 0.3049 - dense_1_accuracy_6: 0.4049 - dense_1_accuracy_7: 0.5260 - dense_1_accuracy_8: 0.6539 - dense_1_accuracy_9: 0.7557 - dense_1_accuracy_10: 0.8321 - dense_1_accuracy_11: 0.8725 - dense_1_accuracy_12: 0.9128 - dense_1_accuracy_13: 0.9274 - dense_1_accuracy_14: 0.9489 - dense_1_accuracy_15: 0.9549 - dense_1_accuracy_16: 0.9691 - dense_1_accuracy_17: 0.9768 - dense_1_accuracy_18: 0.9794 - dense_1_accuracy_19: 0.9802 - dense_1_accuracy_20: 0.9841 - dense_1_accuracy_21: 0.9893 - dense_1_accuracy_22: 0.9901 - dense_1_accuracy_23: 0.9914 - dense_1_accuracy_24: 0.9936 - dense_1_accuracy_25: 0.9923 - dense_1_accuracy_26: 0.9944 - dense_1_accuracy_27: 0.9940 - dense_1_accuracy_28: 0.9953 - dense_1_accuracy_29: 0.9961 - dense_1_accuracy_30: 0.9970 - dense_1_accuracy_31: 0.9970 - dense_1_accuracy_32: 0.9979 - dense_1_accuracy_33: 0.9979 - dense_1_accuracy_34: 0.9991 - dense_1_accuracy_35: 0.9996 - dense_1_accuracy_36: 1.0000 - dense_1_accuracy_37: 0.9996 - dense_1_accuracy_38: 1.0000\n",
      "Epoch 33/200\n",
      "2329/2329 [==============================] - 2s 1ms/step - loss: 22.9493 - dense_1_loss: 6.0332e-04 - dense_1_accuracy: 0.1224 - dense_1_accuracy_1: 0.2701 - dense_1_accuracy_2: 0.2572 - dense_1_accuracy_3: 0.2782 - dense_1_accuracy_4: 0.2563 - dense_1_accuracy_5: 0.3096 - dense_1_accuracy_6: 0.4100 - dense_1_accuracy_7: 0.5260 - dense_1_accuracy_8: 0.6539 - dense_1_accuracy_9: 0.7553 - dense_1_accuracy_10: 0.8313 - dense_1_accuracy_11: 0.8751 - dense_1_accuracy_12: 0.9098 - dense_1_accuracy_13: 0.9274 - dense_1_accuracy_14: 0.9498 - dense_1_accuracy_15: 0.9553 - dense_1_accuracy_16: 0.9682 - dense_1_accuracy_17: 0.9772 - dense_1_accuracy_18: 0.9802 - dense_1_accuracy_19: 0.9790 - dense_1_accuracy_20: 0.9841 - dense_1_accuracy_21: 0.9893 - dense_1_accuracy_22: 0.9901 - dense_1_accuracy_23: 0.9910 - dense_1_accuracy_24: 0.9931 - dense_1_accuracy_25: 0.9927 - dense_1_accuracy_26: 0.9944 - dense_1_accuracy_27: 0.9931 - dense_1_accuracy_28: 0.9953 - dense_1_accuracy_29: 0.9970 - dense_1_accuracy_30: 0.9970 - dense_1_accuracy_31: 0.9979 - dense_1_accuracy_32: 0.9979 - dense_1_accuracy_33: 0.9979 - dense_1_accuracy_34: 0.9991 - dense_1_accuracy_35: 0.9996 - dense_1_accuracy_36: 1.0000 - dense_1_accuracy_37: 0.9996 - dense_1_accuracy_38: 1.0000\n",
      "Epoch 34/200\n",
      "2329/2329 [==============================] - 2s 1ms/step - loss: 22.9150 - dense_1_loss: 5.6688e-04 - dense_1_accuracy: 0.1224 - dense_1_accuracy_1: 0.2709 - dense_1_accuracy_2: 0.2576 - dense_1_accuracy_3: 0.2821 - dense_1_accuracy_4: 0.2550 - dense_1_accuracy_5: 0.3070 - dense_1_accuracy_6: 0.4105 - dense_1_accuracy_7: 0.5260 - dense_1_accuracy_8: 0.6565 - dense_1_accuracy_9: 0.7600 - dense_1_accuracy_10: 0.8317 - dense_1_accuracy_11: 0.8720 - dense_1_accuracy_12: 0.9120 - dense_1_accuracy_13: 0.9279 - dense_1_accuracy_14: 0.9515 - dense_1_accuracy_15: 0.9566 - dense_1_accuracy_16: 0.9695 - dense_1_accuracy_17: 0.9772 - dense_1_accuracy_18: 0.9811 - dense_1_accuracy_19: 0.9794 - dense_1_accuracy_20: 0.9850 - dense_1_accuracy_21: 0.9893 - dense_1_accuracy_22: 0.9910 - dense_1_accuracy_23: 0.9914 - dense_1_accuracy_24: 0.9931 - dense_1_accuracy_25: 0.9927 - dense_1_accuracy_26: 0.9940 - dense_1_accuracy_27: 0.9936 - dense_1_accuracy_28: 0.9953 - dense_1_accuracy_29: 0.9970 - dense_1_accuracy_30: 0.9970 - dense_1_accuracy_31: 0.9979 - dense_1_accuracy_32: 0.9979 - dense_1_accuracy_33: 0.9979 - dense_1_accuracy_34: 0.9991 - dense_1_accuracy_35: 0.9996 - dense_1_accuracy_36: 1.0000 - dense_1_accuracy_37: 0.9996 - dense_1_accuracy_38: 1.0000\n",
      "Epoch 35/200\n",
      "2329/2329 [==============================] - 2s 1ms/step - loss: 22.8871 - dense_1_loss: 6.2208e-04 - dense_1_accuracy: 0.1224 - dense_1_accuracy_1: 0.2692 - dense_1_accuracy_2: 0.2598 - dense_1_accuracy_3: 0.2799 - dense_1_accuracy_4: 0.2593 - dense_1_accuracy_5: 0.3117 - dense_1_accuracy_6: 0.4143 - dense_1_accuracy_7: 0.5281 - dense_1_accuracy_8: 0.6574 - dense_1_accuracy_9: 0.7591 - dense_1_accuracy_10: 0.8338 - dense_1_accuracy_11: 0.8725 - dense_1_accuracy_12: 0.9116 - dense_1_accuracy_13: 0.9283 - dense_1_accuracy_14: 0.9511 - dense_1_accuracy_15: 0.9562 - dense_1_accuracy_16: 0.9695 - dense_1_accuracy_17: 0.9772 - dense_1_accuracy_18: 0.9798 - dense_1_accuracy_19: 0.9798 - dense_1_accuracy_20: 0.9845 - dense_1_accuracy_21: 0.9893 - dense_1_accuracy_22: 0.9906 - dense_1_accuracy_23: 0.9914 - dense_1_accuracy_24: 0.9936 - dense_1_accuracy_25: 0.9927 - dense_1_accuracy_26: 0.9940 - dense_1_accuracy_27: 0.9936 - dense_1_accuracy_28: 0.9953 - dense_1_accuracy_29: 0.9974 - dense_1_accuracy_30: 0.9970 - dense_1_accuracy_31: 0.9979 - dense_1_accuracy_32: 0.9979 - dense_1_accuracy_33: 0.9979 - dense_1_accuracy_34: 0.9991 - dense_1_accuracy_35: 0.9996 - dense_1_accuracy_36: 1.0000 - dense_1_accuracy_37: 0.9996 - dense_1_accuracy_38: 1.0000\n",
      "Epoch 36/200\n",
      "2329/2329 [==============================] - 2s 1ms/step - loss: 22.8566 - dense_1_loss: 5.8454e-04 - dense_1_accuracy: 0.1224 - dense_1_accuracy_1: 0.2675 - dense_1_accuracy_2: 0.2628 - dense_1_accuracy_3: 0.2817 - dense_1_accuracy_4: 0.2542 - dense_1_accuracy_5: 0.3117 - dense_1_accuracy_6: 0.4105 - dense_1_accuracy_7: 0.5307 - dense_1_accuracy_8: 0.6595 - dense_1_accuracy_9: 0.7608 - dense_1_accuracy_10: 0.8325 - dense_1_accuracy_11: 0.8725 - dense_1_accuracy_12: 0.9133 - dense_1_accuracy_13: 0.9279 - dense_1_accuracy_14: 0.9519 - dense_1_accuracy_15: 0.9562 - dense_1_accuracy_16: 0.9704 - dense_1_accuracy_17: 0.9777 - dense_1_accuracy_18: 0.9794 - dense_1_accuracy_19: 0.9790 - dense_1_accuracy_20: 0.9854 - dense_1_accuracy_21: 0.9897 - dense_1_accuracy_22: 0.9910 - dense_1_accuracy_23: 0.9914 - dense_1_accuracy_24: 0.9931 - dense_1_accuracy_25: 0.9918 - dense_1_accuracy_26: 0.9944 - dense_1_accuracy_27: 0.9931 - dense_1_accuracy_28: 0.9948 - dense_1_accuracy_29: 0.9970 - dense_1_accuracy_30: 0.9966 - dense_1_accuracy_31: 0.9970 - dense_1_accuracy_32: 0.9979 - dense_1_accuracy_33: 0.9979 - dense_1_accuracy_34: 0.9991 - dense_1_accuracy_35: 0.9996 - dense_1_accuracy_36: 1.0000 - dense_1_accuracy_37: 0.9996 - dense_1_accuracy_38: 1.0000\n",
      "Epoch 37/200\n"
     ]
    },
    {
     "name": "stdout",
     "output_type": "stream",
     "text": [
      "2329/2329 [==============================] - 2s 1ms/step - loss: 22.8221 - dense_1_loss: 6.0342e-04 - dense_1_accuracy: 0.1224 - dense_1_accuracy_1: 0.2688 - dense_1_accuracy_2: 0.2632 - dense_1_accuracy_3: 0.2817 - dense_1_accuracy_4: 0.2576 - dense_1_accuracy_5: 0.3122 - dense_1_accuracy_6: 0.4161 - dense_1_accuracy_7: 0.5320 - dense_1_accuracy_8: 0.6608 - dense_1_accuracy_9: 0.7591 - dense_1_accuracy_10: 0.8356 - dense_1_accuracy_11: 0.8729 - dense_1_accuracy_12: 0.9133 - dense_1_accuracy_13: 0.9283 - dense_1_accuracy_14: 0.9506 - dense_1_accuracy_15: 0.9571 - dense_1_accuracy_16: 0.9704 - dense_1_accuracy_17: 0.9772 - dense_1_accuracy_18: 0.9802 - dense_1_accuracy_19: 0.9794 - dense_1_accuracy_20: 0.9845 - dense_1_accuracy_21: 0.9893 - dense_1_accuracy_22: 0.9901 - dense_1_accuracy_23: 0.9918 - dense_1_accuracy_24: 0.9931 - dense_1_accuracy_25: 0.9931 - dense_1_accuracy_26: 0.9940 - dense_1_accuracy_27: 0.9936 - dense_1_accuracy_28: 0.9953 - dense_1_accuracy_29: 0.9970 - dense_1_accuracy_30: 0.9970 - dense_1_accuracy_31: 0.9979 - dense_1_accuracy_32: 0.9979 - dense_1_accuracy_33: 0.9979 - dense_1_accuracy_34: 0.9991 - dense_1_accuracy_35: 0.9996 - dense_1_accuracy_36: 1.0000 - dense_1_accuracy_37: 0.9996 - dense_1_accuracy_38: 1.0000\n",
      "Epoch 38/200\n",
      "2329/2329 [==============================] - 2s 1ms/step - loss: 22.8052 - dense_1_loss: 6.9597e-04 - dense_1_accuracy: 0.1224 - dense_1_accuracy_1: 0.2675 - dense_1_accuracy_2: 0.2684 - dense_1_accuracy_3: 0.2804 - dense_1_accuracy_4: 0.2606 - dense_1_accuracy_5: 0.3091 - dense_1_accuracy_6: 0.4148 - dense_1_accuracy_7: 0.5286 - dense_1_accuracy_8: 0.6582 - dense_1_accuracy_9: 0.7617 - dense_1_accuracy_10: 0.8321 - dense_1_accuracy_11: 0.8755 - dense_1_accuracy_12: 0.9146 - dense_1_accuracy_13: 0.9300 - dense_1_accuracy_14: 0.9511 - dense_1_accuracy_15: 0.9566 - dense_1_accuracy_16: 0.9712 - dense_1_accuracy_17: 0.9777 - dense_1_accuracy_18: 0.9802 - dense_1_accuracy_19: 0.9798 - dense_1_accuracy_20: 0.9845 - dense_1_accuracy_21: 0.9901 - dense_1_accuracy_22: 0.9897 - dense_1_accuracy_23: 0.9918 - dense_1_accuracy_24: 0.9936 - dense_1_accuracy_25: 0.9923 - dense_1_accuracy_26: 0.9940 - dense_1_accuracy_27: 0.9940 - dense_1_accuracy_28: 0.9953 - dense_1_accuracy_29: 0.9966 - dense_1_accuracy_30: 0.9970 - dense_1_accuracy_31: 0.9979 - dense_1_accuracy_32: 0.9979 - dense_1_accuracy_33: 0.9979 - dense_1_accuracy_34: 0.9991 - dense_1_accuracy_35: 0.9996 - dense_1_accuracy_36: 1.0000 - dense_1_accuracy_37: 0.9996 - dense_1_accuracy_38: 1.0000\n",
      "Epoch 39/200\n",
      "2329/2329 [==============================] - 2s 1ms/step - loss: 22.7730 - dense_1_loss: 5.3570e-04 - dense_1_accuracy: 0.1224 - dense_1_accuracy_1: 0.2705 - dense_1_accuracy_2: 0.2701 - dense_1_accuracy_3: 0.2834 - dense_1_accuracy_4: 0.2619 - dense_1_accuracy_5: 0.3186 - dense_1_accuracy_6: 0.4139 - dense_1_accuracy_7: 0.5311 - dense_1_accuracy_8: 0.6612 - dense_1_accuracy_9: 0.7634 - dense_1_accuracy_10: 0.8364 - dense_1_accuracy_11: 0.8751 - dense_1_accuracy_12: 0.9128 - dense_1_accuracy_13: 0.9300 - dense_1_accuracy_14: 0.9511 - dense_1_accuracy_15: 0.9566 - dense_1_accuracy_16: 0.9717 - dense_1_accuracy_17: 0.9781 - dense_1_accuracy_18: 0.9802 - dense_1_accuracy_19: 0.9798 - dense_1_accuracy_20: 0.9850 - dense_1_accuracy_21: 0.9897 - dense_1_accuracy_22: 0.9901 - dense_1_accuracy_23: 0.9918 - dense_1_accuracy_24: 0.9940 - dense_1_accuracy_25: 0.9923 - dense_1_accuracy_26: 0.9953 - dense_1_accuracy_27: 0.9936 - dense_1_accuracy_28: 0.9948 - dense_1_accuracy_29: 0.9966 - dense_1_accuracy_30: 0.9970 - dense_1_accuracy_31: 0.9974 - dense_1_accuracy_32: 0.9979 - dense_1_accuracy_33: 0.9979 - dense_1_accuracy_34: 0.9991 - dense_1_accuracy_35: 0.9996 - dense_1_accuracy_36: 1.0000 - dense_1_accuracy_37: 0.9996 - dense_1_accuracy_38: 1.0000\n",
      "Epoch 40/200\n",
      "2329/2329 [==============================] - 2s 1ms/step - loss: 22.7477 - dense_1_loss: 6.5678e-04 - dense_1_accuracy: 0.1224 - dense_1_accuracy_1: 0.2696 - dense_1_accuracy_2: 0.2709 - dense_1_accuracy_3: 0.2847 - dense_1_accuracy_4: 0.2658 - dense_1_accuracy_5: 0.3152 - dense_1_accuracy_6: 0.4169 - dense_1_accuracy_7: 0.5311 - dense_1_accuracy_8: 0.6582 - dense_1_accuracy_9: 0.7634 - dense_1_accuracy_10: 0.8343 - dense_1_accuracy_11: 0.8755 - dense_1_accuracy_12: 0.9128 - dense_1_accuracy_13: 0.9313 - dense_1_accuracy_14: 0.9515 - dense_1_accuracy_15: 0.9566 - dense_1_accuracy_16: 0.9704 - dense_1_accuracy_17: 0.9772 - dense_1_accuracy_18: 0.9802 - dense_1_accuracy_19: 0.9802 - dense_1_accuracy_20: 0.9854 - dense_1_accuracy_21: 0.9897 - dense_1_accuracy_22: 0.9901 - dense_1_accuracy_23: 0.9914 - dense_1_accuracy_24: 0.9936 - dense_1_accuracy_25: 0.9923 - dense_1_accuracy_26: 0.9940 - dense_1_accuracy_27: 0.9936 - dense_1_accuracy_28: 0.9953 - dense_1_accuracy_29: 0.9974 - dense_1_accuracy_30: 0.9970 - dense_1_accuracy_31: 0.9979 - dense_1_accuracy_32: 0.9979 - dense_1_accuracy_33: 0.9979 - dense_1_accuracy_34: 0.9991 - dense_1_accuracy_35: 0.9996 - dense_1_accuracy_36: 1.0000 - dense_1_accuracy_37: 0.9996 - dense_1_accuracy_38: 1.0000\n",
      "Epoch 41/200\n",
      "2329/2329 [==============================] - 2s 1ms/step - loss: 22.7171 - dense_1_loss: 6.6424e-04 - dense_1_accuracy: 0.1224 - dense_1_accuracy_1: 0.2709 - dense_1_accuracy_2: 0.2731 - dense_1_accuracy_3: 0.2825 - dense_1_accuracy_4: 0.2628 - dense_1_accuracy_5: 0.3220 - dense_1_accuracy_6: 0.4139 - dense_1_accuracy_7: 0.5286 - dense_1_accuracy_8: 0.6629 - dense_1_accuracy_9: 0.7638 - dense_1_accuracy_10: 0.8351 - dense_1_accuracy_11: 0.8776 - dense_1_accuracy_12: 0.9128 - dense_1_accuracy_13: 0.9300 - dense_1_accuracy_14: 0.9515 - dense_1_accuracy_15: 0.9575 - dense_1_accuracy_16: 0.9704 - dense_1_accuracy_17: 0.9781 - dense_1_accuracy_18: 0.9811 - dense_1_accuracy_19: 0.9802 - dense_1_accuracy_20: 0.9858 - dense_1_accuracy_21: 0.9897 - dense_1_accuracy_22: 0.9901 - dense_1_accuracy_23: 0.9914 - dense_1_accuracy_24: 0.9931 - dense_1_accuracy_25: 0.9931 - dense_1_accuracy_26: 0.9944 - dense_1_accuracy_27: 0.9936 - dense_1_accuracy_28: 0.9953 - dense_1_accuracy_29: 0.9974 - dense_1_accuracy_30: 0.9974 - dense_1_accuracy_31: 0.9974 - dense_1_accuracy_32: 0.9979 - dense_1_accuracy_33: 0.9979 - dense_1_accuracy_34: 0.9991 - dense_1_accuracy_35: 0.9996 - dense_1_accuracy_36: 1.0000 - dense_1_accuracy_37: 0.9996 - dense_1_accuracy_38: 1.0000\n",
      "Epoch 42/200\n",
      "2329/2329 [==============================] - 2s 1ms/step - loss: 22.6941 - dense_1_loss: 6.0372e-04 - dense_1_accuracy: 0.1224 - dense_1_accuracy_1: 0.2696 - dense_1_accuracy_2: 0.2658 - dense_1_accuracy_3: 0.2821 - dense_1_accuracy_4: 0.2653 - dense_1_accuracy_5: 0.3152 - dense_1_accuracy_6: 0.4191 - dense_1_accuracy_7: 0.5286 - dense_1_accuracy_8: 0.6617 - dense_1_accuracy_9: 0.7638 - dense_1_accuracy_10: 0.8368 - dense_1_accuracy_11: 0.8768 - dense_1_accuracy_12: 0.9133 - dense_1_accuracy_13: 0.9287 - dense_1_accuracy_14: 0.9493 - dense_1_accuracy_15: 0.9571 - dense_1_accuracy_16: 0.9712 - dense_1_accuracy_17: 0.9777 - dense_1_accuracy_18: 0.9807 - dense_1_accuracy_19: 0.9811 - dense_1_accuracy_20: 0.9841 - dense_1_accuracy_21: 0.9897 - dense_1_accuracy_22: 0.9897 - dense_1_accuracy_23: 0.9914 - dense_1_accuracy_24: 0.9931 - dense_1_accuracy_25: 0.9923 - dense_1_accuracy_26: 0.9953 - dense_1_accuracy_27: 0.9940 - dense_1_accuracy_28: 0.9953 - dense_1_accuracy_29: 0.9970 - dense_1_accuracy_30: 0.9970 - dense_1_accuracy_31: 0.9979 - dense_1_accuracy_32: 0.9979 - dense_1_accuracy_33: 0.9979 - dense_1_accuracy_34: 0.9991 - dense_1_accuracy_35: 0.9996 - dense_1_accuracy_36: 1.0000 - dense_1_accuracy_37: 0.9996 - dense_1_accuracy_38: 1.0000\n",
      "Epoch 43/200\n"
     ]
    },
    {
     "name": "stdout",
     "output_type": "stream",
     "text": [
      "2329/2329 [==============================] - 2s 1ms/step - loss: 22.6707 - dense_1_loss: 6.3590e-04 - dense_1_accuracy: 0.1224 - dense_1_accuracy_1: 0.2679 - dense_1_accuracy_2: 0.2718 - dense_1_accuracy_3: 0.2830 - dense_1_accuracy_4: 0.2684 - dense_1_accuracy_5: 0.3177 - dense_1_accuracy_6: 0.4216 - dense_1_accuracy_7: 0.5384 - dense_1_accuracy_8: 0.6625 - dense_1_accuracy_9: 0.7669 - dense_1_accuracy_10: 0.8351 - dense_1_accuracy_11: 0.8768 - dense_1_accuracy_12: 0.9128 - dense_1_accuracy_13: 0.9300 - dense_1_accuracy_14: 0.9511 - dense_1_accuracy_15: 0.9562 - dense_1_accuracy_16: 0.9721 - dense_1_accuracy_17: 0.9777 - dense_1_accuracy_18: 0.9820 - dense_1_accuracy_19: 0.9807 - dense_1_accuracy_20: 0.9850 - dense_1_accuracy_21: 0.9897 - dense_1_accuracy_22: 0.9914 - dense_1_accuracy_23: 0.9918 - dense_1_accuracy_24: 0.9931 - dense_1_accuracy_25: 0.9927 - dense_1_accuracy_26: 0.9940 - dense_1_accuracy_27: 0.9940 - dense_1_accuracy_28: 0.9953 - dense_1_accuracy_29: 0.9979 - dense_1_accuracy_30: 0.9974 - dense_1_accuracy_31: 0.9979 - dense_1_accuracy_32: 0.9979 - dense_1_accuracy_33: 0.9979 - dense_1_accuracy_34: 0.9991 - dense_1_accuracy_35: 0.9996 - dense_1_accuracy_36: 1.0000 - dense_1_accuracy_37: 0.9996 - dense_1_accuracy_38: 1.0000\n",
      "Epoch 44/200\n",
      "2329/2329 [==============================] - 2s 997us/step - loss: 22.6438 - dense_1_loss: 5.8720e-04 - dense_1_accuracy: 0.1224 - dense_1_accuracy_1: 0.2679 - dense_1_accuracy_2: 0.2769 - dense_1_accuracy_3: 0.2830 - dense_1_accuracy_4: 0.2675 - dense_1_accuracy_5: 0.3207 - dense_1_accuracy_6: 0.4165 - dense_1_accuracy_7: 0.5320 - dense_1_accuracy_8: 0.6655 - dense_1_accuracy_9: 0.7660 - dense_1_accuracy_10: 0.8343 - dense_1_accuracy_11: 0.8772 - dense_1_accuracy_12: 0.9133 - dense_1_accuracy_13: 0.9304 - dense_1_accuracy_14: 0.9511 - dense_1_accuracy_15: 0.9579 - dense_1_accuracy_16: 0.9704 - dense_1_accuracy_17: 0.9781 - dense_1_accuracy_18: 0.9815 - dense_1_accuracy_19: 0.9802 - dense_1_accuracy_20: 0.9850 - dense_1_accuracy_21: 0.9897 - dense_1_accuracy_22: 0.9906 - dense_1_accuracy_23: 0.9918 - dense_1_accuracy_24: 0.9936 - dense_1_accuracy_25: 0.9923 - dense_1_accuracy_26: 0.9948 - dense_1_accuracy_27: 0.9936 - dense_1_accuracy_28: 0.9953 - dense_1_accuracy_29: 0.9974 - dense_1_accuracy_30: 0.9974 - dense_1_accuracy_31: 0.9979 - dense_1_accuracy_32: 0.9979 - dense_1_accuracy_33: 0.9979 - dense_1_accuracy_34: 0.9991 - dense_1_accuracy_35: 0.9996 - dense_1_accuracy_36: 1.0000 - dense_1_accuracy_37: 0.9996 - dense_1_accuracy_38: 1.0000\n",
      "Epoch 45/200\n",
      "2329/2329 [==============================] - 2s 996us/step - loss: 22.6201 - dense_1_loss: 6.2446e-04 - dense_1_accuracy: 0.1224 - dense_1_accuracy_1: 0.2684 - dense_1_accuracy_2: 0.2684 - dense_1_accuracy_3: 0.2885 - dense_1_accuracy_4: 0.2709 - dense_1_accuracy_5: 0.3212 - dense_1_accuracy_6: 0.4173 - dense_1_accuracy_7: 0.5333 - dense_1_accuracy_8: 0.6677 - dense_1_accuracy_9: 0.7669 - dense_1_accuracy_10: 0.8368 - dense_1_accuracy_11: 0.8763 - dense_1_accuracy_12: 0.9133 - dense_1_accuracy_13: 0.9322 - dense_1_accuracy_14: 0.9515 - dense_1_accuracy_15: 0.9575 - dense_1_accuracy_16: 0.9699 - dense_1_accuracy_17: 0.9777 - dense_1_accuracy_18: 0.9820 - dense_1_accuracy_19: 0.9807 - dense_1_accuracy_20: 0.9845 - dense_1_accuracy_21: 0.9897 - dense_1_accuracy_22: 0.9910 - dense_1_accuracy_23: 0.9914 - dense_1_accuracy_24: 0.9936 - dense_1_accuracy_25: 0.9923 - dense_1_accuracy_26: 0.9953 - dense_1_accuracy_27: 0.9944 - dense_1_accuracy_28: 0.9953 - dense_1_accuracy_29: 0.9974 - dense_1_accuracy_30: 0.9970 - dense_1_accuracy_31: 0.9979 - dense_1_accuracy_32: 0.9979 - dense_1_accuracy_33: 0.9979 - dense_1_accuracy_34: 0.9991 - dense_1_accuracy_35: 0.9996 - dense_1_accuracy_36: 1.0000 - dense_1_accuracy_37: 0.9996 - dense_1_accuracy_38: 1.0000\n",
      "Epoch 46/200\n",
      "2329/2329 [==============================] - 2s 993us/step - loss: 22.5991 - dense_1_loss: 6.8920e-04 - dense_1_accuracy: 0.1224 - dense_1_accuracy_1: 0.2675 - dense_1_accuracy_2: 0.2752 - dense_1_accuracy_3: 0.2868 - dense_1_accuracy_4: 0.2671 - dense_1_accuracy_5: 0.3199 - dense_1_accuracy_6: 0.4229 - dense_1_accuracy_7: 0.5328 - dense_1_accuracy_8: 0.6638 - dense_1_accuracy_9: 0.7664 - dense_1_accuracy_10: 0.8373 - dense_1_accuracy_11: 0.8776 - dense_1_accuracy_12: 0.9141 - dense_1_accuracy_13: 0.9300 - dense_1_accuracy_14: 0.9511 - dense_1_accuracy_15: 0.9584 - dense_1_accuracy_16: 0.9712 - dense_1_accuracy_17: 0.9785 - dense_1_accuracy_18: 0.9807 - dense_1_accuracy_19: 0.9802 - dense_1_accuracy_20: 0.9854 - dense_1_accuracy_21: 0.9893 - dense_1_accuracy_22: 0.9910 - dense_1_accuracy_23: 0.9914 - dense_1_accuracy_24: 0.9936 - dense_1_accuracy_25: 0.9923 - dense_1_accuracy_26: 0.9948 - dense_1_accuracy_27: 0.9940 - dense_1_accuracy_28: 0.9953 - dense_1_accuracy_29: 0.9974 - dense_1_accuracy_30: 0.9970 - dense_1_accuracy_31: 0.9979 - dense_1_accuracy_32: 0.9979 - dense_1_accuracy_33: 0.9979 - dense_1_accuracy_34: 0.9991 - dense_1_accuracy_35: 0.9996 - dense_1_accuracy_36: 1.0000 - dense_1_accuracy_37: 0.9996 - dense_1_accuracy_38: 1.0000\n",
      "Epoch 47/200\n",
      "2329/2329 [==============================] - 2s 995us/step - loss: 22.5768 - dense_1_loss: 5.8980e-04 - dense_1_accuracy: 0.1224 - dense_1_accuracy_1: 0.2653 - dense_1_accuracy_2: 0.2714 - dense_1_accuracy_3: 0.2830 - dense_1_accuracy_4: 0.2632 - dense_1_accuracy_5: 0.3169 - dense_1_accuracy_6: 0.4195 - dense_1_accuracy_7: 0.5328 - dense_1_accuracy_8: 0.6651 - dense_1_accuracy_9: 0.7694 - dense_1_accuracy_10: 0.8381 - dense_1_accuracy_11: 0.8793 - dense_1_accuracy_12: 0.9128 - dense_1_accuracy_13: 0.9326 - dense_1_accuracy_14: 0.9511 - dense_1_accuracy_15: 0.9584 - dense_1_accuracy_16: 0.9712 - dense_1_accuracy_17: 0.9785 - dense_1_accuracy_18: 0.9811 - dense_1_accuracy_19: 0.9802 - dense_1_accuracy_20: 0.9850 - dense_1_accuracy_21: 0.9897 - dense_1_accuracy_22: 0.9914 - dense_1_accuracy_23: 0.9918 - dense_1_accuracy_24: 0.9936 - dense_1_accuracy_25: 0.9931 - dense_1_accuracy_26: 0.9953 - dense_1_accuracy_27: 0.9940 - dense_1_accuracy_28: 0.9953 - dense_1_accuracy_29: 0.9974 - dense_1_accuracy_30: 0.9974 - dense_1_accuracy_31: 0.9979 - dense_1_accuracy_32: 0.9979 - dense_1_accuracy_33: 0.9979 - dense_1_accuracy_34: 0.9991 - dense_1_accuracy_35: 0.9996 - dense_1_accuracy_36: 1.0000 - dense_1_accuracy_37: 0.9996 - dense_1_accuracy_38: 1.0000\n",
      "Epoch 48/200\n",
      "2329/2329 [==============================] - 2s 1ms/step - loss: 22.5629 - dense_1_loss: 5.3900e-04 - dense_1_accuracy: 0.1224 - dense_1_accuracy_1: 0.2718 - dense_1_accuracy_2: 0.2688 - dense_1_accuracy_3: 0.2894 - dense_1_accuracy_4: 0.2722 - dense_1_accuracy_5: 0.3216 - dense_1_accuracy_6: 0.4178 - dense_1_accuracy_7: 0.5333 - dense_1_accuracy_8: 0.6625 - dense_1_accuracy_9: 0.7664 - dense_1_accuracy_10: 0.8373 - dense_1_accuracy_11: 0.8789 - dense_1_accuracy_12: 0.9133 - dense_1_accuracy_13: 0.9296 - dense_1_accuracy_14: 0.9511 - dense_1_accuracy_15: 0.9588 - dense_1_accuracy_16: 0.9717 - dense_1_accuracy_17: 0.9794 - dense_1_accuracy_18: 0.9811 - dense_1_accuracy_19: 0.9798 - dense_1_accuracy_20: 0.9858 - dense_1_accuracy_21: 0.9901 - dense_1_accuracy_22: 0.9910 - dense_1_accuracy_23: 0.9914 - dense_1_accuracy_24: 0.9940 - dense_1_accuracy_25: 0.9927 - dense_1_accuracy_26: 0.9948 - dense_1_accuracy_27: 0.9940 - dense_1_accuracy_28: 0.9953 - dense_1_accuracy_29: 0.9979 - dense_1_accuracy_30: 0.9970 - dense_1_accuracy_31: 0.9979 - dense_1_accuracy_32: 0.9979 - dense_1_accuracy_33: 0.9979 - dense_1_accuracy_34: 0.9991 - dense_1_accuracy_35: 0.9996 - dense_1_accuracy_36: 1.0000 - dense_1_accuracy_37: 0.9996 - dense_1_accuracy_38: 1.0000\n",
      "Epoch 49/200\n"
     ]
    },
    {
     "name": "stdout",
     "output_type": "stream",
     "text": [
      "2329/2329 [==============================] - 2s 986us/step - loss: 22.5310 - dense_1_loss: 5.6083e-04 - dense_1_accuracy: 0.1224 - dense_1_accuracy_1: 0.2688 - dense_1_accuracy_2: 0.2722 - dense_1_accuracy_3: 0.2885 - dense_1_accuracy_4: 0.2684 - dense_1_accuracy_5: 0.3190 - dense_1_accuracy_6: 0.4246 - dense_1_accuracy_7: 0.5346 - dense_1_accuracy_8: 0.6677 - dense_1_accuracy_9: 0.7686 - dense_1_accuracy_10: 0.8360 - dense_1_accuracy_11: 0.8785 - dense_1_accuracy_12: 0.9141 - dense_1_accuracy_13: 0.9322 - dense_1_accuracy_14: 0.9519 - dense_1_accuracy_15: 0.9579 - dense_1_accuracy_16: 0.9725 - dense_1_accuracy_17: 0.9790 - dense_1_accuracy_18: 0.9807 - dense_1_accuracy_19: 0.9807 - dense_1_accuracy_20: 0.9850 - dense_1_accuracy_21: 0.9901 - dense_1_accuracy_22: 0.9910 - dense_1_accuracy_23: 0.9914 - dense_1_accuracy_24: 0.9936 - dense_1_accuracy_25: 0.9923 - dense_1_accuracy_26: 0.9953 - dense_1_accuracy_27: 0.9940 - dense_1_accuracy_28: 0.9953 - dense_1_accuracy_29: 0.9974 - dense_1_accuracy_30: 0.9970 - dense_1_accuracy_31: 0.9979 - dense_1_accuracy_32: 0.9979 - dense_1_accuracy_33: 0.9979 - dense_1_accuracy_34: 0.9991 - dense_1_accuracy_35: 0.9996 - dense_1_accuracy_36: 1.0000 - dense_1_accuracy_37: 0.9996 - dense_1_accuracy_38: 1.0000\n",
      "Epoch 50/200\n",
      "2329/2329 [==============================] - 2s 980us/step - loss: 22.5144 - dense_1_loss: 8.0481e-04 - dense_1_accuracy: 0.1224 - dense_1_accuracy_1: 0.2696 - dense_1_accuracy_2: 0.2774 - dense_1_accuracy_3: 0.2907 - dense_1_accuracy_4: 0.2688 - dense_1_accuracy_5: 0.3203 - dense_1_accuracy_6: 0.4212 - dense_1_accuracy_7: 0.5354 - dense_1_accuracy_8: 0.6707 - dense_1_accuracy_9: 0.7681 - dense_1_accuracy_10: 0.8394 - dense_1_accuracy_11: 0.8789 - dense_1_accuracy_12: 0.9146 - dense_1_accuracy_13: 0.9304 - dense_1_accuracy_14: 0.9523 - dense_1_accuracy_15: 0.9579 - dense_1_accuracy_16: 0.9712 - dense_1_accuracy_17: 0.9781 - dense_1_accuracy_18: 0.9815 - dense_1_accuracy_19: 0.9802 - dense_1_accuracy_20: 0.9854 - dense_1_accuracy_21: 0.9901 - dense_1_accuracy_22: 0.9914 - dense_1_accuracy_23: 0.9914 - dense_1_accuracy_24: 0.9940 - dense_1_accuracy_25: 0.9927 - dense_1_accuracy_26: 0.9953 - dense_1_accuracy_27: 0.9940 - dense_1_accuracy_28: 0.9953 - dense_1_accuracy_29: 0.9974 - dense_1_accuracy_30: 0.9974 - dense_1_accuracy_31: 0.9979 - dense_1_accuracy_32: 0.9979 - dense_1_accuracy_33: 0.9983 - dense_1_accuracy_34: 0.9991 - dense_1_accuracy_35: 0.9996 - dense_1_accuracy_36: 1.0000 - dense_1_accuracy_37: 0.9996 - dense_1_accuracy_38: 1.0000\n",
      "Epoch 51/200\n",
      "2329/2329 [==============================] - 2s 1ms/step - loss: 22.4946 - dense_1_loss: 6.0991e-04 - dense_1_accuracy: 0.1224 - dense_1_accuracy_1: 0.2692 - dense_1_accuracy_2: 0.2748 - dense_1_accuracy_3: 0.2872 - dense_1_accuracy_4: 0.2705 - dense_1_accuracy_5: 0.3242 - dense_1_accuracy_6: 0.4204 - dense_1_accuracy_7: 0.5380 - dense_1_accuracy_8: 0.6672 - dense_1_accuracy_9: 0.7686 - dense_1_accuracy_10: 0.8368 - dense_1_accuracy_11: 0.8789 - dense_1_accuracy_12: 0.9158 - dense_1_accuracy_13: 0.9304 - dense_1_accuracy_14: 0.9528 - dense_1_accuracy_15: 0.9571 - dense_1_accuracy_16: 0.9721 - dense_1_accuracy_17: 0.9781 - dense_1_accuracy_18: 0.9811 - dense_1_accuracy_19: 0.9807 - dense_1_accuracy_20: 0.9858 - dense_1_accuracy_21: 0.9901 - dense_1_accuracy_22: 0.9914 - dense_1_accuracy_23: 0.9914 - dense_1_accuracy_24: 0.9944 - dense_1_accuracy_25: 0.9923 - dense_1_accuracy_26: 0.9953 - dense_1_accuracy_27: 0.9944 - dense_1_accuracy_28: 0.9953 - dense_1_accuracy_29: 0.9979 - dense_1_accuracy_30: 0.9970 - dense_1_accuracy_31: 0.9979 - dense_1_accuracy_32: 0.9979 - dense_1_accuracy_33: 0.9979 - dense_1_accuracy_34: 0.9991 - dense_1_accuracy_35: 0.9996 - dense_1_accuracy_36: 1.0000 - dense_1_accuracy_37: 0.9996 - dense_1_accuracy_38: 1.0000\n",
      "Epoch 52/200\n",
      "2329/2329 [==============================] - 2s 999us/step - loss: 22.4740 - dense_1_loss: 5.9302e-04 - dense_1_accuracy: 0.1224 - dense_1_accuracy_1: 0.2696 - dense_1_accuracy_2: 0.2726 - dense_1_accuracy_3: 0.2890 - dense_1_accuracy_4: 0.2718 - dense_1_accuracy_5: 0.3259 - dense_1_accuracy_6: 0.4221 - dense_1_accuracy_7: 0.5359 - dense_1_accuracy_8: 0.6711 - dense_1_accuracy_9: 0.7707 - dense_1_accuracy_10: 0.8364 - dense_1_accuracy_11: 0.8811 - dense_1_accuracy_12: 0.9150 - dense_1_accuracy_13: 0.9317 - dense_1_accuracy_14: 0.9511 - dense_1_accuracy_15: 0.9588 - dense_1_accuracy_16: 0.9729 - dense_1_accuracy_17: 0.9794 - dense_1_accuracy_18: 0.9811 - dense_1_accuracy_19: 0.9802 - dense_1_accuracy_20: 0.9863 - dense_1_accuracy_21: 0.9901 - dense_1_accuracy_22: 0.9914 - dense_1_accuracy_23: 0.9914 - dense_1_accuracy_24: 0.9948 - dense_1_accuracy_25: 0.9923 - dense_1_accuracy_26: 0.9953 - dense_1_accuracy_27: 0.9940 - dense_1_accuracy_28: 0.9953 - dense_1_accuracy_29: 0.9979 - dense_1_accuracy_30: 0.9974 - dense_1_accuracy_31: 0.9979 - dense_1_accuracy_32: 0.9979 - dense_1_accuracy_33: 0.9979 - dense_1_accuracy_34: 0.9991 - dense_1_accuracy_35: 0.9996 - dense_1_accuracy_36: 1.0000 - dense_1_accuracy_37: 0.9996 - dense_1_accuracy_38: 1.0000\n",
      "Epoch 53/200\n",
      "2329/2329 [==============================] - 2s 985us/step - loss: 22.4519 - dense_1_loss: 6.8621e-04 - dense_1_accuracy: 0.1224 - dense_1_accuracy_1: 0.2684 - dense_1_accuracy_2: 0.2744 - dense_1_accuracy_3: 0.2855 - dense_1_accuracy_4: 0.2726 - dense_1_accuracy_5: 0.3246 - dense_1_accuracy_6: 0.4246 - dense_1_accuracy_7: 0.5410 - dense_1_accuracy_8: 0.6698 - dense_1_accuracy_9: 0.7690 - dense_1_accuracy_10: 0.8377 - dense_1_accuracy_11: 0.8793 - dense_1_accuracy_12: 0.9154 - dense_1_accuracy_13: 0.9326 - dense_1_accuracy_14: 0.9523 - dense_1_accuracy_15: 0.9575 - dense_1_accuracy_16: 0.9721 - dense_1_accuracy_17: 0.9785 - dense_1_accuracy_18: 0.9815 - dense_1_accuracy_19: 0.9802 - dense_1_accuracy_20: 0.9863 - dense_1_accuracy_21: 0.9901 - dense_1_accuracy_22: 0.9910 - dense_1_accuracy_23: 0.9914 - dense_1_accuracy_24: 0.9940 - dense_1_accuracy_25: 0.9927 - dense_1_accuracy_26: 0.9953 - dense_1_accuracy_27: 0.9944 - dense_1_accuracy_28: 0.9953 - dense_1_accuracy_29: 0.9979 - dense_1_accuracy_30: 0.9974 - dense_1_accuracy_31: 0.9979 - dense_1_accuracy_32: 0.9979 - dense_1_accuracy_33: 0.9979 - dense_1_accuracy_34: 0.9991 - dense_1_accuracy_35: 0.9996 - dense_1_accuracy_36: 1.0000 - dense_1_accuracy_37: 0.9996 - dense_1_accuracy_38: 1.0000\n",
      "Epoch 54/200\n",
      "2329/2329 [==============================] - 2s 1ms/step - loss: 22.4350 - dense_1_loss: 5.7997e-04 - dense_1_accuracy: 0.1224 - dense_1_accuracy_1: 0.2714 - dense_1_accuracy_2: 0.2778 - dense_1_accuracy_3: 0.2928 - dense_1_accuracy_4: 0.2726 - dense_1_accuracy_5: 0.3255 - dense_1_accuracy_6: 0.4251 - dense_1_accuracy_7: 0.5367 - dense_1_accuracy_8: 0.6694 - dense_1_accuracy_9: 0.7711 - dense_1_accuracy_10: 0.8390 - dense_1_accuracy_11: 0.8789 - dense_1_accuracy_12: 0.9154 - dense_1_accuracy_13: 0.9330 - dense_1_accuracy_14: 0.9515 - dense_1_accuracy_15: 0.9584 - dense_1_accuracy_16: 0.9721 - dense_1_accuracy_17: 0.9790 - dense_1_accuracy_18: 0.9815 - dense_1_accuracy_19: 0.9815 - dense_1_accuracy_20: 0.9863 - dense_1_accuracy_21: 0.9897 - dense_1_accuracy_22: 0.9910 - dense_1_accuracy_23: 0.9914 - dense_1_accuracy_24: 0.9944 - dense_1_accuracy_25: 0.9927 - dense_1_accuracy_26: 0.9953 - dense_1_accuracy_27: 0.9944 - dense_1_accuracy_28: 0.9953 - dense_1_accuracy_29: 0.9974 - dense_1_accuracy_30: 0.9970 - dense_1_accuracy_31: 0.9979 - dense_1_accuracy_32: 0.9979 - dense_1_accuracy_33: 0.9983 - dense_1_accuracy_34: 0.9991 - dense_1_accuracy_35: 0.9996 - dense_1_accuracy_36: 1.0000 - dense_1_accuracy_37: 0.9996 - dense_1_accuracy_38: 1.0000\n",
      "Epoch 55/200\n"
     ]
    },
    {
     "name": "stdout",
     "output_type": "stream",
     "text": [
      "2329/2329 [==============================] - 2s 1ms/step - loss: 22.4168 - dense_1_loss: 6.5303e-04 - dense_1_accuracy: 0.1224 - dense_1_accuracy_1: 0.2688 - dense_1_accuracy_2: 0.2662 - dense_1_accuracy_3: 0.2907 - dense_1_accuracy_4: 0.2761 - dense_1_accuracy_5: 0.3259 - dense_1_accuracy_6: 0.4251 - dense_1_accuracy_7: 0.5380 - dense_1_accuracy_8: 0.6685 - dense_1_accuracy_9: 0.7681 - dense_1_accuracy_10: 0.8398 - dense_1_accuracy_11: 0.8806 - dense_1_accuracy_12: 0.9146 - dense_1_accuracy_13: 0.9330 - dense_1_accuracy_14: 0.9523 - dense_1_accuracy_15: 0.9579 - dense_1_accuracy_16: 0.9717 - dense_1_accuracy_17: 0.9790 - dense_1_accuracy_18: 0.9820 - dense_1_accuracy_19: 0.9807 - dense_1_accuracy_20: 0.9858 - dense_1_accuracy_21: 0.9901 - dense_1_accuracy_22: 0.9910 - dense_1_accuracy_23: 0.9914 - dense_1_accuracy_24: 0.9944 - dense_1_accuracy_25: 0.9923 - dense_1_accuracy_26: 0.9953 - dense_1_accuracy_27: 0.9944 - dense_1_accuracy_28: 0.9953 - dense_1_accuracy_29: 0.9974 - dense_1_accuracy_30: 0.9970 - dense_1_accuracy_31: 0.9979 - dense_1_accuracy_32: 0.9979 - dense_1_accuracy_33: 0.9983 - dense_1_accuracy_34: 0.9991 - dense_1_accuracy_35: 0.9996 - dense_1_accuracy_36: 1.0000 - dense_1_accuracy_37: 0.9996 - dense_1_accuracy_38: 1.0000\n",
      "Epoch 56/200\n",
      "2329/2329 [==============================] - 2s 990us/step - loss: 22.3981 - dense_1_loss: 5.6126e-04 - dense_1_accuracy: 0.1224 - dense_1_accuracy_1: 0.2705 - dense_1_accuracy_2: 0.2808 - dense_1_accuracy_3: 0.2950 - dense_1_accuracy_4: 0.2748 - dense_1_accuracy_5: 0.3276 - dense_1_accuracy_6: 0.4225 - dense_1_accuracy_7: 0.5423 - dense_1_accuracy_8: 0.6728 - dense_1_accuracy_9: 0.7703 - dense_1_accuracy_10: 0.8398 - dense_1_accuracy_11: 0.8824 - dense_1_accuracy_12: 0.9158 - dense_1_accuracy_13: 0.9322 - dense_1_accuracy_14: 0.9528 - dense_1_accuracy_15: 0.9571 - dense_1_accuracy_16: 0.9729 - dense_1_accuracy_17: 0.9798 - dense_1_accuracy_18: 0.9815 - dense_1_accuracy_19: 0.9811 - dense_1_accuracy_20: 0.9858 - dense_1_accuracy_21: 0.9901 - dense_1_accuracy_22: 0.9910 - dense_1_accuracy_23: 0.9914 - dense_1_accuracy_24: 0.9936 - dense_1_accuracy_25: 0.9923 - dense_1_accuracy_26: 0.9953 - dense_1_accuracy_27: 0.9944 - dense_1_accuracy_28: 0.9953 - dense_1_accuracy_29: 0.9974 - dense_1_accuracy_30: 0.9974 - dense_1_accuracy_31: 0.9979 - dense_1_accuracy_32: 0.9979 - dense_1_accuracy_33: 0.9983 - dense_1_accuracy_34: 0.9991 - dense_1_accuracy_35: 0.9996 - dense_1_accuracy_36: 1.0000 - dense_1_accuracy_37: 0.9996 - dense_1_accuracy_38: 1.0000\n",
      "Epoch 57/200\n",
      "2329/2329 [==============================] - 2s 987us/step - loss: 22.3799 - dense_1_loss: 6.4328e-04 - dense_1_accuracy: 0.1224 - dense_1_accuracy_1: 0.2684 - dense_1_accuracy_2: 0.2761 - dense_1_accuracy_3: 0.2903 - dense_1_accuracy_4: 0.2739 - dense_1_accuracy_5: 0.3285 - dense_1_accuracy_6: 0.4268 - dense_1_accuracy_7: 0.5414 - dense_1_accuracy_8: 0.6664 - dense_1_accuracy_9: 0.7711 - dense_1_accuracy_10: 0.8377 - dense_1_accuracy_11: 0.8806 - dense_1_accuracy_12: 0.9158 - dense_1_accuracy_13: 0.9347 - dense_1_accuracy_14: 0.9515 - dense_1_accuracy_15: 0.9584 - dense_1_accuracy_16: 0.9729 - dense_1_accuracy_17: 0.9785 - dense_1_accuracy_18: 0.9815 - dense_1_accuracy_19: 0.9807 - dense_1_accuracy_20: 0.9867 - dense_1_accuracy_21: 0.9897 - dense_1_accuracy_22: 0.9914 - dense_1_accuracy_23: 0.9914 - dense_1_accuracy_24: 0.9944 - dense_1_accuracy_25: 0.9923 - dense_1_accuracy_26: 0.9953 - dense_1_accuracy_27: 0.9944 - dense_1_accuracy_28: 0.9953 - dense_1_accuracy_29: 0.9979 - dense_1_accuracy_30: 0.9974 - dense_1_accuracy_31: 0.9979 - dense_1_accuracy_32: 0.9979 - dense_1_accuracy_33: 0.9983 - dense_1_accuracy_34: 0.9991 - dense_1_accuracy_35: 0.9996 - dense_1_accuracy_36: 1.0000 - dense_1_accuracy_37: 0.9996 - dense_1_accuracy_38: 1.0000\n",
      "Epoch 58/200\n",
      "2329/2329 [==============================] - 2s 1ms/step - loss: 22.3624 - dense_1_loss: 5.3232e-04 - dense_1_accuracy: 0.1224 - dense_1_accuracy_1: 0.2692 - dense_1_accuracy_2: 0.2757 - dense_1_accuracy_3: 0.2903 - dense_1_accuracy_4: 0.2752 - dense_1_accuracy_5: 0.3225 - dense_1_accuracy_6: 0.4268 - dense_1_accuracy_7: 0.5397 - dense_1_accuracy_8: 0.6702 - dense_1_accuracy_9: 0.7716 - dense_1_accuracy_10: 0.8386 - dense_1_accuracy_11: 0.8815 - dense_1_accuracy_12: 0.9154 - dense_1_accuracy_13: 0.9339 - dense_1_accuracy_14: 0.9528 - dense_1_accuracy_15: 0.9584 - dense_1_accuracy_16: 0.9717 - dense_1_accuracy_17: 0.9790 - dense_1_accuracy_18: 0.9815 - dense_1_accuracy_19: 0.9807 - dense_1_accuracy_20: 0.9863 - dense_1_accuracy_21: 0.9897 - dense_1_accuracy_22: 0.9914 - dense_1_accuracy_23: 0.9914 - dense_1_accuracy_24: 0.9940 - dense_1_accuracy_25: 0.9927 - dense_1_accuracy_26: 0.9953 - dense_1_accuracy_27: 0.9944 - dense_1_accuracy_28: 0.9953 - dense_1_accuracy_29: 0.9979 - dense_1_accuracy_30: 0.9974 - dense_1_accuracy_31: 0.9979 - dense_1_accuracy_32: 0.9979 - dense_1_accuracy_33: 0.9983 - dense_1_accuracy_34: 0.9991 - dense_1_accuracy_35: 0.9996 - dense_1_accuracy_36: 1.0000 - dense_1_accuracy_37: 0.9996 - dense_1_accuracy_38: 1.0000\n",
      "Epoch 59/200\n",
      "2329/2329 [==============================] - 2s 1ms/step - loss: 22.3469 - dense_1_loss: 6.0219e-04 - dense_1_accuracy: 0.1224 - dense_1_accuracy_1: 0.2666 - dense_1_accuracy_2: 0.2795 - dense_1_accuracy_3: 0.2920 - dense_1_accuracy_4: 0.2696 - dense_1_accuracy_5: 0.3267 - dense_1_accuracy_6: 0.4268 - dense_1_accuracy_7: 0.5419 - dense_1_accuracy_8: 0.6681 - dense_1_accuracy_9: 0.7720 - dense_1_accuracy_10: 0.8394 - dense_1_accuracy_11: 0.8828 - dense_1_accuracy_12: 0.9158 - dense_1_accuracy_13: 0.9339 - dense_1_accuracy_14: 0.9528 - dense_1_accuracy_15: 0.9596 - dense_1_accuracy_16: 0.9725 - dense_1_accuracy_17: 0.9790 - dense_1_accuracy_18: 0.9815 - dense_1_accuracy_19: 0.9811 - dense_1_accuracy_20: 0.9858 - dense_1_accuracy_21: 0.9901 - dense_1_accuracy_22: 0.9914 - dense_1_accuracy_23: 0.9914 - dense_1_accuracy_24: 0.9944 - dense_1_accuracy_25: 0.9927 - dense_1_accuracy_26: 0.9953 - dense_1_accuracy_27: 0.9944 - dense_1_accuracy_28: 0.9953 - dense_1_accuracy_29: 0.9979 - dense_1_accuracy_30: 0.9974 - dense_1_accuracy_31: 0.9979 - dense_1_accuracy_32: 0.9979 - dense_1_accuracy_33: 0.9979 - dense_1_accuracy_34: 0.9991 - dense_1_accuracy_35: 0.9996 - dense_1_accuracy_36: 1.0000 - dense_1_accuracy_37: 0.9996 - dense_1_accuracy_38: 1.0000\n",
      "Epoch 60/200\n",
      "2329/2329 [==============================] - 2s 1ms/step - loss: 22.3306 - dense_1_loss: 5.5663e-04 - dense_1_accuracy: 0.1224 - dense_1_accuracy_1: 0.2688 - dense_1_accuracy_2: 0.2748 - dense_1_accuracy_3: 0.2915 - dense_1_accuracy_4: 0.2735 - dense_1_accuracy_5: 0.3272 - dense_1_accuracy_6: 0.4298 - dense_1_accuracy_7: 0.5432 - dense_1_accuracy_8: 0.6707 - dense_1_accuracy_9: 0.7703 - dense_1_accuracy_10: 0.8377 - dense_1_accuracy_11: 0.8824 - dense_1_accuracy_12: 0.9154 - dense_1_accuracy_13: 0.9343 - dense_1_accuracy_14: 0.9528 - dense_1_accuracy_15: 0.9592 - dense_1_accuracy_16: 0.9721 - dense_1_accuracy_17: 0.9794 - dense_1_accuracy_18: 0.9815 - dense_1_accuracy_19: 0.9807 - dense_1_accuracy_20: 0.9863 - dense_1_accuracy_21: 0.9901 - dense_1_accuracy_22: 0.9910 - dense_1_accuracy_23: 0.9914 - dense_1_accuracy_24: 0.9948 - dense_1_accuracy_25: 0.9923 - dense_1_accuracy_26: 0.9953 - dense_1_accuracy_27: 0.9944 - dense_1_accuracy_28: 0.9953 - dense_1_accuracy_29: 0.9979 - dense_1_accuracy_30: 0.9974 - dense_1_accuracy_31: 0.9979 - dense_1_accuracy_32: 0.9979 - dense_1_accuracy_33: 0.9983 - dense_1_accuracy_34: 0.9991 - dense_1_accuracy_35: 0.9996 - dense_1_accuracy_36: 1.0000 - dense_1_accuracy_37: 0.9996 - dense_1_accuracy_38: 1.0000\n",
      "Epoch 61/200\n"
     ]
    },
    {
     "name": "stdout",
     "output_type": "stream",
     "text": [
      "2329/2329 [==============================] - 2s 997us/step - loss: 22.3129 - dense_1_loss: 5.6810e-04 - dense_1_accuracy: 0.1224 - dense_1_accuracy_1: 0.2701 - dense_1_accuracy_2: 0.2799 - dense_1_accuracy_3: 0.2963 - dense_1_accuracy_4: 0.2765 - dense_1_accuracy_5: 0.3285 - dense_1_accuracy_6: 0.4277 - dense_1_accuracy_7: 0.5462 - dense_1_accuracy_8: 0.6728 - dense_1_accuracy_9: 0.7707 - dense_1_accuracy_10: 0.8394 - dense_1_accuracy_11: 0.8832 - dense_1_accuracy_12: 0.9163 - dense_1_accuracy_13: 0.9334 - dense_1_accuracy_14: 0.9523 - dense_1_accuracy_15: 0.9592 - dense_1_accuracy_16: 0.9721 - dense_1_accuracy_17: 0.9790 - dense_1_accuracy_18: 0.9820 - dense_1_accuracy_19: 0.9811 - dense_1_accuracy_20: 0.9867 - dense_1_accuracy_21: 0.9901 - dense_1_accuracy_22: 0.9914 - dense_1_accuracy_23: 0.9914 - dense_1_accuracy_24: 0.9944 - dense_1_accuracy_25: 0.9923 - dense_1_accuracy_26: 0.9953 - dense_1_accuracy_27: 0.9944 - dense_1_accuracy_28: 0.9953 - dense_1_accuracy_29: 0.9979 - dense_1_accuracy_30: 0.9970 - dense_1_accuracy_31: 0.9983 - dense_1_accuracy_32: 0.9979 - dense_1_accuracy_33: 0.9983 - dense_1_accuracy_34: 0.9991 - dense_1_accuracy_35: 0.9996 - dense_1_accuracy_36: 1.0000 - dense_1_accuracy_37: 0.9996 - dense_1_accuracy_38: 1.0000\n",
      "Epoch 62/200\n",
      "2329/2329 [==============================] - 2s 1ms/step - loss: 22.2972 - dense_1_loss: 6.2881e-04 - dense_1_accuracy: 0.1224 - dense_1_accuracy_1: 0.2688 - dense_1_accuracy_2: 0.2752 - dense_1_accuracy_3: 0.2963 - dense_1_accuracy_4: 0.2739 - dense_1_accuracy_5: 0.3267 - dense_1_accuracy_6: 0.4311 - dense_1_accuracy_7: 0.5432 - dense_1_accuracy_8: 0.6728 - dense_1_accuracy_9: 0.7716 - dense_1_accuracy_10: 0.8398 - dense_1_accuracy_11: 0.8824 - dense_1_accuracy_12: 0.9171 - dense_1_accuracy_13: 0.9343 - dense_1_accuracy_14: 0.9519 - dense_1_accuracy_15: 0.9579 - dense_1_accuracy_16: 0.9725 - dense_1_accuracy_17: 0.9794 - dense_1_accuracy_18: 0.9815 - dense_1_accuracy_19: 0.9824 - dense_1_accuracy_20: 0.9854 - dense_1_accuracy_21: 0.9901 - dense_1_accuracy_22: 0.9910 - dense_1_accuracy_23: 0.9914 - dense_1_accuracy_24: 0.9944 - dense_1_accuracy_25: 0.9923 - dense_1_accuracy_26: 0.9953 - dense_1_accuracy_27: 0.9944 - dense_1_accuracy_28: 0.9953 - dense_1_accuracy_29: 0.9974 - dense_1_accuracy_30: 0.9970 - dense_1_accuracy_31: 0.9979 - dense_1_accuracy_32: 0.9979 - dense_1_accuracy_33: 0.9979 - dense_1_accuracy_34: 0.9991 - dense_1_accuracy_35: 0.9996 - dense_1_accuracy_36: 1.0000 - dense_1_accuracy_37: 0.9996 - dense_1_accuracy_38: 1.0000\n",
      "Epoch 63/200\n",
      "2329/2329 [==============================] - 3s 1ms/step - loss: 22.2811 - dense_1_loss: 6.2021e-04 - dense_1_accuracy: 0.1224 - dense_1_accuracy_1: 0.2688 - dense_1_accuracy_2: 0.2774 - dense_1_accuracy_3: 0.2954 - dense_1_accuracy_4: 0.2761 - dense_1_accuracy_5: 0.3267 - dense_1_accuracy_6: 0.4307 - dense_1_accuracy_7: 0.5432 - dense_1_accuracy_8: 0.6698 - dense_1_accuracy_9: 0.7733 - dense_1_accuracy_10: 0.8398 - dense_1_accuracy_11: 0.8841 - dense_1_accuracy_12: 0.9176 - dense_1_accuracy_13: 0.9326 - dense_1_accuracy_14: 0.9523 - dense_1_accuracy_15: 0.9601 - dense_1_accuracy_16: 0.9721 - dense_1_accuracy_17: 0.9785 - dense_1_accuracy_18: 0.9815 - dense_1_accuracy_19: 0.9815 - dense_1_accuracy_20: 0.9867 - dense_1_accuracy_21: 0.9901 - dense_1_accuracy_22: 0.9914 - dense_1_accuracy_23: 0.9914 - dense_1_accuracy_24: 0.9944 - dense_1_accuracy_25: 0.9923 - dense_1_accuracy_26: 0.9953 - dense_1_accuracy_27: 0.9944 - dense_1_accuracy_28: 0.9953 - dense_1_accuracy_29: 0.9979 - dense_1_accuracy_30: 0.9974 - dense_1_accuracy_31: 0.9979 - dense_1_accuracy_32: 0.9979 - dense_1_accuracy_33: 0.9983 - dense_1_accuracy_34: 0.9991 - dense_1_accuracy_35: 0.9996 - dense_1_accuracy_36: 1.0000 - dense_1_accuracy_37: 0.9996 - dense_1_accuracy_38: 1.0000\n",
      "Epoch 64/200\n",
      "2329/2329 [==============================] - 3s 1ms/step - loss: 22.2703 - dense_1_loss: 6.0564e-04 - dense_1_accuracy: 0.1224 - dense_1_accuracy_1: 0.2701 - dense_1_accuracy_2: 0.2774 - dense_1_accuracy_3: 0.2933 - dense_1_accuracy_4: 0.2769 - dense_1_accuracy_5: 0.3267 - dense_1_accuracy_6: 0.4311 - dense_1_accuracy_7: 0.5436 - dense_1_accuracy_8: 0.6715 - dense_1_accuracy_9: 0.7733 - dense_1_accuracy_10: 0.8420 - dense_1_accuracy_11: 0.8819 - dense_1_accuracy_12: 0.9158 - dense_1_accuracy_13: 0.9343 - dense_1_accuracy_14: 0.9523 - dense_1_accuracy_15: 0.9584 - dense_1_accuracy_16: 0.9717 - dense_1_accuracy_17: 0.9785 - dense_1_accuracy_18: 0.9820 - dense_1_accuracy_19: 0.9820 - dense_1_accuracy_20: 0.9854 - dense_1_accuracy_21: 0.9901 - dense_1_accuracy_22: 0.9910 - dense_1_accuracy_23: 0.9914 - dense_1_accuracy_24: 0.9940 - dense_1_accuracy_25: 0.9927 - dense_1_accuracy_26: 0.9953 - dense_1_accuracy_27: 0.9944 - dense_1_accuracy_28: 0.9953 - dense_1_accuracy_29: 0.9979 - dense_1_accuracy_30: 0.9974 - dense_1_accuracy_31: 0.9979 - dense_1_accuracy_32: 0.9979 - dense_1_accuracy_33: 0.9983 - dense_1_accuracy_34: 0.9991 - dense_1_accuracy_35: 0.9996 - dense_1_accuracy_36: 1.0000 - dense_1_accuracy_37: 0.9996 - dense_1_accuracy_38: 1.0000\n",
      "Epoch 65/200\n",
      "2329/2329 [==============================] - 2s 1ms/step - loss: 22.2520 - dense_1_loss: 6.1321e-04 - dense_1_accuracy: 0.1224 - dense_1_accuracy_1: 0.2684 - dense_1_accuracy_2: 0.2774 - dense_1_accuracy_3: 0.2954 - dense_1_accuracy_4: 0.2774 - dense_1_accuracy_5: 0.3285 - dense_1_accuracy_6: 0.4350 - dense_1_accuracy_7: 0.5453 - dense_1_accuracy_8: 0.6690 - dense_1_accuracy_9: 0.7720 - dense_1_accuracy_10: 0.8403 - dense_1_accuracy_11: 0.8832 - dense_1_accuracy_12: 0.9154 - dense_1_accuracy_13: 0.9347 - dense_1_accuracy_14: 0.9536 - dense_1_accuracy_15: 0.9588 - dense_1_accuracy_16: 0.9729 - dense_1_accuracy_17: 0.9794 - dense_1_accuracy_18: 0.9815 - dense_1_accuracy_19: 0.9815 - dense_1_accuracy_20: 0.9863 - dense_1_accuracy_21: 0.9901 - dense_1_accuracy_22: 0.9910 - dense_1_accuracy_23: 0.9914 - dense_1_accuracy_24: 0.9948 - dense_1_accuracy_25: 0.9923 - dense_1_accuracy_26: 0.9953 - dense_1_accuracy_27: 0.9944 - dense_1_accuracy_28: 0.9953 - dense_1_accuracy_29: 0.9979 - dense_1_accuracy_30: 0.9974 - dense_1_accuracy_31: 0.9979 - dense_1_accuracy_32: 0.9979 - dense_1_accuracy_33: 0.9983 - dense_1_accuracy_34: 0.9991 - dense_1_accuracy_35: 0.9996 - dense_1_accuracy_36: 1.0000 - dense_1_accuracy_37: 0.9996 - dense_1_accuracy_38: 1.0000\n",
      "Epoch 66/200\n",
      "2329/2329 [==============================] - 2s 1ms/step - loss: 22.2383 - dense_1_loss: 5.2332e-04 - dense_1_accuracy: 0.1224 - dense_1_accuracy_1: 0.2688 - dense_1_accuracy_2: 0.2804 - dense_1_accuracy_3: 0.2958 - dense_1_accuracy_4: 0.2787 - dense_1_accuracy_5: 0.3250 - dense_1_accuracy_6: 0.4332 - dense_1_accuracy_7: 0.5487 - dense_1_accuracy_8: 0.6741 - dense_1_accuracy_9: 0.7746 - dense_1_accuracy_10: 0.8394 - dense_1_accuracy_11: 0.8841 - dense_1_accuracy_12: 0.9171 - dense_1_accuracy_13: 0.9352 - dense_1_accuracy_14: 0.9528 - dense_1_accuracy_15: 0.9588 - dense_1_accuracy_16: 0.9725 - dense_1_accuracy_17: 0.9794 - dense_1_accuracy_18: 0.9820 - dense_1_accuracy_19: 0.9815 - dense_1_accuracy_20: 0.9863 - dense_1_accuracy_21: 0.9901 - dense_1_accuracy_22: 0.9914 - dense_1_accuracy_23: 0.9914 - dense_1_accuracy_24: 0.9940 - dense_1_accuracy_25: 0.9927 - dense_1_accuracy_26: 0.9953 - dense_1_accuracy_27: 0.9944 - dense_1_accuracy_28: 0.9953 - dense_1_accuracy_29: 0.9979 - dense_1_accuracy_30: 0.9974 - dense_1_accuracy_31: 0.9979 - dense_1_accuracy_32: 0.9979 - dense_1_accuracy_33: 0.9983 - dense_1_accuracy_34: 0.9991 - dense_1_accuracy_35: 0.9996 - dense_1_accuracy_36: 1.0000 - dense_1_accuracy_37: 0.9996 - dense_1_accuracy_38: 1.0000\n",
      "Epoch 67/200\n"
     ]
    },
    {
     "name": "stdout",
     "output_type": "stream",
     "text": [
      "2329/2329 [==============================] - 2s 1ms/step - loss: 22.2264 - dense_1_loss: 5.5394e-04 - dense_1_accuracy: 0.1224 - dense_1_accuracy_1: 0.2684 - dense_1_accuracy_2: 0.2731 - dense_1_accuracy_3: 0.2976 - dense_1_accuracy_4: 0.2804 - dense_1_accuracy_5: 0.3276 - dense_1_accuracy_6: 0.4324 - dense_1_accuracy_7: 0.5470 - dense_1_accuracy_8: 0.6741 - dense_1_accuracy_9: 0.7716 - dense_1_accuracy_10: 0.8407 - dense_1_accuracy_11: 0.8849 - dense_1_accuracy_12: 0.9171 - dense_1_accuracy_13: 0.9352 - dense_1_accuracy_14: 0.9528 - dense_1_accuracy_15: 0.9579 - dense_1_accuracy_16: 0.9721 - dense_1_accuracy_17: 0.9794 - dense_1_accuracy_18: 0.9820 - dense_1_accuracy_19: 0.9811 - dense_1_accuracy_20: 0.9863 - dense_1_accuracy_21: 0.9901 - dense_1_accuracy_22: 0.9914 - dense_1_accuracy_23: 0.9914 - dense_1_accuracy_24: 0.9944 - dense_1_accuracy_25: 0.9923 - dense_1_accuracy_26: 0.9953 - dense_1_accuracy_27: 0.9948 - dense_1_accuracy_28: 0.9953 - dense_1_accuracy_29: 0.9979 - dense_1_accuracy_30: 0.9974 - dense_1_accuracy_31: 0.9979 - dense_1_accuracy_32: 0.9979 - dense_1_accuracy_33: 0.9983 - dense_1_accuracy_34: 0.9991 - dense_1_accuracy_35: 0.9996 - dense_1_accuracy_36: 1.0000 - dense_1_accuracy_37: 0.9996 - dense_1_accuracy_38: 1.0000\n",
      "Epoch 68/200\n",
      "2329/2329 [==============================] - 2s 1ms/step - loss: 22.2106 - dense_1_loss: 4.6883e-04 - dense_1_accuracy: 0.1224 - dense_1_accuracy_1: 0.2688 - dense_1_accuracy_2: 0.2778 - dense_1_accuracy_3: 0.2984 - dense_1_accuracy_4: 0.2761 - dense_1_accuracy_5: 0.3276 - dense_1_accuracy_6: 0.4358 - dense_1_accuracy_7: 0.5487 - dense_1_accuracy_8: 0.6724 - dense_1_accuracy_9: 0.7742 - dense_1_accuracy_10: 0.8407 - dense_1_accuracy_11: 0.8836 - dense_1_accuracy_12: 0.9180 - dense_1_accuracy_13: 0.9339 - dense_1_accuracy_14: 0.9532 - dense_1_accuracy_15: 0.9596 - dense_1_accuracy_16: 0.9725 - dense_1_accuracy_17: 0.9785 - dense_1_accuracy_18: 0.9824 - dense_1_accuracy_19: 0.9820 - dense_1_accuracy_20: 0.9867 - dense_1_accuracy_21: 0.9901 - dense_1_accuracy_22: 0.9906 - dense_1_accuracy_23: 0.9914 - dense_1_accuracy_24: 0.9948 - dense_1_accuracy_25: 0.9923 - dense_1_accuracy_26: 0.9953 - dense_1_accuracy_27: 0.9944 - dense_1_accuracy_28: 0.9953 - dense_1_accuracy_29: 0.9979 - dense_1_accuracy_30: 0.9974 - dense_1_accuracy_31: 0.9979 - dense_1_accuracy_32: 0.9979 - dense_1_accuracy_33: 0.9983 - dense_1_accuracy_34: 0.9991 - dense_1_accuracy_35: 0.9996 - dense_1_accuracy_36: 1.0000 - dense_1_accuracy_37: 0.9996 - dense_1_accuracy_38: 1.0000\n",
      "Epoch 69/200\n",
      "2329/2329 [==============================] - 2s 1ms/step - loss: 22.1970 - dense_1_loss: 6.3666e-04 - dense_1_accuracy: 0.1224 - dense_1_accuracy_1: 0.2692 - dense_1_accuracy_2: 0.2787 - dense_1_accuracy_3: 0.2971 - dense_1_accuracy_4: 0.2769 - dense_1_accuracy_5: 0.3272 - dense_1_accuracy_6: 0.4319 - dense_1_accuracy_7: 0.5479 - dense_1_accuracy_8: 0.6715 - dense_1_accuracy_9: 0.7737 - dense_1_accuracy_10: 0.8411 - dense_1_accuracy_11: 0.8841 - dense_1_accuracy_12: 0.9171 - dense_1_accuracy_13: 0.9352 - dense_1_accuracy_14: 0.9532 - dense_1_accuracy_15: 0.9609 - dense_1_accuracy_16: 0.9721 - dense_1_accuracy_17: 0.9790 - dense_1_accuracy_18: 0.9828 - dense_1_accuracy_19: 0.9820 - dense_1_accuracy_20: 0.9867 - dense_1_accuracy_21: 0.9906 - dense_1_accuracy_22: 0.9918 - dense_1_accuracy_23: 0.9914 - dense_1_accuracy_24: 0.9944 - dense_1_accuracy_25: 0.9927 - dense_1_accuracy_26: 0.9953 - dense_1_accuracy_27: 0.9948 - dense_1_accuracy_28: 0.9953 - dense_1_accuracy_29: 0.9979 - dense_1_accuracy_30: 0.9974 - dense_1_accuracy_31: 0.9983 - dense_1_accuracy_32: 0.9979 - dense_1_accuracy_33: 0.9983 - dense_1_accuracy_34: 0.9991 - dense_1_accuracy_35: 0.9996 - dense_1_accuracy_36: 1.0000 - dense_1_accuracy_37: 0.9996 - dense_1_accuracy_38: 1.0000\n",
      "Epoch 70/200\n",
      "2329/2329 [==============================] - 2s 1ms/step - loss: 22.1797 - dense_1_loss: 4.5803e-04 - dense_1_accuracy: 0.1224 - dense_1_accuracy_1: 0.2709 - dense_1_accuracy_2: 0.2787 - dense_1_accuracy_3: 0.2980 - dense_1_accuracy_4: 0.2787 - dense_1_accuracy_5: 0.3315 - dense_1_accuracy_6: 0.4354 - dense_1_accuracy_7: 0.5440 - dense_1_accuracy_8: 0.6733 - dense_1_accuracy_9: 0.7724 - dense_1_accuracy_10: 0.8403 - dense_1_accuracy_11: 0.8836 - dense_1_accuracy_12: 0.9163 - dense_1_accuracy_13: 0.9347 - dense_1_accuracy_14: 0.9528 - dense_1_accuracy_15: 0.9584 - dense_1_accuracy_16: 0.9721 - dense_1_accuracy_17: 0.9794 - dense_1_accuracy_18: 0.9820 - dense_1_accuracy_19: 0.9815 - dense_1_accuracy_20: 0.9863 - dense_1_accuracy_21: 0.9897 - dense_1_accuracy_22: 0.9918 - dense_1_accuracy_23: 0.9914 - dense_1_accuracy_24: 0.9944 - dense_1_accuracy_25: 0.9923 - dense_1_accuracy_26: 0.9953 - dense_1_accuracy_27: 0.9948 - dense_1_accuracy_28: 0.9953 - dense_1_accuracy_29: 0.9979 - dense_1_accuracy_30: 0.9974 - dense_1_accuracy_31: 0.9979 - dense_1_accuracy_32: 0.9979 - dense_1_accuracy_33: 0.9983 - dense_1_accuracy_34: 0.9991 - dense_1_accuracy_35: 0.9996 - dense_1_accuracy_36: 1.0000 - dense_1_accuracy_37: 1.0000 - dense_1_accuracy_38: 1.0000\n",
      "Epoch 71/200\n",
      "2329/2329 [==============================] - 2s 1ms/step - loss: 22.1692 - dense_1_loss: 4.9161e-04 - dense_1_accuracy: 0.1224 - dense_1_accuracy_1: 0.2662 - dense_1_accuracy_2: 0.2799 - dense_1_accuracy_3: 0.2976 - dense_1_accuracy_4: 0.2804 - dense_1_accuracy_5: 0.3302 - dense_1_accuracy_6: 0.4337 - dense_1_accuracy_7: 0.5457 - dense_1_accuracy_8: 0.6728 - dense_1_accuracy_9: 0.7746 - dense_1_accuracy_10: 0.8411 - dense_1_accuracy_11: 0.8854 - dense_1_accuracy_12: 0.9206 - dense_1_accuracy_13: 0.9343 - dense_1_accuracy_14: 0.9532 - dense_1_accuracy_15: 0.9609 - dense_1_accuracy_16: 0.9712 - dense_1_accuracy_17: 0.9785 - dense_1_accuracy_18: 0.9820 - dense_1_accuracy_19: 0.9815 - dense_1_accuracy_20: 0.9867 - dense_1_accuracy_21: 0.9901 - dense_1_accuracy_22: 0.9914 - dense_1_accuracy_23: 0.9910 - dense_1_accuracy_24: 0.9944 - dense_1_accuracy_25: 0.9927 - dense_1_accuracy_26: 0.9953 - dense_1_accuracy_27: 0.9944 - dense_1_accuracy_28: 0.9953 - dense_1_accuracy_29: 0.9979 - dense_1_accuracy_30: 0.9974 - dense_1_accuracy_31: 0.9979 - dense_1_accuracy_32: 0.9979 - dense_1_accuracy_33: 0.9983 - dense_1_accuracy_34: 0.9991 - dense_1_accuracy_35: 0.9996 - dense_1_accuracy_36: 1.0000 - dense_1_accuracy_37: 0.9996 - dense_1_accuracy_38: 1.0000\n",
      "Epoch 72/200\n",
      "2329/2329 [==============================] - 2s 1ms/step - loss: 22.1556 - dense_1_loss: 5.0099e-04 - dense_1_accuracy: 0.1224 - dense_1_accuracy_1: 0.2666 - dense_1_accuracy_2: 0.2799 - dense_1_accuracy_3: 0.2980 - dense_1_accuracy_4: 0.2782 - dense_1_accuracy_5: 0.3289 - dense_1_accuracy_6: 0.4354 - dense_1_accuracy_7: 0.5483 - dense_1_accuracy_8: 0.6733 - dense_1_accuracy_9: 0.7772 - dense_1_accuracy_10: 0.8411 - dense_1_accuracy_11: 0.8849 - dense_1_accuracy_12: 0.9171 - dense_1_accuracy_13: 0.9352 - dense_1_accuracy_14: 0.9528 - dense_1_accuracy_15: 0.9596 - dense_1_accuracy_16: 0.9725 - dense_1_accuracy_17: 0.9794 - dense_1_accuracy_18: 0.9815 - dense_1_accuracy_19: 0.9824 - dense_1_accuracy_20: 0.9867 - dense_1_accuracy_21: 0.9901 - dense_1_accuracy_22: 0.9914 - dense_1_accuracy_23: 0.9914 - dense_1_accuracy_24: 0.9944 - dense_1_accuracy_25: 0.9927 - dense_1_accuracy_26: 0.9953 - dense_1_accuracy_27: 0.9948 - dense_1_accuracy_28: 0.9953 - dense_1_accuracy_29: 0.9979 - dense_1_accuracy_30: 0.9974 - dense_1_accuracy_31: 0.9979 - dense_1_accuracy_32: 0.9979 - dense_1_accuracy_33: 0.9983 - dense_1_accuracy_34: 0.9991 - dense_1_accuracy_35: 0.9996 - dense_1_accuracy_36: 1.0000 - dense_1_accuracy_37: 0.9996 - dense_1_accuracy_38: 1.0000\n",
      "Epoch 73/200\n"
     ]
    },
    {
     "name": "stdout",
     "output_type": "stream",
     "text": [
      "2329/2329 [==============================] - 3s 1ms/step - loss: 22.1403 - dense_1_loss: 4.9590e-04 - dense_1_accuracy: 0.1224 - dense_1_accuracy_1: 0.2688 - dense_1_accuracy_2: 0.2795 - dense_1_accuracy_3: 0.3006 - dense_1_accuracy_4: 0.2782 - dense_1_accuracy_5: 0.3285 - dense_1_accuracy_6: 0.4354 - dense_1_accuracy_7: 0.5505 - dense_1_accuracy_8: 0.6733 - dense_1_accuracy_9: 0.7742 - dense_1_accuracy_10: 0.8437 - dense_1_accuracy_11: 0.8845 - dense_1_accuracy_12: 0.9180 - dense_1_accuracy_13: 0.9352 - dense_1_accuracy_14: 0.9528 - dense_1_accuracy_15: 0.9592 - dense_1_accuracy_16: 0.9721 - dense_1_accuracy_17: 0.9794 - dense_1_accuracy_18: 0.9824 - dense_1_accuracy_19: 0.9824 - dense_1_accuracy_20: 0.9863 - dense_1_accuracy_21: 0.9906 - dense_1_accuracy_22: 0.9914 - dense_1_accuracy_23: 0.9914 - dense_1_accuracy_24: 0.9944 - dense_1_accuracy_25: 0.9923 - dense_1_accuracy_26: 0.9953 - dense_1_accuracy_27: 0.9948 - dense_1_accuracy_28: 0.9953 - dense_1_accuracy_29: 0.9979 - dense_1_accuracy_30: 0.9974 - dense_1_accuracy_31: 0.9979 - dense_1_accuracy_32: 0.9979 - dense_1_accuracy_33: 0.9983 - dense_1_accuracy_34: 0.9991 - dense_1_accuracy_35: 0.9996 - dense_1_accuracy_36: 1.0000 - dense_1_accuracy_37: 0.9996 - dense_1_accuracy_38: 1.0000A: 1s - loss: 22.4796 - dense_1_loss: 1.3534e-06 - dense_1_accuracy: 0.1250 - dense_1_accuracy_1: 0.2554 - dense_1_accuracy_2: 0.2911 - dense_1_accuracy_3: 0.3063 - dense_1_accuracy_4: 0.2839 - dense_1_accuracy_5: 0.3152 - dense_1_accuracy_6: 0.4161 - dense_1_accuracy_7: 0.5411 - dense_1_accuracy_8: 0.6634 - dense_1_accuracy_9: 0.7509 - dense_1_accuracy_10: 0.8384 - dense_1_accuracy_11: 0.8741 - dense_1_accuracy_12: 0.9036 - dense_1_accuracy_13: 0.9304 - dense_1_accuracy_14: 0.9393 - dense_1_accuracy_15: 0.9536 - dense_1_accuracy_16: 0.9652 - dense_1_accuracy_17: 0.9786 - dense_1_accuracy_18: 0.9821 - dense_1_accuracy_19: 0.9786 - dense_1_accuracy_20: 0.9848 - dense_1_accuracy_21: 0.9884 - dense_1_accuracy_22: 0.9893 - dense_1_accuracy_23: 0.9893 - dense_1_accuracy_24: 0.9937 - dense_1_accuracy_25: 0.9911 - dense_1_accuracy_26: 0.9955 - dense_1_accuracy_27: 0.9937 - dense_1_accuracy_28: 0.9964 - dense_1_accuracy_29: 0.9973 - dense_1_accuracy_30: 0.9964 - dense_1_accuracy_31: 0.9973 - dense_1_accuracy_32: 0.9982 - dense_1_accuracy_33: 0.9982 - dense_1_accuracy_34: 0.9991 - dense_1_accuracy_35: 1.0000 - dense_1_accuracy_36: 1.0000 - dense_1_accuracy_37: 1.0000 - dense_1\n",
      "Epoch 74/200\n",
      "2329/2329 [==============================] - 2s 1ms/step - loss: 22.1283 - dense_1_loss: 5.3066e-04 - dense_1_accuracy: 0.1224 - dense_1_accuracy_1: 0.2684 - dense_1_accuracy_2: 0.2808 - dense_1_accuracy_3: 0.3014 - dense_1_accuracy_4: 0.2774 - dense_1_accuracy_5: 0.3293 - dense_1_accuracy_6: 0.4384 - dense_1_accuracy_7: 0.5500 - dense_1_accuracy_8: 0.6758 - dense_1_accuracy_9: 0.7750 - dense_1_accuracy_10: 0.8433 - dense_1_accuracy_11: 0.8849 - dense_1_accuracy_12: 0.9171 - dense_1_accuracy_13: 0.9347 - dense_1_accuracy_14: 0.9532 - dense_1_accuracy_15: 0.9592 - dense_1_accuracy_16: 0.9725 - dense_1_accuracy_17: 0.9798 - dense_1_accuracy_18: 0.9820 - dense_1_accuracy_19: 0.9820 - dense_1_accuracy_20: 0.9863 - dense_1_accuracy_21: 0.9901 - dense_1_accuracy_22: 0.9914 - dense_1_accuracy_23: 0.9910 - dense_1_accuracy_24: 0.9944 - dense_1_accuracy_25: 0.9927 - dense_1_accuracy_26: 0.9953 - dense_1_accuracy_27: 0.9948 - dense_1_accuracy_28: 0.9953 - dense_1_accuracy_29: 0.9979 - dense_1_accuracy_30: 0.9970 - dense_1_accuracy_31: 0.9983 - dense_1_accuracy_32: 0.9979 - dense_1_accuracy_33: 0.9983 - dense_1_accuracy_34: 0.9991 - dense_1_accuracy_35: 0.9996 - dense_1_accuracy_36: 1.0000 - dense_1_accuracy_37: 0.9996 - dense_1_accuracy_38: 1.0000\n",
      "Epoch 75/200\n",
      "2329/2329 [==============================] - 2s 982us/step - loss: 22.1152 - dense_1_loss: 5.0874e-04 - dense_1_accuracy: 0.1224 - dense_1_accuracy_1: 0.2722 - dense_1_accuracy_2: 0.2795 - dense_1_accuracy_3: 0.3014 - dense_1_accuracy_4: 0.2782 - dense_1_accuracy_5: 0.3319 - dense_1_accuracy_6: 0.4371 - dense_1_accuracy_7: 0.5509 - dense_1_accuracy_8: 0.6728 - dense_1_accuracy_9: 0.7780 - dense_1_accuracy_10: 0.8429 - dense_1_accuracy_11: 0.8845 - dense_1_accuracy_12: 0.9188 - dense_1_accuracy_13: 0.9352 - dense_1_accuracy_14: 0.9528 - dense_1_accuracy_15: 0.9605 - dense_1_accuracy_16: 0.9725 - dense_1_accuracy_17: 0.9785 - dense_1_accuracy_18: 0.9815 - dense_1_accuracy_19: 0.9824 - dense_1_accuracy_20: 0.9871 - dense_1_accuracy_21: 0.9901 - dense_1_accuracy_22: 0.9914 - dense_1_accuracy_23: 0.9918 - dense_1_accuracy_24: 0.9940 - dense_1_accuracy_25: 0.9927 - dense_1_accuracy_26: 0.9953 - dense_1_accuracy_27: 0.9953 - dense_1_accuracy_28: 0.9953 - dense_1_accuracy_29: 0.9979 - dense_1_accuracy_30: 0.9974 - dense_1_accuracy_31: 0.9983 - dense_1_accuracy_32: 0.9979 - dense_1_accuracy_33: 0.9983 - dense_1_accuracy_34: 0.9991 - dense_1_accuracy_35: 0.9996 - dense_1_accuracy_36: 1.0000 - dense_1_accuracy_37: 0.9996 - dense_1_accuracy_38: 1.0000\n",
      "Epoch 76/200\n",
      "2329/2329 [==============================] - 2s 1ms/step - loss: 22.1018 - dense_1_loss: 5.4549e-04 - dense_1_accuracy: 0.1224 - dense_1_accuracy_1: 0.2675 - dense_1_accuracy_2: 0.2787 - dense_1_accuracy_3: 0.3023 - dense_1_accuracy_4: 0.2787 - dense_1_accuracy_5: 0.3285 - dense_1_accuracy_6: 0.4380 - dense_1_accuracy_7: 0.5427 - dense_1_accuracy_8: 0.6758 - dense_1_accuracy_9: 0.7793 - dense_1_accuracy_10: 0.8433 - dense_1_accuracy_11: 0.8871 - dense_1_accuracy_12: 0.9193 - dense_1_accuracy_13: 0.9356 - dense_1_accuracy_14: 0.9532 - dense_1_accuracy_15: 0.9609 - dense_1_accuracy_16: 0.9729 - dense_1_accuracy_17: 0.9794 - dense_1_accuracy_18: 0.9833 - dense_1_accuracy_19: 0.9828 - dense_1_accuracy_20: 0.9858 - dense_1_accuracy_21: 0.9901 - dense_1_accuracy_22: 0.9914 - dense_1_accuracy_23: 0.9914 - dense_1_accuracy_24: 0.9948 - dense_1_accuracy_25: 0.9927 - dense_1_accuracy_26: 0.9953 - dense_1_accuracy_27: 0.9948 - dense_1_accuracy_28: 0.9953 - dense_1_accuracy_29: 0.9979 - dense_1_accuracy_30: 0.9974 - dense_1_accuracy_31: 0.9979 - dense_1_accuracy_32: 0.9979 - dense_1_accuracy_33: 0.9983 - dense_1_accuracy_34: 0.9991 - dense_1_accuracy_35: 0.9996 - dense_1_accuracy_36: 1.0000 - dense_1_accuracy_37: 0.9996 - dense_1_accuracy_38: 1.0000\n",
      "Epoch 77/200\n",
      "2329/2329 [==============================] - 2s 1ms/step - loss: 22.0893 - dense_1_loss: 5.2501e-04 - dense_1_accuracy: 0.1224 - dense_1_accuracy_1: 0.2718 - dense_1_accuracy_2: 0.2834 - dense_1_accuracy_3: 0.2997 - dense_1_accuracy_4: 0.2808 - dense_1_accuracy_5: 0.3289 - dense_1_accuracy_6: 0.4358 - dense_1_accuracy_7: 0.5517 - dense_1_accuracy_8: 0.6750 - dense_1_accuracy_9: 0.7784 - dense_1_accuracy_10: 0.8420 - dense_1_accuracy_11: 0.8854 - dense_1_accuracy_12: 0.9197 - dense_1_accuracy_13: 0.9365 - dense_1_accuracy_14: 0.9532 - dense_1_accuracy_15: 0.9596 - dense_1_accuracy_16: 0.9721 - dense_1_accuracy_17: 0.9794 - dense_1_accuracy_18: 0.9820 - dense_1_accuracy_19: 0.9824 - dense_1_accuracy_20: 0.9875 - dense_1_accuracy_21: 0.9906 - dense_1_accuracy_22: 0.9914 - dense_1_accuracy_23: 0.9918 - dense_1_accuracy_24: 0.9948 - dense_1_accuracy_25: 0.9927 - dense_1_accuracy_26: 0.9953 - dense_1_accuracy_27: 0.9948 - dense_1_accuracy_28: 0.9953 - dense_1_accuracy_29: 0.9979 - dense_1_accuracy_30: 0.9974 - dense_1_accuracy_31: 0.9983 - dense_1_accuracy_32: 0.9979 - dense_1_accuracy_33: 0.9983 - dense_1_accuracy_34: 0.9991 - dense_1_accuracy_35: 0.9996 - dense_1_accuracy_36: 1.0000 - dense_1_accuracy_37: 0.9996 - dense_1_accuracy_38: 1.0000\n",
      "Epoch 78/200\n"
     ]
    },
    {
     "name": "stdout",
     "output_type": "stream",
     "text": [
      "2329/2329 [==============================] - 2s 1ms/step - loss: 22.0786 - dense_1_loss: 5.8948e-04 - dense_1_accuracy: 0.1224 - dense_1_accuracy_1: 0.2662 - dense_1_accuracy_2: 0.2778 - dense_1_accuracy_3: 0.3014 - dense_1_accuracy_4: 0.2787 - dense_1_accuracy_5: 0.3302 - dense_1_accuracy_6: 0.4392 - dense_1_accuracy_7: 0.5522 - dense_1_accuracy_8: 0.6763 - dense_1_accuracy_9: 0.7772 - dense_1_accuracy_10: 0.8424 - dense_1_accuracy_11: 0.8862 - dense_1_accuracy_12: 0.9176 - dense_1_accuracy_13: 0.9360 - dense_1_accuracy_14: 0.9528 - dense_1_accuracy_15: 0.9601 - dense_1_accuracy_16: 0.9721 - dense_1_accuracy_17: 0.9794 - dense_1_accuracy_18: 0.9828 - dense_1_accuracy_19: 0.9820 - dense_1_accuracy_20: 0.9858 - dense_1_accuracy_21: 0.9901 - dense_1_accuracy_22: 0.9914 - dense_1_accuracy_23: 0.9918 - dense_1_accuracy_24: 0.9948 - dense_1_accuracy_25: 0.9923 - dense_1_accuracy_26: 0.9953 - dense_1_accuracy_27: 0.9948 - dense_1_accuracy_28: 0.9953 - dense_1_accuracy_29: 0.9979 - dense_1_accuracy_30: 0.9974 - dense_1_accuracy_31: 0.9983 - dense_1_accuracy_32: 0.9979 - dense_1_accuracy_33: 0.9983 - dense_1_accuracy_34: 0.9991 - dense_1_accuracy_35: 0.9996 - dense_1_accuracy_36: 1.0000 - dense_1_accuracy_37: 0.9996 - dense_1_accuracy_38: 1.0000\n",
      "Epoch 79/200\n",
      "2329/2329 [==============================] - 2s 1ms/step - loss: 22.0659 - dense_1_loss: 4.0742e-04 - dense_1_accuracy: 0.1224 - dense_1_accuracy_1: 0.2701 - dense_1_accuracy_2: 0.2795 - dense_1_accuracy_3: 0.3006 - dense_1_accuracy_4: 0.2782 - dense_1_accuracy_5: 0.3298 - dense_1_accuracy_6: 0.4350 - dense_1_accuracy_7: 0.5543 - dense_1_accuracy_8: 0.6758 - dense_1_accuracy_9: 0.7763 - dense_1_accuracy_10: 0.8446 - dense_1_accuracy_11: 0.8854 - dense_1_accuracy_12: 0.9197 - dense_1_accuracy_13: 0.9356 - dense_1_accuracy_14: 0.9541 - dense_1_accuracy_15: 0.9601 - dense_1_accuracy_16: 0.9729 - dense_1_accuracy_17: 0.9802 - dense_1_accuracy_18: 0.9820 - dense_1_accuracy_19: 0.9824 - dense_1_accuracy_20: 0.9863 - dense_1_accuracy_21: 0.9901 - dense_1_accuracy_22: 0.9914 - dense_1_accuracy_23: 0.9918 - dense_1_accuracy_24: 0.9948 - dense_1_accuracy_25: 0.9927 - dense_1_accuracy_26: 0.9953 - dense_1_accuracy_27: 0.9948 - dense_1_accuracy_28: 0.9953 - dense_1_accuracy_29: 0.9979 - dense_1_accuracy_30: 0.9974 - dense_1_accuracy_31: 0.9983 - dense_1_accuracy_32: 0.9979 - dense_1_accuracy_33: 0.9983 - dense_1_accuracy_34: 0.9991 - dense_1_accuracy_35: 0.9996 - dense_1_accuracy_36: 1.0000 - dense_1_accuracy_37: 0.9996 - dense_1_accuracy_38: 1.0000\n",
      "Epoch 80/200\n",
      "2329/2329 [==============================] - 2s 1ms/step - loss: 22.0555 - dense_1_loss: 4.6250e-04 - dense_1_accuracy: 0.1224 - dense_1_accuracy_1: 0.2701 - dense_1_accuracy_2: 0.2812 - dense_1_accuracy_3: 0.3006 - dense_1_accuracy_4: 0.2808 - dense_1_accuracy_5: 0.3298 - dense_1_accuracy_6: 0.4397 - dense_1_accuracy_7: 0.5505 - dense_1_accuracy_8: 0.6767 - dense_1_accuracy_9: 0.7767 - dense_1_accuracy_10: 0.8441 - dense_1_accuracy_11: 0.8858 - dense_1_accuracy_12: 0.9197 - dense_1_accuracy_13: 0.9356 - dense_1_accuracy_14: 0.9532 - dense_1_accuracy_15: 0.9592 - dense_1_accuracy_16: 0.9721 - dense_1_accuracy_17: 0.9798 - dense_1_accuracy_18: 0.9833 - dense_1_accuracy_19: 0.9824 - dense_1_accuracy_20: 0.9867 - dense_1_accuracy_21: 0.9901 - dense_1_accuracy_22: 0.9914 - dense_1_accuracy_23: 0.9918 - dense_1_accuracy_24: 0.9948 - dense_1_accuracy_25: 0.9923 - dense_1_accuracy_26: 0.9953 - dense_1_accuracy_27: 0.9948 - dense_1_accuracy_28: 0.9953 - dense_1_accuracy_29: 0.9979 - dense_1_accuracy_30: 0.9974 - dense_1_accuracy_31: 0.9983 - dense_1_accuracy_32: 0.9979 - dense_1_accuracy_33: 0.9983 - dense_1_accuracy_34: 0.9991 - dense_1_accuracy_35: 0.9996 - dense_1_accuracy_36: 1.0000 - dense_1_accuracy_37: 0.9996 - dense_1_accuracy_38: 1.0000\n",
      "Epoch 81/200\n",
      "2329/2329 [==============================] - 2s 1ms/step - loss: 22.0426 - dense_1_loss: 4.8826e-04 - dense_1_accuracy: 0.1224 - dense_1_accuracy_1: 0.2688 - dense_1_accuracy_2: 0.2812 - dense_1_accuracy_3: 0.3036 - dense_1_accuracy_4: 0.2787 - dense_1_accuracy_5: 0.3306 - dense_1_accuracy_6: 0.4427 - dense_1_accuracy_7: 0.5530 - dense_1_accuracy_8: 0.6763 - dense_1_accuracy_9: 0.7763 - dense_1_accuracy_10: 0.8463 - dense_1_accuracy_11: 0.8866 - dense_1_accuracy_12: 0.9197 - dense_1_accuracy_13: 0.9360 - dense_1_accuracy_14: 0.9532 - dense_1_accuracy_15: 0.9584 - dense_1_accuracy_16: 0.9729 - dense_1_accuracy_17: 0.9798 - dense_1_accuracy_18: 0.9837 - dense_1_accuracy_19: 0.9828 - dense_1_accuracy_20: 0.9867 - dense_1_accuracy_21: 0.9901 - dense_1_accuracy_22: 0.9914 - dense_1_accuracy_23: 0.9918 - dense_1_accuracy_24: 0.9953 - dense_1_accuracy_25: 0.9927 - dense_1_accuracy_26: 0.9953 - dense_1_accuracy_27: 0.9953 - dense_1_accuracy_28: 0.9953 - dense_1_accuracy_29: 0.9979 - dense_1_accuracy_30: 0.9974 - dense_1_accuracy_31: 0.9983 - dense_1_accuracy_32: 0.9979 - dense_1_accuracy_33: 0.9983 - dense_1_accuracy_34: 0.9991 - dense_1_accuracy_35: 0.9996 - dense_1_accuracy_36: 1.0000 - dense_1_accuracy_37: 0.9996 - dense_1_accuracy_38: 1.0000\n",
      "Epoch 82/200\n",
      "2329/2329 [==============================] - 2s 1ms/step - loss: 22.0324 - dense_1_loss: 5.0237e-04 - dense_1_accuracy: 0.1224 - dense_1_accuracy_1: 0.2675 - dense_1_accuracy_2: 0.2830 - dense_1_accuracy_3: 0.3049 - dense_1_accuracy_4: 0.2812 - dense_1_accuracy_5: 0.3332 - dense_1_accuracy_6: 0.4371 - dense_1_accuracy_7: 0.5526 - dense_1_accuracy_8: 0.6741 - dense_1_accuracy_9: 0.7780 - dense_1_accuracy_10: 0.8463 - dense_1_accuracy_11: 0.8871 - dense_1_accuracy_12: 0.9193 - dense_1_accuracy_13: 0.9369 - dense_1_accuracy_14: 0.9523 - dense_1_accuracy_15: 0.9592 - dense_1_accuracy_16: 0.9729 - dense_1_accuracy_17: 0.9790 - dense_1_accuracy_18: 0.9824 - dense_1_accuracy_19: 0.9824 - dense_1_accuracy_20: 0.9867 - dense_1_accuracy_21: 0.9901 - dense_1_accuracy_22: 0.9914 - dense_1_accuracy_23: 0.9923 - dense_1_accuracy_24: 0.9948 - dense_1_accuracy_25: 0.9923 - dense_1_accuracy_26: 0.9953 - dense_1_accuracy_27: 0.9948 - dense_1_accuracy_28: 0.9953 - dense_1_accuracy_29: 0.9979 - dense_1_accuracy_30: 0.9974 - dense_1_accuracy_31: 0.9983 - dense_1_accuracy_32: 0.9979 - dense_1_accuracy_33: 0.9983 - dense_1_accuracy_34: 0.9991 - dense_1_accuracy_35: 0.9996 - dense_1_accuracy_36: 1.0000 - dense_1_accuracy_37: 0.9996 - dense_1_accuracy_38: 1.0000\n",
      "Epoch 83/200\n",
      "2329/2329 [==============================] - 2s 992us/step - loss: 22.0221 - dense_1_loss: 5.3716e-04 - dense_1_accuracy: 0.1224 - dense_1_accuracy_1: 0.2709 - dense_1_accuracy_2: 0.2804 - dense_1_accuracy_3: 0.3057 - dense_1_accuracy_4: 0.2808 - dense_1_accuracy_5: 0.3310 - dense_1_accuracy_6: 0.4405 - dense_1_accuracy_7: 0.5539 - dense_1_accuracy_8: 0.6754 - dense_1_accuracy_9: 0.7806 - dense_1_accuracy_10: 0.8463 - dense_1_accuracy_11: 0.8875 - dense_1_accuracy_12: 0.9188 - dense_1_accuracy_13: 0.9373 - dense_1_accuracy_14: 0.9528 - dense_1_accuracy_15: 0.9601 - dense_1_accuracy_16: 0.9725 - dense_1_accuracy_17: 0.9798 - dense_1_accuracy_18: 0.9828 - dense_1_accuracy_19: 0.9824 - dense_1_accuracy_20: 0.9875 - dense_1_accuracy_21: 0.9910 - dense_1_accuracy_22: 0.9914 - dense_1_accuracy_23: 0.9918 - dense_1_accuracy_24: 0.9948 - dense_1_accuracy_25: 0.9923 - dense_1_accuracy_26: 0.9953 - dense_1_accuracy_27: 0.9948 - dense_1_accuracy_28: 0.9953 - dense_1_accuracy_29: 0.9983 - dense_1_accuracy_30: 0.9974 - dense_1_accuracy_31: 0.9983 - dense_1_accuracy_32: 0.9979 - dense_1_accuracy_33: 0.9983 - dense_1_accuracy_34: 0.9991 - dense_1_accuracy_35: 0.9996 - dense_1_accuracy_36: 1.0000 - dense_1_accuracy_37: 0.9996 - dense_1_accuracy_38: 1.0000\n",
      "Epoch 84/200\n"
     ]
    },
    {
     "name": "stdout",
     "output_type": "stream",
     "text": [
      "2329/2329 [==============================] - 2s 1ms/step - loss: 22.0114 - dense_1_loss: 4.5693e-04 - dense_1_accuracy: 0.1224 - dense_1_accuracy_1: 0.2679 - dense_1_accuracy_2: 0.2838 - dense_1_accuracy_3: 0.3057 - dense_1_accuracy_4: 0.2795 - dense_1_accuracy_5: 0.3302 - dense_1_accuracy_6: 0.4388 - dense_1_accuracy_7: 0.5526 - dense_1_accuracy_8: 0.6788 - dense_1_accuracy_9: 0.7797 - dense_1_accuracy_10: 0.8450 - dense_1_accuracy_11: 0.8871 - dense_1_accuracy_12: 0.9210 - dense_1_accuracy_13: 0.9377 - dense_1_accuracy_14: 0.9536 - dense_1_accuracy_15: 0.9605 - dense_1_accuracy_16: 0.9717 - dense_1_accuracy_17: 0.9802 - dense_1_accuracy_18: 0.9828 - dense_1_accuracy_19: 0.9824 - dense_1_accuracy_20: 0.9867 - dense_1_accuracy_21: 0.9906 - dense_1_accuracy_22: 0.9918 - dense_1_accuracy_23: 0.9918 - dense_1_accuracy_24: 0.9948 - dense_1_accuracy_25: 0.9923 - dense_1_accuracy_26: 0.9953 - dense_1_accuracy_27: 0.9948 - dense_1_accuracy_28: 0.9953 - dense_1_accuracy_29: 0.9979 - dense_1_accuracy_30: 0.9970 - dense_1_accuracy_31: 0.9983 - dense_1_accuracy_32: 0.9979 - dense_1_accuracy_33: 0.9983 - dense_1_accuracy_34: 0.9991 - dense_1_accuracy_35: 0.9996 - dense_1_accuracy_36: 1.0000 - dense_1_accuracy_37: 0.9996 - dense_1_accuracy_38: 1.0000\n",
      "Epoch 85/200\n",
      "2329/2329 [==============================] - 2s 1ms/step - loss: 21.9979 - dense_1_loss: 4.8278e-04 - dense_1_accuracy: 0.1224 - dense_1_accuracy_1: 0.2688 - dense_1_accuracy_2: 0.2838 - dense_1_accuracy_3: 0.3057 - dense_1_accuracy_4: 0.2834 - dense_1_accuracy_5: 0.3332 - dense_1_accuracy_6: 0.4414 - dense_1_accuracy_7: 0.5573 - dense_1_accuracy_8: 0.6775 - dense_1_accuracy_9: 0.7793 - dense_1_accuracy_10: 0.8446 - dense_1_accuracy_11: 0.8871 - dense_1_accuracy_12: 0.9210 - dense_1_accuracy_13: 0.9369 - dense_1_accuracy_14: 0.9532 - dense_1_accuracy_15: 0.9592 - dense_1_accuracy_16: 0.9725 - dense_1_accuracy_17: 0.9798 - dense_1_accuracy_18: 0.9833 - dense_1_accuracy_19: 0.9824 - dense_1_accuracy_20: 0.9867 - dense_1_accuracy_21: 0.9901 - dense_1_accuracy_22: 0.9914 - dense_1_accuracy_23: 0.9918 - dense_1_accuracy_24: 0.9948 - dense_1_accuracy_25: 0.9923 - dense_1_accuracy_26: 0.9953 - dense_1_accuracy_27: 0.9948 - dense_1_accuracy_28: 0.9953 - dense_1_accuracy_29: 0.9983 - dense_1_accuracy_30: 0.9970 - dense_1_accuracy_31: 0.9983 - dense_1_accuracy_32: 0.9979 - dense_1_accuracy_33: 0.9983 - dense_1_accuracy_34: 0.9991 - dense_1_accuracy_35: 0.9996 - dense_1_accuracy_36: 1.0000 - dense_1_accuracy_37: 0.9996 - dense_1_accuracy_38: 1.0000\n",
      "Epoch 86/200\n",
      "2329/2329 [==============================] - 2s 1ms/step - loss: 21.9864 - dense_1_loss: 4.2650e-04 - dense_1_accuracy: 0.1224 - dense_1_accuracy_1: 0.2662 - dense_1_accuracy_2: 0.2830 - dense_1_accuracy_3: 0.3053 - dense_1_accuracy_4: 0.2830 - dense_1_accuracy_5: 0.3332 - dense_1_accuracy_6: 0.4388 - dense_1_accuracy_7: 0.5552 - dense_1_accuracy_8: 0.6788 - dense_1_accuracy_9: 0.7819 - dense_1_accuracy_10: 0.8454 - dense_1_accuracy_11: 0.8884 - dense_1_accuracy_12: 0.9214 - dense_1_accuracy_13: 0.9373 - dense_1_accuracy_14: 0.9528 - dense_1_accuracy_15: 0.9596 - dense_1_accuracy_16: 0.9729 - dense_1_accuracy_17: 0.9798 - dense_1_accuracy_18: 0.9828 - dense_1_accuracy_19: 0.9828 - dense_1_accuracy_20: 0.9867 - dense_1_accuracy_21: 0.9901 - dense_1_accuracy_22: 0.9914 - dense_1_accuracy_23: 0.9918 - dense_1_accuracy_24: 0.9953 - dense_1_accuracy_25: 0.9923 - dense_1_accuracy_26: 0.9953 - dense_1_accuracy_27: 0.9953 - dense_1_accuracy_28: 0.9953 - dense_1_accuracy_29: 0.9979 - dense_1_accuracy_30: 0.9970 - dense_1_accuracy_31: 0.9983 - dense_1_accuracy_32: 0.9983 - dense_1_accuracy_33: 0.9983 - dense_1_accuracy_34: 0.9991 - dense_1_accuracy_35: 0.9996 - dense_1_accuracy_36: 1.0000 - dense_1_accuracy_37: 0.9996 - dense_1_accuracy_38: 1.0000\n",
      "Epoch 87/200\n",
      "2329/2329 [==============================] - 2s 1ms/step - loss: 21.9771 - dense_1_loss: 4.5776e-04 - dense_1_accuracy: 0.1224 - dense_1_accuracy_1: 0.2679 - dense_1_accuracy_2: 0.2821 - dense_1_accuracy_3: 0.3040 - dense_1_accuracy_4: 0.2804 - dense_1_accuracy_5: 0.3319 - dense_1_accuracy_6: 0.4401 - dense_1_accuracy_7: 0.5539 - dense_1_accuracy_8: 0.6771 - dense_1_accuracy_9: 0.7780 - dense_1_accuracy_10: 0.8446 - dense_1_accuracy_11: 0.8888 - dense_1_accuracy_12: 0.9197 - dense_1_accuracy_13: 0.9373 - dense_1_accuracy_14: 0.9541 - dense_1_accuracy_15: 0.9601 - dense_1_accuracy_16: 0.9734 - dense_1_accuracy_17: 0.9802 - dense_1_accuracy_18: 0.9828 - dense_1_accuracy_19: 0.9828 - dense_1_accuracy_20: 0.9867 - dense_1_accuracy_21: 0.9901 - dense_1_accuracy_22: 0.9914 - dense_1_accuracy_23: 0.9914 - dense_1_accuracy_24: 0.9948 - dense_1_accuracy_25: 0.9927 - dense_1_accuracy_26: 0.9953 - dense_1_accuracy_27: 0.9953 - dense_1_accuracy_28: 0.9953 - dense_1_accuracy_29: 0.9979 - dense_1_accuracy_30: 0.9974 - dense_1_accuracy_31: 0.9983 - dense_1_accuracy_32: 0.9979 - dense_1_accuracy_33: 0.9983 - dense_1_accuracy_34: 0.9991 - dense_1_accuracy_35: 0.9996 - dense_1_accuracy_36: 1.0000 - dense_1_accuracy_37: 0.9996 - dense_1_accuracy_38: 1.0000\n",
      "Epoch 88/200\n",
      "2329/2329 [==============================] - 2s 1ms/step - loss: 21.9696 - dense_1_loss: 3.7348e-04 - dense_1_accuracy: 0.1224 - dense_1_accuracy_1: 0.2709 - dense_1_accuracy_2: 0.2817 - dense_1_accuracy_3: 0.3044 - dense_1_accuracy_4: 0.2838 - dense_1_accuracy_5: 0.3366 - dense_1_accuracy_6: 0.4401 - dense_1_accuracy_7: 0.5573 - dense_1_accuracy_8: 0.6750 - dense_1_accuracy_9: 0.7832 - dense_1_accuracy_10: 0.8463 - dense_1_accuracy_11: 0.8884 - dense_1_accuracy_12: 0.9210 - dense_1_accuracy_13: 0.9373 - dense_1_accuracy_14: 0.9528 - dense_1_accuracy_15: 0.9596 - dense_1_accuracy_16: 0.9734 - dense_1_accuracy_17: 0.9798 - dense_1_accuracy_18: 0.9828 - dense_1_accuracy_19: 0.9828 - dense_1_accuracy_20: 0.9871 - dense_1_accuracy_21: 0.9910 - dense_1_accuracy_22: 0.9914 - dense_1_accuracy_23: 0.9923 - dense_1_accuracy_24: 0.9948 - dense_1_accuracy_25: 0.9927 - dense_1_accuracy_26: 0.9953 - dense_1_accuracy_27: 0.9953 - dense_1_accuracy_28: 0.9953 - dense_1_accuracy_29: 0.9979 - dense_1_accuracy_30: 0.9974 - dense_1_accuracy_31: 0.9983 - dense_1_accuracy_32: 0.9979 - dense_1_accuracy_33: 0.9983 - dense_1_accuracy_34: 0.9991 - dense_1_accuracy_35: 0.9996 - dense_1_accuracy_36: 1.0000 - dense_1_accuracy_37: 0.9996 - dense_1_accuracy_38: 1.0000\n",
      "Epoch 89/200\n",
      "2329/2329 [==============================] - 2s 1ms/step - loss: 21.9542 - dense_1_loss: 4.9502e-04 - dense_1_accuracy: 0.1224 - dense_1_accuracy_1: 0.2696 - dense_1_accuracy_2: 0.2847 - dense_1_accuracy_3: 0.3091 - dense_1_accuracy_4: 0.2834 - dense_1_accuracy_5: 0.3328 - dense_1_accuracy_6: 0.4410 - dense_1_accuracy_7: 0.5565 - dense_1_accuracy_8: 0.6775 - dense_1_accuracy_9: 0.7797 - dense_1_accuracy_10: 0.8459 - dense_1_accuracy_11: 0.8879 - dense_1_accuracy_12: 0.9201 - dense_1_accuracy_13: 0.9377 - dense_1_accuracy_14: 0.9541 - dense_1_accuracy_15: 0.9609 - dense_1_accuracy_16: 0.9725 - dense_1_accuracy_17: 0.9798 - dense_1_accuracy_18: 0.9833 - dense_1_accuracy_19: 0.9824 - dense_1_accuracy_20: 0.9871 - dense_1_accuracy_21: 0.9901 - dense_1_accuracy_22: 0.9914 - dense_1_accuracy_23: 0.9923 - dense_1_accuracy_24: 0.9948 - dense_1_accuracy_25: 0.9923 - dense_1_accuracy_26: 0.9953 - dense_1_accuracy_27: 0.9953 - dense_1_accuracy_28: 0.9953 - dense_1_accuracy_29: 0.9979 - dense_1_accuracy_30: 0.9974 - dense_1_accuracy_31: 0.9983 - dense_1_accuracy_32: 0.9979 - dense_1_accuracy_33: 0.9983 - dense_1_accuracy_34: 0.9991 - dense_1_accuracy_35: 0.9996 - dense_1_accuracy_36: 1.0000 - dense_1_accuracy_37: 0.9996 - dense_1_accuracy_38: 1.0000\n",
      "Epoch 90/200\n"
     ]
    },
    {
     "name": "stdout",
     "output_type": "stream",
     "text": [
      "2329/2329 [==============================] - 2s 1ms/step - loss: 21.9436 - dense_1_loss: 4.2300e-04 - dense_1_accuracy: 0.1224 - dense_1_accuracy_1: 0.2641 - dense_1_accuracy_2: 0.2855 - dense_1_accuracy_3: 0.3057 - dense_1_accuracy_4: 0.2821 - dense_1_accuracy_5: 0.3323 - dense_1_accuracy_6: 0.4435 - dense_1_accuracy_7: 0.5573 - dense_1_accuracy_8: 0.6793 - dense_1_accuracy_9: 0.7815 - dense_1_accuracy_10: 0.8471 - dense_1_accuracy_11: 0.8862 - dense_1_accuracy_12: 0.9201 - dense_1_accuracy_13: 0.9382 - dense_1_accuracy_14: 0.9528 - dense_1_accuracy_15: 0.9614 - dense_1_accuracy_16: 0.9734 - dense_1_accuracy_17: 0.9798 - dense_1_accuracy_18: 0.9833 - dense_1_accuracy_19: 0.9828 - dense_1_accuracy_20: 0.9871 - dense_1_accuracy_21: 0.9906 - dense_1_accuracy_22: 0.9914 - dense_1_accuracy_23: 0.9923 - dense_1_accuracy_24: 0.9948 - dense_1_accuracy_25: 0.9927 - dense_1_accuracy_26: 0.9953 - dense_1_accuracy_27: 0.9953 - dense_1_accuracy_28: 0.9953 - dense_1_accuracy_29: 0.9979 - dense_1_accuracy_30: 0.9974 - dense_1_accuracy_31: 0.9983 - dense_1_accuracy_32: 0.9979 - dense_1_accuracy_33: 0.9983 - dense_1_accuracy_34: 0.9991 - dense_1_accuracy_35: 0.9996 - dense_1_accuracy_36: 1.0000 - dense_1_accuracy_37: 0.9996 - dense_1_accuracy_38: 1.0000\n",
      "Epoch 91/200\n",
      "2329/2329 [==============================] - 2s 1ms/step - loss: 21.9347 - dense_1_loss: 3.6987e-04 - dense_1_accuracy: 0.1224 - dense_1_accuracy_1: 0.2692 - dense_1_accuracy_2: 0.2842 - dense_1_accuracy_3: 0.3079 - dense_1_accuracy_4: 0.2855 - dense_1_accuracy_5: 0.3353 - dense_1_accuracy_6: 0.4418 - dense_1_accuracy_7: 0.5578 - dense_1_accuracy_8: 0.6780 - dense_1_accuracy_9: 0.7815 - dense_1_accuracy_10: 0.8454 - dense_1_accuracy_11: 0.8879 - dense_1_accuracy_12: 0.9193 - dense_1_accuracy_13: 0.9386 - dense_1_accuracy_14: 0.9532 - dense_1_accuracy_15: 0.9609 - dense_1_accuracy_16: 0.9729 - dense_1_accuracy_17: 0.9802 - dense_1_accuracy_18: 0.9833 - dense_1_accuracy_19: 0.9820 - dense_1_accuracy_20: 0.9871 - dense_1_accuracy_21: 0.9906 - dense_1_accuracy_22: 0.9914 - dense_1_accuracy_23: 0.9923 - dense_1_accuracy_24: 0.9948 - dense_1_accuracy_25: 0.9927 - dense_1_accuracy_26: 0.9953 - dense_1_accuracy_27: 0.9953 - dense_1_accuracy_28: 0.9953 - dense_1_accuracy_29: 0.9979 - dense_1_accuracy_30: 0.9974 - dense_1_accuracy_31: 0.9983 - dense_1_accuracy_32: 0.9979 - dense_1_accuracy_33: 0.9983 - dense_1_accuracy_34: 0.9991 - dense_1_accuracy_35: 0.9996 - dense_1_accuracy_36: 1.0000 - dense_1_accuracy_37: 0.9996 - dense_1_accuracy_38: 1.0000\n",
      "Epoch 92/200\n",
      "2329/2329 [==============================] - 2s 1ms/step - loss: 21.9231 - dense_1_loss: 4.1922e-04 - dense_1_accuracy: 0.1224 - dense_1_accuracy_1: 0.2675 - dense_1_accuracy_2: 0.2847 - dense_1_accuracy_3: 0.3044 - dense_1_accuracy_4: 0.2851 - dense_1_accuracy_5: 0.3336 - dense_1_accuracy_6: 0.4440 - dense_1_accuracy_7: 0.5582 - dense_1_accuracy_8: 0.6801 - dense_1_accuracy_9: 0.7819 - dense_1_accuracy_10: 0.8480 - dense_1_accuracy_11: 0.8884 - dense_1_accuracy_12: 0.9188 - dense_1_accuracy_13: 0.9390 - dense_1_accuracy_14: 0.9536 - dense_1_accuracy_15: 0.9601 - dense_1_accuracy_16: 0.9734 - dense_1_accuracy_17: 0.9798 - dense_1_accuracy_18: 0.9828 - dense_1_accuracy_19: 0.9828 - dense_1_accuracy_20: 0.9871 - dense_1_accuracy_21: 0.9901 - dense_1_accuracy_22: 0.9914 - dense_1_accuracy_23: 0.9918 - dense_1_accuracy_24: 0.9948 - dense_1_accuracy_25: 0.9927 - dense_1_accuracy_26: 0.9953 - dense_1_accuracy_27: 0.9953 - dense_1_accuracy_28: 0.9953 - dense_1_accuracy_29: 0.9979 - dense_1_accuracy_30: 0.9974 - dense_1_accuracy_31: 0.9983 - dense_1_accuracy_32: 0.9979 - dense_1_accuracy_33: 0.9983 - dense_1_accuracy_34: 0.9991 - dense_1_accuracy_35: 0.9996 - dense_1_accuracy_36: 1.0000 - dense_1_accuracy_37: 0.9996 - dense_1_accuracy_38: 1.0000\n",
      "Epoch 93/200\n",
      "2329/2329 [==============================] - 2s 1ms/step - loss: 21.9151 - dense_1_loss: 3.3896e-04 - dense_1_accuracy: 0.1224 - dense_1_accuracy_1: 0.2692 - dense_1_accuracy_2: 0.2842 - dense_1_accuracy_3: 0.3091 - dense_1_accuracy_4: 0.2855 - dense_1_accuracy_5: 0.3362 - dense_1_accuracy_6: 0.4431 - dense_1_accuracy_7: 0.5586 - dense_1_accuracy_8: 0.6784 - dense_1_accuracy_9: 0.7806 - dense_1_accuracy_10: 0.8459 - dense_1_accuracy_11: 0.8884 - dense_1_accuracy_12: 0.9214 - dense_1_accuracy_13: 0.9386 - dense_1_accuracy_14: 0.9532 - dense_1_accuracy_15: 0.9605 - dense_1_accuracy_16: 0.9725 - dense_1_accuracy_17: 0.9794 - dense_1_accuracy_18: 0.9837 - dense_1_accuracy_19: 0.9828 - dense_1_accuracy_20: 0.9875 - dense_1_accuracy_21: 0.9910 - dense_1_accuracy_22: 0.9918 - dense_1_accuracy_23: 0.9923 - dense_1_accuracy_24: 0.9948 - dense_1_accuracy_25: 0.9927 - dense_1_accuracy_26: 0.9953 - dense_1_accuracy_27: 0.9953 - dense_1_accuracy_28: 0.9953 - dense_1_accuracy_29: 0.9979 - dense_1_accuracy_30: 0.9974 - dense_1_accuracy_31: 0.9983 - dense_1_accuracy_32: 0.9979 - dense_1_accuracy_33: 0.9983 - dense_1_accuracy_34: 0.9991 - dense_1_accuracy_35: 0.9996 - dense_1_accuracy_36: 1.0000 - dense_1_accuracy_37: 0.9996 - dense_1_accuracy_38: 1.0000\n",
      "Epoch 94/200\n",
      "2329/2329 [==============================] - 2s 1ms/step - loss: 21.9053 - dense_1_loss: 2.9131e-04 - dense_1_accuracy: 0.1224 - dense_1_accuracy_1: 0.2658 - dense_1_accuracy_2: 0.2864 - dense_1_accuracy_3: 0.3096 - dense_1_accuracy_4: 0.2868 - dense_1_accuracy_5: 0.3371 - dense_1_accuracy_6: 0.4444 - dense_1_accuracy_7: 0.5590 - dense_1_accuracy_8: 0.6784 - dense_1_accuracy_9: 0.7823 - dense_1_accuracy_10: 0.8467 - dense_1_accuracy_11: 0.8897 - dense_1_accuracy_12: 0.9214 - dense_1_accuracy_13: 0.9386 - dense_1_accuracy_14: 0.9545 - dense_1_accuracy_15: 0.9601 - dense_1_accuracy_16: 0.9734 - dense_1_accuracy_17: 0.9798 - dense_1_accuracy_18: 0.9833 - dense_1_accuracy_19: 0.9828 - dense_1_accuracy_20: 0.9875 - dense_1_accuracy_21: 0.9906 - dense_1_accuracy_22: 0.9914 - dense_1_accuracy_23: 0.9923 - dense_1_accuracy_24: 0.9948 - dense_1_accuracy_25: 0.9923 - dense_1_accuracy_26: 0.9953 - dense_1_accuracy_27: 0.9957 - dense_1_accuracy_28: 0.9953 - dense_1_accuracy_29: 0.9983 - dense_1_accuracy_30: 0.9970 - dense_1_accuracy_31: 0.9983 - dense_1_accuracy_32: 0.9979 - dense_1_accuracy_33: 0.9983 - dense_1_accuracy_34: 0.9991 - dense_1_accuracy_35: 0.9996 - dense_1_accuracy_36: 1.0000 - dense_1_accuracy_37: 0.9996 - dense_1_accuracy_38: 1.0000\n",
      "Epoch 95/200\n",
      "2329/2329 [==============================] - 2s 1ms/step - loss: 21.8944 - dense_1_loss: 4.1654e-04 - dense_1_accuracy: 0.1224 - dense_1_accuracy_1: 0.2696 - dense_1_accuracy_2: 0.2877 - dense_1_accuracy_3: 0.3079 - dense_1_accuracy_4: 0.2825 - dense_1_accuracy_5: 0.3371 - dense_1_accuracy_6: 0.4435 - dense_1_accuracy_7: 0.5595 - dense_1_accuracy_8: 0.6797 - dense_1_accuracy_9: 0.7840 - dense_1_accuracy_10: 0.8459 - dense_1_accuracy_11: 0.8901 - dense_1_accuracy_12: 0.9206 - dense_1_accuracy_13: 0.9373 - dense_1_accuracy_14: 0.9532 - dense_1_accuracy_15: 0.9609 - dense_1_accuracy_16: 0.9742 - dense_1_accuracy_17: 0.9802 - dense_1_accuracy_18: 0.9828 - dense_1_accuracy_19: 0.9824 - dense_1_accuracy_20: 0.9875 - dense_1_accuracy_21: 0.9906 - dense_1_accuracy_22: 0.9914 - dense_1_accuracy_23: 0.9918 - dense_1_accuracy_24: 0.9948 - dense_1_accuracy_25: 0.9927 - dense_1_accuracy_26: 0.9953 - dense_1_accuracy_27: 0.9953 - dense_1_accuracy_28: 0.9953 - dense_1_accuracy_29: 0.9979 - dense_1_accuracy_30: 0.9974 - dense_1_accuracy_31: 0.9983 - dense_1_accuracy_32: 0.9979 - dense_1_accuracy_33: 0.9983 - dense_1_accuracy_34: 0.9991 - dense_1_accuracy_35: 0.9996 - dense_1_accuracy_36: 1.0000 - dense_1_accuracy_37: 0.9996 - dense_1_accuracy_38: 1.0000\n",
      "Epoch 96/200\n"
     ]
    },
    {
     "name": "stdout",
     "output_type": "stream",
     "text": [
      "2329/2329 [==============================] - 2s 999us/step - loss: 21.8848 - dense_1_loss: 3.4374e-04 - dense_1_accuracy: 0.1224 - dense_1_accuracy_1: 0.2684 - dense_1_accuracy_2: 0.2838 - dense_1_accuracy_3: 0.3096 - dense_1_accuracy_4: 0.2864 - dense_1_accuracy_5: 0.3375 - dense_1_accuracy_6: 0.4435 - dense_1_accuracy_7: 0.5608 - dense_1_accuracy_8: 0.6818 - dense_1_accuracy_9: 0.7819 - dense_1_accuracy_10: 0.8471 - dense_1_accuracy_11: 0.8879 - dense_1_accuracy_12: 0.9214 - dense_1_accuracy_13: 0.9382 - dense_1_accuracy_14: 0.9536 - dense_1_accuracy_15: 0.9609 - dense_1_accuracy_16: 0.9729 - dense_1_accuracy_17: 0.9802 - dense_1_accuracy_18: 0.9833 - dense_1_accuracy_19: 0.9828 - dense_1_accuracy_20: 0.9875 - dense_1_accuracy_21: 0.9906 - dense_1_accuracy_22: 0.9918 - dense_1_accuracy_23: 0.9923 - dense_1_accuracy_24: 0.9948 - dense_1_accuracy_25: 0.9927 - dense_1_accuracy_26: 0.9953 - dense_1_accuracy_27: 0.9953 - dense_1_accuracy_28: 0.9953 - dense_1_accuracy_29: 0.9979 - dense_1_accuracy_30: 0.9974 - dense_1_accuracy_31: 0.9983 - dense_1_accuracy_32: 0.9979 - dense_1_accuracy_33: 0.9983 - dense_1_accuracy_34: 0.9991 - dense_1_accuracy_35: 0.9996 - dense_1_accuracy_36: 1.0000 - dense_1_accuracy_37: 0.9996 - dense_1_accuracy_38: 1.0000\n",
      "Epoch 97/200\n",
      "2329/2329 [==============================] - 2s 1ms/step - loss: 21.8741 - dense_1_loss: 3.3609e-04 - dense_1_accuracy: 0.1224 - dense_1_accuracy_1: 0.2684 - dense_1_accuracy_2: 0.2864 - dense_1_accuracy_3: 0.3096 - dense_1_accuracy_4: 0.2864 - dense_1_accuracy_5: 0.3366 - dense_1_accuracy_6: 0.4474 - dense_1_accuracy_7: 0.5616 - dense_1_accuracy_8: 0.6784 - dense_1_accuracy_9: 0.7836 - dense_1_accuracy_10: 0.8476 - dense_1_accuracy_11: 0.8892 - dense_1_accuracy_12: 0.9227 - dense_1_accuracy_13: 0.9382 - dense_1_accuracy_14: 0.9558 - dense_1_accuracy_15: 0.9605 - dense_1_accuracy_16: 0.9734 - dense_1_accuracy_17: 0.9798 - dense_1_accuracy_18: 0.9837 - dense_1_accuracy_19: 0.9828 - dense_1_accuracy_20: 0.9875 - dense_1_accuracy_21: 0.9906 - dense_1_accuracy_22: 0.9914 - dense_1_accuracy_23: 0.9923 - dense_1_accuracy_24: 0.9948 - dense_1_accuracy_25: 0.9923 - dense_1_accuracy_26: 0.9953 - dense_1_accuracy_27: 0.9953 - dense_1_accuracy_28: 0.9953 - dense_1_accuracy_29: 0.9983 - dense_1_accuracy_30: 0.9974 - dense_1_accuracy_31: 0.9983 - dense_1_accuracy_32: 0.9983 - dense_1_accuracy_33: 0.9983 - dense_1_accuracy_34: 0.9991 - dense_1_accuracy_35: 0.9996 - dense_1_accuracy_36: 1.0000 - dense_1_accuracy_37: 0.9996 - dense_1_accuracy_38: 1.0000\n",
      "Epoch 98/200\n",
      "2329/2329 [==============================] - 2s 1ms/step - loss: 21.8670 - dense_1_loss: 3.4500e-04 - dense_1_accuracy: 0.1224 - dense_1_accuracy_1: 0.2679 - dense_1_accuracy_2: 0.2847 - dense_1_accuracy_3: 0.3104 - dense_1_accuracy_4: 0.2860 - dense_1_accuracy_5: 0.3340 - dense_1_accuracy_6: 0.4448 - dense_1_accuracy_7: 0.5590 - dense_1_accuracy_8: 0.6793 - dense_1_accuracy_9: 0.7836 - dense_1_accuracy_10: 0.8489 - dense_1_accuracy_11: 0.8875 - dense_1_accuracy_12: 0.9219 - dense_1_accuracy_13: 0.9390 - dense_1_accuracy_14: 0.9541 - dense_1_accuracy_15: 0.9618 - dense_1_accuracy_16: 0.9725 - dense_1_accuracy_17: 0.9802 - dense_1_accuracy_18: 0.9837 - dense_1_accuracy_19: 0.9828 - dense_1_accuracy_20: 0.9875 - dense_1_accuracy_21: 0.9910 - dense_1_accuracy_22: 0.9918 - dense_1_accuracy_23: 0.9918 - dense_1_accuracy_24: 0.9948 - dense_1_accuracy_25: 0.9923 - dense_1_accuracy_26: 0.9953 - dense_1_accuracy_27: 0.9953 - dense_1_accuracy_28: 0.9953 - dense_1_accuracy_29: 0.9983 - dense_1_accuracy_30: 0.9974 - dense_1_accuracy_31: 0.9983 - dense_1_accuracy_32: 0.9983 - dense_1_accuracy_33: 0.9983 - dense_1_accuracy_34: 0.9991 - dense_1_accuracy_35: 0.9996 - dense_1_accuracy_36: 1.0000 - dense_1_accuracy_37: 0.9996 - dense_1_accuracy_38: 1.0000\n",
      "Epoch 99/200\n",
      "2329/2329 [==============================] - 2s 999us/step - loss: 21.8553 - dense_1_loss: 3.3580e-04 - dense_1_accuracy: 0.1224 - dense_1_accuracy_1: 0.2701 - dense_1_accuracy_2: 0.2881 - dense_1_accuracy_3: 0.3139 - dense_1_accuracy_4: 0.2868 - dense_1_accuracy_5: 0.3358 - dense_1_accuracy_6: 0.4465 - dense_1_accuracy_7: 0.5620 - dense_1_accuracy_8: 0.6810 - dense_1_accuracy_9: 0.7840 - dense_1_accuracy_10: 0.8484 - dense_1_accuracy_11: 0.8901 - dense_1_accuracy_12: 0.9210 - dense_1_accuracy_13: 0.9382 - dense_1_accuracy_14: 0.9541 - dense_1_accuracy_15: 0.9614 - dense_1_accuracy_16: 0.9738 - dense_1_accuracy_17: 0.9807 - dense_1_accuracy_18: 0.9837 - dense_1_accuracy_19: 0.9824 - dense_1_accuracy_20: 0.9875 - dense_1_accuracy_21: 0.9910 - dense_1_accuracy_22: 0.9914 - dense_1_accuracy_23: 0.9923 - dense_1_accuracy_24: 0.9953 - dense_1_accuracy_25: 0.9923 - dense_1_accuracy_26: 0.9957 - dense_1_accuracy_27: 0.9953 - dense_1_accuracy_28: 0.9953 - dense_1_accuracy_29: 0.9979 - dense_1_accuracy_30: 0.9974 - dense_1_accuracy_31: 0.9983 - dense_1_accuracy_32: 0.9979 - dense_1_accuracy_33: 0.9987 - dense_1_accuracy_34: 0.9991 - dense_1_accuracy_35: 0.9996 - dense_1_accuracy_36: 1.0000 - dense_1_accuracy_37: 0.9996 - dense_1_accuracy_38: 1.0000\n",
      "Epoch 100/200\n",
      "2329/2329 [==============================] - 2s 1ms/step - loss: 21.8477 - dense_1_loss: 3.0329e-04 - dense_1_accuracy: 0.1224 - dense_1_accuracy_1: 0.2679 - dense_1_accuracy_2: 0.2877 - dense_1_accuracy_3: 0.3104 - dense_1_accuracy_4: 0.2860 - dense_1_accuracy_5: 0.3383 - dense_1_accuracy_6: 0.4470 - dense_1_accuracy_7: 0.5603 - dense_1_accuracy_8: 0.6793 - dense_1_accuracy_9: 0.7840 - dense_1_accuracy_10: 0.8476 - dense_1_accuracy_11: 0.8897 - dense_1_accuracy_12: 0.9219 - dense_1_accuracy_13: 0.9395 - dense_1_accuracy_14: 0.9541 - dense_1_accuracy_15: 0.9609 - dense_1_accuracy_16: 0.9747 - dense_1_accuracy_17: 0.9798 - dense_1_accuracy_18: 0.9833 - dense_1_accuracy_19: 0.9828 - dense_1_accuracy_20: 0.9875 - dense_1_accuracy_21: 0.9906 - dense_1_accuracy_22: 0.9914 - dense_1_accuracy_23: 0.9914 - dense_1_accuracy_24: 0.9948 - dense_1_accuracy_25: 0.9927 - dense_1_accuracy_26: 0.9953 - dense_1_accuracy_27: 0.9953 - dense_1_accuracy_28: 0.9953 - dense_1_accuracy_29: 0.9983 - dense_1_accuracy_30: 0.9974 - dense_1_accuracy_31: 0.9983 - dense_1_accuracy_32: 0.9983 - dense_1_accuracy_33: 0.9987 - dense_1_accuracy_34: 0.9991 - dense_1_accuracy_35: 0.9996 - dense_1_accuracy_36: 1.0000 - dense_1_accuracy_37: 0.9996 - dense_1_accuracy_38: 1.0000\n",
      "Epoch 101/200\n",
      "2329/2329 [==============================] - 2s 1ms/step - loss: 21.8394 - dense_1_loss: 3.6456e-04 - dense_1_accuracy: 0.1224 - dense_1_accuracy_1: 0.2675 - dense_1_accuracy_2: 0.2855 - dense_1_accuracy_3: 0.3109 - dense_1_accuracy_4: 0.2903 - dense_1_accuracy_5: 0.3383 - dense_1_accuracy_6: 0.4478 - dense_1_accuracy_7: 0.5646 - dense_1_accuracy_8: 0.6823 - dense_1_accuracy_9: 0.7819 - dense_1_accuracy_10: 0.8480 - dense_1_accuracy_11: 0.8888 - dense_1_accuracy_12: 0.9231 - dense_1_accuracy_13: 0.9390 - dense_1_accuracy_14: 0.9541 - dense_1_accuracy_15: 0.9618 - dense_1_accuracy_16: 0.9738 - dense_1_accuracy_17: 0.9802 - dense_1_accuracy_18: 0.9833 - dense_1_accuracy_19: 0.9833 - dense_1_accuracy_20: 0.9867 - dense_1_accuracy_21: 0.9906 - dense_1_accuracy_22: 0.9914 - dense_1_accuracy_23: 0.9923 - dense_1_accuracy_24: 0.9948 - dense_1_accuracy_25: 0.9927 - dense_1_accuracy_26: 0.9953 - dense_1_accuracy_27: 0.9953 - dense_1_accuracy_28: 0.9953 - dense_1_accuracy_29: 0.9983 - dense_1_accuracy_30: 0.9974 - dense_1_accuracy_31: 0.9983 - dense_1_accuracy_32: 0.9983 - dense_1_accuracy_33: 0.9983 - dense_1_accuracy_34: 0.9991 - dense_1_accuracy_35: 0.9996 - dense_1_accuracy_36: 1.0000 - dense_1_accuracy_37: 0.9996 - dense_1_accuracy_38: 1.0000\n",
      "Epoch 102/200\n"
     ]
    },
    {
     "name": "stdout",
     "output_type": "stream",
     "text": [
      "2329/2329 [==============================] - 2s 1ms/step - loss: 21.8284 - dense_1_loss: 3.3507e-04 - dense_1_accuracy: 0.1224 - dense_1_accuracy_1: 0.2675 - dense_1_accuracy_2: 0.2894 - dense_1_accuracy_3: 0.3117 - dense_1_accuracy_4: 0.2911 - dense_1_accuracy_5: 0.3358 - dense_1_accuracy_6: 0.4495 - dense_1_accuracy_7: 0.5590 - dense_1_accuracy_8: 0.6818 - dense_1_accuracy_9: 0.7836 - dense_1_accuracy_10: 0.8484 - dense_1_accuracy_11: 0.8897 - dense_1_accuracy_12: 0.9223 - dense_1_accuracy_13: 0.9390 - dense_1_accuracy_14: 0.9545 - dense_1_accuracy_15: 0.9614 - dense_1_accuracy_16: 0.9742 - dense_1_accuracy_17: 0.9802 - dense_1_accuracy_18: 0.9841 - dense_1_accuracy_19: 0.9828 - dense_1_accuracy_20: 0.9880 - dense_1_accuracy_21: 0.9910 - dense_1_accuracy_22: 0.9914 - dense_1_accuracy_23: 0.9923 - dense_1_accuracy_24: 0.9948 - dense_1_accuracy_25: 0.9927 - dense_1_accuracy_26: 0.9953 - dense_1_accuracy_27: 0.9953 - dense_1_accuracy_28: 0.9953 - dense_1_accuracy_29: 0.9983 - dense_1_accuracy_30: 0.9974 - dense_1_accuracy_31: 0.9983 - dense_1_accuracy_32: 0.9983 - dense_1_accuracy_33: 0.9983 - dense_1_accuracy_34: 0.9991 - dense_1_accuracy_35: 0.9996 - dense_1_accuracy_36: 1.0000 - dense_1_accuracy_37: 0.9996 - dense_1_accuracy_38: 1.0000\n",
      "Epoch 103/200\n",
      "2329/2329 [==============================] - 2s 1ms/step - loss: 21.8198 - dense_1_loss: 3.8231e-04 - dense_1_accuracy: 0.1224 - dense_1_accuracy_1: 0.2696 - dense_1_accuracy_2: 0.2894 - dense_1_accuracy_3: 0.3113 - dense_1_accuracy_4: 0.2898 - dense_1_accuracy_5: 0.3383 - dense_1_accuracy_6: 0.4500 - dense_1_accuracy_7: 0.5612 - dense_1_accuracy_8: 0.6788 - dense_1_accuracy_9: 0.7823 - dense_1_accuracy_10: 0.8497 - dense_1_accuracy_11: 0.8905 - dense_1_accuracy_12: 0.9227 - dense_1_accuracy_13: 0.9386 - dense_1_accuracy_14: 0.9553 - dense_1_accuracy_15: 0.9618 - dense_1_accuracy_16: 0.9738 - dense_1_accuracy_17: 0.9802 - dense_1_accuracy_18: 0.9837 - dense_1_accuracy_19: 0.9828 - dense_1_accuracy_20: 0.9880 - dense_1_accuracy_21: 0.9906 - dense_1_accuracy_22: 0.9918 - dense_1_accuracy_23: 0.9923 - dense_1_accuracy_24: 0.9948 - dense_1_accuracy_25: 0.9927 - dense_1_accuracy_26: 0.9953 - dense_1_accuracy_27: 0.9957 - dense_1_accuracy_28: 0.9953 - dense_1_accuracy_29: 0.9979 - dense_1_accuracy_30: 0.9974 - dense_1_accuracy_31: 0.9983 - dense_1_accuracy_32: 0.9983 - dense_1_accuracy_33: 0.9983 - dense_1_accuracy_34: 0.9991 - dense_1_accuracy_35: 0.9996 - dense_1_accuracy_36: 1.0000 - dense_1_accuracy_37: 1.0000 - dense_1_accuracy_38: 1.0000\n",
      "Epoch 104/200\n",
      "2329/2329 [==============================] - 2s 1ms/step - loss: 21.8128 - dense_1_loss: 3.3777e-04 - dense_1_accuracy: 0.1224 - dense_1_accuracy_1: 0.2679 - dense_1_accuracy_2: 0.2872 - dense_1_accuracy_3: 0.3109 - dense_1_accuracy_4: 0.2872 - dense_1_accuracy_5: 0.3409 - dense_1_accuracy_6: 0.4487 - dense_1_accuracy_7: 0.5625 - dense_1_accuracy_8: 0.6805 - dense_1_accuracy_9: 0.7840 - dense_1_accuracy_10: 0.8506 - dense_1_accuracy_11: 0.8909 - dense_1_accuracy_12: 0.9236 - dense_1_accuracy_13: 0.9399 - dense_1_accuracy_14: 0.9532 - dense_1_accuracy_15: 0.9609 - dense_1_accuracy_16: 0.9742 - dense_1_accuracy_17: 0.9798 - dense_1_accuracy_18: 0.9833 - dense_1_accuracy_19: 0.9824 - dense_1_accuracy_20: 0.9875 - dense_1_accuracy_21: 0.9906 - dense_1_accuracy_22: 0.9918 - dense_1_accuracy_23: 0.9923 - dense_1_accuracy_24: 0.9948 - dense_1_accuracy_25: 0.9927 - dense_1_accuracy_26: 0.9953 - dense_1_accuracy_27: 0.9953 - dense_1_accuracy_28: 0.9953 - dense_1_accuracy_29: 0.9983 - dense_1_accuracy_30: 0.9974 - dense_1_accuracy_31: 0.9983 - dense_1_accuracy_32: 0.9983 - dense_1_accuracy_33: 0.9987 - dense_1_accuracy_34: 0.9991 - dense_1_accuracy_35: 0.9996 - dense_1_accuracy_36: 1.0000 - dense_1_accuracy_37: 0.9996 - dense_1_accuracy_38: 1.0000\n",
      "Epoch 105/200\n",
      "2329/2329 [==============================] - 2s 1000us/step - loss: 21.8025 - dense_1_loss: 3.3883e-04 - dense_1_accuracy: 0.1224 - dense_1_accuracy_1: 0.2684 - dense_1_accuracy_2: 0.2907 - dense_1_accuracy_3: 0.3122 - dense_1_accuracy_4: 0.2903 - dense_1_accuracy_5: 0.3388 - dense_1_accuracy_6: 0.4470 - dense_1_accuracy_7: 0.5616 - dense_1_accuracy_8: 0.6818 - dense_1_accuracy_9: 0.7836 - dense_1_accuracy_10: 0.8493 - dense_1_accuracy_11: 0.8905 - dense_1_accuracy_12: 0.9227 - dense_1_accuracy_13: 0.9386 - dense_1_accuracy_14: 0.9558 - dense_1_accuracy_15: 0.9618 - dense_1_accuracy_16: 0.9734 - dense_1_accuracy_17: 0.9802 - dense_1_accuracy_18: 0.9841 - dense_1_accuracy_19: 0.9824 - dense_1_accuracy_20: 0.9875 - dense_1_accuracy_21: 0.9906 - dense_1_accuracy_22: 0.9918 - dense_1_accuracy_23: 0.9918 - dense_1_accuracy_24: 0.9953 - dense_1_accuracy_25: 0.9931 - dense_1_accuracy_26: 0.9953 - dense_1_accuracy_27: 0.9957 - dense_1_accuracy_28: 0.9953 - dense_1_accuracy_29: 0.9983 - dense_1_accuracy_30: 0.9974 - dense_1_accuracy_31: 0.9983 - dense_1_accuracy_32: 0.9983 - dense_1_accuracy_33: 0.9983 - dense_1_accuracy_34: 0.9991 - dense_1_accuracy_35: 0.9996 - dense_1_accuracy_36: 1.0000 - dense_1_accuracy_37: 0.9996 - dense_1_accuracy_38: 1.0000\n",
      "Epoch 106/200\n",
      "2329/2329 [==============================] - 2s 1ms/step - loss: 21.7946 - dense_1_loss: 2.2853e-04 - dense_1_accuracy: 0.1224 - dense_1_accuracy_1: 0.2671 - dense_1_accuracy_2: 0.2911 - dense_1_accuracy_3: 0.3130 - dense_1_accuracy_4: 0.2911 - dense_1_accuracy_5: 0.3388 - dense_1_accuracy_6: 0.4470 - dense_1_accuracy_7: 0.5633 - dense_1_accuracy_8: 0.6810 - dense_1_accuracy_9: 0.7832 - dense_1_accuracy_10: 0.8493 - dense_1_accuracy_11: 0.8914 - dense_1_accuracy_12: 0.9219 - dense_1_accuracy_13: 0.9390 - dense_1_accuracy_14: 0.9549 - dense_1_accuracy_15: 0.9609 - dense_1_accuracy_16: 0.9742 - dense_1_accuracy_17: 0.9802 - dense_1_accuracy_18: 0.9837 - dense_1_accuracy_19: 0.9828 - dense_1_accuracy_20: 0.9875 - dense_1_accuracy_21: 0.9906 - dense_1_accuracy_22: 0.9918 - dense_1_accuracy_23: 0.9923 - dense_1_accuracy_24: 0.9948 - dense_1_accuracy_25: 0.9927 - dense_1_accuracy_26: 0.9953 - dense_1_accuracy_27: 0.9953 - dense_1_accuracy_28: 0.9953 - dense_1_accuracy_29: 0.9983 - dense_1_accuracy_30: 0.9974 - dense_1_accuracy_31: 0.9983 - dense_1_accuracy_32: 0.9983 - dense_1_accuracy_33: 0.9987 - dense_1_accuracy_34: 0.9991 - dense_1_accuracy_35: 0.9996 - dense_1_accuracy_36: 1.0000 - dense_1_accuracy_37: 0.9996 - dense_1_accuracy_38: 1.0000\n",
      "Epoch 107/200\n",
      "2329/2329 [==============================] - 2s 1ms/step - loss: 21.7859 - dense_1_loss: 3.4850e-04 - dense_1_accuracy: 0.1224 - dense_1_accuracy_1: 0.2666 - dense_1_accuracy_2: 0.2907 - dense_1_accuracy_3: 0.3139 - dense_1_accuracy_4: 0.2911 - dense_1_accuracy_5: 0.3405 - dense_1_accuracy_6: 0.4495 - dense_1_accuracy_7: 0.5629 - dense_1_accuracy_8: 0.6788 - dense_1_accuracy_9: 0.7832 - dense_1_accuracy_10: 0.8497 - dense_1_accuracy_11: 0.8914 - dense_1_accuracy_12: 0.9223 - dense_1_accuracy_13: 0.9395 - dense_1_accuracy_14: 0.9549 - dense_1_accuracy_15: 0.9614 - dense_1_accuracy_16: 0.9742 - dense_1_accuracy_17: 0.9802 - dense_1_accuracy_18: 0.9841 - dense_1_accuracy_19: 0.9828 - dense_1_accuracy_20: 0.9871 - dense_1_accuracy_21: 0.9901 - dense_1_accuracy_22: 0.9918 - dense_1_accuracy_23: 0.9923 - dense_1_accuracy_24: 0.9953 - dense_1_accuracy_25: 0.9927 - dense_1_accuracy_26: 0.9953 - dense_1_accuracy_27: 0.9957 - dense_1_accuracy_28: 0.9953 - dense_1_accuracy_29: 0.9983 - dense_1_accuracy_30: 0.9974 - dense_1_accuracy_31: 0.9983 - dense_1_accuracy_32: 0.9983 - dense_1_accuracy_33: 0.9983 - dense_1_accuracy_34: 0.9991 - dense_1_accuracy_35: 0.9996 - dense_1_accuracy_36: 1.0000 - dense_1_accuracy_37: 0.9996 - dense_1_accuracy_38: 1.0000\n",
      "Epoch 108/200\n"
     ]
    },
    {
     "name": "stdout",
     "output_type": "stream",
     "text": [
      "2329/2329 [==============================] - 2s 1ms/step - loss: 21.7764 - dense_1_loss: 3.8501e-04 - dense_1_accuracy: 0.1224 - dense_1_accuracy_1: 0.2684 - dense_1_accuracy_2: 0.2911 - dense_1_accuracy_3: 0.3139 - dense_1_accuracy_4: 0.2920 - dense_1_accuracy_5: 0.3405 - dense_1_accuracy_6: 0.4487 - dense_1_accuracy_7: 0.5620 - dense_1_accuracy_8: 0.6818 - dense_1_accuracy_9: 0.7845 - dense_1_accuracy_10: 0.8502 - dense_1_accuracy_11: 0.8918 - dense_1_accuracy_12: 0.9240 - dense_1_accuracy_13: 0.9395 - dense_1_accuracy_14: 0.9549 - dense_1_accuracy_15: 0.9614 - dense_1_accuracy_16: 0.9747 - dense_1_accuracy_17: 0.9802 - dense_1_accuracy_18: 0.9845 - dense_1_accuracy_19: 0.9828 - dense_1_accuracy_20: 0.9880 - dense_1_accuracy_21: 0.9910 - dense_1_accuracy_22: 0.9918 - dense_1_accuracy_23: 0.9923 - dense_1_accuracy_24: 0.9948 - dense_1_accuracy_25: 0.9923 - dense_1_accuracy_26: 0.9957 - dense_1_accuracy_27: 0.9957 - dense_1_accuracy_28: 0.9953 - dense_1_accuracy_29: 0.9983 - dense_1_accuracy_30: 0.9974 - dense_1_accuracy_31: 0.9983 - dense_1_accuracy_32: 0.9983 - dense_1_accuracy_33: 0.9987 - dense_1_accuracy_34: 0.9991 - dense_1_accuracy_35: 0.9996 - dense_1_accuracy_36: 1.0000 - dense_1_accuracy_37: 0.9996 - dense_1_accuracy_38: 1.0000\n",
      "Epoch 109/200\n",
      "2329/2329 [==============================] - 2s 1ms/step - loss: 21.7695 - dense_1_loss: 2.7904e-04 - dense_1_accuracy: 0.1224 - dense_1_accuracy_1: 0.2675 - dense_1_accuracy_2: 0.2920 - dense_1_accuracy_3: 0.3104 - dense_1_accuracy_4: 0.2911 - dense_1_accuracy_5: 0.3396 - dense_1_accuracy_6: 0.4487 - dense_1_accuracy_7: 0.5672 - dense_1_accuracy_8: 0.6814 - dense_1_accuracy_9: 0.7845 - dense_1_accuracy_10: 0.8484 - dense_1_accuracy_11: 0.8927 - dense_1_accuracy_12: 0.9236 - dense_1_accuracy_13: 0.9386 - dense_1_accuracy_14: 0.9549 - dense_1_accuracy_15: 0.9618 - dense_1_accuracy_16: 0.9742 - dense_1_accuracy_17: 0.9807 - dense_1_accuracy_18: 0.9845 - dense_1_accuracy_19: 0.9833 - dense_1_accuracy_20: 0.9880 - dense_1_accuracy_21: 0.9906 - dense_1_accuracy_22: 0.9918 - dense_1_accuracy_23: 0.9923 - dense_1_accuracy_24: 0.9948 - dense_1_accuracy_25: 0.9931 - dense_1_accuracy_26: 0.9953 - dense_1_accuracy_27: 0.9957 - dense_1_accuracy_28: 0.9953 - dense_1_accuracy_29: 0.9983 - dense_1_accuracy_30: 0.9974 - dense_1_accuracy_31: 0.9983 - dense_1_accuracy_32: 0.9983 - dense_1_accuracy_33: 0.9983 - dense_1_accuracy_34: 0.9991 - dense_1_accuracy_35: 0.9996 - dense_1_accuracy_36: 1.0000 - dense_1_accuracy_37: 0.9996 - dense_1_accuracy_38: 1.0000\n",
      "Epoch 110/200\n",
      "2329/2329 [==============================] - 2s 1ms/step - loss: 21.7620 - dense_1_loss: 3.5170e-04 - dense_1_accuracy: 0.1224 - dense_1_accuracy_1: 0.2684 - dense_1_accuracy_2: 0.2903 - dense_1_accuracy_3: 0.3130 - dense_1_accuracy_4: 0.2950 - dense_1_accuracy_5: 0.3401 - dense_1_accuracy_6: 0.4495 - dense_1_accuracy_7: 0.5620 - dense_1_accuracy_8: 0.6797 - dense_1_accuracy_9: 0.7845 - dense_1_accuracy_10: 0.8497 - dense_1_accuracy_11: 0.8914 - dense_1_accuracy_12: 0.9227 - dense_1_accuracy_13: 0.9386 - dense_1_accuracy_14: 0.9549 - dense_1_accuracy_15: 0.9622 - dense_1_accuracy_16: 0.9742 - dense_1_accuracy_17: 0.9798 - dense_1_accuracy_18: 0.9841 - dense_1_accuracy_19: 0.9828 - dense_1_accuracy_20: 0.9880 - dense_1_accuracy_21: 0.9906 - dense_1_accuracy_22: 0.9914 - dense_1_accuracy_23: 0.9918 - dense_1_accuracy_24: 0.9953 - dense_1_accuracy_25: 0.9927 - dense_1_accuracy_26: 0.9957 - dense_1_accuracy_27: 0.9957 - dense_1_accuracy_28: 0.9953 - dense_1_accuracy_29: 0.9983 - dense_1_accuracy_30: 0.9974 - dense_1_accuracy_31: 0.9983 - dense_1_accuracy_32: 0.9983 - dense_1_accuracy_33: 0.9983 - dense_1_accuracy_34: 0.9991 - dense_1_accuracy_35: 0.9996 - dense_1_accuracy_36: 1.0000 - dense_1_accuracy_37: 0.9996 - dense_1_accuracy_38: 1.0000\n",
      "Epoch 111/200\n",
      "2329/2329 [==============================] - 2s 1ms/step - loss: 21.7516 - dense_1_loss: 3.4843e-04 - dense_1_accuracy: 0.1224 - dense_1_accuracy_1: 0.2684 - dense_1_accuracy_2: 0.2920 - dense_1_accuracy_3: 0.3117 - dense_1_accuracy_4: 0.2958 - dense_1_accuracy_5: 0.3396 - dense_1_accuracy_6: 0.4495 - dense_1_accuracy_7: 0.5616 - dense_1_accuracy_8: 0.6831 - dense_1_accuracy_9: 0.7857 - dense_1_accuracy_10: 0.8493 - dense_1_accuracy_11: 0.8909 - dense_1_accuracy_12: 0.9240 - dense_1_accuracy_13: 0.9403 - dense_1_accuracy_14: 0.9553 - dense_1_accuracy_15: 0.9622 - dense_1_accuracy_16: 0.9742 - dense_1_accuracy_17: 0.9807 - dense_1_accuracy_18: 0.9845 - dense_1_accuracy_19: 0.9828 - dense_1_accuracy_20: 0.9880 - dense_1_accuracy_21: 0.9906 - dense_1_accuracy_22: 0.9918 - dense_1_accuracy_23: 0.9923 - dense_1_accuracy_24: 0.9948 - dense_1_accuracy_25: 0.9931 - dense_1_accuracy_26: 0.9953 - dense_1_accuracy_27: 0.9957 - dense_1_accuracy_28: 0.9953 - dense_1_accuracy_29: 0.9983 - dense_1_accuracy_30: 0.9974 - dense_1_accuracy_31: 0.9983 - dense_1_accuracy_32: 0.9983 - dense_1_accuracy_33: 0.9983 - dense_1_accuracy_34: 0.9991 - dense_1_accuracy_35: 0.9996 - dense_1_accuracy_36: 1.0000 - dense_1_accuracy_37: 0.9996 - dense_1_accuracy_38: 1.0000\n",
      "Epoch 112/200\n",
      "2329/2329 [==============================] - 2s 1ms/step - loss: 21.7470 - dense_1_loss: 3.4392e-04 - dense_1_accuracy: 0.1224 - dense_1_accuracy_1: 0.2684 - dense_1_accuracy_2: 0.2911 - dense_1_accuracy_3: 0.3156 - dense_1_accuracy_4: 0.2941 - dense_1_accuracy_5: 0.3396 - dense_1_accuracy_6: 0.4504 - dense_1_accuracy_7: 0.5638 - dense_1_accuracy_8: 0.6818 - dense_1_accuracy_9: 0.7815 - dense_1_accuracy_10: 0.8502 - dense_1_accuracy_11: 0.8918 - dense_1_accuracy_12: 0.9231 - dense_1_accuracy_13: 0.9399 - dense_1_accuracy_14: 0.9536 - dense_1_accuracy_15: 0.9614 - dense_1_accuracy_16: 0.9738 - dense_1_accuracy_17: 0.9811 - dense_1_accuracy_18: 0.9841 - dense_1_accuracy_19: 0.9833 - dense_1_accuracy_20: 0.9871 - dense_1_accuracy_21: 0.9906 - dense_1_accuracy_22: 0.9918 - dense_1_accuracy_23: 0.9918 - dense_1_accuracy_24: 0.9948 - dense_1_accuracy_25: 0.9927 - dense_1_accuracy_26: 0.9953 - dense_1_accuracy_27: 0.9957 - dense_1_accuracy_28: 0.9953 - dense_1_accuracy_29: 0.9983 - dense_1_accuracy_30: 0.9974 - dense_1_accuracy_31: 0.9983 - dense_1_accuracy_32: 0.9979 - dense_1_accuracy_33: 0.9983 - dense_1_accuracy_34: 0.9991 - dense_1_accuracy_35: 0.9996 - dense_1_accuracy_36: 1.0000 - dense_1_accuracy_37: 0.9996 - dense_1_accuracy_38: 1.0000\n",
      "Epoch 113/200\n",
      "2329/2329 [==============================] - 2s 1ms/step - loss: 21.7364 - dense_1_loss: 2.7192e-04 - dense_1_accuracy: 0.1224 - dense_1_accuracy_1: 0.2701 - dense_1_accuracy_2: 0.2924 - dense_1_accuracy_3: 0.3143 - dense_1_accuracy_4: 0.2928 - dense_1_accuracy_5: 0.3418 - dense_1_accuracy_6: 0.4513 - dense_1_accuracy_7: 0.5629 - dense_1_accuracy_8: 0.6848 - dense_1_accuracy_9: 0.7866 - dense_1_accuracy_10: 0.8484 - dense_1_accuracy_11: 0.8918 - dense_1_accuracy_12: 0.9227 - dense_1_accuracy_13: 0.9403 - dense_1_accuracy_14: 0.9553 - dense_1_accuracy_15: 0.9609 - dense_1_accuracy_16: 0.9738 - dense_1_accuracy_17: 0.9807 - dense_1_accuracy_18: 0.9841 - dense_1_accuracy_19: 0.9833 - dense_1_accuracy_20: 0.9875 - dense_1_accuracy_21: 0.9906 - dense_1_accuracy_22: 0.9914 - dense_1_accuracy_23: 0.9923 - dense_1_accuracy_24: 0.9948 - dense_1_accuracy_25: 0.9931 - dense_1_accuracy_26: 0.9957 - dense_1_accuracy_27: 0.9957 - dense_1_accuracy_28: 0.9953 - dense_1_accuracy_29: 0.9983 - dense_1_accuracy_30: 0.9974 - dense_1_accuracy_31: 0.9983 - dense_1_accuracy_32: 0.9983 - dense_1_accuracy_33: 0.9987 - dense_1_accuracy_34: 0.9991 - dense_1_accuracy_35: 0.9996 - dense_1_accuracy_36: 1.0000 - dense_1_accuracy_37: 0.9996 - dense_1_accuracy_38: 1.0000\n",
      "Epoch 114/200\n"
     ]
    },
    {
     "name": "stdout",
     "output_type": "stream",
     "text": [
      "2329/2329 [==============================] - 2s 1ms/step - loss: 21.7288 - dense_1_loss: 2.4202e-04 - dense_1_accuracy: 0.1224 - dense_1_accuracy_1: 0.2684 - dense_1_accuracy_2: 0.2894 - dense_1_accuracy_3: 0.3143 - dense_1_accuracy_4: 0.2954 - dense_1_accuracy_5: 0.3452 - dense_1_accuracy_6: 0.4500 - dense_1_accuracy_7: 0.5668 - dense_1_accuracy_8: 0.6836 - dense_1_accuracy_9: 0.7849 - dense_1_accuracy_10: 0.8502 - dense_1_accuracy_11: 0.8909 - dense_1_accuracy_12: 0.9236 - dense_1_accuracy_13: 0.9416 - dense_1_accuracy_14: 0.9553 - dense_1_accuracy_15: 0.9609 - dense_1_accuracy_16: 0.9742 - dense_1_accuracy_17: 0.9794 - dense_1_accuracy_18: 0.9845 - dense_1_accuracy_19: 0.9828 - dense_1_accuracy_20: 0.9875 - dense_1_accuracy_21: 0.9906 - dense_1_accuracy_22: 0.9918 - dense_1_accuracy_23: 0.9918 - dense_1_accuracy_24: 0.9953 - dense_1_accuracy_25: 0.9931 - dense_1_accuracy_26: 0.9957 - dense_1_accuracy_27: 0.9957 - dense_1_accuracy_28: 0.9953 - dense_1_accuracy_29: 0.9983 - dense_1_accuracy_30: 0.9974 - dense_1_accuracy_31: 0.9983 - dense_1_accuracy_32: 0.9983 - dense_1_accuracy_33: 0.9987 - dense_1_accuracy_34: 0.9991 - dense_1_accuracy_35: 0.9996 - dense_1_accuracy_36: 1.0000 - dense_1_accuracy_37: 0.9996 - dense_1_accuracy_38: 1.0000\n",
      "Epoch 115/200\n",
      "2329/2329 [==============================] - 2s 1ms/step - loss: 21.7220 - dense_1_loss: 3.3271e-04 - dense_1_accuracy: 0.1224 - dense_1_accuracy_1: 0.2684 - dense_1_accuracy_2: 0.2911 - dense_1_accuracy_3: 0.3147 - dense_1_accuracy_4: 0.2928 - dense_1_accuracy_5: 0.3396 - dense_1_accuracy_6: 0.4495 - dense_1_accuracy_7: 0.5646 - dense_1_accuracy_8: 0.6853 - dense_1_accuracy_9: 0.7853 - dense_1_accuracy_10: 0.8502 - dense_1_accuracy_11: 0.8918 - dense_1_accuracy_12: 0.9231 - dense_1_accuracy_13: 0.9399 - dense_1_accuracy_14: 0.9541 - dense_1_accuracy_15: 0.9622 - dense_1_accuracy_16: 0.9751 - dense_1_accuracy_17: 0.9802 - dense_1_accuracy_18: 0.9845 - dense_1_accuracy_19: 0.9828 - dense_1_accuracy_20: 0.9875 - dense_1_accuracy_21: 0.9910 - dense_1_accuracy_22: 0.9914 - dense_1_accuracy_23: 0.9918 - dense_1_accuracy_24: 0.9948 - dense_1_accuracy_25: 0.9931 - dense_1_accuracy_26: 0.9953 - dense_1_accuracy_27: 0.9961 - dense_1_accuracy_28: 0.9953 - dense_1_accuracy_29: 0.9983 - dense_1_accuracy_30: 0.9974 - dense_1_accuracy_31: 0.9983 - dense_1_accuracy_32: 0.9983 - dense_1_accuracy_33: 0.9983 - dense_1_accuracy_34: 0.9991 - dense_1_accuracy_35: 0.9996 - dense_1_accuracy_36: 1.0000 - dense_1_accuracy_37: 0.9996 - dense_1_accuracy_38: 1.0000\n",
      "Epoch 116/200\n",
      "2329/2329 [==============================] - 2s 1ms/step - loss: 21.7149 - dense_1_loss: 3.4626e-04 - dense_1_accuracy: 0.1224 - dense_1_accuracy_1: 0.2696 - dense_1_accuracy_2: 0.2911 - dense_1_accuracy_3: 0.3169 - dense_1_accuracy_4: 0.2924 - dense_1_accuracy_5: 0.3448 - dense_1_accuracy_6: 0.4495 - dense_1_accuracy_7: 0.5685 - dense_1_accuracy_8: 0.6827 - dense_1_accuracy_9: 0.7853 - dense_1_accuracy_10: 0.8506 - dense_1_accuracy_11: 0.8914 - dense_1_accuracy_12: 0.9227 - dense_1_accuracy_13: 0.9395 - dense_1_accuracy_14: 0.9541 - dense_1_accuracy_15: 0.9618 - dense_1_accuracy_16: 0.9747 - dense_1_accuracy_17: 0.9811 - dense_1_accuracy_18: 0.9841 - dense_1_accuracy_19: 0.9828 - dense_1_accuracy_20: 0.9875 - dense_1_accuracy_21: 0.9906 - dense_1_accuracy_22: 0.9923 - dense_1_accuracy_23: 0.9923 - dense_1_accuracy_24: 0.9948 - dense_1_accuracy_25: 0.9931 - dense_1_accuracy_26: 0.9953 - dense_1_accuracy_27: 0.9957 - dense_1_accuracy_28: 0.9953 - dense_1_accuracy_29: 0.9983 - dense_1_accuracy_30: 0.9974 - dense_1_accuracy_31: 0.9983 - dense_1_accuracy_32: 0.9983 - dense_1_accuracy_33: 0.9983 - dense_1_accuracy_34: 0.9991 - dense_1_accuracy_35: 0.9996 - dense_1_accuracy_36: 1.0000 - dense_1_accuracy_37: 0.9996 - dense_1_accuracy_38: 1.0000\n",
      "Epoch 117/200\n",
      "2329/2329 [==============================] - 2s 1ms/step - loss: 21.7058 - dense_1_loss: 2.0341e-04 - dense_1_accuracy: 0.1224 - dense_1_accuracy_1: 0.2684 - dense_1_accuracy_2: 0.2933 - dense_1_accuracy_3: 0.3160 - dense_1_accuracy_4: 0.2958 - dense_1_accuracy_5: 0.3409 - dense_1_accuracy_6: 0.4517 - dense_1_accuracy_7: 0.5668 - dense_1_accuracy_8: 0.6844 - dense_1_accuracy_9: 0.7866 - dense_1_accuracy_10: 0.8497 - dense_1_accuracy_11: 0.8922 - dense_1_accuracy_12: 0.9236 - dense_1_accuracy_13: 0.9425 - dense_1_accuracy_14: 0.9553 - dense_1_accuracy_15: 0.9614 - dense_1_accuracy_16: 0.9742 - dense_1_accuracy_17: 0.9811 - dense_1_accuracy_18: 0.9841 - dense_1_accuracy_19: 0.9833 - dense_1_accuracy_20: 0.9880 - dense_1_accuracy_21: 0.9906 - dense_1_accuracy_22: 0.9918 - dense_1_accuracy_23: 0.9923 - dense_1_accuracy_24: 0.9948 - dense_1_accuracy_25: 0.9931 - dense_1_accuracy_26: 0.9953 - dense_1_accuracy_27: 0.9957 - dense_1_accuracy_28: 0.9953 - dense_1_accuracy_29: 0.9983 - dense_1_accuracy_30: 0.9974 - dense_1_accuracy_31: 0.9983 - dense_1_accuracy_32: 0.9983 - dense_1_accuracy_33: 0.9987 - dense_1_accuracy_34: 0.9991 - dense_1_accuracy_35: 0.9996 - dense_1_accuracy_36: 1.0000 - dense_1_accuracy_37: 0.9996 - dense_1_accuracy_38: 1.0000\n",
      "Epoch 118/200\n",
      "2329/2329 [==============================] - 2s 999us/step - loss: 21.6987 - dense_1_loss: 2.4164e-04 - dense_1_accuracy: 0.1224 - dense_1_accuracy_1: 0.2684 - dense_1_accuracy_2: 0.2928 - dense_1_accuracy_3: 0.3143 - dense_1_accuracy_4: 0.2937 - dense_1_accuracy_5: 0.3405 - dense_1_accuracy_6: 0.4517 - dense_1_accuracy_7: 0.5663 - dense_1_accuracy_8: 0.6827 - dense_1_accuracy_9: 0.7849 - dense_1_accuracy_10: 0.8497 - dense_1_accuracy_11: 0.8918 - dense_1_accuracy_12: 0.9236 - dense_1_accuracy_13: 0.9416 - dense_1_accuracy_14: 0.9549 - dense_1_accuracy_15: 0.9618 - dense_1_accuracy_16: 0.9742 - dense_1_accuracy_17: 0.9815 - dense_1_accuracy_18: 0.9841 - dense_1_accuracy_19: 0.9828 - dense_1_accuracy_20: 0.9880 - dense_1_accuracy_21: 0.9906 - dense_1_accuracy_22: 0.9918 - dense_1_accuracy_23: 0.9923 - dense_1_accuracy_24: 0.9948 - dense_1_accuracy_25: 0.9931 - dense_1_accuracy_26: 0.9957 - dense_1_accuracy_27: 0.9961 - dense_1_accuracy_28: 0.9953 - dense_1_accuracy_29: 0.9983 - dense_1_accuracy_30: 0.9974 - dense_1_accuracy_31: 0.9983 - dense_1_accuracy_32: 0.9983 - dense_1_accuracy_33: 0.9987 - dense_1_accuracy_34: 0.9991 - dense_1_accuracy_35: 0.9996 - dense_1_accuracy_36: 1.0000 - dense_1_accuracy_37: 0.9996 - dense_1_accuracy_38: 1.0000\n",
      "Epoch 119/200\n",
      "2329/2329 [==============================] - 2s 1ms/step - loss: 21.6924 - dense_1_loss: 2.8201e-04 - dense_1_accuracy: 0.1224 - dense_1_accuracy_1: 0.2688 - dense_1_accuracy_2: 0.2920 - dense_1_accuracy_3: 0.3173 - dense_1_accuracy_4: 0.2950 - dense_1_accuracy_5: 0.3452 - dense_1_accuracy_6: 0.4543 - dense_1_accuracy_7: 0.5650 - dense_1_accuracy_8: 0.6827 - dense_1_accuracy_9: 0.7866 - dense_1_accuracy_10: 0.8514 - dense_1_accuracy_11: 0.8927 - dense_1_accuracy_12: 0.9227 - dense_1_accuracy_13: 0.9399 - dense_1_accuracy_14: 0.9545 - dense_1_accuracy_15: 0.9618 - dense_1_accuracy_16: 0.9747 - dense_1_accuracy_17: 0.9807 - dense_1_accuracy_18: 0.9850 - dense_1_accuracy_19: 0.9833 - dense_1_accuracy_20: 0.9875 - dense_1_accuracy_21: 0.9906 - dense_1_accuracy_22: 0.9927 - dense_1_accuracy_23: 0.9923 - dense_1_accuracy_24: 0.9948 - dense_1_accuracy_25: 0.9927 - dense_1_accuracy_26: 0.9957 - dense_1_accuracy_27: 0.9957 - dense_1_accuracy_28: 0.9953 - dense_1_accuracy_29: 0.9983 - dense_1_accuracy_30: 0.9974 - dense_1_accuracy_31: 0.9983 - dense_1_accuracy_32: 0.9983 - dense_1_accuracy_33: 0.9987 - dense_1_accuracy_34: 0.9991 - dense_1_accuracy_35: 0.9996 - dense_1_accuracy_36: 1.0000 - dense_1_accuracy_37: 0.9996 - dense_1_accuracy_38: 1.0000\n",
      "Epoch 120/200\n"
     ]
    },
    {
     "name": "stdout",
     "output_type": "stream",
     "text": [
      "2329/2329 [==============================] - 2s 1ms/step - loss: 21.6840 - dense_1_loss: 3.4010e-04 - dense_1_accuracy: 0.1224 - dense_1_accuracy_1: 0.2684 - dense_1_accuracy_2: 0.2933 - dense_1_accuracy_3: 0.3152 - dense_1_accuracy_4: 0.2988 - dense_1_accuracy_5: 0.3439 - dense_1_accuracy_6: 0.4526 - dense_1_accuracy_7: 0.5668 - dense_1_accuracy_8: 0.6836 - dense_1_accuracy_9: 0.7883 - dense_1_accuracy_10: 0.8506 - dense_1_accuracy_11: 0.8914 - dense_1_accuracy_12: 0.9236 - dense_1_accuracy_13: 0.9407 - dense_1_accuracy_14: 0.9545 - dense_1_accuracy_15: 0.9626 - dense_1_accuracy_16: 0.9738 - dense_1_accuracy_17: 0.9811 - dense_1_accuracy_18: 0.9850 - dense_1_accuracy_19: 0.9828 - dense_1_accuracy_20: 0.9880 - dense_1_accuracy_21: 0.9906 - dense_1_accuracy_22: 0.9923 - dense_1_accuracy_23: 0.9923 - dense_1_accuracy_24: 0.9953 - dense_1_accuracy_25: 0.9931 - dense_1_accuracy_26: 0.9957 - dense_1_accuracy_27: 0.9957 - dense_1_accuracy_28: 0.9953 - dense_1_accuracy_29: 0.9983 - dense_1_accuracy_30: 0.9974 - dense_1_accuracy_31: 0.9983 - dense_1_accuracy_32: 0.9983 - dense_1_accuracy_33: 0.9987 - dense_1_accuracy_34: 0.9991 - dense_1_accuracy_35: 0.9996 - dense_1_accuracy_36: 1.0000 - dense_1_accuracy_37: 0.9996 - dense_1_accuracy_38: 1.0000\n",
      "Epoch 121/200\n",
      "2329/2329 [==============================] - 2s 1ms/step - loss: 21.6779 - dense_1_loss: 2.6687e-04 - dense_1_accuracy: 0.1224 - dense_1_accuracy_1: 0.2684 - dense_1_accuracy_2: 0.2915 - dense_1_accuracy_3: 0.3152 - dense_1_accuracy_4: 0.2958 - dense_1_accuracy_5: 0.3422 - dense_1_accuracy_6: 0.4551 - dense_1_accuracy_7: 0.5663 - dense_1_accuracy_8: 0.6818 - dense_1_accuracy_9: 0.7862 - dense_1_accuracy_10: 0.8514 - dense_1_accuracy_11: 0.8931 - dense_1_accuracy_12: 0.9231 - dense_1_accuracy_13: 0.9412 - dense_1_accuracy_14: 0.9545 - dense_1_accuracy_15: 0.9618 - dense_1_accuracy_16: 0.9734 - dense_1_accuracy_17: 0.9811 - dense_1_accuracy_18: 0.9841 - dense_1_accuracy_19: 0.9833 - dense_1_accuracy_20: 0.9875 - dense_1_accuracy_21: 0.9914 - dense_1_accuracy_22: 0.9923 - dense_1_accuracy_23: 0.9918 - dense_1_accuracy_24: 0.9948 - dense_1_accuracy_25: 0.9931 - dense_1_accuracy_26: 0.9953 - dense_1_accuracy_27: 0.9957 - dense_1_accuracy_28: 0.9953 - dense_1_accuracy_29: 0.9983 - dense_1_accuracy_30: 0.9974 - dense_1_accuracy_31: 0.9983 - dense_1_accuracy_32: 0.9983 - dense_1_accuracy_33: 0.9983 - dense_1_accuracy_34: 0.9991 - dense_1_accuracy_35: 0.9996 - dense_1_accuracy_36: 1.0000 - dense_1_accuracy_37: 0.9996 - dense_1_accuracy_38: 1.0000\n",
      "Epoch 122/200\n",
      "2329/2329 [==============================] - 2s 1ms/step - loss: 21.6692 - dense_1_loss: 2.9733e-04 - dense_1_accuracy: 0.1224 - dense_1_accuracy_1: 0.2684 - dense_1_accuracy_2: 0.2924 - dense_1_accuracy_3: 0.3156 - dense_1_accuracy_4: 0.2958 - dense_1_accuracy_5: 0.3426 - dense_1_accuracy_6: 0.4543 - dense_1_accuracy_7: 0.5693 - dense_1_accuracy_8: 0.6836 - dense_1_accuracy_9: 0.7862 - dense_1_accuracy_10: 0.8514 - dense_1_accuracy_11: 0.8927 - dense_1_accuracy_12: 0.9236 - dense_1_accuracy_13: 0.9407 - dense_1_accuracy_14: 0.9545 - dense_1_accuracy_15: 0.9618 - dense_1_accuracy_16: 0.9742 - dense_1_accuracy_17: 0.9811 - dense_1_accuracy_18: 0.9845 - dense_1_accuracy_19: 0.9833 - dense_1_accuracy_20: 0.9875 - dense_1_accuracy_21: 0.9906 - dense_1_accuracy_22: 0.9918 - dense_1_accuracy_23: 0.9923 - dense_1_accuracy_24: 0.9953 - dense_1_accuracy_25: 0.9927 - dense_1_accuracy_26: 0.9953 - dense_1_accuracy_27: 0.9957 - dense_1_accuracy_28: 0.9953 - dense_1_accuracy_29: 0.9983 - dense_1_accuracy_30: 0.9974 - dense_1_accuracy_31: 0.9983 - dense_1_accuracy_32: 0.9983 - dense_1_accuracy_33: 0.9983 - dense_1_accuracy_34: 0.9991 - dense_1_accuracy_35: 0.9996 - dense_1_accuracy_36: 1.0000 - dense_1_accuracy_37: 0.9996 - dense_1_accuracy_38: 1.0000\n",
      "Epoch 123/200\n",
      "2329/2329 [==============================] - 2s 996us/step - loss: 21.6617 - dense_1_loss: 2.5683e-04 - dense_1_accuracy: 0.1224 - dense_1_accuracy_1: 0.2684 - dense_1_accuracy_2: 0.2941 - dense_1_accuracy_3: 0.3160 - dense_1_accuracy_4: 0.2963 - dense_1_accuracy_5: 0.3444 - dense_1_accuracy_6: 0.4547 - dense_1_accuracy_7: 0.5689 - dense_1_accuracy_8: 0.6853 - dense_1_accuracy_9: 0.7849 - dense_1_accuracy_10: 0.8514 - dense_1_accuracy_11: 0.8927 - dense_1_accuracy_12: 0.9227 - dense_1_accuracy_13: 0.9399 - dense_1_accuracy_14: 0.9545 - dense_1_accuracy_15: 0.9626 - dense_1_accuracy_16: 0.9747 - dense_1_accuracy_17: 0.9811 - dense_1_accuracy_18: 0.9845 - dense_1_accuracy_19: 0.9833 - dense_1_accuracy_20: 0.9880 - dense_1_accuracy_21: 0.9910 - dense_1_accuracy_22: 0.9918 - dense_1_accuracy_23: 0.9918 - dense_1_accuracy_24: 0.9953 - dense_1_accuracy_25: 0.9931 - dense_1_accuracy_26: 0.9957 - dense_1_accuracy_27: 0.9961 - dense_1_accuracy_28: 0.9953 - dense_1_accuracy_29: 0.9983 - dense_1_accuracy_30: 0.9974 - dense_1_accuracy_31: 0.9983 - dense_1_accuracy_32: 0.9983 - dense_1_accuracy_33: 0.9987 - dense_1_accuracy_34: 0.9991 - dense_1_accuracy_35: 0.9996 - dense_1_accuracy_36: 1.0000 - dense_1_accuracy_37: 0.9996 - dense_1_accuracy_38: 1.0000\n",
      "Epoch 124/200\n",
      "2329/2329 [==============================] - 2s 1ms/step - loss: 21.6538 - dense_1_loss: 2.0974e-04 - dense_1_accuracy: 0.1224 - dense_1_accuracy_1: 0.2684 - dense_1_accuracy_2: 0.2941 - dense_1_accuracy_3: 0.3160 - dense_1_accuracy_4: 0.2933 - dense_1_accuracy_5: 0.3444 - dense_1_accuracy_6: 0.4534 - dense_1_accuracy_7: 0.5689 - dense_1_accuracy_8: 0.6853 - dense_1_accuracy_9: 0.7853 - dense_1_accuracy_10: 0.8502 - dense_1_accuracy_11: 0.8935 - dense_1_accuracy_12: 0.9240 - dense_1_accuracy_13: 0.9407 - dense_1_accuracy_14: 0.9532 - dense_1_accuracy_15: 0.9614 - dense_1_accuracy_16: 0.9742 - dense_1_accuracy_17: 0.9802 - dense_1_accuracy_18: 0.9850 - dense_1_accuracy_19: 0.9828 - dense_1_accuracy_20: 0.9880 - dense_1_accuracy_21: 0.9906 - dense_1_accuracy_22: 0.9918 - dense_1_accuracy_23: 0.9923 - dense_1_accuracy_24: 0.9948 - dense_1_accuracy_25: 0.9931 - dense_1_accuracy_26: 0.9953 - dense_1_accuracy_27: 0.9961 - dense_1_accuracy_28: 0.9953 - dense_1_accuracy_29: 0.9983 - dense_1_accuracy_30: 0.9974 - dense_1_accuracy_31: 0.9983 - dense_1_accuracy_32: 0.9983 - dense_1_accuracy_33: 0.9987 - dense_1_accuracy_34: 0.9991 - dense_1_accuracy_35: 0.9996 - dense_1_accuracy_36: 1.0000 - dense_1_accuracy_37: 0.9996 - dense_1_accuracy_38: 1.0000\n",
      "Epoch 125/200\n",
      "2329/2329 [==============================] - 2s 1ms/step - loss: 21.6478 - dense_1_loss: 1.7312e-04 - dense_1_accuracy: 0.1224 - dense_1_accuracy_1: 0.2679 - dense_1_accuracy_2: 0.2928 - dense_1_accuracy_3: 0.3195 - dense_1_accuracy_4: 0.2993 - dense_1_accuracy_5: 0.3452 - dense_1_accuracy_6: 0.4526 - dense_1_accuracy_7: 0.5659 - dense_1_accuracy_8: 0.6844 - dense_1_accuracy_9: 0.7853 - dense_1_accuracy_10: 0.8519 - dense_1_accuracy_11: 0.8927 - dense_1_accuracy_12: 0.9236 - dense_1_accuracy_13: 0.9416 - dense_1_accuracy_14: 0.9558 - dense_1_accuracy_15: 0.9626 - dense_1_accuracy_16: 0.9738 - dense_1_accuracy_17: 0.9815 - dense_1_accuracy_18: 0.9845 - dense_1_accuracy_19: 0.9833 - dense_1_accuracy_20: 0.9880 - dense_1_accuracy_21: 0.9906 - dense_1_accuracy_22: 0.9918 - dense_1_accuracy_23: 0.9918 - dense_1_accuracy_24: 0.9948 - dense_1_accuracy_25: 0.9931 - dense_1_accuracy_26: 0.9948 - dense_1_accuracy_27: 0.9957 - dense_1_accuracy_28: 0.9953 - dense_1_accuracy_29: 0.9983 - dense_1_accuracy_30: 0.9974 - dense_1_accuracy_31: 0.9983 - dense_1_accuracy_32: 0.9983 - dense_1_accuracy_33: 0.9987 - dense_1_accuracy_34: 0.9991 - dense_1_accuracy_35: 0.9996 - dense_1_accuracy_36: 1.0000 - dense_1_accuracy_37: 0.9996 - dense_1_accuracy_38: 1.0000\n",
      "Epoch 126/200\n"
     ]
    },
    {
     "name": "stdout",
     "output_type": "stream",
     "text": [
      "2329/2329 [==============================] - 2s 1ms/step - loss: 21.6439 - dense_1_loss: 3.0880e-04 - dense_1_accuracy: 0.1224 - dense_1_accuracy_1: 0.2675 - dense_1_accuracy_2: 0.2937 - dense_1_accuracy_3: 0.3169 - dense_1_accuracy_4: 0.2984 - dense_1_accuracy_5: 0.3444 - dense_1_accuracy_6: 0.4556 - dense_1_accuracy_7: 0.5676 - dense_1_accuracy_8: 0.6866 - dense_1_accuracy_9: 0.7862 - dense_1_accuracy_10: 0.8510 - dense_1_accuracy_11: 0.8914 - dense_1_accuracy_12: 0.9236 - dense_1_accuracy_13: 0.9416 - dense_1_accuracy_14: 0.9545 - dense_1_accuracy_15: 0.9622 - dense_1_accuracy_16: 0.9742 - dense_1_accuracy_17: 0.9811 - dense_1_accuracy_18: 0.9841 - dense_1_accuracy_19: 0.9824 - dense_1_accuracy_20: 0.9880 - dense_1_accuracy_21: 0.9910 - dense_1_accuracy_22: 0.9923 - dense_1_accuracy_23: 0.9923 - dense_1_accuracy_24: 0.9953 - dense_1_accuracy_25: 0.9931 - dense_1_accuracy_26: 0.9953 - dense_1_accuracy_27: 0.9961 - dense_1_accuracy_28: 0.9953 - dense_1_accuracy_29: 0.9983 - dense_1_accuracy_30: 0.9974 - dense_1_accuracy_31: 0.9983 - dense_1_accuracy_32: 0.9987 - dense_1_accuracy_33: 0.9987 - dense_1_accuracy_34: 0.9991 - dense_1_accuracy_35: 0.9996 - dense_1_accuracy_36: 1.0000 - dense_1_accuracy_37: 0.9996 - dense_1_accuracy_38: 1.0000\n",
      "Epoch 127/200\n",
      "2329/2329 [==============================] - 2s 1ms/step - loss: 21.6320 - dense_1_loss: 2.3846e-04 - dense_1_accuracy: 0.1224 - dense_1_accuracy_1: 0.2684 - dense_1_accuracy_2: 0.2937 - dense_1_accuracy_3: 0.3186 - dense_1_accuracy_4: 0.2963 - dense_1_accuracy_5: 0.3426 - dense_1_accuracy_6: 0.4573 - dense_1_accuracy_7: 0.5655 - dense_1_accuracy_8: 0.6870 - dense_1_accuracy_9: 0.7849 - dense_1_accuracy_10: 0.8523 - dense_1_accuracy_11: 0.8935 - dense_1_accuracy_12: 0.9249 - dense_1_accuracy_13: 0.9412 - dense_1_accuracy_14: 0.9545 - dense_1_accuracy_15: 0.9626 - dense_1_accuracy_16: 0.9738 - dense_1_accuracy_17: 0.9815 - dense_1_accuracy_18: 0.9850 - dense_1_accuracy_19: 0.9833 - dense_1_accuracy_20: 0.9880 - dense_1_accuracy_21: 0.9906 - dense_1_accuracy_22: 0.9918 - dense_1_accuracy_23: 0.9923 - dense_1_accuracy_24: 0.9953 - dense_1_accuracy_25: 0.9931 - dense_1_accuracy_26: 0.9953 - dense_1_accuracy_27: 0.9957 - dense_1_accuracy_28: 0.9953 - dense_1_accuracy_29: 0.9983 - dense_1_accuracy_30: 0.9974 - dense_1_accuracy_31: 0.9983 - dense_1_accuracy_32: 0.9987 - dense_1_accuracy_33: 0.9987 - dense_1_accuracy_34: 0.9991 - dense_1_accuracy_35: 0.9996 - dense_1_accuracy_36: 1.0000 - dense_1_accuracy_37: 0.9996 - dense_1_accuracy_38: 1.0000\n",
      "Epoch 128/200\n",
      "2329/2329 [==============================] - 2s 1ms/step - loss: 21.6276 - dense_1_loss: 3.0593e-04 - dense_1_accuracy: 0.1224 - dense_1_accuracy_1: 0.2684 - dense_1_accuracy_2: 0.2958 - dense_1_accuracy_3: 0.3190 - dense_1_accuracy_4: 0.2954 - dense_1_accuracy_5: 0.3435 - dense_1_accuracy_6: 0.4530 - dense_1_accuracy_7: 0.5681 - dense_1_accuracy_8: 0.6836 - dense_1_accuracy_9: 0.7845 - dense_1_accuracy_10: 0.8519 - dense_1_accuracy_11: 0.8922 - dense_1_accuracy_12: 0.9240 - dense_1_accuracy_13: 0.9412 - dense_1_accuracy_14: 0.9553 - dense_1_accuracy_15: 0.9618 - dense_1_accuracy_16: 0.9747 - dense_1_accuracy_17: 0.9815 - dense_1_accuracy_18: 0.9845 - dense_1_accuracy_19: 0.9828 - dense_1_accuracy_20: 0.9880 - dense_1_accuracy_21: 0.9906 - dense_1_accuracy_22: 0.9923 - dense_1_accuracy_23: 0.9923 - dense_1_accuracy_24: 0.9953 - dense_1_accuracy_25: 0.9936 - dense_1_accuracy_26: 0.9953 - dense_1_accuracy_27: 0.9961 - dense_1_accuracy_28: 0.9953 - dense_1_accuracy_29: 0.9983 - dense_1_accuracy_30: 0.9974 - dense_1_accuracy_31: 0.9983 - dense_1_accuracy_32: 0.9987 - dense_1_accuracy_33: 0.9983 - dense_1_accuracy_34: 0.9991 - dense_1_accuracy_35: 0.9996 - dense_1_accuracy_36: 1.0000 - dense_1_accuracy_37: 0.9996 - dense_1_accuracy_38: 1.0000\n",
      "Epoch 129/200\n",
      "2329/2329 [==============================] - 2s 1ms/step - loss: 21.6201 - dense_1_loss: 2.6988e-04 - dense_1_accuracy: 0.1224 - dense_1_accuracy_1: 0.2684 - dense_1_accuracy_2: 0.2941 - dense_1_accuracy_3: 0.3220 - dense_1_accuracy_4: 0.2988 - dense_1_accuracy_5: 0.3418 - dense_1_accuracy_6: 0.4538 - dense_1_accuracy_7: 0.5685 - dense_1_accuracy_8: 0.6866 - dense_1_accuracy_9: 0.7845 - dense_1_accuracy_10: 0.8514 - dense_1_accuracy_11: 0.8922 - dense_1_accuracy_12: 0.9244 - dense_1_accuracy_13: 0.9412 - dense_1_accuracy_14: 0.9549 - dense_1_accuracy_15: 0.9622 - dense_1_accuracy_16: 0.9738 - dense_1_accuracy_17: 0.9811 - dense_1_accuracy_18: 0.9850 - dense_1_accuracy_19: 0.9833 - dense_1_accuracy_20: 0.9880 - dense_1_accuracy_21: 0.9906 - dense_1_accuracy_22: 0.9923 - dense_1_accuracy_23: 0.9923 - dense_1_accuracy_24: 0.9957 - dense_1_accuracy_25: 0.9931 - dense_1_accuracy_26: 0.9953 - dense_1_accuracy_27: 0.9961 - dense_1_accuracy_28: 0.9953 - dense_1_accuracy_29: 0.9983 - dense_1_accuracy_30: 0.9974 - dense_1_accuracy_31: 0.9983 - dense_1_accuracy_32: 0.9987 - dense_1_accuracy_33: 0.9987 - dense_1_accuracy_34: 0.9991 - dense_1_accuracy_35: 0.9996 - dense_1_accuracy_36: 1.0000 - dense_1_accuracy_37: 0.9996 - dense_1_accuracy_38: 1.0000\n",
      "Epoch 130/200\n",
      "2329/2329 [==============================] - 2s 1ms/step - loss: 21.6137 - dense_1_loss: 2.4042e-04 - dense_1_accuracy: 0.1224 - dense_1_accuracy_1: 0.2684 - dense_1_accuracy_2: 0.2967 - dense_1_accuracy_3: 0.3177 - dense_1_accuracy_4: 0.2976 - dense_1_accuracy_5: 0.3435 - dense_1_accuracy_6: 0.4551 - dense_1_accuracy_7: 0.5676 - dense_1_accuracy_8: 0.6848 - dense_1_accuracy_9: 0.7866 - dense_1_accuracy_10: 0.8527 - dense_1_accuracy_11: 0.8927 - dense_1_accuracy_12: 0.9244 - dense_1_accuracy_13: 0.9416 - dense_1_accuracy_14: 0.9549 - dense_1_accuracy_15: 0.9614 - dense_1_accuracy_16: 0.9747 - dense_1_accuracy_17: 0.9811 - dense_1_accuracy_18: 0.9845 - dense_1_accuracy_19: 0.9833 - dense_1_accuracy_20: 0.9880 - dense_1_accuracy_21: 0.9910 - dense_1_accuracy_22: 0.9923 - dense_1_accuracy_23: 0.9923 - dense_1_accuracy_24: 0.9948 - dense_1_accuracy_25: 0.9936 - dense_1_accuracy_26: 0.9953 - dense_1_accuracy_27: 0.9961 - dense_1_accuracy_28: 0.9953 - dense_1_accuracy_29: 0.9983 - dense_1_accuracy_30: 0.9974 - dense_1_accuracy_31: 0.9983 - dense_1_accuracy_32: 0.9987 - dense_1_accuracy_33: 0.9987 - dense_1_accuracy_34: 0.9991 - dense_1_accuracy_35: 0.9996 - dense_1_accuracy_36: 1.0000 - dense_1_accuracy_37: 0.9996 - dense_1_accuracy_38: 1.0000\n",
      "Epoch 131/200\n",
      "2329/2329 [==============================] - 2s 1ms/step - loss: 21.6059 - dense_1_loss: 1.7696e-04 - dense_1_accuracy: 0.1224 - dense_1_accuracy_1: 0.2684 - dense_1_accuracy_2: 0.2954 - dense_1_accuracy_3: 0.3199 - dense_1_accuracy_4: 0.2988 - dense_1_accuracy_5: 0.3439 - dense_1_accuracy_6: 0.4538 - dense_1_accuracy_7: 0.5689 - dense_1_accuracy_8: 0.6853 - dense_1_accuracy_9: 0.7875 - dense_1_accuracy_10: 0.8519 - dense_1_accuracy_11: 0.8927 - dense_1_accuracy_12: 0.9249 - dense_1_accuracy_13: 0.9420 - dense_1_accuracy_14: 0.9558 - dense_1_accuracy_15: 0.9626 - dense_1_accuracy_16: 0.9742 - dense_1_accuracy_17: 0.9815 - dense_1_accuracy_18: 0.9841 - dense_1_accuracy_19: 0.9833 - dense_1_accuracy_20: 0.9880 - dense_1_accuracy_21: 0.9906 - dense_1_accuracy_22: 0.9923 - dense_1_accuracy_23: 0.9923 - dense_1_accuracy_24: 0.9953 - dense_1_accuracy_25: 0.9936 - dense_1_accuracy_26: 0.9953 - dense_1_accuracy_27: 0.9957 - dense_1_accuracy_28: 0.9953 - dense_1_accuracy_29: 0.9983 - dense_1_accuracy_30: 0.9974 - dense_1_accuracy_31: 0.9983 - dense_1_accuracy_32: 0.9987 - dense_1_accuracy_33: 0.9987 - dense_1_accuracy_34: 0.9991 - dense_1_accuracy_35: 0.9996 - dense_1_accuracy_36: 1.0000 - dense_1_accuracy_37: 0.9996 - dense_1_accuracy_38: 1.0000\n",
      "Epoch 132/200\n"
     ]
    },
    {
     "name": "stdout",
     "output_type": "stream",
     "text": [
      "2329/2329 [==============================] - 2s 1ms/step - loss: 21.5986 - dense_1_loss: 1.9797e-04 - dense_1_accuracy: 0.1224 - dense_1_accuracy_1: 0.2684 - dense_1_accuracy_2: 0.2945 - dense_1_accuracy_3: 0.3199 - dense_1_accuracy_4: 0.2980 - dense_1_accuracy_5: 0.3461 - dense_1_accuracy_6: 0.4543 - dense_1_accuracy_7: 0.5698 - dense_1_accuracy_8: 0.6878 - dense_1_accuracy_9: 0.7853 - dense_1_accuracy_10: 0.8527 - dense_1_accuracy_11: 0.8931 - dense_1_accuracy_12: 0.9249 - dense_1_accuracy_13: 0.9416 - dense_1_accuracy_14: 0.9553 - dense_1_accuracy_15: 0.9626 - dense_1_accuracy_16: 0.9747 - dense_1_accuracy_17: 0.9815 - dense_1_accuracy_18: 0.9845 - dense_1_accuracy_19: 0.9833 - dense_1_accuracy_20: 0.9884 - dense_1_accuracy_21: 0.9914 - dense_1_accuracy_22: 0.9923 - dense_1_accuracy_23: 0.9923 - dense_1_accuracy_24: 0.9953 - dense_1_accuracy_25: 0.9936 - dense_1_accuracy_26: 0.9953 - dense_1_accuracy_27: 0.9957 - dense_1_accuracy_28: 0.9953 - dense_1_accuracy_29: 0.9983 - dense_1_accuracy_30: 0.9974 - dense_1_accuracy_31: 0.9983 - dense_1_accuracy_32: 0.9987 - dense_1_accuracy_33: 0.9987 - dense_1_accuracy_34: 0.9991 - dense_1_accuracy_35: 0.9996 - dense_1_accuracy_36: 1.0000 - dense_1_accuracy_37: 0.9996 - dense_1_accuracy_38: 1.0000\n",
      "Epoch 133/200\n",
      "2329/2329 [==============================] - 2s 1ms/step - loss: 21.5918 - dense_1_loss: 2.4994e-04 - dense_1_accuracy: 0.1224 - dense_1_accuracy_1: 0.2684 - dense_1_accuracy_2: 0.2967 - dense_1_accuracy_3: 0.3190 - dense_1_accuracy_4: 0.2980 - dense_1_accuracy_5: 0.3439 - dense_1_accuracy_6: 0.4556 - dense_1_accuracy_7: 0.5689 - dense_1_accuracy_8: 0.6857 - dense_1_accuracy_9: 0.7857 - dense_1_accuracy_10: 0.8519 - dense_1_accuracy_11: 0.8935 - dense_1_accuracy_12: 0.9249 - dense_1_accuracy_13: 0.9420 - dense_1_accuracy_14: 0.9549 - dense_1_accuracy_15: 0.9622 - dense_1_accuracy_16: 0.9747 - dense_1_accuracy_17: 0.9815 - dense_1_accuracy_18: 0.9850 - dense_1_accuracy_19: 0.9833 - dense_1_accuracy_20: 0.9880 - dense_1_accuracy_21: 0.9914 - dense_1_accuracy_22: 0.9923 - dense_1_accuracy_23: 0.9923 - dense_1_accuracy_24: 0.9953 - dense_1_accuracy_25: 0.9927 - dense_1_accuracy_26: 0.9953 - dense_1_accuracy_27: 0.9961 - dense_1_accuracy_28: 0.9953 - dense_1_accuracy_29: 0.9983 - dense_1_accuracy_30: 0.9974 - dense_1_accuracy_31: 0.9983 - dense_1_accuracy_32: 0.9987 - dense_1_accuracy_33: 0.9987 - dense_1_accuracy_34: 0.9991 - dense_1_accuracy_35: 0.9996 - dense_1_accuracy_36: 1.0000 - dense_1_accuracy_37: 0.9996 - dense_1_accuracy_38: 1.0000\n",
      "Epoch 134/200\n",
      "2329/2329 [==============================] - 2s 1ms/step - loss: 21.5849 - dense_1_loss: 2.5262e-04 - dense_1_accuracy: 0.1224 - dense_1_accuracy_1: 0.2684 - dense_1_accuracy_2: 0.2941 - dense_1_accuracy_3: 0.3182 - dense_1_accuracy_4: 0.2997 - dense_1_accuracy_5: 0.3431 - dense_1_accuracy_6: 0.4573 - dense_1_accuracy_7: 0.5672 - dense_1_accuracy_8: 0.6866 - dense_1_accuracy_9: 0.7879 - dense_1_accuracy_10: 0.8527 - dense_1_accuracy_11: 0.8939 - dense_1_accuracy_12: 0.9240 - dense_1_accuracy_13: 0.9412 - dense_1_accuracy_14: 0.9536 - dense_1_accuracy_15: 0.9618 - dense_1_accuracy_16: 0.9738 - dense_1_accuracy_17: 0.9811 - dense_1_accuracy_18: 0.9845 - dense_1_accuracy_19: 0.9833 - dense_1_accuracy_20: 0.9884 - dense_1_accuracy_21: 0.9910 - dense_1_accuracy_22: 0.9923 - dense_1_accuracy_23: 0.9923 - dense_1_accuracy_24: 0.9953 - dense_1_accuracy_25: 0.9931 - dense_1_accuracy_26: 0.9957 - dense_1_accuracy_27: 0.9961 - dense_1_accuracy_28: 0.9953 - dense_1_accuracy_29: 0.9983 - dense_1_accuracy_30: 0.9974 - dense_1_accuracy_31: 0.9983 - dense_1_accuracy_32: 0.9987 - dense_1_accuracy_33: 0.9987 - dense_1_accuracy_34: 0.9991 - dense_1_accuracy_35: 0.9996 - dense_1_accuracy_36: 1.0000 - dense_1_accuracy_37: 0.9996 - dense_1_accuracy_38: 1.0000\n",
      "Epoch 135/200\n",
      "2329/2329 [==============================] - 2s 1ms/step - loss: 21.5793 - dense_1_loss: 2.1799e-04 - dense_1_accuracy: 0.1224 - dense_1_accuracy_1: 0.2684 - dense_1_accuracy_2: 0.2950 - dense_1_accuracy_3: 0.3212 - dense_1_accuracy_4: 0.3006 - dense_1_accuracy_5: 0.3465 - dense_1_accuracy_6: 0.4568 - dense_1_accuracy_7: 0.5698 - dense_1_accuracy_8: 0.6870 - dense_1_accuracy_9: 0.7883 - dense_1_accuracy_10: 0.8536 - dense_1_accuracy_11: 0.8935 - dense_1_accuracy_12: 0.9261 - dense_1_accuracy_13: 0.9420 - dense_1_accuracy_14: 0.9549 - dense_1_accuracy_15: 0.9631 - dense_1_accuracy_16: 0.9742 - dense_1_accuracy_17: 0.9815 - dense_1_accuracy_18: 0.9854 - dense_1_accuracy_19: 0.9833 - dense_1_accuracy_20: 0.9884 - dense_1_accuracy_21: 0.9910 - dense_1_accuracy_22: 0.9923 - dense_1_accuracy_23: 0.9923 - dense_1_accuracy_24: 0.9948 - dense_1_accuracy_25: 0.9936 - dense_1_accuracy_26: 0.9957 - dense_1_accuracy_27: 0.9957 - dense_1_accuracy_28: 0.9953 - dense_1_accuracy_29: 0.9983 - dense_1_accuracy_30: 0.9974 - dense_1_accuracy_31: 0.9983 - dense_1_accuracy_32: 0.9987 - dense_1_accuracy_33: 0.9987 - dense_1_accuracy_34: 0.9991 - dense_1_accuracy_35: 0.9996 - dense_1_accuracy_36: 1.0000 - dense_1_accuracy_37: 0.9996 - dense_1_accuracy_38: 1.0000\n",
      "Epoch 136/200\n",
      "2329/2329 [==============================] - 2s 1ms/step - loss: 21.5727 - dense_1_loss: 1.5412e-04 - dense_1_accuracy: 0.1224 - dense_1_accuracy_1: 0.2684 - dense_1_accuracy_2: 0.2963 - dense_1_accuracy_3: 0.3164 - dense_1_accuracy_4: 0.2967 - dense_1_accuracy_5: 0.3452 - dense_1_accuracy_6: 0.4547 - dense_1_accuracy_7: 0.5702 - dense_1_accuracy_8: 0.6883 - dense_1_accuracy_9: 0.7883 - dense_1_accuracy_10: 0.8549 - dense_1_accuracy_11: 0.8935 - dense_1_accuracy_12: 0.9244 - dense_1_accuracy_13: 0.9425 - dense_1_accuracy_14: 0.9541 - dense_1_accuracy_15: 0.9626 - dense_1_accuracy_16: 0.9742 - dense_1_accuracy_17: 0.9815 - dense_1_accuracy_18: 0.9854 - dense_1_accuracy_19: 0.9833 - dense_1_accuracy_20: 0.9888 - dense_1_accuracy_21: 0.9910 - dense_1_accuracy_22: 0.9923 - dense_1_accuracy_23: 0.9923 - dense_1_accuracy_24: 0.9953 - dense_1_accuracy_25: 0.9936 - dense_1_accuracy_26: 0.9953 - dense_1_accuracy_27: 0.9957 - dense_1_accuracy_28: 0.9953 - dense_1_accuracy_29: 0.9983 - dense_1_accuracy_30: 0.9974 - dense_1_accuracy_31: 0.9983 - dense_1_accuracy_32: 0.9987 - dense_1_accuracy_33: 0.9987 - dense_1_accuracy_34: 0.9991 - dense_1_accuracy_35: 0.9996 - dense_1_accuracy_36: 1.0000 - dense_1_accuracy_37: 0.9996 - dense_1_accuracy_38: 1.0000\n",
      "Epoch 137/200\n",
      "2329/2329 [==============================] - 2s 1ms/step - loss: 21.5660 - dense_1_loss: 2.2947e-04 - dense_1_accuracy: 0.1224 - dense_1_accuracy_1: 0.2671 - dense_1_accuracy_2: 0.2950 - dense_1_accuracy_3: 0.3212 - dense_1_accuracy_4: 0.2997 - dense_1_accuracy_5: 0.3456 - dense_1_accuracy_6: 0.4564 - dense_1_accuracy_7: 0.5719 - dense_1_accuracy_8: 0.6878 - dense_1_accuracy_9: 0.7883 - dense_1_accuracy_10: 0.8544 - dense_1_accuracy_11: 0.8939 - dense_1_accuracy_12: 0.9249 - dense_1_accuracy_13: 0.9412 - dense_1_accuracy_14: 0.9549 - dense_1_accuracy_15: 0.9618 - dense_1_accuracy_16: 0.9747 - dense_1_accuracy_17: 0.9815 - dense_1_accuracy_18: 0.9850 - dense_1_accuracy_19: 0.9828 - dense_1_accuracy_20: 0.9880 - dense_1_accuracy_21: 0.9906 - dense_1_accuracy_22: 0.9923 - dense_1_accuracy_23: 0.9923 - dense_1_accuracy_24: 0.9953 - dense_1_accuracy_25: 0.9931 - dense_1_accuracy_26: 0.9953 - dense_1_accuracy_27: 0.9961 - dense_1_accuracy_28: 0.9953 - dense_1_accuracy_29: 0.9983 - dense_1_accuracy_30: 0.9974 - dense_1_accuracy_31: 0.9983 - dense_1_accuracy_32: 0.9987 - dense_1_accuracy_33: 0.9987 - dense_1_accuracy_34: 0.9991 - dense_1_accuracy_35: 0.9996 - dense_1_accuracy_36: 1.0000 - dense_1_accuracy_37: 0.9996 - dense_1_accuracy_38: 1.0000\n",
      "Epoch 138/200\n"
     ]
    },
    {
     "name": "stdout",
     "output_type": "stream",
     "text": [
      "2329/2329 [==============================] - 2s 1ms/step - loss: 21.5585 - dense_1_loss: 1.6375e-04 - dense_1_accuracy: 0.1224 - dense_1_accuracy_1: 0.2701 - dense_1_accuracy_2: 0.2945 - dense_1_accuracy_3: 0.3186 - dense_1_accuracy_4: 0.2980 - dense_1_accuracy_5: 0.3456 - dense_1_accuracy_6: 0.4560 - dense_1_accuracy_7: 0.5723 - dense_1_accuracy_8: 0.6861 - dense_1_accuracy_9: 0.7879 - dense_1_accuracy_10: 0.8519 - dense_1_accuracy_11: 0.8935 - dense_1_accuracy_12: 0.9231 - dense_1_accuracy_13: 0.9425 - dense_1_accuracy_14: 0.9553 - dense_1_accuracy_15: 0.9626 - dense_1_accuracy_16: 0.9742 - dense_1_accuracy_17: 0.9811 - dense_1_accuracy_18: 0.9850 - dense_1_accuracy_19: 0.9833 - dense_1_accuracy_20: 0.9880 - dense_1_accuracy_21: 0.9910 - dense_1_accuracy_22: 0.9923 - dense_1_accuracy_23: 0.9918 - dense_1_accuracy_24: 0.9953 - dense_1_accuracy_25: 0.9931 - dense_1_accuracy_26: 0.9953 - dense_1_accuracy_27: 0.9961 - dense_1_accuracy_28: 0.9953 - dense_1_accuracy_29: 0.9983 - dense_1_accuracy_30: 0.9974 - dense_1_accuracy_31: 0.9983 - dense_1_accuracy_32: 0.9987 - dense_1_accuracy_33: 0.9987 - dense_1_accuracy_34: 0.9991 - dense_1_accuracy_35: 0.9996 - dense_1_accuracy_36: 1.0000 - dense_1_accuracy_37: 0.9996 - dense_1_accuracy_38: 1.0000\n",
      "Epoch 139/200\n",
      "2329/2329 [==============================] - 2s 1ms/step - loss: 21.5540 - dense_1_loss: 2.7113e-04 - dense_1_accuracy: 0.1224 - dense_1_accuracy_1: 0.2684 - dense_1_accuracy_2: 0.2954 - dense_1_accuracy_3: 0.3203 - dense_1_accuracy_4: 0.3010 - dense_1_accuracy_5: 0.3474 - dense_1_accuracy_6: 0.4547 - dense_1_accuracy_7: 0.5711 - dense_1_accuracy_8: 0.6883 - dense_1_accuracy_9: 0.7875 - dense_1_accuracy_10: 0.8532 - dense_1_accuracy_11: 0.8927 - dense_1_accuracy_12: 0.9244 - dense_1_accuracy_13: 0.9420 - dense_1_accuracy_14: 0.9558 - dense_1_accuracy_15: 0.9626 - dense_1_accuracy_16: 0.9742 - dense_1_accuracy_17: 0.9815 - dense_1_accuracy_18: 0.9850 - dense_1_accuracy_19: 0.9833 - dense_1_accuracy_20: 0.9884 - dense_1_accuracy_21: 0.9914 - dense_1_accuracy_22: 0.9923 - dense_1_accuracy_23: 0.9923 - dense_1_accuracy_24: 0.9953 - dense_1_accuracy_25: 0.9936 - dense_1_accuracy_26: 0.9953 - dense_1_accuracy_27: 0.9957 - dense_1_accuracy_28: 0.9953 - dense_1_accuracy_29: 0.9983 - dense_1_accuracy_30: 0.9974 - dense_1_accuracy_31: 0.9983 - dense_1_accuracy_32: 0.9987 - dense_1_accuracy_33: 0.9987 - dense_1_accuracy_34: 0.9991 - dense_1_accuracy_35: 0.9996 - dense_1_accuracy_36: 1.0000 - dense_1_accuracy_37: 0.9996 - dense_1_accuracy_38: 1.0000\n",
      "Epoch 140/200\n",
      "2329/2329 [==============================] - 2s 1ms/step - loss: 21.5472 - dense_1_loss: 1.8029e-04 - dense_1_accuracy: 0.1224 - dense_1_accuracy_1: 0.2684 - dense_1_accuracy_2: 0.2950 - dense_1_accuracy_3: 0.3207 - dense_1_accuracy_4: 0.3010 - dense_1_accuracy_5: 0.3486 - dense_1_accuracy_6: 0.4560 - dense_1_accuracy_7: 0.5681 - dense_1_accuracy_8: 0.6900 - dense_1_accuracy_9: 0.7875 - dense_1_accuracy_10: 0.8527 - dense_1_accuracy_11: 0.8944 - dense_1_accuracy_12: 0.9240 - dense_1_accuracy_13: 0.9425 - dense_1_accuracy_14: 0.9536 - dense_1_accuracy_15: 0.9626 - dense_1_accuracy_16: 0.9747 - dense_1_accuracy_17: 0.9802 - dense_1_accuracy_18: 0.9837 - dense_1_accuracy_19: 0.9833 - dense_1_accuracy_20: 0.9880 - dense_1_accuracy_21: 0.9910 - dense_1_accuracy_22: 0.9923 - dense_1_accuracy_23: 0.9923 - dense_1_accuracy_24: 0.9953 - dense_1_accuracy_25: 0.9931 - dense_1_accuracy_26: 0.9948 - dense_1_accuracy_27: 0.9966 - dense_1_accuracy_28: 0.9953 - dense_1_accuracy_29: 0.9983 - dense_1_accuracy_30: 0.9974 - dense_1_accuracy_31: 0.9983 - dense_1_accuracy_32: 0.9987 - dense_1_accuracy_33: 0.9987 - dense_1_accuracy_34: 0.9991 - dense_1_accuracy_35: 0.9996 - dense_1_accuracy_36: 1.0000 - dense_1_accuracy_37: 0.9996 - dense_1_accuracy_38: 1.0000\n",
      "Epoch 141/200\n",
      "2329/2329 [==============================] - 2s 1ms/step - loss: 21.5423 - dense_1_loss: 1.4039e-04 - dense_1_accuracy: 0.1224 - dense_1_accuracy_1: 0.2692 - dense_1_accuracy_2: 0.2945 - dense_1_accuracy_3: 0.3203 - dense_1_accuracy_4: 0.3018 - dense_1_accuracy_5: 0.3444 - dense_1_accuracy_6: 0.4573 - dense_1_accuracy_7: 0.5693 - dense_1_accuracy_8: 0.6866 - dense_1_accuracy_9: 0.7883 - dense_1_accuracy_10: 0.8532 - dense_1_accuracy_11: 0.8931 - dense_1_accuracy_12: 0.9240 - dense_1_accuracy_13: 0.9433 - dense_1_accuracy_14: 0.9553 - dense_1_accuracy_15: 0.9631 - dense_1_accuracy_16: 0.9747 - dense_1_accuracy_17: 0.9815 - dense_1_accuracy_18: 0.9841 - dense_1_accuracy_19: 0.9828 - dense_1_accuracy_20: 0.9893 - dense_1_accuracy_21: 0.9914 - dense_1_accuracy_22: 0.9918 - dense_1_accuracy_23: 0.9923 - dense_1_accuracy_24: 0.9953 - dense_1_accuracy_25: 0.9931 - dense_1_accuracy_26: 0.9948 - dense_1_accuracy_27: 0.9961 - dense_1_accuracy_28: 0.9953 - dense_1_accuracy_29: 0.9983 - dense_1_accuracy_30: 0.9974 - dense_1_accuracy_31: 0.9983 - dense_1_accuracy_32: 0.9983 - dense_1_accuracy_33: 0.9987 - dense_1_accuracy_34: 0.9991 - dense_1_accuracy_35: 0.9991 - dense_1_accuracy_36: 1.0000 - dense_1_accuracy_37: 0.9996 - dense_1_accuracy_38: 1.0000\n",
      "Epoch 142/200\n",
      "2329/2329 [==============================] - 2s 1ms/step - loss: 21.5338 - dense_1_loss: 1.4310e-04 - dense_1_accuracy: 0.1224 - dense_1_accuracy_1: 0.2684 - dense_1_accuracy_2: 0.2954 - dense_1_accuracy_3: 0.3203 - dense_1_accuracy_4: 0.2997 - dense_1_accuracy_5: 0.3461 - dense_1_accuracy_6: 0.4568 - dense_1_accuracy_7: 0.5728 - dense_1_accuracy_8: 0.6887 - dense_1_accuracy_9: 0.7883 - dense_1_accuracy_10: 0.8519 - dense_1_accuracy_11: 0.8935 - dense_1_accuracy_12: 0.9261 - dense_1_accuracy_13: 0.9416 - dense_1_accuracy_14: 0.9558 - dense_1_accuracy_15: 0.9626 - dense_1_accuracy_16: 0.9747 - dense_1_accuracy_17: 0.9815 - dense_1_accuracy_18: 0.9850 - dense_1_accuracy_19: 0.9841 - dense_1_accuracy_20: 0.9888 - dense_1_accuracy_21: 0.9910 - dense_1_accuracy_22: 0.9923 - dense_1_accuracy_23: 0.9923 - dense_1_accuracy_24: 0.9953 - dense_1_accuracy_25: 0.9936 - dense_1_accuracy_26: 0.9953 - dense_1_accuracy_27: 0.9966 - dense_1_accuracy_28: 0.9953 - dense_1_accuracy_29: 0.9983 - dense_1_accuracy_30: 0.9974 - dense_1_accuracy_31: 0.9983 - dense_1_accuracy_32: 0.9987 - dense_1_accuracy_33: 0.9987 - dense_1_accuracy_34: 0.9991 - dense_1_accuracy_35: 0.9991 - dense_1_accuracy_36: 1.0000 - dense_1_accuracy_37: 0.9996 - dense_1_accuracy_38: 1.0000\n",
      "Epoch 143/200\n",
      "2329/2329 [==============================] - 2s 1ms/step - loss: 21.5291 - dense_1_loss: 1.8870e-04 - dense_1_accuracy: 0.1224 - dense_1_accuracy_1: 0.2671 - dense_1_accuracy_2: 0.2954 - dense_1_accuracy_3: 0.3195 - dense_1_accuracy_4: 0.3010 - dense_1_accuracy_5: 0.3469 - dense_1_accuracy_6: 0.4560 - dense_1_accuracy_7: 0.5728 - dense_1_accuracy_8: 0.6883 - dense_1_accuracy_9: 0.7870 - dense_1_accuracy_10: 0.8544 - dense_1_accuracy_11: 0.8939 - dense_1_accuracy_12: 0.9253 - dense_1_accuracy_13: 0.9429 - dense_1_accuracy_14: 0.9549 - dense_1_accuracy_15: 0.9626 - dense_1_accuracy_16: 0.9742 - dense_1_accuracy_17: 0.9820 - dense_1_accuracy_18: 0.9841 - dense_1_accuracy_19: 0.9833 - dense_1_accuracy_20: 0.9893 - dense_1_accuracy_21: 0.9914 - dense_1_accuracy_22: 0.9923 - dense_1_accuracy_23: 0.9923 - dense_1_accuracy_24: 0.9953 - dense_1_accuracy_25: 0.9936 - dense_1_accuracy_26: 0.9953 - dense_1_accuracy_27: 0.9957 - dense_1_accuracy_28: 0.9953 - dense_1_accuracy_29: 0.9983 - dense_1_accuracy_30: 0.9974 - dense_1_accuracy_31: 0.9983 - dense_1_accuracy_32: 0.9987 - dense_1_accuracy_33: 0.9987 - dense_1_accuracy_34: 0.9991 - dense_1_accuracy_35: 0.9996 - dense_1_accuracy_36: 1.0000 - dense_1_accuracy_37: 0.9996 - dense_1_accuracy_38: 1.0000\n",
      "Epoch 144/200\n"
     ]
    },
    {
     "name": "stdout",
     "output_type": "stream",
     "text": [
      "2329/2329 [==============================] - 2s 1ms/step - loss: 21.5222 - dense_1_loss: 1.7946e-04 - dense_1_accuracy: 0.1224 - dense_1_accuracy_1: 0.2684 - dense_1_accuracy_2: 0.2950 - dense_1_accuracy_3: 0.3216 - dense_1_accuracy_4: 0.3001 - dense_1_accuracy_5: 0.3465 - dense_1_accuracy_6: 0.4594 - dense_1_accuracy_7: 0.5723 - dense_1_accuracy_8: 0.6887 - dense_1_accuracy_9: 0.7883 - dense_1_accuracy_10: 0.8532 - dense_1_accuracy_11: 0.8935 - dense_1_accuracy_12: 0.9253 - dense_1_accuracy_13: 0.9425 - dense_1_accuracy_14: 0.9545 - dense_1_accuracy_15: 0.9631 - dense_1_accuracy_16: 0.9742 - dense_1_accuracy_17: 0.9815 - dense_1_accuracy_18: 0.9854 - dense_1_accuracy_19: 0.9828 - dense_1_accuracy_20: 0.9884 - dense_1_accuracy_21: 0.9914 - dense_1_accuracy_22: 0.9923 - dense_1_accuracy_23: 0.9918 - dense_1_accuracy_24: 0.9953 - dense_1_accuracy_25: 0.9936 - dense_1_accuracy_26: 0.9953 - dense_1_accuracy_27: 0.9961 - dense_1_accuracy_28: 0.9953 - dense_1_accuracy_29: 0.9983 - dense_1_accuracy_30: 0.9974 - dense_1_accuracy_31: 0.9983 - dense_1_accuracy_32: 0.9987 - dense_1_accuracy_33: 0.9987 - dense_1_accuracy_34: 0.9991 - dense_1_accuracy_35: 0.9996 - dense_1_accuracy_36: 1.0000 - dense_1_accuracy_37: 0.9996 - dense_1_accuracy_38: 1.0000\n",
      "Epoch 145/200\n",
      "2329/2329 [==============================] - 2s 1ms/step - loss: 21.5157 - dense_1_loss: 1.5787e-04 - dense_1_accuracy: 0.1224 - dense_1_accuracy_1: 0.2705 - dense_1_accuracy_2: 0.2954 - dense_1_accuracy_3: 0.3225 - dense_1_accuracy_4: 0.3023 - dense_1_accuracy_5: 0.3461 - dense_1_accuracy_6: 0.4564 - dense_1_accuracy_7: 0.5698 - dense_1_accuracy_8: 0.6904 - dense_1_accuracy_9: 0.7870 - dense_1_accuracy_10: 0.8536 - dense_1_accuracy_11: 0.8939 - dense_1_accuracy_12: 0.9240 - dense_1_accuracy_13: 0.9429 - dense_1_accuracy_14: 0.9549 - dense_1_accuracy_15: 0.9635 - dense_1_accuracy_16: 0.9751 - dense_1_accuracy_17: 0.9807 - dense_1_accuracy_18: 0.9841 - dense_1_accuracy_19: 0.9833 - dense_1_accuracy_20: 0.9880 - dense_1_accuracy_21: 0.9914 - dense_1_accuracy_22: 0.9923 - dense_1_accuracy_23: 0.9918 - dense_1_accuracy_24: 0.9953 - dense_1_accuracy_25: 0.9936 - dense_1_accuracy_26: 0.9953 - dense_1_accuracy_27: 0.9961 - dense_1_accuracy_28: 0.9953 - dense_1_accuracy_29: 0.9983 - dense_1_accuracy_30: 0.9974 - dense_1_accuracy_31: 0.9983 - dense_1_accuracy_32: 0.9987 - dense_1_accuracy_33: 0.9987 - dense_1_accuracy_34: 0.9991 - dense_1_accuracy_35: 0.9996 - dense_1_accuracy_36: 1.0000 - dense_1_accuracy_37: 0.9996 - dense_1_accuracy_38: 1.0000\n",
      "Epoch 146/200\n",
      "2329/2329 [==============================] - 2s 1ms/step - loss: 21.5113 - dense_1_loss: 1.7207e-04 - dense_1_accuracy: 0.1224 - dense_1_accuracy_1: 0.2684 - dense_1_accuracy_2: 0.2976 - dense_1_accuracy_3: 0.3242 - dense_1_accuracy_4: 0.3006 - dense_1_accuracy_5: 0.3461 - dense_1_accuracy_6: 0.4586 - dense_1_accuracy_7: 0.5719 - dense_1_accuracy_8: 0.6887 - dense_1_accuracy_9: 0.7879 - dense_1_accuracy_10: 0.8532 - dense_1_accuracy_11: 0.8931 - dense_1_accuracy_12: 0.9253 - dense_1_accuracy_13: 0.9420 - dense_1_accuracy_14: 0.9545 - dense_1_accuracy_15: 0.9631 - dense_1_accuracy_16: 0.9742 - dense_1_accuracy_17: 0.9820 - dense_1_accuracy_18: 0.9850 - dense_1_accuracy_19: 0.9833 - dense_1_accuracy_20: 0.9884 - dense_1_accuracy_21: 0.9918 - dense_1_accuracy_22: 0.9923 - dense_1_accuracy_23: 0.9923 - dense_1_accuracy_24: 0.9953 - dense_1_accuracy_25: 0.9936 - dense_1_accuracy_26: 0.9953 - dense_1_accuracy_27: 0.9961 - dense_1_accuracy_28: 0.9953 - dense_1_accuracy_29: 0.9983 - dense_1_accuracy_30: 0.9974 - dense_1_accuracy_31: 0.9983 - dense_1_accuracy_32: 0.9987 - dense_1_accuracy_33: 0.9987 - dense_1_accuracy_34: 0.9991 - dense_1_accuracy_35: 0.9996 - dense_1_accuracy_36: 1.0000 - dense_1_accuracy_37: 0.9996 - dense_1_accuracy_38: 1.0000\n",
      "Epoch 147/200\n",
      "2329/2329 [==============================] - 2s 1ms/step - loss: 21.5043 - dense_1_loss: 1.5942e-04 - dense_1_accuracy: 0.1224 - dense_1_accuracy_1: 0.2705 - dense_1_accuracy_2: 0.2941 - dense_1_accuracy_3: 0.3216 - dense_1_accuracy_4: 0.3010 - dense_1_accuracy_5: 0.3452 - dense_1_accuracy_6: 0.4590 - dense_1_accuracy_7: 0.5736 - dense_1_accuracy_8: 0.6866 - dense_1_accuracy_9: 0.7870 - dense_1_accuracy_10: 0.8553 - dense_1_accuracy_11: 0.8927 - dense_1_accuracy_12: 0.9236 - dense_1_accuracy_13: 0.9438 - dense_1_accuracy_14: 0.9545 - dense_1_accuracy_15: 0.9635 - dense_1_accuracy_16: 0.9747 - dense_1_accuracy_17: 0.9820 - dense_1_accuracy_18: 0.9837 - dense_1_accuracy_19: 0.9828 - dense_1_accuracy_20: 0.9893 - dense_1_accuracy_21: 0.9914 - dense_1_accuracy_22: 0.9923 - dense_1_accuracy_23: 0.9923 - dense_1_accuracy_24: 0.9953 - dense_1_accuracy_25: 0.9936 - dense_1_accuracy_26: 0.9953 - dense_1_accuracy_27: 0.9961 - dense_1_accuracy_28: 0.9953 - dense_1_accuracy_29: 0.9983 - dense_1_accuracy_30: 0.9974 - dense_1_accuracy_31: 0.9983 - dense_1_accuracy_32: 0.9987 - dense_1_accuracy_33: 0.9987 - dense_1_accuracy_34: 0.9991 - dense_1_accuracy_35: 0.9996 - dense_1_accuracy_36: 1.0000 - dense_1_accuracy_37: 0.9996 - dense_1_accuracy_38: 1.0000\n",
      "Epoch 148/200\n",
      "2329/2329 [==============================] - 2s 1ms/step - loss: 21.4984 - dense_1_loss: 1.6290e-04 - dense_1_accuracy: 0.1224 - dense_1_accuracy_1: 0.2696 - dense_1_accuracy_2: 0.2945 - dense_1_accuracy_3: 0.3216 - dense_1_accuracy_4: 0.3023 - dense_1_accuracy_5: 0.3465 - dense_1_accuracy_6: 0.4573 - dense_1_accuracy_7: 0.5741 - dense_1_accuracy_8: 0.6896 - dense_1_accuracy_9: 0.7883 - dense_1_accuracy_10: 0.8544 - dense_1_accuracy_11: 0.8935 - dense_1_accuracy_12: 0.9257 - dense_1_accuracy_13: 0.9438 - dense_1_accuracy_14: 0.9549 - dense_1_accuracy_15: 0.9635 - dense_1_accuracy_16: 0.9747 - dense_1_accuracy_17: 0.9820 - dense_1_accuracy_18: 0.9850 - dense_1_accuracy_19: 0.9833 - dense_1_accuracy_20: 0.9888 - dense_1_accuracy_21: 0.9914 - dense_1_accuracy_22: 0.9923 - dense_1_accuracy_23: 0.9918 - dense_1_accuracy_24: 0.9953 - dense_1_accuracy_25: 0.9931 - dense_1_accuracy_26: 0.9953 - dense_1_accuracy_27: 0.9966 - dense_1_accuracy_28: 0.9953 - dense_1_accuracy_29: 0.9983 - dense_1_accuracy_30: 0.9974 - dense_1_accuracy_31: 0.9983 - dense_1_accuracy_32: 0.9987 - dense_1_accuracy_33: 0.9987 - dense_1_accuracy_34: 0.9991 - dense_1_accuracy_35: 0.9996 - dense_1_accuracy_36: 1.0000 - dense_1_accuracy_37: 0.9996 - dense_1_accuracy_38: 1.0000\n",
      "Epoch 149/200\n",
      "2329/2329 [==============================] - 2s 1ms/step - loss: 21.4924 - dense_1_loss: 1.7478e-04 - dense_1_accuracy: 0.1224 - dense_1_accuracy_1: 0.2705 - dense_1_accuracy_2: 0.2950 - dense_1_accuracy_3: 0.3212 - dense_1_accuracy_4: 0.3023 - dense_1_accuracy_5: 0.3444 - dense_1_accuracy_6: 0.4603 - dense_1_accuracy_7: 0.5736 - dense_1_accuracy_8: 0.6896 - dense_1_accuracy_9: 0.7883 - dense_1_accuracy_10: 0.8562 - dense_1_accuracy_11: 0.8952 - dense_1_accuracy_12: 0.9244 - dense_1_accuracy_13: 0.9438 - dense_1_accuracy_14: 0.9566 - dense_1_accuracy_15: 0.9635 - dense_1_accuracy_16: 0.9747 - dense_1_accuracy_17: 0.9815 - dense_1_accuracy_18: 0.9850 - dense_1_accuracy_19: 0.9833 - dense_1_accuracy_20: 0.9884 - dense_1_accuracy_21: 0.9914 - dense_1_accuracy_22: 0.9923 - dense_1_accuracy_23: 0.9923 - dense_1_accuracy_24: 0.9953 - dense_1_accuracy_25: 0.9936 - dense_1_accuracy_26: 0.9948 - dense_1_accuracy_27: 0.9966 - dense_1_accuracy_28: 0.9953 - dense_1_accuracy_29: 0.9983 - dense_1_accuracy_30: 0.9974 - dense_1_accuracy_31: 0.9983 - dense_1_accuracy_32: 0.9987 - dense_1_accuracy_33: 0.9987 - dense_1_accuracy_34: 0.9991 - dense_1_accuracy_35: 0.9996 - dense_1_accuracy_36: 1.0000 - dense_1_accuracy_37: 0.9996 - dense_1_accuracy_38: 1.0000\n",
      "Epoch 150/200\n"
     ]
    },
    {
     "name": "stdout",
     "output_type": "stream",
     "text": [
      "2329/2329 [==============================] - 2s 1ms/step - loss: 21.4870 - dense_1_loss: 1.8786e-04 - dense_1_accuracy: 0.1224 - dense_1_accuracy_1: 0.2688 - dense_1_accuracy_2: 0.2954 - dense_1_accuracy_3: 0.3216 - dense_1_accuracy_4: 0.3036 - dense_1_accuracy_5: 0.3452 - dense_1_accuracy_6: 0.4568 - dense_1_accuracy_7: 0.5741 - dense_1_accuracy_8: 0.6896 - dense_1_accuracy_9: 0.7896 - dense_1_accuracy_10: 0.8544 - dense_1_accuracy_11: 0.8927 - dense_1_accuracy_12: 0.9240 - dense_1_accuracy_13: 0.9438 - dense_1_accuracy_14: 0.9571 - dense_1_accuracy_15: 0.9631 - dense_1_accuracy_16: 0.9747 - dense_1_accuracy_17: 0.9820 - dense_1_accuracy_18: 0.9850 - dense_1_accuracy_19: 0.9837 - dense_1_accuracy_20: 0.9884 - dense_1_accuracy_21: 0.9914 - dense_1_accuracy_22: 0.9923 - dense_1_accuracy_23: 0.9923 - dense_1_accuracy_24: 0.9953 - dense_1_accuracy_25: 0.9936 - dense_1_accuracy_26: 0.9953 - dense_1_accuracy_27: 0.9966 - dense_1_accuracy_28: 0.9953 - dense_1_accuracy_29: 0.9983 - dense_1_accuracy_30: 0.9974 - dense_1_accuracy_31: 0.9983 - dense_1_accuracy_32: 0.9987 - dense_1_accuracy_33: 0.9987 - dense_1_accuracy_34: 0.9991 - dense_1_accuracy_35: 0.9996 - dense_1_accuracy_36: 1.0000 - dense_1_accuracy_37: 0.9996 - dense_1_accuracy_38: 1.0000\n",
      "Epoch 151/200\n",
      "2329/2329 [==============================] - 2s 1000us/step - loss: 21.4820 - dense_1_loss: 1.8176e-04 - dense_1_accuracy: 0.1224 - dense_1_accuracy_1: 0.2696 - dense_1_accuracy_2: 0.2945 - dense_1_accuracy_3: 0.3237 - dense_1_accuracy_4: 0.3057 - dense_1_accuracy_5: 0.3474 - dense_1_accuracy_6: 0.4607 - dense_1_accuracy_7: 0.5736 - dense_1_accuracy_8: 0.6870 - dense_1_accuracy_9: 0.7866 - dense_1_accuracy_10: 0.8540 - dense_1_accuracy_11: 0.8931 - dense_1_accuracy_12: 0.9253 - dense_1_accuracy_13: 0.9433 - dense_1_accuracy_14: 0.9536 - dense_1_accuracy_15: 0.9626 - dense_1_accuracy_16: 0.9742 - dense_1_accuracy_17: 0.9815 - dense_1_accuracy_18: 0.9845 - dense_1_accuracy_19: 0.9837 - dense_1_accuracy_20: 0.9880 - dense_1_accuracy_21: 0.9918 - dense_1_accuracy_22: 0.9923 - dense_1_accuracy_23: 0.9918 - dense_1_accuracy_24: 0.9953 - dense_1_accuracy_25: 0.9936 - dense_1_accuracy_26: 0.9948 - dense_1_accuracy_27: 0.9957 - dense_1_accuracy_28: 0.9953 - dense_1_accuracy_29: 0.9983 - dense_1_accuracy_30: 0.9974 - dense_1_accuracy_31: 0.9983 - dense_1_accuracy_32: 0.9987 - dense_1_accuracy_33: 0.9987 - dense_1_accuracy_34: 0.9991 - dense_1_accuracy_35: 0.9996 - dense_1_accuracy_36: 1.0000 - dense_1_accuracy_37: 0.9996 - dense_1_accuracy_38: 1.0000\n",
      "Epoch 152/200\n",
      "2329/2329 [==============================] - 2s 1ms/step - loss: 21.4753 - dense_1_loss: 1.3849e-04 - dense_1_accuracy: 0.1224 - dense_1_accuracy_1: 0.2705 - dense_1_accuracy_2: 0.2954 - dense_1_accuracy_3: 0.3233 - dense_1_accuracy_4: 0.3049 - dense_1_accuracy_5: 0.3469 - dense_1_accuracy_6: 0.4607 - dense_1_accuracy_7: 0.5749 - dense_1_accuracy_8: 0.6913 - dense_1_accuracy_9: 0.7900 - dense_1_accuracy_10: 0.8544 - dense_1_accuracy_11: 0.8944 - dense_1_accuracy_12: 0.9240 - dense_1_accuracy_13: 0.9433 - dense_1_accuracy_14: 0.9558 - dense_1_accuracy_15: 0.9635 - dense_1_accuracy_16: 0.9747 - dense_1_accuracy_17: 0.9820 - dense_1_accuracy_18: 0.9841 - dense_1_accuracy_19: 0.9837 - dense_1_accuracy_20: 0.9884 - dense_1_accuracy_21: 0.9914 - dense_1_accuracy_22: 0.9923 - dense_1_accuracy_23: 0.9923 - dense_1_accuracy_24: 0.9953 - dense_1_accuracy_25: 0.9936 - dense_1_accuracy_26: 0.9953 - dense_1_accuracy_27: 0.9966 - dense_1_accuracy_28: 0.9953 - dense_1_accuracy_29: 0.9983 - dense_1_accuracy_30: 0.9974 - dense_1_accuracy_31: 0.9983 - dense_1_accuracy_32: 0.9987 - dense_1_accuracy_33: 0.9987 - dense_1_accuracy_34: 0.9991 - dense_1_accuracy_35: 0.9991 - dense_1_accuracy_36: 1.0000 - dense_1_accuracy_37: 0.9996 - dense_1_accuracy_38: 1.0000\n",
      "Epoch 153/200\n",
      "2329/2329 [==============================] - 3s 1ms/step - loss: 21.4704 - dense_1_loss: 1.6523e-04 - dense_1_accuracy: 0.1224 - dense_1_accuracy_1: 0.2705 - dense_1_accuracy_2: 0.2958 - dense_1_accuracy_3: 0.3246 - dense_1_accuracy_4: 0.3036 - dense_1_accuracy_5: 0.3465 - dense_1_accuracy_6: 0.4611 - dense_1_accuracy_7: 0.5723 - dense_1_accuracy_8: 0.6900 - dense_1_accuracy_9: 0.7875 - dense_1_accuracy_10: 0.8544 - dense_1_accuracy_11: 0.8939 - dense_1_accuracy_12: 0.9253 - dense_1_accuracy_13: 0.9420 - dense_1_accuracy_14: 0.9558 - dense_1_accuracy_15: 0.9631 - dense_1_accuracy_16: 0.9742 - dense_1_accuracy_17: 0.9820 - dense_1_accuracy_18: 0.9854 - dense_1_accuracy_19: 0.9837 - dense_1_accuracy_20: 0.9884 - dense_1_accuracy_21: 0.9914 - dense_1_accuracy_22: 0.9927 - dense_1_accuracy_23: 0.9923 - dense_1_accuracy_24: 0.9953 - dense_1_accuracy_25: 0.9936 - dense_1_accuracy_26: 0.9948 - dense_1_accuracy_27: 0.9966 - dense_1_accuracy_28: 0.9953 - dense_1_accuracy_29: 0.9983 - dense_1_accuracy_30: 0.9979 - dense_1_accuracy_31: 0.9983 - dense_1_accuracy_32: 0.9987 - dense_1_accuracy_33: 0.9987 - dense_1_accuracy_34: 0.9991 - dense_1_accuracy_35: 0.9996 - dense_1_accuracy_36: 1.0000 - dense_1_accuracy_37: 0.9996 - dense_1_accuracy_38: 1.0000\n",
      "Epoch 154/200\n",
      "2329/2329 [==============================] - 2s 1ms/step - loss: 21.4649 - dense_1_loss: 2.3246e-04 - dense_1_accuracy: 0.1224 - dense_1_accuracy_1: 0.2684 - dense_1_accuracy_2: 0.2954 - dense_1_accuracy_3: 0.3250 - dense_1_accuracy_4: 0.3036 - dense_1_accuracy_5: 0.3486 - dense_1_accuracy_6: 0.4611 - dense_1_accuracy_7: 0.5723 - dense_1_accuracy_8: 0.6878 - dense_1_accuracy_9: 0.7896 - dense_1_accuracy_10: 0.8553 - dense_1_accuracy_11: 0.8957 - dense_1_accuracy_12: 0.9253 - dense_1_accuracy_13: 0.9438 - dense_1_accuracy_14: 0.9553 - dense_1_accuracy_15: 0.9635 - dense_1_accuracy_16: 0.9747 - dense_1_accuracy_17: 0.9820 - dense_1_accuracy_18: 0.9845 - dense_1_accuracy_19: 0.9837 - dense_1_accuracy_20: 0.9888 - dense_1_accuracy_21: 0.9914 - dense_1_accuracy_22: 0.9923 - dense_1_accuracy_23: 0.9918 - dense_1_accuracy_24: 0.9953 - dense_1_accuracy_25: 0.9931 - dense_1_accuracy_26: 0.9948 - dense_1_accuracy_27: 0.9961 - dense_1_accuracy_28: 0.9953 - dense_1_accuracy_29: 0.9983 - dense_1_accuracy_30: 0.9974 - dense_1_accuracy_31: 0.9983 - dense_1_accuracy_32: 0.9987 - dense_1_accuracy_33: 0.9987 - dense_1_accuracy_34: 0.9991 - dense_1_accuracy_35: 0.9996 - dense_1_accuracy_36: 1.0000 - dense_1_accuracy_37: 0.9996 - dense_1_accuracy_38: 1.0000\n",
      "Epoch 155/200\n",
      "2329/2329 [==============================] - 2s 1ms/step - loss: 21.4599 - dense_1_loss: 1.6643e-04 - dense_1_accuracy: 0.1224 - dense_1_accuracy_1: 0.2701 - dense_1_accuracy_2: 0.2958 - dense_1_accuracy_3: 0.3255 - dense_1_accuracy_4: 0.3040 - dense_1_accuracy_5: 0.3482 - dense_1_accuracy_6: 0.4611 - dense_1_accuracy_7: 0.5728 - dense_1_accuracy_8: 0.6896 - dense_1_accuracy_9: 0.7883 - dense_1_accuracy_10: 0.8549 - dense_1_accuracy_11: 0.8935 - dense_1_accuracy_12: 0.9249 - dense_1_accuracy_13: 0.9438 - dense_1_accuracy_14: 0.9553 - dense_1_accuracy_15: 0.9631 - dense_1_accuracy_16: 0.9742 - dense_1_accuracy_17: 0.9824 - dense_1_accuracy_18: 0.9845 - dense_1_accuracy_19: 0.9833 - dense_1_accuracy_20: 0.9888 - dense_1_accuracy_21: 0.9918 - dense_1_accuracy_22: 0.9918 - dense_1_accuracy_23: 0.9923 - dense_1_accuracy_24: 0.9953 - dense_1_accuracy_25: 0.9936 - dense_1_accuracy_26: 0.9948 - dense_1_accuracy_27: 0.9966 - dense_1_accuracy_28: 0.9953 - dense_1_accuracy_29: 0.9983 - dense_1_accuracy_30: 0.9979 - dense_1_accuracy_31: 0.9983 - dense_1_accuracy_32: 0.9983 - dense_1_accuracy_33: 0.9987 - dense_1_accuracy_34: 0.9991 - dense_1_accuracy_35: 0.9996 - dense_1_accuracy_36: 1.0000 - dense_1_accuracy_37: 0.9996 - dense_1_accuracy_38: 1.0000\n",
      "Epoch 156/200\n"
     ]
    },
    {
     "name": "stdout",
     "output_type": "stream",
     "text": [
      "2329/2329 [==============================] - 2s 1ms/step - loss: 21.4528 - dense_1_loss: 1.5553e-04 - dense_1_accuracy: 0.1224 - dense_1_accuracy_1: 0.2701 - dense_1_accuracy_2: 0.2958 - dense_1_accuracy_3: 0.3259 - dense_1_accuracy_4: 0.3061 - dense_1_accuracy_5: 0.3456 - dense_1_accuracy_6: 0.4603 - dense_1_accuracy_7: 0.5741 - dense_1_accuracy_8: 0.6904 - dense_1_accuracy_9: 0.7896 - dense_1_accuracy_10: 0.8544 - dense_1_accuracy_11: 0.8948 - dense_1_accuracy_12: 0.9244 - dense_1_accuracy_13: 0.9442 - dense_1_accuracy_14: 0.9549 - dense_1_accuracy_15: 0.9631 - dense_1_accuracy_16: 0.9747 - dense_1_accuracy_17: 0.9815 - dense_1_accuracy_18: 0.9850 - dense_1_accuracy_19: 0.9841 - dense_1_accuracy_20: 0.9880 - dense_1_accuracy_21: 0.9914 - dense_1_accuracy_22: 0.9923 - dense_1_accuracy_23: 0.9918 - dense_1_accuracy_24: 0.9953 - dense_1_accuracy_25: 0.9936 - dense_1_accuracy_26: 0.9957 - dense_1_accuracy_27: 0.9966 - dense_1_accuracy_28: 0.9953 - dense_1_accuracy_29: 0.9983 - dense_1_accuracy_30: 0.9979 - dense_1_accuracy_31: 0.9983 - dense_1_accuracy_32: 0.9987 - dense_1_accuracy_33: 0.9987 - dense_1_accuracy_34: 0.9991 - dense_1_accuracy_35: 0.9996 - dense_1_accuracy_36: 1.0000 - dense_1_accuracy_37: 0.9996 - dense_1_accuracy_38: 1.0000\n",
      "Epoch 157/200\n",
      "2329/2329 [==============================] - 2s 1ms/step - loss: 21.4466 - dense_1_loss: 2.0790e-04 - dense_1_accuracy: 0.1224 - dense_1_accuracy_1: 0.2684 - dense_1_accuracy_2: 0.2958 - dense_1_accuracy_3: 0.3263 - dense_1_accuracy_4: 0.3014 - dense_1_accuracy_5: 0.3465 - dense_1_accuracy_6: 0.4611 - dense_1_accuracy_7: 0.5762 - dense_1_accuracy_8: 0.6909 - dense_1_accuracy_9: 0.7892 - dense_1_accuracy_10: 0.8544 - dense_1_accuracy_11: 0.8935 - dense_1_accuracy_12: 0.9266 - dense_1_accuracy_13: 0.9442 - dense_1_accuracy_14: 0.9553 - dense_1_accuracy_15: 0.9631 - dense_1_accuracy_16: 0.9747 - dense_1_accuracy_17: 0.9828 - dense_1_accuracy_18: 0.9850 - dense_1_accuracy_19: 0.9833 - dense_1_accuracy_20: 0.9884 - dense_1_accuracy_21: 0.9914 - dense_1_accuracy_22: 0.9923 - dense_1_accuracy_23: 0.9923 - dense_1_accuracy_24: 0.9953 - dense_1_accuracy_25: 0.9936 - dense_1_accuracy_26: 0.9953 - dense_1_accuracy_27: 0.9966 - dense_1_accuracy_28: 0.9953 - dense_1_accuracy_29: 0.9983 - dense_1_accuracy_30: 0.9974 - dense_1_accuracy_31: 0.9983 - dense_1_accuracy_32: 0.9983 - dense_1_accuracy_33: 0.9987 - dense_1_accuracy_34: 0.9991 - dense_1_accuracy_35: 0.9996 - dense_1_accuracy_36: 1.0000 - dense_1_accuracy_37: 0.9996 - dense_1_accuracy_38: 1.0000\n",
      "Epoch 158/200\n",
      "2329/2329 [==============================] - 2s 1ms/step - loss: 21.4441 - dense_1_loss: 1.3900e-04 - dense_1_accuracy: 0.1224 - dense_1_accuracy_1: 0.2692 - dense_1_accuracy_2: 0.2971 - dense_1_accuracy_3: 0.3263 - dense_1_accuracy_4: 0.3070 - dense_1_accuracy_5: 0.3478 - dense_1_accuracy_6: 0.4594 - dense_1_accuracy_7: 0.5766 - dense_1_accuracy_8: 0.6896 - dense_1_accuracy_9: 0.7879 - dense_1_accuracy_10: 0.8566 - dense_1_accuracy_11: 0.8957 - dense_1_accuracy_12: 0.9227 - dense_1_accuracy_13: 0.9433 - dense_1_accuracy_14: 0.9549 - dense_1_accuracy_15: 0.9635 - dense_1_accuracy_16: 0.9742 - dense_1_accuracy_17: 0.9828 - dense_1_accuracy_18: 0.9850 - dense_1_accuracy_19: 0.9833 - dense_1_accuracy_20: 0.9888 - dense_1_accuracy_21: 0.9918 - dense_1_accuracy_22: 0.9927 - dense_1_accuracy_23: 0.9927 - dense_1_accuracy_24: 0.9953 - dense_1_accuracy_25: 0.9940 - dense_1_accuracy_26: 0.9953 - dense_1_accuracy_27: 0.9966 - dense_1_accuracy_28: 0.9953 - dense_1_accuracy_29: 0.9983 - dense_1_accuracy_30: 0.9979 - dense_1_accuracy_31: 0.9983 - dense_1_accuracy_32: 0.9983 - dense_1_accuracy_33: 0.9987 - dense_1_accuracy_34: 0.9991 - dense_1_accuracy_35: 0.9996 - dense_1_accuracy_36: 1.0000 - dense_1_accuracy_37: 0.9996 - dense_1_accuracy_38: 1.0000\n",
      "Epoch 159/200\n",
      "2329/2329 [==============================] - 2s 986us/step - loss: 21.4350 - dense_1_loss: 1.9655e-04 - dense_1_accuracy: 0.1224 - dense_1_accuracy_1: 0.2705 - dense_1_accuracy_2: 0.2954 - dense_1_accuracy_3: 0.3242 - dense_1_accuracy_4: 0.3070 - dense_1_accuracy_5: 0.3478 - dense_1_accuracy_6: 0.4611 - dense_1_accuracy_7: 0.5758 - dense_1_accuracy_8: 0.6947 - dense_1_accuracy_9: 0.7888 - dense_1_accuracy_10: 0.8553 - dense_1_accuracy_11: 0.8952 - dense_1_accuracy_12: 0.9261 - dense_1_accuracy_13: 0.9438 - dense_1_accuracy_14: 0.9566 - dense_1_accuracy_15: 0.9635 - dense_1_accuracy_16: 0.9747 - dense_1_accuracy_17: 0.9820 - dense_1_accuracy_18: 0.9858 - dense_1_accuracy_19: 0.9837 - dense_1_accuracy_20: 0.9888 - dense_1_accuracy_21: 0.9914 - dense_1_accuracy_22: 0.9923 - dense_1_accuracy_23: 0.9918 - dense_1_accuracy_24: 0.9953 - dense_1_accuracy_25: 0.9936 - dense_1_accuracy_26: 0.9953 - dense_1_accuracy_27: 0.9966 - dense_1_accuracy_28: 0.9953 - dense_1_accuracy_29: 0.9983 - dense_1_accuracy_30: 0.9979 - dense_1_accuracy_31: 0.9983 - dense_1_accuracy_32: 0.9983 - dense_1_accuracy_33: 0.9987 - dense_1_accuracy_34: 0.9991 - dense_1_accuracy_35: 0.9996 - dense_1_accuracy_36: 1.0000 - dense_1_accuracy_37: 0.9996 - dense_1_accuracy_38: 1.0000\n",
      "Epoch 160/200\n",
      "2329/2329 [==============================] - 2s 1ms/step - loss: 21.4346 - dense_1_loss: 1.3574e-04 - dense_1_accuracy: 0.1224 - dense_1_accuracy_1: 0.2684 - dense_1_accuracy_2: 0.2958 - dense_1_accuracy_3: 0.3272 - dense_1_accuracy_4: 0.3079 - dense_1_accuracy_5: 0.3482 - dense_1_accuracy_6: 0.4586 - dense_1_accuracy_7: 0.5741 - dense_1_accuracy_8: 0.6917 - dense_1_accuracy_9: 0.7883 - dense_1_accuracy_10: 0.8553 - dense_1_accuracy_11: 0.8957 - dense_1_accuracy_12: 0.9253 - dense_1_accuracy_13: 0.9442 - dense_1_accuracy_14: 0.9558 - dense_1_accuracy_15: 0.9626 - dense_1_accuracy_16: 0.9742 - dense_1_accuracy_17: 0.9820 - dense_1_accuracy_18: 0.9858 - dense_1_accuracy_19: 0.9837 - dense_1_accuracy_20: 0.9888 - dense_1_accuracy_21: 0.9914 - dense_1_accuracy_22: 0.9918 - dense_1_accuracy_23: 0.9923 - dense_1_accuracy_24: 0.9953 - dense_1_accuracy_25: 0.9936 - dense_1_accuracy_26: 0.9944 - dense_1_accuracy_27: 0.9966 - dense_1_accuracy_28: 0.9953 - dense_1_accuracy_29: 0.9983 - dense_1_accuracy_30: 0.9974 - dense_1_accuracy_31: 0.9983 - dense_1_accuracy_32: 0.9987 - dense_1_accuracy_33: 0.9987 - dense_1_accuracy_34: 0.9991 - dense_1_accuracy_35: 0.9991 - dense_1_accuracy_36: 1.0000 - dense_1_accuracy_37: 0.9996 - dense_1_accuracy_38: 1.0000\n",
      "Epoch 161/200\n",
      "2329/2329 [==============================] - 2s 980us/step - loss: 21.4273 - dense_1_loss: 1.7616e-04 - dense_1_accuracy: 0.1224 - dense_1_accuracy_1: 0.2701 - dense_1_accuracy_2: 0.2958 - dense_1_accuracy_3: 0.3280 - dense_1_accuracy_4: 0.3074 - dense_1_accuracy_5: 0.3491 - dense_1_accuracy_6: 0.4590 - dense_1_accuracy_7: 0.5771 - dense_1_accuracy_8: 0.6909 - dense_1_accuracy_9: 0.7862 - dense_1_accuracy_10: 0.8562 - dense_1_accuracy_11: 0.8948 - dense_1_accuracy_12: 0.9257 - dense_1_accuracy_13: 0.9438 - dense_1_accuracy_14: 0.9549 - dense_1_accuracy_15: 0.9635 - dense_1_accuracy_16: 0.9751 - dense_1_accuracy_17: 0.9820 - dense_1_accuracy_18: 0.9845 - dense_1_accuracy_19: 0.9837 - dense_1_accuracy_20: 0.9888 - dense_1_accuracy_21: 0.9918 - dense_1_accuracy_22: 0.9927 - dense_1_accuracy_23: 0.9918 - dense_1_accuracy_24: 0.9953 - dense_1_accuracy_25: 0.9940 - dense_1_accuracy_26: 0.9953 - dense_1_accuracy_27: 0.9966 - dense_1_accuracy_28: 0.9953 - dense_1_accuracy_29: 0.9983 - dense_1_accuracy_30: 0.9979 - dense_1_accuracy_31: 0.9983 - dense_1_accuracy_32: 0.9987 - dense_1_accuracy_33: 0.9987 - dense_1_accuracy_34: 0.9991 - dense_1_accuracy_35: 0.9996 - dense_1_accuracy_36: 1.0000 - dense_1_accuracy_37: 0.9996 - dense_1_accuracy_38: 1.0000\n",
      "Epoch 162/200\n"
     ]
    },
    {
     "name": "stdout",
     "output_type": "stream",
     "text": [
      "2329/2329 [==============================] - 2s 982us/step - loss: 21.4217 - dense_1_loss: 1.8444e-04 - dense_1_accuracy: 0.1224 - dense_1_accuracy_1: 0.2692 - dense_1_accuracy_2: 0.2967 - dense_1_accuracy_3: 0.3263 - dense_1_accuracy_4: 0.3057 - dense_1_accuracy_5: 0.3486 - dense_1_accuracy_6: 0.4603 - dense_1_accuracy_7: 0.5758 - dense_1_accuracy_8: 0.6913 - dense_1_accuracy_9: 0.7888 - dense_1_accuracy_10: 0.8562 - dense_1_accuracy_11: 0.8948 - dense_1_accuracy_12: 0.9249 - dense_1_accuracy_13: 0.9442 - dense_1_accuracy_14: 0.9558 - dense_1_accuracy_15: 0.9631 - dense_1_accuracy_16: 0.9747 - dense_1_accuracy_17: 0.9820 - dense_1_accuracy_18: 0.9854 - dense_1_accuracy_19: 0.9841 - dense_1_accuracy_20: 0.9884 - dense_1_accuracy_21: 0.9918 - dense_1_accuracy_22: 0.9923 - dense_1_accuracy_23: 0.9923 - dense_1_accuracy_24: 0.9953 - dense_1_accuracy_25: 0.9936 - dense_1_accuracy_26: 0.9953 - dense_1_accuracy_27: 0.9966 - dense_1_accuracy_28: 0.9953 - dense_1_accuracy_29: 0.9983 - dense_1_accuracy_30: 0.9979 - dense_1_accuracy_31: 0.9983 - dense_1_accuracy_32: 0.9983 - dense_1_accuracy_33: 0.9987 - dense_1_accuracy_34: 0.9991 - dense_1_accuracy_35: 0.9996 - dense_1_accuracy_36: 1.0000 - dense_1_accuracy_37: 0.9996 - dense_1_accuracy_38: 1.0000\n",
      "Epoch 163/200\n",
      "2329/2329 [==============================] - 2s 1ms/step - loss: 21.4149 - dense_1_loss: 1.5694e-04 - dense_1_accuracy: 0.1224 - dense_1_accuracy_1: 0.2688 - dense_1_accuracy_2: 0.2980 - dense_1_accuracy_3: 0.3276 - dense_1_accuracy_4: 0.3070 - dense_1_accuracy_5: 0.3478 - dense_1_accuracy_6: 0.4599 - dense_1_accuracy_7: 0.5758 - dense_1_accuracy_8: 0.6930 - dense_1_accuracy_9: 0.7883 - dense_1_accuracy_10: 0.8549 - dense_1_accuracy_11: 0.8952 - dense_1_accuracy_12: 0.9253 - dense_1_accuracy_13: 0.9433 - dense_1_accuracy_14: 0.9558 - dense_1_accuracy_15: 0.9631 - dense_1_accuracy_16: 0.9747 - dense_1_accuracy_17: 0.9820 - dense_1_accuracy_18: 0.9858 - dense_1_accuracy_19: 0.9841 - dense_1_accuracy_20: 0.9888 - dense_1_accuracy_21: 0.9914 - dense_1_accuracy_22: 0.9923 - dense_1_accuracy_23: 0.9918 - dense_1_accuracy_24: 0.9953 - dense_1_accuracy_25: 0.9936 - dense_1_accuracy_26: 0.9953 - dense_1_accuracy_27: 0.9961 - dense_1_accuracy_28: 0.9953 - dense_1_accuracy_29: 0.9983 - dense_1_accuracy_30: 0.9979 - dense_1_accuracy_31: 0.9983 - dense_1_accuracy_32: 0.9987 - dense_1_accuracy_33: 0.9987 - dense_1_accuracy_34: 0.9991 - dense_1_accuracy_35: 0.9996 - dense_1_accuracy_36: 1.0000 - dense_1_accuracy_37: 0.9996 - dense_1_accuracy_38: 1.0000\n",
      "Epoch 164/200\n",
      "2329/2329 [==============================] - 2s 1ms/step - loss: 21.4099 - dense_1_loss: 1.2575e-04 - dense_1_accuracy: 0.1224 - dense_1_accuracy_1: 0.2696 - dense_1_accuracy_2: 0.2967 - dense_1_accuracy_3: 0.3272 - dense_1_accuracy_4: 0.3066 - dense_1_accuracy_5: 0.3461 - dense_1_accuracy_6: 0.4620 - dense_1_accuracy_7: 0.5745 - dense_1_accuracy_8: 0.6930 - dense_1_accuracy_9: 0.7900 - dense_1_accuracy_10: 0.8557 - dense_1_accuracy_11: 0.8952 - dense_1_accuracy_12: 0.9257 - dense_1_accuracy_13: 0.9438 - dense_1_accuracy_14: 0.9562 - dense_1_accuracy_15: 0.9635 - dense_1_accuracy_16: 0.9747 - dense_1_accuracy_17: 0.9828 - dense_1_accuracy_18: 0.9845 - dense_1_accuracy_19: 0.9841 - dense_1_accuracy_20: 0.9888 - dense_1_accuracy_21: 0.9918 - dense_1_accuracy_22: 0.9923 - dense_1_accuracy_23: 0.9918 - dense_1_accuracy_24: 0.9953 - dense_1_accuracy_25: 0.9936 - dense_1_accuracy_26: 0.9948 - dense_1_accuracy_27: 0.9966 - dense_1_accuracy_28: 0.9953 - dense_1_accuracy_29: 0.9983 - dense_1_accuracy_30: 0.9979 - dense_1_accuracy_31: 0.9983 - dense_1_accuracy_32: 0.9983 - dense_1_accuracy_33: 0.9987 - dense_1_accuracy_34: 0.9991 - dense_1_accuracy_35: 0.9991 - dense_1_accuracy_36: 1.0000 - dense_1_accuracy_37: 0.9996 - dense_1_accuracy_38: 1.0000\n",
      "Epoch 165/200\n",
      "2329/2329 [==============================] - 2s 1ms/step - loss: 21.4050 - dense_1_loss: 1.5280e-04 - dense_1_accuracy: 0.1224 - dense_1_accuracy_1: 0.2688 - dense_1_accuracy_2: 0.2963 - dense_1_accuracy_3: 0.3298 - dense_1_accuracy_4: 0.3109 - dense_1_accuracy_5: 0.3461 - dense_1_accuracy_6: 0.4611 - dense_1_accuracy_7: 0.5758 - dense_1_accuracy_8: 0.6943 - dense_1_accuracy_9: 0.7896 - dense_1_accuracy_10: 0.8562 - dense_1_accuracy_11: 0.8948 - dense_1_accuracy_12: 0.9249 - dense_1_accuracy_13: 0.9446 - dense_1_accuracy_14: 0.9562 - dense_1_accuracy_15: 0.9631 - dense_1_accuracy_16: 0.9751 - dense_1_accuracy_17: 0.9815 - dense_1_accuracy_18: 0.9850 - dense_1_accuracy_19: 0.9837 - dense_1_accuracy_20: 0.9897 - dense_1_accuracy_21: 0.9914 - dense_1_accuracy_22: 0.9923 - dense_1_accuracy_23: 0.9923 - dense_1_accuracy_24: 0.9953 - dense_1_accuracy_25: 0.9940 - dense_1_accuracy_26: 0.9957 - dense_1_accuracy_27: 0.9966 - dense_1_accuracy_28: 0.9953 - dense_1_accuracy_29: 0.9983 - dense_1_accuracy_30: 0.9979 - dense_1_accuracy_31: 0.9983 - dense_1_accuracy_32: 0.9987 - dense_1_accuracy_33: 0.9987 - dense_1_accuracy_34: 0.9991 - dense_1_accuracy_35: 0.9996 - dense_1_accuracy_36: 1.0000 - dense_1_accuracy_37: 0.9996 - dense_1_accuracy_38: 1.0000\n",
      "Epoch 166/200\n",
      "2329/2329 [==============================] - 2s 1ms/step - loss: 21.3998 - dense_1_loss: 1.6084e-04 - dense_1_accuracy: 0.1224 - dense_1_accuracy_1: 0.2675 - dense_1_accuracy_2: 0.2958 - dense_1_accuracy_3: 0.3276 - dense_1_accuracy_4: 0.3087 - dense_1_accuracy_5: 0.3465 - dense_1_accuracy_6: 0.4633 - dense_1_accuracy_7: 0.5749 - dense_1_accuracy_8: 0.6930 - dense_1_accuracy_9: 0.7888 - dense_1_accuracy_10: 0.8566 - dense_1_accuracy_11: 0.8961 - dense_1_accuracy_12: 0.9240 - dense_1_accuracy_13: 0.9438 - dense_1_accuracy_14: 0.9566 - dense_1_accuracy_15: 0.9626 - dense_1_accuracy_16: 0.9747 - dense_1_accuracy_17: 0.9815 - dense_1_accuracy_18: 0.9850 - dense_1_accuracy_19: 0.9841 - dense_1_accuracy_20: 0.9884 - dense_1_accuracy_21: 0.9918 - dense_1_accuracy_22: 0.9923 - dense_1_accuracy_23: 0.9918 - dense_1_accuracy_24: 0.9953 - dense_1_accuracy_25: 0.9940 - dense_1_accuracy_26: 0.9948 - dense_1_accuracy_27: 0.9966 - dense_1_accuracy_28: 0.9953 - dense_1_accuracy_29: 0.9983 - dense_1_accuracy_30: 0.9979 - dense_1_accuracy_31: 0.9983 - dense_1_accuracy_32: 0.9987 - dense_1_accuracy_33: 0.9987 - dense_1_accuracy_34: 0.9991 - dense_1_accuracy_35: 0.9996 - dense_1_accuracy_36: 1.0000 - dense_1_accuracy_37: 0.9996 - dense_1_accuracy_38: 1.0000\n",
      "Epoch 167/200\n",
      "2329/2329 [==============================] - 2s 1ms/step - loss: 21.3945 - dense_1_loss: 1.3794e-04 - dense_1_accuracy: 0.1224 - dense_1_accuracy_1: 0.2679 - dense_1_accuracy_2: 0.2963 - dense_1_accuracy_3: 0.3302 - dense_1_accuracy_4: 0.3096 - dense_1_accuracy_5: 0.3469 - dense_1_accuracy_6: 0.4629 - dense_1_accuracy_7: 0.5745 - dense_1_accuracy_8: 0.6939 - dense_1_accuracy_9: 0.7892 - dense_1_accuracy_10: 0.8562 - dense_1_accuracy_11: 0.8952 - dense_1_accuracy_12: 0.9244 - dense_1_accuracy_13: 0.9438 - dense_1_accuracy_14: 0.9558 - dense_1_accuracy_15: 0.9639 - dense_1_accuracy_16: 0.9747 - dense_1_accuracy_17: 0.9824 - dense_1_accuracy_18: 0.9850 - dense_1_accuracy_19: 0.9837 - dense_1_accuracy_20: 0.9893 - dense_1_accuracy_21: 0.9914 - dense_1_accuracy_22: 0.9923 - dense_1_accuracy_23: 0.9918 - dense_1_accuracy_24: 0.9953 - dense_1_accuracy_25: 0.9940 - dense_1_accuracy_26: 0.9948 - dense_1_accuracy_27: 0.9966 - dense_1_accuracy_28: 0.9953 - dense_1_accuracy_29: 0.9983 - dense_1_accuracy_30: 0.9979 - dense_1_accuracy_31: 0.9983 - dense_1_accuracy_32: 0.9987 - dense_1_accuracy_33: 0.9987 - dense_1_accuracy_34: 0.9991 - dense_1_accuracy_35: 0.9991 - dense_1_accuracy_36: 1.0000 - dense_1_accuracy_37: 0.9996 - dense_1_accuracy_38: 1.0000\n",
      "Epoch 168/200\n"
     ]
    },
    {
     "name": "stdout",
     "output_type": "stream",
     "text": [
      "2329/2329 [==============================] - 2s 997us/step - loss: 21.3886 - dense_1_loss: 1.2262e-04 - dense_1_accuracy: 0.1224 - dense_1_accuracy_1: 0.2679 - dense_1_accuracy_2: 0.2976 - dense_1_accuracy_3: 0.3285 - dense_1_accuracy_4: 0.3096 - dense_1_accuracy_5: 0.3474 - dense_1_accuracy_6: 0.4611 - dense_1_accuracy_7: 0.5771 - dense_1_accuracy_8: 0.6947 - dense_1_accuracy_9: 0.7900 - dense_1_accuracy_10: 0.8562 - dense_1_accuracy_11: 0.8961 - dense_1_accuracy_12: 0.9244 - dense_1_accuracy_13: 0.9442 - dense_1_accuracy_14: 0.9562 - dense_1_accuracy_15: 0.9635 - dense_1_accuracy_16: 0.9742 - dense_1_accuracy_17: 0.9820 - dense_1_accuracy_18: 0.9854 - dense_1_accuracy_19: 0.9837 - dense_1_accuracy_20: 0.9888 - dense_1_accuracy_21: 0.9918 - dense_1_accuracy_22: 0.9923 - dense_1_accuracy_23: 0.9918 - dense_1_accuracy_24: 0.9953 - dense_1_accuracy_25: 0.9940 - dense_1_accuracy_26: 0.9948 - dense_1_accuracy_27: 0.9961 - dense_1_accuracy_28: 0.9953 - dense_1_accuracy_29: 0.9983 - dense_1_accuracy_30: 0.9979 - dense_1_accuracy_31: 0.9979 - dense_1_accuracy_32: 0.9983 - dense_1_accuracy_33: 0.9987 - dense_1_accuracy_34: 0.9991 - dense_1_accuracy_35: 0.9991 - dense_1_accuracy_36: 1.0000 - dense_1_accuracy_37: 0.9996 - dense_1_accuracy_38: 1.0000\n",
      "Epoch 169/200\n",
      "2329/2329 [==============================] - 2s 1ms/step - loss: 21.3852 - dense_1_loss: 1.2357e-04 - dense_1_accuracy: 0.1224 - dense_1_accuracy_1: 0.2709 - dense_1_accuracy_2: 0.2976 - dense_1_accuracy_3: 0.3298 - dense_1_accuracy_4: 0.3122 - dense_1_accuracy_5: 0.3491 - dense_1_accuracy_6: 0.4641 - dense_1_accuracy_7: 0.5771 - dense_1_accuracy_8: 0.6926 - dense_1_accuracy_9: 0.7875 - dense_1_accuracy_10: 0.8549 - dense_1_accuracy_11: 0.8957 - dense_1_accuracy_12: 0.9261 - dense_1_accuracy_13: 0.9433 - dense_1_accuracy_14: 0.9553 - dense_1_accuracy_15: 0.9626 - dense_1_accuracy_16: 0.9747 - dense_1_accuracy_17: 0.9828 - dense_1_accuracy_18: 0.9867 - dense_1_accuracy_19: 0.9824 - dense_1_accuracy_20: 0.9884 - dense_1_accuracy_21: 0.9914 - dense_1_accuracy_22: 0.9923 - dense_1_accuracy_23: 0.9918 - dense_1_accuracy_24: 0.9953 - dense_1_accuracy_25: 0.9940 - dense_1_accuracy_26: 0.9953 - dense_1_accuracy_27: 0.9966 - dense_1_accuracy_28: 0.9953 - dense_1_accuracy_29: 0.9983 - dense_1_accuracy_30: 0.9979 - dense_1_accuracy_31: 0.9987 - dense_1_accuracy_32: 0.9983 - dense_1_accuracy_33: 0.9987 - dense_1_accuracy_34: 0.9991 - dense_1_accuracy_35: 0.9991 - dense_1_accuracy_36: 1.0000 - dense_1_accuracy_37: 0.9996 - dense_1_accuracy_38: 1.0000\n",
      "Epoch 170/200\n",
      "2329/2329 [==============================] - 2s 1ms/step - loss: 21.3789 - dense_1_loss: 1.5964e-04 - dense_1_accuracy: 0.1224 - dense_1_accuracy_1: 0.2714 - dense_1_accuracy_2: 0.2967 - dense_1_accuracy_3: 0.3315 - dense_1_accuracy_4: 0.3083 - dense_1_accuracy_5: 0.3486 - dense_1_accuracy_6: 0.4641 - dense_1_accuracy_7: 0.5758 - dense_1_accuracy_8: 0.6947 - dense_1_accuracy_9: 0.7892 - dense_1_accuracy_10: 0.8570 - dense_1_accuracy_11: 0.8957 - dense_1_accuracy_12: 0.9270 - dense_1_accuracy_13: 0.9446 - dense_1_accuracy_14: 0.9549 - dense_1_accuracy_15: 0.9631 - dense_1_accuracy_16: 0.9742 - dense_1_accuracy_17: 0.9820 - dense_1_accuracy_18: 0.9858 - dense_1_accuracy_19: 0.9841 - dense_1_accuracy_20: 0.9880 - dense_1_accuracy_21: 0.9914 - dense_1_accuracy_22: 0.9923 - dense_1_accuracy_23: 0.9923 - dense_1_accuracy_24: 0.9953 - dense_1_accuracy_25: 0.9936 - dense_1_accuracy_26: 0.9953 - dense_1_accuracy_27: 0.9966 - dense_1_accuracy_28: 0.9953 - dense_1_accuracy_29: 0.9983 - dense_1_accuracy_30: 0.9979 - dense_1_accuracy_31: 0.9983 - dense_1_accuracy_32: 0.9987 - dense_1_accuracy_33: 0.9987 - dense_1_accuracy_34: 0.9991 - dense_1_accuracy_35: 0.9996 - dense_1_accuracy_36: 1.0000 - dense_1_accuracy_37: 0.9996 - dense_1_accuracy_38: 1.0000\n",
      "Epoch 171/200\n",
      "2329/2329 [==============================] - 2s 1ms/step - loss: 21.3732 - dense_1_loss: 1.6575e-04 - dense_1_accuracy: 0.1224 - dense_1_accuracy_1: 0.2705 - dense_1_accuracy_2: 0.2967 - dense_1_accuracy_3: 0.3310 - dense_1_accuracy_4: 0.3113 - dense_1_accuracy_5: 0.3486 - dense_1_accuracy_6: 0.4607 - dense_1_accuracy_7: 0.5762 - dense_1_accuracy_8: 0.6943 - dense_1_accuracy_9: 0.7905 - dense_1_accuracy_10: 0.8557 - dense_1_accuracy_11: 0.8944 - dense_1_accuracy_12: 0.9253 - dense_1_accuracy_13: 0.9446 - dense_1_accuracy_14: 0.9558 - dense_1_accuracy_15: 0.9635 - dense_1_accuracy_16: 0.9742 - dense_1_accuracy_17: 0.9820 - dense_1_accuracy_18: 0.9858 - dense_1_accuracy_19: 0.9841 - dense_1_accuracy_20: 0.9884 - dense_1_accuracy_21: 0.9914 - dense_1_accuracy_22: 0.9923 - dense_1_accuracy_23: 0.9918 - dense_1_accuracy_24: 0.9953 - dense_1_accuracy_25: 0.9940 - dense_1_accuracy_26: 0.9953 - dense_1_accuracy_27: 0.9966 - dense_1_accuracy_28: 0.9953 - dense_1_accuracy_29: 0.9983 - dense_1_accuracy_30: 0.9979 - dense_1_accuracy_31: 0.9983 - dense_1_accuracy_32: 0.9987 - dense_1_accuracy_33: 0.9987 - dense_1_accuracy_34: 0.9991 - dense_1_accuracy_35: 0.9996 - dense_1_accuracy_36: 1.0000 - dense_1_accuracy_37: 0.9996 - dense_1_accuracy_38: 1.0000\n",
      "Epoch 172/200\n",
      "2329/2329 [==============================] - 2s 1ms/step - loss: 21.3697 - dense_1_loss: 1.3213e-04 - dense_1_accuracy: 0.1224 - dense_1_accuracy_1: 0.2692 - dense_1_accuracy_2: 0.2976 - dense_1_accuracy_3: 0.3289 - dense_1_accuracy_4: 0.3091 - dense_1_accuracy_5: 0.3482 - dense_1_accuracy_6: 0.4616 - dense_1_accuracy_7: 0.5775 - dense_1_accuracy_8: 0.6939 - dense_1_accuracy_9: 0.7909 - dense_1_accuracy_10: 0.8574 - dense_1_accuracy_11: 0.8965 - dense_1_accuracy_12: 0.9249 - dense_1_accuracy_13: 0.9438 - dense_1_accuracy_14: 0.9558 - dense_1_accuracy_15: 0.9635 - dense_1_accuracy_16: 0.9747 - dense_1_accuracy_17: 0.9824 - dense_1_accuracy_18: 0.9854 - dense_1_accuracy_19: 0.9837 - dense_1_accuracy_20: 0.9888 - dense_1_accuracy_21: 0.9918 - dense_1_accuracy_22: 0.9923 - dense_1_accuracy_23: 0.9927 - dense_1_accuracy_24: 0.9953 - dense_1_accuracy_25: 0.9940 - dense_1_accuracy_26: 0.9953 - dense_1_accuracy_27: 0.9966 - dense_1_accuracy_28: 0.9953 - dense_1_accuracy_29: 0.9983 - dense_1_accuracy_30: 0.9979 - dense_1_accuracy_31: 0.9983 - dense_1_accuracy_32: 0.9983 - dense_1_accuracy_33: 0.9987 - dense_1_accuracy_34: 0.9991 - dense_1_accuracy_35: 0.9996 - dense_1_accuracy_36: 1.0000 - dense_1_accuracy_37: 0.9996 - dense_1_accuracy_38: 1.0000\n",
      "Epoch 173/200\n",
      "2329/2329 [==============================] - 2s 1ms/step - loss: 21.3636 - dense_1_loss: 1.3391e-04 - dense_1_accuracy: 0.1224 - dense_1_accuracy_1: 0.2688 - dense_1_accuracy_2: 0.2971 - dense_1_accuracy_3: 0.3293 - dense_1_accuracy_4: 0.3139 - dense_1_accuracy_5: 0.3465 - dense_1_accuracy_6: 0.4629 - dense_1_accuracy_7: 0.5779 - dense_1_accuracy_8: 0.6951 - dense_1_accuracy_9: 0.7892 - dense_1_accuracy_10: 0.8570 - dense_1_accuracy_11: 0.8965 - dense_1_accuracy_12: 0.9257 - dense_1_accuracy_13: 0.9446 - dense_1_accuracy_14: 0.9566 - dense_1_accuracy_15: 0.9635 - dense_1_accuracy_16: 0.9742 - dense_1_accuracy_17: 0.9824 - dense_1_accuracy_18: 0.9854 - dense_1_accuracy_19: 0.9841 - dense_1_accuracy_20: 0.9888 - dense_1_accuracy_21: 0.9914 - dense_1_accuracy_22: 0.9923 - dense_1_accuracy_23: 0.9918 - dense_1_accuracy_24: 0.9953 - dense_1_accuracy_25: 0.9940 - dense_1_accuracy_26: 0.9948 - dense_1_accuracy_27: 0.9966 - dense_1_accuracy_28: 0.9953 - dense_1_accuracy_29: 0.9983 - dense_1_accuracy_30: 0.9979 - dense_1_accuracy_31: 0.9983 - dense_1_accuracy_32: 0.9983 - dense_1_accuracy_33: 0.9987 - dense_1_accuracy_34: 0.9991 - dense_1_accuracy_35: 0.9996 - dense_1_accuracy_36: 1.0000 - dense_1_accuracy_37: 0.9996 - dense_1_accuracy_38: 1.0000\n",
      "Epoch 174/200\n"
     ]
    },
    {
     "name": "stdout",
     "output_type": "stream",
     "text": [
      "2329/2329 [==============================] - 2s 1ms/step - loss: 21.3590 - dense_1_loss: 1.3100e-04 - dense_1_accuracy: 0.1224 - dense_1_accuracy_1: 0.2679 - dense_1_accuracy_2: 0.2976 - dense_1_accuracy_3: 0.3276 - dense_1_accuracy_4: 0.3130 - dense_1_accuracy_5: 0.3474 - dense_1_accuracy_6: 0.4611 - dense_1_accuracy_7: 0.5754 - dense_1_accuracy_8: 0.6973 - dense_1_accuracy_9: 0.7888 - dense_1_accuracy_10: 0.8562 - dense_1_accuracy_11: 0.8961 - dense_1_accuracy_12: 0.9261 - dense_1_accuracy_13: 0.9438 - dense_1_accuracy_14: 0.9571 - dense_1_accuracy_15: 0.9631 - dense_1_accuracy_16: 0.9751 - dense_1_accuracy_17: 0.9824 - dense_1_accuracy_18: 0.9863 - dense_1_accuracy_19: 0.9837 - dense_1_accuracy_20: 0.9893 - dense_1_accuracy_21: 0.9918 - dense_1_accuracy_22: 0.9918 - dense_1_accuracy_23: 0.9927 - dense_1_accuracy_24: 0.9953 - dense_1_accuracy_25: 0.9940 - dense_1_accuracy_26: 0.9953 - dense_1_accuracy_27: 0.9966 - dense_1_accuracy_28: 0.9953 - dense_1_accuracy_29: 0.9983 - dense_1_accuracy_30: 0.9979 - dense_1_accuracy_31: 0.9983 - dense_1_accuracy_32: 0.9983 - dense_1_accuracy_33: 0.9987 - dense_1_accuracy_34: 0.9991 - dense_1_accuracy_35: 0.9996 - dense_1_accuracy_36: 1.0000 - dense_1_accuracy_37: 0.9996 - dense_1_accuracy_38: 1.0000\n",
      "Epoch 175/200\n",
      "2329/2329 [==============================] - 2s 1ms/step - loss: 21.3542 - dense_1_loss: 1.6900e-04 - dense_1_accuracy: 0.1224 - dense_1_accuracy_1: 0.2735 - dense_1_accuracy_2: 0.2976 - dense_1_accuracy_3: 0.3315 - dense_1_accuracy_4: 0.3147 - dense_1_accuracy_5: 0.3491 - dense_1_accuracy_6: 0.4629 - dense_1_accuracy_7: 0.5784 - dense_1_accuracy_8: 0.6973 - dense_1_accuracy_9: 0.7900 - dense_1_accuracy_10: 0.8566 - dense_1_accuracy_11: 0.8957 - dense_1_accuracy_12: 0.9266 - dense_1_accuracy_13: 0.9450 - dense_1_accuracy_14: 0.9562 - dense_1_accuracy_15: 0.9631 - dense_1_accuracy_16: 0.9747 - dense_1_accuracy_17: 0.9828 - dense_1_accuracy_18: 0.9854 - dense_1_accuracy_19: 0.9841 - dense_1_accuracy_20: 0.9888 - dense_1_accuracy_21: 0.9914 - dense_1_accuracy_22: 0.9923 - dense_1_accuracy_23: 0.9918 - dense_1_accuracy_24: 0.9953 - dense_1_accuracy_25: 0.9940 - dense_1_accuracy_26: 0.9957 - dense_1_accuracy_27: 0.9966 - dense_1_accuracy_28: 0.9953 - dense_1_accuracy_29: 0.9983 - dense_1_accuracy_30: 0.9979 - dense_1_accuracy_31: 0.9983 - dense_1_accuracy_32: 0.9983 - dense_1_accuracy_33: 0.9987 - dense_1_accuracy_34: 0.9991 - dense_1_accuracy_35: 0.9996 - dense_1_accuracy_36: 1.0000 - dense_1_accuracy_37: 0.9996 - dense_1_accuracy_38: 1.0000\n",
      "Epoch 176/200\n",
      "2329/2329 [==============================] - 2s 1ms/step - loss: 21.3499 - dense_1_loss: 1.8774e-04 - dense_1_accuracy: 0.1224 - dense_1_accuracy_1: 0.2718 - dense_1_accuracy_2: 0.2976 - dense_1_accuracy_3: 0.3298 - dense_1_accuracy_4: 0.3104 - dense_1_accuracy_5: 0.3491 - dense_1_accuracy_6: 0.4624 - dense_1_accuracy_7: 0.5779 - dense_1_accuracy_8: 0.6956 - dense_1_accuracy_9: 0.7883 - dense_1_accuracy_10: 0.8562 - dense_1_accuracy_11: 0.8965 - dense_1_accuracy_12: 0.9253 - dense_1_accuracy_13: 0.9455 - dense_1_accuracy_14: 0.9566 - dense_1_accuracy_15: 0.9626 - dense_1_accuracy_16: 0.9742 - dense_1_accuracy_17: 0.9824 - dense_1_accuracy_18: 0.9845 - dense_1_accuracy_19: 0.9837 - dense_1_accuracy_20: 0.9888 - dense_1_accuracy_21: 0.9918 - dense_1_accuracy_22: 0.9923 - dense_1_accuracy_23: 0.9923 - dense_1_accuracy_24: 0.9953 - dense_1_accuracy_25: 0.9940 - dense_1_accuracy_26: 0.9948 - dense_1_accuracy_27: 0.9966 - dense_1_accuracy_28: 0.9953 - dense_1_accuracy_29: 0.9983 - dense_1_accuracy_30: 0.9979 - dense_1_accuracy_31: 0.9983 - dense_1_accuracy_32: 0.9987 - dense_1_accuracy_33: 0.9987 - dense_1_accuracy_34: 0.9991 - dense_1_accuracy_35: 0.9996 - dense_1_accuracy_36: 1.0000 - dense_1_accuracy_37: 0.9996 - dense_1_accuracy_38: 1.0000\n",
      "Epoch 177/200\n",
      "2329/2329 [==============================] - 3s 1ms/step - loss: 21.3455 - dense_1_loss: 1.2598e-04 - dense_1_accuracy: 0.1224 - dense_1_accuracy_1: 0.2701 - dense_1_accuracy_2: 0.2980 - dense_1_accuracy_3: 0.3336 - dense_1_accuracy_4: 0.3156 - dense_1_accuracy_5: 0.3478 - dense_1_accuracy_6: 0.4641 - dense_1_accuracy_7: 0.5766 - dense_1_accuracy_8: 0.6951 - dense_1_accuracy_9: 0.7918 - dense_1_accuracy_10: 0.8574 - dense_1_accuracy_11: 0.8961 - dense_1_accuracy_12: 0.9261 - dense_1_accuracy_13: 0.9446 - dense_1_accuracy_14: 0.9558 - dense_1_accuracy_15: 0.9635 - dense_1_accuracy_16: 0.9742 - dense_1_accuracy_17: 0.9824 - dense_1_accuracy_18: 0.9854 - dense_1_accuracy_19: 0.9841 - dense_1_accuracy_20: 0.9888 - dense_1_accuracy_21: 0.9918 - dense_1_accuracy_22: 0.9923 - dense_1_accuracy_23: 0.9918 - dense_1_accuracy_24: 0.9953 - dense_1_accuracy_25: 0.9940 - dense_1_accuracy_26: 0.9948 - dense_1_accuracy_27: 0.9966 - dense_1_accuracy_28: 0.9953 - dense_1_accuracy_29: 0.9983 - dense_1_accuracy_30: 0.9979 - dense_1_accuracy_31: 0.9979 - dense_1_accuracy_32: 0.9983 - dense_1_accuracy_33: 0.9987 - dense_1_accuracy_34: 0.9991 - dense_1_accuracy_35: 0.9991 - dense_1_accuracy_36: 1.0000 - dense_1_accuracy_37: 0.9996 - dense_1_accuracy_38: 1.0000\n",
      "Epoch 178/200\n",
      "2329/2329 [==============================] - 2s 1ms/step - loss: 21.3407 - dense_1_loss: 1.5787e-04 - dense_1_accuracy: 0.1224 - dense_1_accuracy_1: 0.2705 - dense_1_accuracy_2: 0.2976 - dense_1_accuracy_3: 0.3332 - dense_1_accuracy_4: 0.3126 - dense_1_accuracy_5: 0.3495 - dense_1_accuracy_6: 0.4646 - dense_1_accuracy_7: 0.5796 - dense_1_accuracy_8: 0.6960 - dense_1_accuracy_9: 0.7900 - dense_1_accuracy_10: 0.8570 - dense_1_accuracy_11: 0.8970 - dense_1_accuracy_12: 0.9253 - dense_1_accuracy_13: 0.9446 - dense_1_accuracy_14: 0.9566 - dense_1_accuracy_15: 0.9639 - dense_1_accuracy_16: 0.9747 - dense_1_accuracy_17: 0.9828 - dense_1_accuracy_18: 0.9854 - dense_1_accuracy_19: 0.9837 - dense_1_accuracy_20: 0.9897 - dense_1_accuracy_21: 0.9914 - dense_1_accuracy_22: 0.9923 - dense_1_accuracy_23: 0.9923 - dense_1_accuracy_24: 0.9953 - dense_1_accuracy_25: 0.9940 - dense_1_accuracy_26: 0.9948 - dense_1_accuracy_27: 0.9966 - dense_1_accuracy_28: 0.9953 - dense_1_accuracy_29: 0.9983 - dense_1_accuracy_30: 0.9979 - dense_1_accuracy_31: 0.9987 - dense_1_accuracy_32: 0.9983 - dense_1_accuracy_33: 0.9987 - dense_1_accuracy_34: 0.9991 - dense_1_accuracy_35: 0.9996 - dense_1_accuracy_36: 1.0000 - dense_1_accuracy_37: 0.9996 - dense_1_accuracy_38: 1.0000\n",
      "Epoch 179/200\n",
      "2329/2329 [==============================] - 2s 1ms/step - loss: 21.3359 - dense_1_loss: 1.2371e-04 - dense_1_accuracy: 0.1224 - dense_1_accuracy_1: 0.2705 - dense_1_accuracy_2: 0.2984 - dense_1_accuracy_3: 0.3298 - dense_1_accuracy_4: 0.3109 - dense_1_accuracy_5: 0.3478 - dense_1_accuracy_6: 0.4603 - dense_1_accuracy_7: 0.5796 - dense_1_accuracy_8: 0.6960 - dense_1_accuracy_9: 0.7892 - dense_1_accuracy_10: 0.8549 - dense_1_accuracy_11: 0.8952 - dense_1_accuracy_12: 0.9261 - dense_1_accuracy_13: 0.9438 - dense_1_accuracy_14: 0.9566 - dense_1_accuracy_15: 0.9639 - dense_1_accuracy_16: 0.9751 - dense_1_accuracy_17: 0.9820 - dense_1_accuracy_18: 0.9863 - dense_1_accuracy_19: 0.9841 - dense_1_accuracy_20: 0.9884 - dense_1_accuracy_21: 0.9914 - dense_1_accuracy_22: 0.9927 - dense_1_accuracy_23: 0.9923 - dense_1_accuracy_24: 0.9953 - dense_1_accuracy_25: 0.9940 - dense_1_accuracy_26: 0.9948 - dense_1_accuracy_27: 0.9966 - dense_1_accuracy_28: 0.9953 - dense_1_accuracy_29: 0.9983 - dense_1_accuracy_30: 0.9979 - dense_1_accuracy_31: 0.9987 - dense_1_accuracy_32: 0.9983 - dense_1_accuracy_33: 0.9987 - dense_1_accuracy_34: 0.9991 - dense_1_accuracy_35: 0.9991 - dense_1_accuracy_36: 1.0000 - dense_1_accuracy_37: 0.9996 - dense_1_accuracy_38: 1.0000\n",
      "Epoch 180/200\n"
     ]
    },
    {
     "name": "stdout",
     "output_type": "stream",
     "text": [
      "2329/2329 [==============================] - 2s 1ms/step - loss: 21.3300 - dense_1_loss: 1.2679e-04 - dense_1_accuracy: 0.1224 - dense_1_accuracy_1: 0.2701 - dense_1_accuracy_2: 0.2971 - dense_1_accuracy_3: 0.3332 - dense_1_accuracy_4: 0.3143 - dense_1_accuracy_5: 0.3478 - dense_1_accuracy_6: 0.4650 - dense_1_accuracy_7: 0.5788 - dense_1_accuracy_8: 0.6943 - dense_1_accuracy_9: 0.7870 - dense_1_accuracy_10: 0.8583 - dense_1_accuracy_11: 0.8961 - dense_1_accuracy_12: 0.9270 - dense_1_accuracy_13: 0.9438 - dense_1_accuracy_14: 0.9566 - dense_1_accuracy_15: 0.9631 - dense_1_accuracy_16: 0.9747 - dense_1_accuracy_17: 0.9820 - dense_1_accuracy_18: 0.9863 - dense_1_accuracy_19: 0.9833 - dense_1_accuracy_20: 0.9893 - dense_1_accuracy_21: 0.9914 - dense_1_accuracy_22: 0.9927 - dense_1_accuracy_23: 0.9918 - dense_1_accuracy_24: 0.9953 - dense_1_accuracy_25: 0.9940 - dense_1_accuracy_26: 0.9948 - dense_1_accuracy_27: 0.9966 - dense_1_accuracy_28: 0.9953 - dense_1_accuracy_29: 0.9983 - dense_1_accuracy_30: 0.9979 - dense_1_accuracy_31: 0.9987 - dense_1_accuracy_32: 0.9983 - dense_1_accuracy_33: 0.9987 - dense_1_accuracy_34: 0.9991 - dense_1_accuracy_35: 0.9991 - dense_1_accuracy_36: 1.0000 - dense_1_accuracy_37: 0.9996 - dense_1_accuracy_38: 1.0000\n",
      "Epoch 181/200\n",
      "2329/2329 [==============================] - 2s 1ms/step - loss: 21.3253 - dense_1_loss: 1.4036e-04 - dense_1_accuracy: 0.1224 - dense_1_accuracy_1: 0.2688 - dense_1_accuracy_2: 0.2980 - dense_1_accuracy_3: 0.3319 - dense_1_accuracy_4: 0.3126 - dense_1_accuracy_5: 0.3495 - dense_1_accuracy_6: 0.4633 - dense_1_accuracy_7: 0.5792 - dense_1_accuracy_8: 0.6964 - dense_1_accuracy_9: 0.7900 - dense_1_accuracy_10: 0.8570 - dense_1_accuracy_11: 0.8961 - dense_1_accuracy_12: 0.9266 - dense_1_accuracy_13: 0.9433 - dense_1_accuracy_14: 0.9562 - dense_1_accuracy_15: 0.9639 - dense_1_accuracy_16: 0.9747 - dense_1_accuracy_17: 0.9828 - dense_1_accuracy_18: 0.9858 - dense_1_accuracy_19: 0.9837 - dense_1_accuracy_20: 0.9884 - dense_1_accuracy_21: 0.9914 - dense_1_accuracy_22: 0.9923 - dense_1_accuracy_23: 0.9918 - dense_1_accuracy_24: 0.9953 - dense_1_accuracy_25: 0.9940 - dense_1_accuracy_26: 0.9948 - dense_1_accuracy_27: 0.9966 - dense_1_accuracy_28: 0.9953 - dense_1_accuracy_29: 0.9983 - dense_1_accuracy_30: 0.9979 - dense_1_accuracy_31: 0.9987 - dense_1_accuracy_32: 0.9983 - dense_1_accuracy_33: 0.9987 - dense_1_accuracy_34: 0.9991 - dense_1_accuracy_35: 0.9996 - dense_1_accuracy_36: 1.0000 - dense_1_accuracy_37: 0.9996 - dense_1_accuracy_38: 1.0000\n",
      "Epoch 182/200\n",
      "2329/2329 [==============================] - 2s 1ms/step - loss: 21.3204 - dense_1_loss: 1.5078e-04 - dense_1_accuracy: 0.1224 - dense_1_accuracy_1: 0.2701 - dense_1_accuracy_2: 0.3001 - dense_1_accuracy_3: 0.3345 - dense_1_accuracy_4: 0.3134 - dense_1_accuracy_5: 0.3478 - dense_1_accuracy_6: 0.4654 - dense_1_accuracy_7: 0.5754 - dense_1_accuracy_8: 0.6969 - dense_1_accuracy_9: 0.7892 - dense_1_accuracy_10: 0.8579 - dense_1_accuracy_11: 0.8957 - dense_1_accuracy_12: 0.9257 - dense_1_accuracy_13: 0.9446 - dense_1_accuracy_14: 0.9562 - dense_1_accuracy_15: 0.9639 - dense_1_accuracy_16: 0.9747 - dense_1_accuracy_17: 0.9824 - dense_1_accuracy_18: 0.9858 - dense_1_accuracy_19: 0.9837 - dense_1_accuracy_20: 0.9897 - dense_1_accuracy_21: 0.9914 - dense_1_accuracy_22: 0.9927 - dense_1_accuracy_23: 0.9927 - dense_1_accuracy_24: 0.9953 - dense_1_accuracy_25: 0.9940 - dense_1_accuracy_26: 0.9948 - dense_1_accuracy_27: 0.9966 - dense_1_accuracy_28: 0.9953 - dense_1_accuracy_29: 0.9983 - dense_1_accuracy_30: 0.9979 - dense_1_accuracy_31: 0.9987 - dense_1_accuracy_32: 0.9983 - dense_1_accuracy_33: 0.9987 - dense_1_accuracy_34: 0.9991 - dense_1_accuracy_35: 0.9996 - dense_1_accuracy_36: 1.0000 - dense_1_accuracy_37: 0.9996 - dense_1_accuracy_38: 1.0000\n",
      "Epoch 183/200\n",
      "2329/2329 [==============================] - 2s 1ms/step - loss: 21.3167 - dense_1_loss: 1.5552e-04 - dense_1_accuracy: 0.1224 - dense_1_accuracy_1: 0.2701 - dense_1_accuracy_2: 0.2967 - dense_1_accuracy_3: 0.3328 - dense_1_accuracy_4: 0.3104 - dense_1_accuracy_5: 0.3486 - dense_1_accuracy_6: 0.4641 - dense_1_accuracy_7: 0.5779 - dense_1_accuracy_8: 0.6956 - dense_1_accuracy_9: 0.7883 - dense_1_accuracy_10: 0.8566 - dense_1_accuracy_11: 0.8957 - dense_1_accuracy_12: 0.9266 - dense_1_accuracy_13: 0.9446 - dense_1_accuracy_14: 0.9562 - dense_1_accuracy_15: 0.9631 - dense_1_accuracy_16: 0.9747 - dense_1_accuracy_17: 0.9828 - dense_1_accuracy_18: 0.9854 - dense_1_accuracy_19: 0.9837 - dense_1_accuracy_20: 0.9897 - dense_1_accuracy_21: 0.9914 - dense_1_accuracy_22: 0.9927 - dense_1_accuracy_23: 0.9923 - dense_1_accuracy_24: 0.9953 - dense_1_accuracy_25: 0.9940 - dense_1_accuracy_26: 0.9953 - dense_1_accuracy_27: 0.9966 - dense_1_accuracy_28: 0.9953 - dense_1_accuracy_29: 0.9983 - dense_1_accuracy_30: 0.9979 - dense_1_accuracy_31: 0.9987 - dense_1_accuracy_32: 0.9983 - dense_1_accuracy_33: 0.9987 - dense_1_accuracy_34: 0.9991 - dense_1_accuracy_35: 0.9996 - dense_1_accuracy_36: 1.0000 - dense_1_accuracy_37: 0.9996 - dense_1_accuracy_38: 1.0000\n",
      "Epoch 184/200\n",
      "2329/2329 [==============================] - 2s 1ms/step - loss: 21.3123 - dense_1_loss: 1.3823e-04 - dense_1_accuracy: 0.1224 - dense_1_accuracy_1: 0.2701 - dense_1_accuracy_2: 0.2976 - dense_1_accuracy_3: 0.3336 - dense_1_accuracy_4: 0.3134 - dense_1_accuracy_5: 0.3491 - dense_1_accuracy_6: 0.4637 - dense_1_accuracy_7: 0.5814 - dense_1_accuracy_8: 0.6930 - dense_1_accuracy_9: 0.7900 - dense_1_accuracy_10: 0.8579 - dense_1_accuracy_11: 0.8970 - dense_1_accuracy_12: 0.9257 - dense_1_accuracy_13: 0.9450 - dense_1_accuracy_14: 0.9562 - dense_1_accuracy_15: 0.9639 - dense_1_accuracy_16: 0.9755 - dense_1_accuracy_17: 0.9824 - dense_1_accuracy_18: 0.9854 - dense_1_accuracy_19: 0.9841 - dense_1_accuracy_20: 0.9888 - dense_1_accuracy_21: 0.9918 - dense_1_accuracy_22: 0.9923 - dense_1_accuracy_23: 0.9918 - dense_1_accuracy_24: 0.9953 - dense_1_accuracy_25: 0.9940 - dense_1_accuracy_26: 0.9957 - dense_1_accuracy_27: 0.9966 - dense_1_accuracy_28: 0.9953 - dense_1_accuracy_29: 0.9983 - dense_1_accuracy_30: 0.9979 - dense_1_accuracy_31: 0.9987 - dense_1_accuracy_32: 0.9987 - dense_1_accuracy_33: 0.9987 - dense_1_accuracy_34: 0.9991 - dense_1_accuracy_35: 0.9996 - dense_1_accuracy_36: 1.0000 - dense_1_accuracy_37: 0.9996 - dense_1_accuracy_38: 1.0000\n",
      "Epoch 185/200\n",
      "2329/2329 [==============================] - 2s 1ms/step - loss: 21.3065 - dense_1_loss: 1.5815e-04 - dense_1_accuracy: 0.1224 - dense_1_accuracy_1: 0.2701 - dense_1_accuracy_2: 0.2976 - dense_1_accuracy_3: 0.3358 - dense_1_accuracy_4: 0.3152 - dense_1_accuracy_5: 0.3499 - dense_1_accuracy_6: 0.4663 - dense_1_accuracy_7: 0.5771 - dense_1_accuracy_8: 0.6973 - dense_1_accuracy_9: 0.7896 - dense_1_accuracy_10: 0.8562 - dense_1_accuracy_11: 0.8961 - dense_1_accuracy_12: 0.9257 - dense_1_accuracy_13: 0.9450 - dense_1_accuracy_14: 0.9571 - dense_1_accuracy_15: 0.9635 - dense_1_accuracy_16: 0.9747 - dense_1_accuracy_17: 0.9828 - dense_1_accuracy_18: 0.9858 - dense_1_accuracy_19: 0.9841 - dense_1_accuracy_20: 0.9897 - dense_1_accuracy_21: 0.9914 - dense_1_accuracy_22: 0.9923 - dense_1_accuracy_23: 0.9918 - dense_1_accuracy_24: 0.9953 - dense_1_accuracy_25: 0.9940 - dense_1_accuracy_26: 0.9953 - dense_1_accuracy_27: 0.9966 - dense_1_accuracy_28: 0.9953 - dense_1_accuracy_29: 0.9983 - dense_1_accuracy_30: 0.9979 - dense_1_accuracy_31: 0.9987 - dense_1_accuracy_32: 0.9983 - dense_1_accuracy_33: 0.9987 - dense_1_accuracy_34: 0.9991 - dense_1_accuracy_35: 0.9996 - dense_1_accuracy_36: 1.0000 - dense_1_accuracy_37: 0.9996 - dense_1_accuracy_38: 1.0000\n",
      "Epoch 186/200\n"
     ]
    },
    {
     "name": "stdout",
     "output_type": "stream",
     "text": [
      "2329/2329 [==============================] - 2s 1ms/step - loss: 21.3029 - dense_1_loss: 1.3785e-04 - dense_1_accuracy: 0.1224 - dense_1_accuracy_1: 0.2701 - dense_1_accuracy_2: 0.2984 - dense_1_accuracy_3: 0.3336 - dense_1_accuracy_4: 0.3143 - dense_1_accuracy_5: 0.3499 - dense_1_accuracy_6: 0.4667 - dense_1_accuracy_7: 0.5788 - dense_1_accuracy_8: 0.6969 - dense_1_accuracy_9: 0.7888 - dense_1_accuracy_10: 0.8579 - dense_1_accuracy_11: 0.8957 - dense_1_accuracy_12: 0.9266 - dense_1_accuracy_13: 0.9442 - dense_1_accuracy_14: 0.9566 - dense_1_accuracy_15: 0.9626 - dense_1_accuracy_16: 0.9751 - dense_1_accuracy_17: 0.9824 - dense_1_accuracy_18: 0.9858 - dense_1_accuracy_19: 0.9837 - dense_1_accuracy_20: 0.9906 - dense_1_accuracy_21: 0.9914 - dense_1_accuracy_22: 0.9923 - dense_1_accuracy_23: 0.9918 - dense_1_accuracy_24: 0.9953 - dense_1_accuracy_25: 0.9940 - dense_1_accuracy_26: 0.9948 - dense_1_accuracy_27: 0.9966 - dense_1_accuracy_28: 0.9953 - dense_1_accuracy_29: 0.9983 - dense_1_accuracy_30: 0.9979 - dense_1_accuracy_31: 0.9987 - dense_1_accuracy_32: 0.9983 - dense_1_accuracy_33: 0.9987 - dense_1_accuracy_34: 0.9991 - dense_1_accuracy_35: 0.9996 - dense_1_accuracy_36: 1.0000 - dense_1_accuracy_37: 0.9996 - dense_1_accuracy_38: 1.0000\n",
      "Epoch 187/200\n",
      "2329/2329 [==============================] - 2s 1ms/step - loss: 21.2974 - dense_1_loss: 1.4246e-04 - dense_1_accuracy: 0.1224 - dense_1_accuracy_1: 0.2701 - dense_1_accuracy_2: 0.2980 - dense_1_accuracy_3: 0.3323 - dense_1_accuracy_4: 0.3152 - dense_1_accuracy_5: 0.3482 - dense_1_accuracy_6: 0.4654 - dense_1_accuracy_7: 0.5809 - dense_1_accuracy_8: 0.6947 - dense_1_accuracy_9: 0.7896 - dense_1_accuracy_10: 0.8574 - dense_1_accuracy_11: 0.8961 - dense_1_accuracy_12: 0.9266 - dense_1_accuracy_13: 0.9446 - dense_1_accuracy_14: 0.9566 - dense_1_accuracy_15: 0.9626 - dense_1_accuracy_16: 0.9751 - dense_1_accuracy_17: 0.9824 - dense_1_accuracy_18: 0.9854 - dense_1_accuracy_19: 0.9837 - dense_1_accuracy_20: 0.9901 - dense_1_accuracy_21: 0.9918 - dense_1_accuracy_22: 0.9927 - dense_1_accuracy_23: 0.9918 - dense_1_accuracy_24: 0.9957 - dense_1_accuracy_25: 0.9940 - dense_1_accuracy_26: 0.9948 - dense_1_accuracy_27: 0.9966 - dense_1_accuracy_28: 0.9953 - dense_1_accuracy_29: 0.9983 - dense_1_accuracy_30: 0.9979 - dense_1_accuracy_31: 0.9987 - dense_1_accuracy_32: 0.9983 - dense_1_accuracy_33: 0.9987 - dense_1_accuracy_34: 0.9991 - dense_1_accuracy_35: 0.9996 - dense_1_accuracy_36: 1.0000 - dense_1_accuracy_37: 0.9996 - dense_1_accuracy_38: 1.0000\n",
      "Epoch 188/200\n",
      "2329/2329 [==============================] - 2s 1ms/step - loss: 21.2930 - dense_1_loss: 1.4353e-04 - dense_1_accuracy: 0.1224 - dense_1_accuracy_1: 0.2701 - dense_1_accuracy_2: 0.2988 - dense_1_accuracy_3: 0.3336 - dense_1_accuracy_4: 0.3164 - dense_1_accuracy_5: 0.3491 - dense_1_accuracy_6: 0.4663 - dense_1_accuracy_7: 0.5788 - dense_1_accuracy_8: 0.6964 - dense_1_accuracy_9: 0.7888 - dense_1_accuracy_10: 0.8574 - dense_1_accuracy_11: 0.8965 - dense_1_accuracy_12: 0.9266 - dense_1_accuracy_13: 0.9450 - dense_1_accuracy_14: 0.9571 - dense_1_accuracy_15: 0.9635 - dense_1_accuracy_16: 0.9747 - dense_1_accuracy_17: 0.9820 - dense_1_accuracy_18: 0.9863 - dense_1_accuracy_19: 0.9837 - dense_1_accuracy_20: 0.9897 - dense_1_accuracy_21: 0.9914 - dense_1_accuracy_22: 0.9923 - dense_1_accuracy_23: 0.9923 - dense_1_accuracy_24: 0.9953 - dense_1_accuracy_25: 0.9940 - dense_1_accuracy_26: 0.9953 - dense_1_accuracy_27: 0.9966 - dense_1_accuracy_28: 0.9953 - dense_1_accuracy_29: 0.9983 - dense_1_accuracy_30: 0.9979 - dense_1_accuracy_31: 0.9987 - dense_1_accuracy_32: 0.9983 - dense_1_accuracy_33: 0.9987 - dense_1_accuracy_34: 0.9991 - dense_1_accuracy_35: 0.9996 - dense_1_accuracy_36: 1.0000 - dense_1_accuracy_37: 0.9996 - dense_1_accuracy_38: 1.0000\n",
      "Epoch 189/200\n",
      "2329/2329 [==============================] - 2s 1ms/step - loss: 21.2888 - dense_1_loss: 1.2314e-04 - dense_1_accuracy: 0.1224 - dense_1_accuracy_1: 0.2701 - dense_1_accuracy_2: 0.2971 - dense_1_accuracy_3: 0.3362 - dense_1_accuracy_4: 0.3143 - dense_1_accuracy_5: 0.3478 - dense_1_accuracy_6: 0.4641 - dense_1_accuracy_7: 0.5805 - dense_1_accuracy_8: 0.6973 - dense_1_accuracy_9: 0.7918 - dense_1_accuracy_10: 0.8583 - dense_1_accuracy_11: 0.8961 - dense_1_accuracy_12: 0.9266 - dense_1_accuracy_13: 0.9446 - dense_1_accuracy_14: 0.9571 - dense_1_accuracy_15: 0.9639 - dense_1_accuracy_16: 0.9751 - dense_1_accuracy_17: 0.9828 - dense_1_accuracy_18: 0.9858 - dense_1_accuracy_19: 0.9837 - dense_1_accuracy_20: 0.9897 - dense_1_accuracy_21: 0.9918 - dense_1_accuracy_22: 0.9931 - dense_1_accuracy_23: 0.9918 - dense_1_accuracy_24: 0.9953 - dense_1_accuracy_25: 0.9940 - dense_1_accuracy_26: 0.9957 - dense_1_accuracy_27: 0.9966 - dense_1_accuracy_28: 0.9953 - dense_1_accuracy_29: 0.9983 - dense_1_accuracy_30: 0.9979 - dense_1_accuracy_31: 0.9987 - dense_1_accuracy_32: 0.9983 - dense_1_accuracy_33: 0.9987 - dense_1_accuracy_34: 0.9991 - dense_1_accuracy_35: 0.9991 - dense_1_accuracy_36: 1.0000 - dense_1_accuracy_37: 0.9996 - dense_1_accuracy_38: 1.0000\n",
      "Epoch 190/200\n",
      "2329/2329 [==============================] - 2s 1ms/step - loss: 21.2849 - dense_1_loss: 1.2483e-04 - dense_1_accuracy: 0.1224 - dense_1_accuracy_1: 0.2701 - dense_1_accuracy_2: 0.2976 - dense_1_accuracy_3: 0.3353 - dense_1_accuracy_4: 0.3147 - dense_1_accuracy_5: 0.3482 - dense_1_accuracy_6: 0.4667 - dense_1_accuracy_7: 0.5809 - dense_1_accuracy_8: 0.6960 - dense_1_accuracy_9: 0.7883 - dense_1_accuracy_10: 0.8583 - dense_1_accuracy_11: 0.8965 - dense_1_accuracy_12: 0.9261 - dense_1_accuracy_13: 0.9450 - dense_1_accuracy_14: 0.9566 - dense_1_accuracy_15: 0.9631 - dense_1_accuracy_16: 0.9747 - dense_1_accuracy_17: 0.9828 - dense_1_accuracy_18: 0.9858 - dense_1_accuracy_19: 0.9837 - dense_1_accuracy_20: 0.9897 - dense_1_accuracy_21: 0.9914 - dense_1_accuracy_22: 0.9923 - dense_1_accuracy_23: 0.9918 - dense_1_accuracy_24: 0.9953 - dense_1_accuracy_25: 0.9940 - dense_1_accuracy_26: 0.9953 - dense_1_accuracy_27: 0.9966 - dense_1_accuracy_28: 0.9953 - dense_1_accuracy_29: 0.9983 - dense_1_accuracy_30: 0.9979 - dense_1_accuracy_31: 0.9987 - dense_1_accuracy_32: 0.9983 - dense_1_accuracy_33: 0.9987 - dense_1_accuracy_34: 0.9991 - dense_1_accuracy_35: 0.9991 - dense_1_accuracy_36: 1.0000 - dense_1_accuracy_37: 0.9996 - dense_1_accuracy_38: 1.0000\n",
      "Epoch 191/200\n",
      "2329/2329 [==============================] - 2s 1ms/step - loss: 21.2798 - dense_1_loss: 1.0984e-04 - dense_1_accuracy: 0.1224 - dense_1_accuracy_1: 0.2701 - dense_1_accuracy_2: 0.2988 - dense_1_accuracy_3: 0.3353 - dense_1_accuracy_4: 0.3143 - dense_1_accuracy_5: 0.3482 - dense_1_accuracy_6: 0.4650 - dense_1_accuracy_7: 0.5792 - dense_1_accuracy_8: 0.6964 - dense_1_accuracy_9: 0.7905 - dense_1_accuracy_10: 0.8570 - dense_1_accuracy_11: 0.8957 - dense_1_accuracy_12: 0.9274 - dense_1_accuracy_13: 0.9459 - dense_1_accuracy_14: 0.9575 - dense_1_accuracy_15: 0.9639 - dense_1_accuracy_16: 0.9751 - dense_1_accuracy_17: 0.9828 - dense_1_accuracy_18: 0.9863 - dense_1_accuracy_19: 0.9837 - dense_1_accuracy_20: 0.9901 - dense_1_accuracy_21: 0.9914 - dense_1_accuracy_22: 0.9931 - dense_1_accuracy_23: 0.9923 - dense_1_accuracy_24: 0.9953 - dense_1_accuracy_25: 0.9940 - dense_1_accuracy_26: 0.9953 - dense_1_accuracy_27: 0.9966 - dense_1_accuracy_28: 0.9953 - dense_1_accuracy_29: 0.9983 - dense_1_accuracy_30: 0.9979 - dense_1_accuracy_31: 0.9987 - dense_1_accuracy_32: 0.9983 - dense_1_accuracy_33: 0.9987 - dense_1_accuracy_34: 0.9991 - dense_1_accuracy_35: 0.9991 - dense_1_accuracy_36: 1.0000 - dense_1_accuracy_37: 0.9996 - dense_1_accuracy_38: 1.0000\n",
      "Epoch 192/200\n"
     ]
    },
    {
     "name": "stdout",
     "output_type": "stream",
     "text": [
      "2329/2329 [==============================] - 2s 1ms/step - loss: 21.2745 - dense_1_loss: 1.2128e-04 - dense_1_accuracy: 0.1224 - dense_1_accuracy_1: 0.2701 - dense_1_accuracy_2: 0.2988 - dense_1_accuracy_3: 0.3349 - dense_1_accuracy_4: 0.3139 - dense_1_accuracy_5: 0.3491 - dense_1_accuracy_6: 0.4663 - dense_1_accuracy_7: 0.5814 - dense_1_accuracy_8: 0.6973 - dense_1_accuracy_9: 0.7900 - dense_1_accuracy_10: 0.8583 - dense_1_accuracy_11: 0.8961 - dense_1_accuracy_12: 0.9266 - dense_1_accuracy_13: 0.9450 - dense_1_accuracy_14: 0.9566 - dense_1_accuracy_15: 0.9635 - dense_1_accuracy_16: 0.9751 - dense_1_accuracy_17: 0.9828 - dense_1_accuracy_18: 0.9863 - dense_1_accuracy_19: 0.9837 - dense_1_accuracy_20: 0.9893 - dense_1_accuracy_21: 0.9914 - dense_1_accuracy_22: 0.9927 - dense_1_accuracy_23: 0.9918 - dense_1_accuracy_24: 0.9953 - dense_1_accuracy_25: 0.9940 - dense_1_accuracy_26: 0.9953 - dense_1_accuracy_27: 0.9966 - dense_1_accuracy_28: 0.9953 - dense_1_accuracy_29: 0.9983 - dense_1_accuracy_30: 0.9979 - dense_1_accuracy_31: 0.9987 - dense_1_accuracy_32: 0.9983 - dense_1_accuracy_33: 0.9987 - dense_1_accuracy_34: 0.9991 - dense_1_accuracy_35: 0.9991 - dense_1_accuracy_36: 1.0000 - dense_1_accuracy_37: 0.9996 - dense_1_accuracy_38: 1.0000\n",
      "Epoch 193/200\n",
      "2329/2329 [==============================] - 2s 1ms/step - loss: 21.2702 - dense_1_loss: 1.0235e-04 - dense_1_accuracy: 0.1224 - dense_1_accuracy_1: 0.2701 - dense_1_accuracy_2: 0.3006 - dense_1_accuracy_3: 0.3345 - dense_1_accuracy_4: 0.3160 - dense_1_accuracy_5: 0.3478 - dense_1_accuracy_6: 0.4659 - dense_1_accuracy_7: 0.5796 - dense_1_accuracy_8: 0.6986 - dense_1_accuracy_9: 0.7913 - dense_1_accuracy_10: 0.8574 - dense_1_accuracy_11: 0.8965 - dense_1_accuracy_12: 0.9266 - dense_1_accuracy_13: 0.9446 - dense_1_accuracy_14: 0.9571 - dense_1_accuracy_15: 0.9635 - dense_1_accuracy_16: 0.9751 - dense_1_accuracy_17: 0.9828 - dense_1_accuracy_18: 0.9850 - dense_1_accuracy_19: 0.9837 - dense_1_accuracy_20: 0.9897 - dense_1_accuracy_21: 0.9918 - dense_1_accuracy_22: 0.9936 - dense_1_accuracy_23: 0.9918 - dense_1_accuracy_24: 0.9953 - dense_1_accuracy_25: 0.9940 - dense_1_accuracy_26: 0.9953 - dense_1_accuracy_27: 0.9966 - dense_1_accuracy_28: 0.9953 - dense_1_accuracy_29: 0.9983 - dense_1_accuracy_30: 0.9979 - dense_1_accuracy_31: 0.9987 - dense_1_accuracy_32: 0.9983 - dense_1_accuracy_33: 0.9987 - dense_1_accuracy_34: 0.9991 - dense_1_accuracy_35: 0.9991 - dense_1_accuracy_36: 1.0000 - dense_1_accuracy_37: 0.9996 - dense_1_accuracy_38: 1.0000\n",
      "Epoch 194/200\n",
      "2329/2329 [==============================] - 2s 1ms/step - loss: 21.2660 - dense_1_loss: 1.3480e-04 - dense_1_accuracy: 0.1224 - dense_1_accuracy_1: 0.2701 - dense_1_accuracy_2: 0.2984 - dense_1_accuracy_3: 0.3375 - dense_1_accuracy_4: 0.3156 - dense_1_accuracy_5: 0.3486 - dense_1_accuracy_6: 0.4680 - dense_1_accuracy_7: 0.5818 - dense_1_accuracy_8: 0.6977 - dense_1_accuracy_9: 0.7905 - dense_1_accuracy_10: 0.8583 - dense_1_accuracy_11: 0.8970 - dense_1_accuracy_12: 0.9270 - dense_1_accuracy_13: 0.9442 - dense_1_accuracy_14: 0.9571 - dense_1_accuracy_15: 0.9648 - dense_1_accuracy_16: 0.9747 - dense_1_accuracy_17: 0.9828 - dense_1_accuracy_18: 0.9863 - dense_1_accuracy_19: 0.9837 - dense_1_accuracy_20: 0.9901 - dense_1_accuracy_21: 0.9918 - dense_1_accuracy_22: 0.9927 - dense_1_accuracy_23: 0.9918 - dense_1_accuracy_24: 0.9953 - dense_1_accuracy_25: 0.9940 - dense_1_accuracy_26: 0.9953 - dense_1_accuracy_27: 0.9966 - dense_1_accuracy_28: 0.9953 - dense_1_accuracy_29: 0.9983 - dense_1_accuracy_30: 0.9979 - dense_1_accuracy_31: 0.9987 - dense_1_accuracy_32: 0.9983 - dense_1_accuracy_33: 0.9987 - dense_1_accuracy_34: 0.9991 - dense_1_accuracy_35: 0.9996 - dense_1_accuracy_36: 1.0000 - dense_1_accuracy_37: 0.9996 - dense_1_accuracy_38: 1.0000\n",
      "Epoch 195/200\n",
      "2329/2329 [==============================] - 2s 1ms/step - loss: 21.2626 - dense_1_loss: 1.6860e-04 - dense_1_accuracy: 0.1224 - dense_1_accuracy_1: 0.2701 - dense_1_accuracy_2: 0.2967 - dense_1_accuracy_3: 0.3383 - dense_1_accuracy_4: 0.3147 - dense_1_accuracy_5: 0.3474 - dense_1_accuracy_6: 0.4689 - dense_1_accuracy_7: 0.5796 - dense_1_accuracy_8: 0.6973 - dense_1_accuracy_9: 0.7909 - dense_1_accuracy_10: 0.8583 - dense_1_accuracy_11: 0.8970 - dense_1_accuracy_12: 0.9274 - dense_1_accuracy_13: 0.9450 - dense_1_accuracy_14: 0.9575 - dense_1_accuracy_15: 0.9635 - dense_1_accuracy_16: 0.9755 - dense_1_accuracy_17: 0.9824 - dense_1_accuracy_18: 0.9863 - dense_1_accuracy_19: 0.9837 - dense_1_accuracy_20: 0.9901 - dense_1_accuracy_21: 0.9918 - dense_1_accuracy_22: 0.9927 - dense_1_accuracy_23: 0.9923 - dense_1_accuracy_24: 0.9953 - dense_1_accuracy_25: 0.9940 - dense_1_accuracy_26: 0.9953 - dense_1_accuracy_27: 0.9966 - dense_1_accuracy_28: 0.9953 - dense_1_accuracy_29: 0.9983 - dense_1_accuracy_30: 0.9979 - dense_1_accuracy_31: 0.9983 - dense_1_accuracy_32: 0.9983 - dense_1_accuracy_33: 0.9987 - dense_1_accuracy_34: 0.9991 - dense_1_accuracy_35: 0.9996 - dense_1_accuracy_36: 1.0000 - dense_1_accuracy_37: 0.9996 - dense_1_accuracy_38: 1.0000\n",
      "Epoch 196/200\n",
      "2329/2329 [==============================] - 2s 1ms/step - loss: 21.2600 - dense_1_loss: 1.4333e-04 - dense_1_accuracy: 0.1224 - dense_1_accuracy_1: 0.2701 - dense_1_accuracy_2: 0.3001 - dense_1_accuracy_3: 0.3375 - dense_1_accuracy_4: 0.3164 - dense_1_accuracy_5: 0.3482 - dense_1_accuracy_6: 0.4684 - dense_1_accuracy_7: 0.5809 - dense_1_accuracy_8: 0.6956 - dense_1_accuracy_9: 0.7913 - dense_1_accuracy_10: 0.8579 - dense_1_accuracy_11: 0.8965 - dense_1_accuracy_12: 0.9261 - dense_1_accuracy_13: 0.9459 - dense_1_accuracy_14: 0.9571 - dense_1_accuracy_15: 0.9639 - dense_1_accuracy_16: 0.9747 - dense_1_accuracy_17: 0.9828 - dense_1_accuracy_18: 0.9854 - dense_1_accuracy_19: 0.9841 - dense_1_accuracy_20: 0.9888 - dense_1_accuracy_21: 0.9918 - dense_1_accuracy_22: 0.9931 - dense_1_accuracy_23: 0.9923 - dense_1_accuracy_24: 0.9953 - dense_1_accuracy_25: 0.9940 - dense_1_accuracy_26: 0.9953 - dense_1_accuracy_27: 0.9966 - dense_1_accuracy_28: 0.9953 - dense_1_accuracy_29: 0.9983 - dense_1_accuracy_30: 0.9979 - dense_1_accuracy_31: 0.9987 - dense_1_accuracy_32: 0.9987 - dense_1_accuracy_33: 0.9987 - dense_1_accuracy_34: 0.9991 - dense_1_accuracy_35: 0.9996 - dense_1_accuracy_36: 1.0000 - dense_1_accuracy_37: 0.9996 - dense_1_accuracy_38: 1.0000\n",
      "Epoch 197/200\n",
      "2329/2329 [==============================] - 2s 999us/step - loss: 21.2538 - dense_1_loss: 1.3210e-04 - dense_1_accuracy: 0.1224 - dense_1_accuracy_1: 0.2701 - dense_1_accuracy_2: 0.2988 - dense_1_accuracy_3: 0.3371 - dense_1_accuracy_4: 0.3134 - dense_1_accuracy_5: 0.3478 - dense_1_accuracy_6: 0.4710 - dense_1_accuracy_7: 0.5822 - dense_1_accuracy_8: 0.6969 - dense_1_accuracy_9: 0.7922 - dense_1_accuracy_10: 0.8574 - dense_1_accuracy_11: 0.8974 - dense_1_accuracy_12: 0.9279 - dense_1_accuracy_13: 0.9450 - dense_1_accuracy_14: 0.9571 - dense_1_accuracy_15: 0.9635 - dense_1_accuracy_16: 0.9751 - dense_1_accuracy_17: 0.9828 - dense_1_accuracy_18: 0.9858 - dense_1_accuracy_19: 0.9837 - dense_1_accuracy_20: 0.9906 - dense_1_accuracy_21: 0.9918 - dense_1_accuracy_22: 0.9931 - dense_1_accuracy_23: 0.9923 - dense_1_accuracy_24: 0.9953 - dense_1_accuracy_25: 0.9940 - dense_1_accuracy_26: 0.9953 - dense_1_accuracy_27: 0.9966 - dense_1_accuracy_28: 0.9953 - dense_1_accuracy_29: 0.9983 - dense_1_accuracy_30: 0.9979 - dense_1_accuracy_31: 0.9987 - dense_1_accuracy_32: 0.9983 - dense_1_accuracy_33: 0.9987 - dense_1_accuracy_34: 0.9991 - dense_1_accuracy_35: 0.9996 - dense_1_accuracy_36: 1.0000 - dense_1_accuracy_37: 0.9996 - dense_1_accuracy_38: 1.0000\n",
      "Epoch 198/200\n"
     ]
    },
    {
     "name": "stdout",
     "output_type": "stream",
     "text": [
      "2329/2329 [==============================] - 2s 1ms/step - loss: 21.2491 - dense_1_loss: 1.0941e-04 - dense_1_accuracy: 0.1224 - dense_1_accuracy_1: 0.2701 - dense_1_accuracy_2: 0.3014 - dense_1_accuracy_3: 0.3362 - dense_1_accuracy_4: 0.3164 - dense_1_accuracy_5: 0.3478 - dense_1_accuracy_6: 0.4697 - dense_1_accuracy_7: 0.5805 - dense_1_accuracy_8: 0.6960 - dense_1_accuracy_9: 0.7900 - dense_1_accuracy_10: 0.8587 - dense_1_accuracy_11: 0.8970 - dense_1_accuracy_12: 0.9261 - dense_1_accuracy_13: 0.9450 - dense_1_accuracy_14: 0.9571 - dense_1_accuracy_15: 0.9639 - dense_1_accuracy_16: 0.9751 - dense_1_accuracy_17: 0.9828 - dense_1_accuracy_18: 0.9858 - dense_1_accuracy_19: 0.9837 - dense_1_accuracy_20: 0.9897 - dense_1_accuracy_21: 0.9923 - dense_1_accuracy_22: 0.9927 - dense_1_accuracy_23: 0.9918 - dense_1_accuracy_24: 0.9953 - dense_1_accuracy_25: 0.9940 - dense_1_accuracy_26: 0.9953 - dense_1_accuracy_27: 0.9966 - dense_1_accuracy_28: 0.9953 - dense_1_accuracy_29: 0.9983 - dense_1_accuracy_30: 0.9979 - dense_1_accuracy_31: 0.9987 - dense_1_accuracy_32: 0.9983 - dense_1_accuracy_33: 0.9987 - dense_1_accuracy_34: 0.9991 - dense_1_accuracy_35: 0.9991 - dense_1_accuracy_36: 1.0000 - dense_1_accuracy_37: 0.9996 - dense_1_accuracy_38: 1.0000\n",
      "Epoch 199/200\n",
      "2329/2329 [==============================] - 2s 1ms/step - loss: 21.2454 - dense_1_loss: 1.3561e-04 - dense_1_accuracy: 0.1224 - dense_1_accuracy_1: 0.2701 - dense_1_accuracy_2: 0.3010 - dense_1_accuracy_3: 0.3383 - dense_1_accuracy_4: 0.3169 - dense_1_accuracy_5: 0.3478 - dense_1_accuracy_6: 0.4676 - dense_1_accuracy_7: 0.5827 - dense_1_accuracy_8: 0.6960 - dense_1_accuracy_9: 0.7918 - dense_1_accuracy_10: 0.8579 - dense_1_accuracy_11: 0.8961 - dense_1_accuracy_12: 0.9266 - dense_1_accuracy_13: 0.9459 - dense_1_accuracy_14: 0.9571 - dense_1_accuracy_15: 0.9639 - dense_1_accuracy_16: 0.9747 - dense_1_accuracy_17: 0.9828 - dense_1_accuracy_18: 0.9863 - dense_1_accuracy_19: 0.9845 - dense_1_accuracy_20: 0.9906 - dense_1_accuracy_21: 0.9914 - dense_1_accuracy_22: 0.9931 - dense_1_accuracy_23: 0.9923 - dense_1_accuracy_24: 0.9953 - dense_1_accuracy_25: 0.9940 - dense_1_accuracy_26: 0.9953 - dense_1_accuracy_27: 0.9966 - dense_1_accuracy_28: 0.9953 - dense_1_accuracy_29: 0.9983 - dense_1_accuracy_30: 0.9979 - dense_1_accuracy_31: 0.9983 - dense_1_accuracy_32: 0.9983 - dense_1_accuracy_33: 0.9987 - dense_1_accuracy_34: 0.9991 - dense_1_accuracy_35: 0.9996 - dense_1_accuracy_36: 1.0000 - dense_1_accuracy_37: 0.9996 - dense_1_accuracy_38: 1.0000\n",
      "Epoch 200/200\n",
      "2329/2329 [==============================] - 2s 1ms/step - loss: 21.2413 - dense_1_loss: 1.1335e-04 - dense_1_accuracy: 0.1224 - dense_1_accuracy_1: 0.2701 - dense_1_accuracy_2: 0.2997 - dense_1_accuracy_3: 0.3383 - dense_1_accuracy_4: 0.3147 - dense_1_accuracy_5: 0.3491 - dense_1_accuracy_6: 0.4710 - dense_1_accuracy_7: 0.5839 - dense_1_accuracy_8: 0.6956 - dense_1_accuracy_9: 0.7918 - dense_1_accuracy_10: 0.8574 - dense_1_accuracy_11: 0.8965 - dense_1_accuracy_12: 0.9266 - dense_1_accuracy_13: 0.9455 - dense_1_accuracy_14: 0.9566 - dense_1_accuracy_15: 0.9644 - dense_1_accuracy_16: 0.9751 - dense_1_accuracy_17: 0.9824 - dense_1_accuracy_18: 0.9867 - dense_1_accuracy_19: 0.9837 - dense_1_accuracy_20: 0.9901 - dense_1_accuracy_21: 0.9918 - dense_1_accuracy_22: 0.9931 - dense_1_accuracy_23: 0.9923 - dense_1_accuracy_24: 0.9953 - dense_1_accuracy_25: 0.9940 - dense_1_accuracy_26: 0.9953 - dense_1_accuracy_27: 0.9966 - dense_1_accuracy_28: 0.9953 - dense_1_accuracy_29: 0.9983 - dense_1_accuracy_30: 0.9979 - dense_1_accuracy_31: 0.9987 - dense_1_accuracy_32: 0.9983 - dense_1_accuracy_33: 0.9987 - dense_1_accuracy_34: 0.9991 - dense_1_accuracy_35: 0.9991 - dense_1_accuracy_36: 1.0000 - dense_1_accuracy_37: 0.9996 - dense_1_accuracy_38: 1.0000\n"
     ]
    },
    {
     "data": {
      "text/plain": [
       "<keras.callbacks.callbacks.History at 0x14534f790>"
      ]
     },
     "execution_count": 30,
     "metadata": {},
     "output_type": "execute_result"
    }
   ],
   "source": [
    "model.fit([X, a0, c0], list(Y), epochs=200, verbose = 1)"
   ]
  },
  {
   "cell_type": "markdown",
   "metadata": {},
   "source": [
    "<a id='generating' />"
   ]
  },
  {
   "cell_type": "markdown",
   "metadata": {},
   "source": [
    "## Generating names"
   ]
  },
  {
   "cell_type": "markdown",
   "metadata": {},
   "source": [
    "Let's build a inference model to sample the names from trained model."
   ]
  },
  {
   "cell_type": "code",
   "execution_count": 46,
   "metadata": {},
   "outputs": [],
   "source": [
    "def one_hot(x, temperature = 0.01):\n",
    "    x = tf.random.categorical(x/temperature, 1)\n",
    "    # temperature adjust how diverse the output could be.\n",
    "    # the higher temperature, the more surprising result\n",
    "    x = tf.one_hot(indices=x, depth=n_values) \n",
    "    return x\n",
    "\n",
    "# Use below if want argmax for the sampling.\n",
    "# It will generate the same result every time for the same initial states.\n",
    "\n",
    "# def one_hot(x):\n",
    "#     x = K.argmax(x)\n",
    "#     x = tf.one_hot(indices=x, depth=n_values) \n",
    "#     x = RepeatVector(1)(x)\n",
    "#     return x\n",
    "\n",
    "def inference_model(LSTM_cell, densor, n_values = n_values, n_a = n_a, Ty = max_len):\n",
    "    \"\"\"\n",
    "    Uses the trained \"LSTM_cell\" and \"densor\" from model() to generate a sequence of values.\n",
    "    \n",
    "    Arguments:\n",
    "    LSTM_cell -- the trained \"LSTM_cell\" from model(), Keras layer object\n",
    "    densor -- the trained \"densor\" from model(), Keras layer object\n",
    "    n_values -- integer, number of unique values\n",
    "    n_a -- number of units in the LSTM_cell\n",
    "    Ty -- integer, number of time steps to generate\n",
    "    \n",
    "    Returns:\n",
    "    model -- Keras model instance\n",
    "    \"\"\"\n",
    "    x0 = Input(shape=(1, n_values))\n",
    "    \n",
    "    a0 = Input(shape=(n_a,), name='a0')\n",
    "    c0 = Input(shape=(n_a,), name='c0')\n",
    "    a = a0\n",
    "    c = c0\n",
    "    x = x0\n",
    "\n",
    "    outputs = []\n",
    "\n",
    "    for t in range(Ty):\n",
    "        a, _, c = LSTM_cell(x, initial_state=[a, c])\n",
    "        out = densor(a)\n",
    "        outputs.append(out)\n",
    "        x = Lambda(one_hot)(out)\n",
    "        \n",
    "    model = Model(inputs=[x0, a0, c0], outputs=outputs)\n",
    "       \n",
    "    return model"
   ]
  },
  {
   "cell_type": "code",
   "execution_count": 47,
   "metadata": {},
   "outputs": [],
   "source": [
    "output_model = inference_model(LSTM_cell, densor, n_values = n_values, n_a = n_a, Ty = max_len)"
   ]
  },
  {
   "cell_type": "code",
   "execution_count": 33,
   "metadata": {},
   "outputs": [
    {
     "name": "stdout",
     "output_type": "stream",
     "text": [
      "Model: \"model_3\"\n",
      "__________________________________________________________________________________________________\n",
      "Layer (type)                    Output Shape         Param #     Connected to                     \n",
      "==================================================================================================\n",
      "input_3 (InputLayer)            (None, 1, 55)        0                                            \n",
      "__________________________________________________________________________________________________\n",
      "a0 (InputLayer)                 (None, 64)           0                                            \n",
      "__________________________________________________________________________________________________\n",
      "c0 (InputLayer)                 (None, 64)           0                                            \n",
      "__________________________________________________________________________________________________\n",
      "lstm_1 (LSTM)                   [(None, 64), (None,  30720       input_3[0][0]                    \n",
      "                                                                 a0[0][0]                         \n",
      "                                                                 c0[0][0]                         \n",
      "                                                                 lambda_79[0][0]                  \n",
      "                                                                 lstm_1[78][0]                    \n",
      "                                                                 lstm_1[78][2]                    \n",
      "                                                                 lambda_80[0][0]                  \n",
      "                                                                 lstm_1[79][0]                    \n",
      "                                                                 lstm_1[79][2]                    \n",
      "                                                                 lambda_81[0][0]                  \n",
      "                                                                 lstm_1[80][0]                    \n",
      "                                                                 lstm_1[80][2]                    \n",
      "                                                                 lambda_82[0][0]                  \n",
      "                                                                 lstm_1[81][0]                    \n",
      "                                                                 lstm_1[81][2]                    \n",
      "                                                                 lambda_83[0][0]                  \n",
      "                                                                 lstm_1[82][0]                    \n",
      "                                                                 lstm_1[82][2]                    \n",
      "                                                                 lambda_84[0][0]                  \n",
      "                                                                 lstm_1[83][0]                    \n",
      "                                                                 lstm_1[83][2]                    \n",
      "                                                                 lambda_85[0][0]                  \n",
      "                                                                 lstm_1[84][0]                    \n",
      "                                                                 lstm_1[84][2]                    \n",
      "                                                                 lambda_86[0][0]                  \n",
      "                                                                 lstm_1[85][0]                    \n",
      "                                                                 lstm_1[85][2]                    \n",
      "                                                                 lambda_87[0][0]                  \n",
      "                                                                 lstm_1[86][0]                    \n",
      "                                                                 lstm_1[86][2]                    \n",
      "                                                                 lambda_88[0][0]                  \n",
      "                                                                 lstm_1[87][0]                    \n",
      "                                                                 lstm_1[87][2]                    \n",
      "                                                                 lambda_89[0][0]                  \n",
      "                                                                 lstm_1[88][0]                    \n",
      "                                                                 lstm_1[88][2]                    \n",
      "                                                                 lambda_90[0][0]                  \n",
      "                                                                 lstm_1[89][0]                    \n",
      "                                                                 lstm_1[89][2]                    \n",
      "                                                                 lambda_91[0][0]                  \n",
      "                                                                 lstm_1[90][0]                    \n",
      "                                                                 lstm_1[90][2]                    \n",
      "                                                                 lambda_92[0][0]                  \n",
      "                                                                 lstm_1[91][0]                    \n",
      "                                                                 lstm_1[91][2]                    \n",
      "                                                                 lambda_93[0][0]                  \n",
      "                                                                 lstm_1[92][0]                    \n",
      "                                                                 lstm_1[92][2]                    \n",
      "                                                                 lambda_94[0][0]                  \n",
      "                                                                 lstm_1[93][0]                    \n",
      "                                                                 lstm_1[93][2]                    \n",
      "                                                                 lambda_95[0][0]                  \n",
      "                                                                 lstm_1[94][0]                    \n",
      "                                                                 lstm_1[94][2]                    \n",
      "                                                                 lambda_96[0][0]                  \n",
      "                                                                 lstm_1[95][0]                    \n",
      "                                                                 lstm_1[95][2]                    \n",
      "                                                                 lambda_97[0][0]                  \n",
      "                                                                 lstm_1[96][0]                    \n",
      "                                                                 lstm_1[96][2]                    \n",
      "                                                                 lambda_98[0][0]                  \n",
      "                                                                 lstm_1[97][0]                    \n",
      "                                                                 lstm_1[97][2]                    \n",
      "                                                                 lambda_99[0][0]                  \n",
      "                                                                 lstm_1[98][0]                    \n",
      "                                                                 lstm_1[98][2]                    \n",
      "                                                                 lambda_100[0][0]                 \n",
      "                                                                 lstm_1[99][0]                    \n",
      "                                                                 lstm_1[99][2]                    \n",
      "                                                                 lambda_101[0][0]                 \n",
      "                                                                 lstm_1[100][0]                   \n",
      "                                                                 lstm_1[100][2]                   \n",
      "                                                                 lambda_102[0][0]                 \n",
      "                                                                 lstm_1[101][0]                   \n",
      "                                                                 lstm_1[101][2]                   \n",
      "                                                                 lambda_103[0][0]                 \n",
      "                                                                 lstm_1[102][0]                   \n",
      "                                                                 lstm_1[102][2]                   \n",
      "                                                                 lambda_104[0][0]                 \n",
      "                                                                 lstm_1[103][0]                   \n",
      "                                                                 lstm_1[103][2]                   \n"
     ]
    },
    {
     "name": "stdout",
     "output_type": "stream",
     "text": [
      "                                                                 lambda_105[0][0]                 \n",
      "                                                                 lstm_1[104][0]                   \n",
      "                                                                 lstm_1[104][2]                   \n",
      "                                                                 lambda_106[0][0]                 \n",
      "                                                                 lstm_1[105][0]                   \n",
      "                                                                 lstm_1[105][2]                   \n",
      "                                                                 lambda_107[0][0]                 \n",
      "                                                                 lstm_1[106][0]                   \n",
      "                                                                 lstm_1[106][2]                   \n",
      "                                                                 lambda_108[0][0]                 \n",
      "                                                                 lstm_1[107][0]                   \n",
      "                                                                 lstm_1[107][2]                   \n",
      "                                                                 lambda_109[0][0]                 \n",
      "                                                                 lstm_1[108][0]                   \n",
      "                                                                 lstm_1[108][2]                   \n",
      "                                                                 lambda_110[0][0]                 \n",
      "                                                                 lstm_1[109][0]                   \n",
      "                                                                 lstm_1[109][2]                   \n",
      "                                                                 lambda_111[0][0]                 \n",
      "                                                                 lstm_1[110][0]                   \n",
      "                                                                 lstm_1[110][2]                   \n",
      "                                                                 lambda_112[0][0]                 \n",
      "                                                                 lstm_1[111][0]                   \n",
      "                                                                 lstm_1[111][2]                   \n",
      "                                                                 lambda_113[0][0]                 \n",
      "                                                                 lstm_1[112][0]                   \n",
      "                                                                 lstm_1[112][2]                   \n",
      "                                                                 lambda_114[0][0]                 \n",
      "                                                                 lstm_1[113][0]                   \n",
      "                                                                 lstm_1[113][2]                   \n",
      "                                                                 lambda_115[0][0]                 \n",
      "                                                                 lstm_1[114][0]                   \n",
      "                                                                 lstm_1[114][2]                   \n",
      "                                                                 lambda_116[0][0]                 \n",
      "                                                                 lstm_1[115][0]                   \n",
      "                                                                 lstm_1[115][2]                   \n",
      "__________________________________________________________________________________________________\n",
      "dense_1 (Dense)                 (None, 55)           3575        lstm_1[78][0]                    \n",
      "                                                                 lstm_1[79][0]                    \n",
      "                                                                 lstm_1[80][0]                    \n",
      "                                                                 lstm_1[81][0]                    \n",
      "                                                                 lstm_1[82][0]                    \n",
      "                                                                 lstm_1[83][0]                    \n",
      "                                                                 lstm_1[84][0]                    \n",
      "                                                                 lstm_1[85][0]                    \n",
      "                                                                 lstm_1[86][0]                    \n",
      "                                                                 lstm_1[87][0]                    \n",
      "                                                                 lstm_1[88][0]                    \n",
      "                                                                 lstm_1[89][0]                    \n",
      "                                                                 lstm_1[90][0]                    \n",
      "                                                                 lstm_1[91][0]                    \n",
      "                                                                 lstm_1[92][0]                    \n",
      "                                                                 lstm_1[93][0]                    \n",
      "                                                                 lstm_1[94][0]                    \n",
      "                                                                 lstm_1[95][0]                    \n",
      "                                                                 lstm_1[96][0]                    \n",
      "                                                                 lstm_1[97][0]                    \n",
      "                                                                 lstm_1[98][0]                    \n",
      "                                                                 lstm_1[99][0]                    \n",
      "                                                                 lstm_1[100][0]                   \n",
      "                                                                 lstm_1[101][0]                   \n",
      "                                                                 lstm_1[102][0]                   \n",
      "                                                                 lstm_1[103][0]                   \n",
      "                                                                 lstm_1[104][0]                   \n",
      "                                                                 lstm_1[105][0]                   \n",
      "                                                                 lstm_1[106][0]                   \n",
      "                                                                 lstm_1[107][0]                   \n",
      "                                                                 lstm_1[108][0]                   \n",
      "                                                                 lstm_1[109][0]                   \n",
      "                                                                 lstm_1[110][0]                   \n",
      "                                                                 lstm_1[111][0]                   \n",
      "                                                                 lstm_1[112][0]                   \n",
      "                                                                 lstm_1[113][0]                   \n",
      "                                                                 lstm_1[114][0]                   \n",
      "                                                                 lstm_1[115][0]                   \n",
      "                                                                 lstm_1[116][0]                   \n",
      "__________________________________________________________________________________________________\n",
      "lambda_79 (Lambda)              (None, 1, 55)        0           dense_1[78][0]                   \n",
      "__________________________________________________________________________________________________\n",
      "lambda_80 (Lambda)              (None, 1, 55)        0           dense_1[79][0]                   \n",
      "__________________________________________________________________________________________________\n",
      "lambda_81 (Lambda)              (None, 1, 55)        0           dense_1[80][0]                   \n",
      "__________________________________________________________________________________________________\n",
      "lambda_82 (Lambda)              (None, 1, 55)        0           dense_1[81][0]                   \n",
      "__________________________________________________________________________________________________\n",
      "lambda_83 (Lambda)              (None, 1, 55)        0           dense_1[82][0]                   \n",
      "__________________________________________________________________________________________________\n",
      "lambda_84 (Lambda)              (None, 1, 55)        0           dense_1[83][0]                   \n",
      "__________________________________________________________________________________________________\n",
      "lambda_85 (Lambda)              (None, 1, 55)        0           dense_1[84][0]                   \n",
      "__________________________________________________________________________________________________\n",
      "lambda_86 (Lambda)              (None, 1, 55)        0           dense_1[85][0]                   \n",
      "__________________________________________________________________________________________________\n",
      "lambda_87 (Lambda)              (None, 1, 55)        0           dense_1[86][0]                   \n",
      "__________________________________________________________________________________________________\n",
      "lambda_88 (Lambda)              (None, 1, 55)        0           dense_1[87][0]                   \n",
      "__________________________________________________________________________________________________\n",
      "lambda_89 (Lambda)              (None, 1, 55)        0           dense_1[88][0]                   \n",
      "__________________________________________________________________________________________________\n",
      "lambda_90 (Lambda)              (None, 1, 55)        0           dense_1[89][0]                   \n",
      "__________________________________________________________________________________________________\n",
      "lambda_91 (Lambda)              (None, 1, 55)        0           dense_1[90][0]                   \n",
      "__________________________________________________________________________________________________\n",
      "lambda_92 (Lambda)              (None, 1, 55)        0           dense_1[91][0]                   \n",
      "__________________________________________________________________________________________________\n",
      "lambda_93 (Lambda)              (None, 1, 55)        0           dense_1[92][0]                   \n",
      "__________________________________________________________________________________________________\n",
      "lambda_94 (Lambda)              (None, 1, 55)        0           dense_1[93][0]                   \n",
      "__________________________________________________________________________________________________\n",
      "lambda_95 (Lambda)              (None, 1, 55)        0           dense_1[94][0]                   \n",
      "__________________________________________________________________________________________________\n",
      "lambda_96 (Lambda)              (None, 1, 55)        0           dense_1[95][0]                   \n",
      "__________________________________________________________________________________________________\n",
      "lambda_97 (Lambda)              (None, 1, 55)        0           dense_1[96][0]                   \n",
      "__________________________________________________________________________________________________\n",
      "lambda_98 (Lambda)              (None, 1, 55)        0           dense_1[97][0]                   \n",
      "__________________________________________________________________________________________________\n",
      "lambda_99 (Lambda)              (None, 1, 55)        0           dense_1[98][0]                   \n",
      "__________________________________________________________________________________________________\n",
      "lambda_100 (Lambda)             (None, 1, 55)        0           dense_1[99][0]                   \n",
      "__________________________________________________________________________________________________\n",
      "lambda_101 (Lambda)             (None, 1, 55)        0           dense_1[100][0]                  \n",
      "__________________________________________________________________________________________________\n",
      "lambda_102 (Lambda)             (None, 1, 55)        0           dense_1[101][0]                  \n",
      "__________________________________________________________________________________________________\n",
      "lambda_103 (Lambda)             (None, 1, 55)        0           dense_1[102][0]                  \n",
      "__________________________________________________________________________________________________\n",
      "lambda_104 (Lambda)             (None, 1, 55)        0           dense_1[103][0]                  \n",
      "__________________________________________________________________________________________________\n",
      "lambda_105 (Lambda)             (None, 1, 55)        0           dense_1[104][0]                  \n",
      "__________________________________________________________________________________________________\n",
      "lambda_106 (Lambda)             (None, 1, 55)        0           dense_1[105][0]                  \n",
      "__________________________________________________________________________________________________\n",
      "lambda_107 (Lambda)             (None, 1, 55)        0           dense_1[106][0]                  \n",
      "__________________________________________________________________________________________________\n",
      "lambda_108 (Lambda)             (None, 1, 55)        0           dense_1[107][0]                  \n",
      "__________________________________________________________________________________________________\n",
      "lambda_109 (Lambda)             (None, 1, 55)        0           dense_1[108][0]                  \n",
      "__________________________________________________________________________________________________\n",
      "lambda_110 (Lambda)             (None, 1, 55)        0           dense_1[109][0]                  \n",
      "__________________________________________________________________________________________________\n",
      "lambda_111 (Lambda)             (None, 1, 55)        0           dense_1[110][0]                  \n",
      "__________________________________________________________________________________________________\n",
      "lambda_112 (Lambda)             (None, 1, 55)        0           dense_1[111][0]                  \n",
      "__________________________________________________________________________________________________\n",
      "lambda_113 (Lambda)             (None, 1, 55)        0           dense_1[112][0]                  \n",
      "__________________________________________________________________________________________________\n",
      "lambda_114 (Lambda)             (None, 1, 55)        0           dense_1[113][0]                  \n",
      "__________________________________________________________________________________________________\n",
      "lambda_115 (Lambda)             (None, 1, 55)        0           dense_1[114][0]                  \n",
      "__________________________________________________________________________________________________\n",
      "lambda_116 (Lambda)             (None, 1, 55)        0           dense_1[115][0]                  \n",
      "==================================================================================================\n",
      "Total params: 34,295\n",
      "Trainable params: 34,295\n",
      "Non-trainable params: 0\n",
      "__________________________________________________________________________________________________\n"
     ]
    }
   ],
   "source": [
    "# Check the inference model\n",
    "output_model.summary()"
   ]
  },
  {
   "cell_type": "markdown",
   "metadata": {},
   "source": [
    "- Initialize states"
   ]
  },
  {
   "cell_type": "code",
   "execution_count": 43,
   "metadata": {},
   "outputs": [],
   "source": [
    "x_initializer = np.zeros((1, 1, n_values))\n",
    "a_initializer = np.zeros((1, n_a))\n",
    "c_initializer = np.zeros((1, n_a))"
   ]
  },
  {
   "cell_type": "code",
   "execution_count": 44,
   "metadata": {},
   "outputs": [],
   "source": [
    "def predict_and_sample(output_model, x_initializer = x_initializer, a_initializer = a_initializer, \n",
    "                       c_initializer = c_initializer):\n",
    "    \"\"\"\n",
    "    Predicts the next value of values using the inference model.\n",
    "    \n",
    "    Arguments:\n",
    "    output_model -- Keras model instance for inference time\n",
    "    x_initializer -- numpy array of shape (1, 1, n_value), one-hot vector initializing the values generation\n",
    "    a_initializer -- numpy array of shape (1, n_a), initializing the hidden state of the LSTM_cell\n",
    "    c_initializer -- numpy array of shape (1, n_a), initializing the cell state of the LSTM_cel\n",
    "    \n",
    "    Returns:\n",
    "    results -- numpy-array of shape (Ty, n_value), matrix of one-hot vectors representing the values generated\n",
    "    indices -- numpy-array of shape (Ty, 1), matrix of indices representing the values generated\n",
    "    \"\"\"\n",
    "    pred = output_model.predict([x_initializer, a_initializer, c_initializer])\n",
    "    indices = np.argmax(pred, axis =-1)\n",
    "    results = to_categorical(indices)\n",
    "    \n",
    "    return results, indices "
   ]
  },
  {
   "cell_type": "markdown",
   "metadata": {},
   "source": [
    "<a id='result' />"
   ]
  },
  {
   "cell_type": "markdown",
   "metadata": {},
   "source": [
    "## Results"
   ]
  },
  {
   "cell_type": "markdown",
   "metadata": {},
   "source": [
    "Let's get the results."
   ]
  },
  {
   "cell_type": "markdown",
   "metadata": {},
   "source": [
    "### - Argmax"
   ]
  },
  {
   "cell_type": "code",
   "execution_count": 45,
   "metadata": {
    "scrolled": true
   },
   "outputs": [
    {
     "name": "stdout",
     "output_type": "stream",
     "text": [
      "apprest"
     ]
    }
   ],
   "source": [
    "# for this cell I used the one_hot function with K.argmax\n",
    "results, indices = predict_and_sample(output_model, x_initializer, a_initializer, c_initializer)\n",
    "for i in indices.flatten():\n",
    "    if ix_to_char[i] == '\\n':\n",
    "        break\n",
    "    print(ix_to_char[i],end=\"\")"
   ]
  },
  {
   "cell_type": "markdown",
   "metadata": {},
   "source": [
    "<font color = 'darkblue'>'Apprest' is the most optimized name of the model. I think it is a good name. It could be a name for a new IT company, for a new game, or for a biotech company.</font>"
   ]
  },
  {
   "cell_type": "markdown",
   "metadata": {},
   "source": [
    "### - Random sampling with zero initialization"
   ]
  },
  {
   "cell_type": "markdown",
   "metadata": {},
   "source": [
    "Using the one_hot function with random sampling, let's generate some awesome sample names."
   ]
  },
  {
   "cell_type": "code",
   "execution_count": 48,
   "metadata": {},
   "outputs": [
    {
     "name": "stdout",
     "output_type": "stream",
     "text": [
      "anppreese\n",
      "apprest\n",
      "apprrest\n",
      "apprest\n",
      "aondersound\n",
      "aondersound\n",
      "aickit conder\n",
      "arese\n",
      "aeedio\n",
      "apprrest\n",
      "aeartice spores\n",
      "apprest\n",
      "aeadio\n",
      "araph\n",
      "apprest\n",
      "apprest\n",
      "apprest\n",
      "apprest\n",
      "apprrest\n",
      "arpserde\n"
     ]
    }
   ],
   "source": [
    "iteration = 20\n",
    "for _ in range(iteration):\n",
    "    x_initializer = np.zeros((1, 1, n_values))\n",
    "    a_initializer = np.zeros((1, n_a))\n",
    "    c_initializer = np.zeros((1, n_a))\n",
    "    results, indices = predict_and_sample(output_model, x_initializer, a_initializer, c_initializer)\n",
    "    for i in indices.flatten():\n",
    "        if ix_to_char[i] == '\\n':\n",
    "            print()\n",
    "            break\n",
    "        print(ix_to_char[i],end=\"\")\n",
    "#     print(\"np.argmax(results[12]) =\", np.argmax(results[12]))\n",
    "#     print(\"np.argmax(results[17]) =\", np.argmax(results[17]))\n",
    "#     print(\"list(indices[12:18]) =\", list(indices[12:18]))"
   ]
  },
  {
   "cell_type": "markdown",
   "metadata": {},
   "source": [
    "About half of them are the same as Argmax result. You can adjust temperature in one_hot function to adjust diversity."
   ]
  },
  {
   "cell_type": "markdown",
   "metadata": {},
   "source": [
    "<font color = 'darkblue'>'Aondersound' sounds like a new headphone or some new sound technology. 'Aeedio' sounds creative name. 'Araph' and 'Arese' are also good candidate for a new start-up name.</font>"
   ]
  },
  {
   "cell_type": "markdown",
   "metadata": {},
   "source": [
    "By the way they all start with 'a'."
   ]
  },
  {
   "cell_type": "code",
   "execution_count": 52,
   "metadata": {
    "scrolled": true
   },
   "outputs": [
    {
     "name": "stdout",
     "output_type": "stream",
     "text": [
      "137\n",
      "0.038461538461538464\n",
      "0.058823529411764705\n"
     ]
    }
   ],
   "source": [
    "ct = 0\n",
    "for name in SFnames:\n",
    "    if name[0] == 'a':\n",
    "        ct+=1\n",
    "print(ct)\n",
    "print(1/26)\n",
    "print(ct/len(SFnames))"
   ]
  },
  {
   "cell_type": "markdown",
   "metadata": {},
   "source": [
    "Slightly more companies starting with 'a' in the training set than it would be in a random selection 1/26."
   ]
  },
  {
   "cell_type": "code",
   "execution_count": 53,
   "metadata": {},
   "outputs": [],
   "source": [
    "from collections import defaultdict\n",
    "ct = defaultdict(int)\n",
    "for name in SFnames:\n",
    "    ct[name[0]]+=1"
   ]
  },
  {
   "cell_type": "code",
   "execution_count": 60,
   "metadata": {},
   "outputs": [],
   "source": [
    "df = pd.DataFrame.from_dict(ct, orient='index', columns = ['count'])"
   ]
  },
  {
   "cell_type": "code",
   "execution_count": 64,
   "metadata": {},
   "outputs": [
    {
     "data": {
      "text/html": [
       "<div>\n",
       "<style scoped>\n",
       "    .dataframe tbody tr th:only-of-type {\n",
       "        vertical-align: middle;\n",
       "    }\n",
       "\n",
       "    .dataframe tbody tr th {\n",
       "        vertical-align: top;\n",
       "    }\n",
       "\n",
       "    .dataframe thead th {\n",
       "        text-align: right;\n",
       "    }\n",
       "</style>\n",
       "<table border=\"1\" class=\"dataframe\">\n",
       "  <thead>\n",
       "    <tr style=\"text-align: right;\">\n",
       "      <th></th>\n",
       "      <th>count</th>\n",
       "    </tr>\n",
       "  </thead>\n",
       "  <tbody>\n",
       "    <tr>\n",
       "      <th>s</th>\n",
       "      <td>0.122799</td>\n",
       "    </tr>\n",
       "    <tr>\n",
       "      <th>c</th>\n",
       "      <td>0.083298</td>\n",
       "    </tr>\n",
       "    <tr>\n",
       "      <th>t</th>\n",
       "      <td>0.066982</td>\n",
       "    </tr>\n",
       "    <tr>\n",
       "      <th>p</th>\n",
       "      <td>0.065693</td>\n",
       "    </tr>\n",
       "    <tr>\n",
       "      <th>m</th>\n",
       "      <td>0.061829</td>\n",
       "    </tr>\n",
       "    <tr>\n",
       "      <th>b</th>\n",
       "      <td>0.060541</td>\n",
       "    </tr>\n",
       "    <tr>\n",
       "      <th>a</th>\n",
       "      <td>0.058824</td>\n",
       "    </tr>\n",
       "    <tr>\n",
       "      <th>l</th>\n",
       "      <td>0.045084</td>\n",
       "    </tr>\n",
       "    <tr>\n",
       "      <th>r</th>\n",
       "      <td>0.039502</td>\n",
       "    </tr>\n",
       "    <tr>\n",
       "      <th>g</th>\n",
       "      <td>0.039502</td>\n",
       "    </tr>\n",
       "    <tr>\n",
       "      <th>f</th>\n",
       "      <td>0.036496</td>\n",
       "    </tr>\n",
       "    <tr>\n",
       "      <th>h</th>\n",
       "      <td>0.035638</td>\n",
       "    </tr>\n",
       "    <tr>\n",
       "      <th>d</th>\n",
       "      <td>0.032632</td>\n",
       "    </tr>\n",
       "    <tr>\n",
       "      <th>e</th>\n",
       "      <td>0.028768</td>\n",
       "    </tr>\n",
       "    <tr>\n",
       "      <th>o</th>\n",
       "      <td>0.028338</td>\n",
       "    </tr>\n",
       "    <tr>\n",
       "      <th>i</th>\n",
       "      <td>0.027909</td>\n",
       "    </tr>\n",
       "    <tr>\n",
       "      <th>w</th>\n",
       "      <td>0.027050</td>\n",
       "    </tr>\n",
       "    <tr>\n",
       "      <th>v</th>\n",
       "      <td>0.023186</td>\n",
       "    </tr>\n",
       "    <tr>\n",
       "      <th>n</th>\n",
       "      <td>0.022327</td>\n",
       "    </tr>\n",
       "    <tr>\n",
       "      <th>k</th>\n",
       "      <td>0.021898</td>\n",
       "    </tr>\n",
       "    <tr>\n",
       "      <th>z</th>\n",
       "      <td>0.017175</td>\n",
       "    </tr>\n",
       "    <tr>\n",
       "      <th>u</th>\n",
       "      <td>0.014599</td>\n",
       "    </tr>\n",
       "    <tr>\n",
       "      <th>j</th>\n",
       "      <td>0.010734</td>\n",
       "    </tr>\n",
       "    <tr>\n",
       "      <th>y</th>\n",
       "      <td>0.007729</td>\n",
       "    </tr>\n",
       "    <tr>\n",
       "      <th>q</th>\n",
       "      <td>0.005152</td>\n",
       "    </tr>\n",
       "    <tr>\n",
       "      <th>x</th>\n",
       "      <td>0.003864</td>\n",
       "    </tr>\n",
       "    <tr>\n",
       "      <th></th>\n",
       "      <td>0.003006</td>\n",
       "    </tr>\n",
       "    <tr>\n",
       "      <th>1</th>\n",
       "      <td>0.002576</td>\n",
       "    </tr>\n",
       "    <tr>\n",
       "      <th>3</th>\n",
       "      <td>0.001717</td>\n",
       "    </tr>\n",
       "    <tr>\n",
       "      <th>4</th>\n",
       "      <td>0.000859</td>\n",
       "    </tr>\n",
       "    <tr>\n",
       "      <th>2</th>\n",
       "      <td>0.000859</td>\n",
       "    </tr>\n",
       "    <tr>\n",
       "      <th>9</th>\n",
       "      <td>0.000859</td>\n",
       "    </tr>\n",
       "    <tr>\n",
       "      <th>5</th>\n",
       "      <td>0.000429</td>\n",
       "    </tr>\n",
       "    <tr>\n",
       "      <th>-</th>\n",
       "      <td>0.000429</td>\n",
       "    </tr>\n",
       "    <tr>\n",
       "      <th>8</th>\n",
       "      <td>0.000429</td>\n",
       "    </tr>\n",
       "    <tr>\n",
       "      <th>6</th>\n",
       "      <td>0.000429</td>\n",
       "    </tr>\n",
       "    <tr>\n",
       "      <th>[</th>\n",
       "      <td>0.000429</td>\n",
       "    </tr>\n",
       "    <tr>\n",
       "      <th>7</th>\n",
       "      <td>0.000429</td>\n",
       "    </tr>\n",
       "  </tbody>\n",
       "</table>\n",
       "</div>"
      ],
      "text/plain": [
       "      count\n",
       "s  0.122799\n",
       "c  0.083298\n",
       "t  0.066982\n",
       "p  0.065693\n",
       "m  0.061829\n",
       "b  0.060541\n",
       "a  0.058824\n",
       "l  0.045084\n",
       "r  0.039502\n",
       "g  0.039502\n",
       "f  0.036496\n",
       "h  0.035638\n",
       "d  0.032632\n",
       "e  0.028768\n",
       "o  0.028338\n",
       "i  0.027909\n",
       "w  0.027050\n",
       "v  0.023186\n",
       "n  0.022327\n",
       "k  0.021898\n",
       "z  0.017175\n",
       "u  0.014599\n",
       "j  0.010734\n",
       "y  0.007729\n",
       "q  0.005152\n",
       "x  0.003864\n",
       "   0.003006\n",
       "1  0.002576\n",
       "3  0.001717\n",
       "4  0.000859\n",
       "2  0.000859\n",
       "9  0.000859\n",
       "5  0.000429\n",
       "-  0.000429\n",
       "8  0.000429\n",
       "6  0.000429\n",
       "[  0.000429\n",
       "7  0.000429"
      ]
     },
     "execution_count": 64,
     "metadata": {},
     "output_type": "execute_result"
    }
   ],
   "source": [
    "(df/len(SFnames)).sort_values(by='count', ascending = False)"
   ]
  },
  {
   "cell_type": "markdown",
   "metadata": {},
   "source": [
    "- Surprising that the model's first pick on the first letter is 'a' with zero initialization while 6 other characters appear more than 'a'."
   ]
  },
  {
   "cell_type": "markdown",
   "metadata": {},
   "source": [
    "### - Random sampling with non-zero initialization"
   ]
  },
  {
   "cell_type": "markdown",
   "metadata": {},
   "source": [
    "Let's give some more variation using random initial states."
   ]
  },
  {
   "cell_type": "code",
   "execution_count": 40,
   "metadata": {},
   "outputs": [
    {
     "name": "stdout",
     "output_type": "stream",
     "text": [
      "ripprene\n",
      "sporemant\n",
      "eneestree\n",
      "topers ate\n",
      "hippriseal\n",
      "@7sheappphayerable\n",
      "adtate\n",
      "appaaseare\n",
      "heapprist\n",
      "️igrom\n",
      "bollabs\n",
      "loond \n",
      "tretachen mectieng\n",
      "rivens\n",
      "trealist\n",
      "crander\n",
      "pppaster\n",
      "harophate\n",
      "hindersound\n",
      "ted\n"
     ]
    }
   ],
   "source": [
    "iteration = 20\n",
    "for _ in range(iteration):\n",
    "    x_initializer = np.zeros((1, 1, n_values))\n",
    "    a_initializer = np.random.randn(1, n_a)*0.5\n",
    "    c_initializer = np.random.randn(1, n_a)*0.5\n",
    "#     a_initializer = np.zeros((1, n_a))\n",
    "#     c_initializer = np.zeros((1, n_a))\n",
    "    results, indices = predict_and_sample(output_model, x_initializer, a_initializer, c_initializer)\n",
    "    for i in indices.flatten():\n",
    "        if ix_to_char[i] == '\\n':\n",
    "            print()\n",
    "            break\n",
    "        print(ix_to_char[i],end=\"\")\n",
    "#     print(\"np.argmax(results[12]) =\", np.argmax(results[12]))\n",
    "#     print(\"np.argmax(results[17]) =\", np.argmax(results[17]))\n",
    "#     print(\"list(indices[12:18]) =\", list(indices[12:18]))"
   ]
  },
  {
   "cell_type": "markdown",
   "metadata": {},
   "source": [
    "<font color = 'darkblue'>We see 'Ted' which is an already existing name. ('Ted' is not in the training set.) 'Hindersound' definitely can be some product name or even a company name, 'Igrom' can fit to any field, and 'Rivens' can be a name of a game. Most of these names sound great for me! </font>"
   ]
  }
 ],
 "metadata": {
  "coursera": {
   "course_slug": "nlp-sequence-models",
   "graded_item_id": "EG0F7",
   "launcher_item_id": "cxJXc"
  },
  "kernelspec": {
   "display_name": "Python 3",
   "language": "python",
   "name": "python3"
  },
  "language_info": {
   "codemirror_mode": {
    "name": "ipython",
    "version": 3
   },
   "file_extension": ".py",
   "mimetype": "text/x-python",
   "name": "python",
   "nbconvert_exporter": "python",
   "pygments_lexer": "ipython3",
   "version": "3.7.4"
  }
 },
 "nbformat": 4,
 "nbformat_minor": 2
}
